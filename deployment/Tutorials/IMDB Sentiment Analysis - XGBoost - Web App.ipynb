{
 "cells": [
  {
   "cell_type": "markdown",
   "metadata": {},
   "source": [
    "# Sentiment Analysis Web App\n",
    "\n",
    "_Deep Learning Nanodegree Program | Deployment_\n",
    "\n",
    "---\n",
    "\n",
    "In this notebook we will use Amazon's SageMaker service to construct a random tree model to predict the sentiment of a movie review. In addition, we will deploy this model to an endpoint and construct a very simple web app which will interact with our model's deployed endpoint.\n",
    "\n",
    "## General Outline\n",
    "\n",
    "Typically, when using a notebook instance with SageMaker, you will proceed through the following steps. Of course, not every step will need to be done with each project. Also, there is quite a lot of room for variation in many of the steps, as you will see throughout these lessons.\n",
    "\n",
    "1. Download or otherwise retrieve the data.\n",
    "2. Process / Prepare the data.\n",
    "3. Upload the processed data to S3.\n",
    "4. Train a chosen model.\n",
    "5. Test the trained model (typically using a batch transform job).\n",
    "6. Deploy the trained model.\n",
    "7. Use the deployed model.\n",
    "\n",
    "In this notebook we will progress through each of the steps above. We will also see that the final step, using the deployed model, can be quite challenging."
   ]
  },
  {
   "cell_type": "markdown",
   "metadata": {},
   "source": [
    "## Step 1: Downloading the data\n",
    "\n",
    "The dataset we are going to use is very popular among researchers in Natural Language Processing, usually referred to as the [IMDb dataset](http://ai.stanford.edu/~amaas/data/sentiment/). It consists of movie reviews from the website [imdb.com](http://www.imdb.com/), each labeled as either '**pos**itive', if the reviewer enjoyed the film, or '**neg**ative' otherwise.\n",
    "\n",
    "> Maas, Andrew L., et al. [Learning Word Vectors for Sentiment Analysis](http://ai.stanford.edu/~amaas/data/sentiment/). In _Proceedings of the 49th Annual Meeting of the Association for Computational Linguistics: Human Language Technologies_. Association for Computational Linguistics, 2011.\n",
    "\n",
    "We begin by using some Jupyter Notebook magic to download and extract the dataset."
   ]
  },
  {
   "cell_type": "code",
   "execution_count": 1,
   "metadata": {},
   "outputs": [
    {
     "name": "stdout",
     "output_type": "stream",
     "text": [
      "mkdir: cannot create directory ‘../data’: File exists\n",
      "--2020-06-11 15:28:27--  http://ai.stanford.edu/~amaas/data/sentiment/aclImdb_v1.tar.gz\n",
      "Resolving ai.stanford.edu (ai.stanford.edu)... 171.64.68.10\n",
      "Connecting to ai.stanford.edu (ai.stanford.edu)|171.64.68.10|:80... connected.\n",
      "HTTP request sent, awaiting response... 200 OK\n",
      "Length: 84125825 (80M) [application/x-gzip]\n",
      "Saving to: ‘../data/aclImdb_v1.tar.gz’\n",
      "\n",
      "../data/aclImdb_v1. 100%[===================>]  80.23M  9.47MB/s    in 11s     \n",
      "\n",
      "2020-06-11 15:28:38 (7.08 MB/s) - ‘../data/aclImdb_v1.tar.gz’ saved [84125825/84125825]\n",
      "\n"
     ]
    }
   ],
   "source": [
    "%mkdir ../data\n",
    "!wget -O ../data/aclImdb_v1.tar.gz http://ai.stanford.edu/~amaas/data/sentiment/aclImdb_v1.tar.gz\n",
    "!tar -zxf ../data/aclImdb_v1.tar.gz -C ../data"
   ]
  },
  {
   "cell_type": "markdown",
   "metadata": {},
   "source": [
    "## Step 2: Preparing and Processing the data\n",
    "\n",
    "The data we have downloaded is split into various files, each of which contains a single review. It will be much easier going forward if we combine these individual files into two large files, one for training and one for testing."
   ]
  },
  {
   "cell_type": "code",
   "execution_count": 2,
   "metadata": {},
   "outputs": [],
   "source": [
    "import os\n",
    "import glob\n",
    "\n",
    "def read_imdb_data(data_dir='../data/aclImdb'):\n",
    "    data = {}\n",
    "    labels = {}\n",
    "    \n",
    "    for data_type in ['train', 'test']:\n",
    "        data[data_type] = {}\n",
    "        labels[data_type] = {}\n",
    "        \n",
    "        for sentiment in ['pos', 'neg']:\n",
    "            data[data_type][sentiment] = []\n",
    "            labels[data_type][sentiment] = []\n",
    "            \n",
    "            path = os.path.join(data_dir, data_type, sentiment, '*.txt')\n",
    "            files = glob.glob(path)\n",
    "            \n",
    "            for f in files:\n",
    "                with open(f) as review:\n",
    "                    data[data_type][sentiment].append(review.read())\n",
    "                    # Here we represent a positive review by '1' and a negative review by '0'\n",
    "                    labels[data_type][sentiment].append(1 if sentiment == 'pos' else 0)\n",
    "                    \n",
    "            assert len(data[data_type][sentiment]) == len(labels[data_type][sentiment]), \\\n",
    "                    \"{}/{} data size does not match labels size\".format(data_type, sentiment)\n",
    "                \n",
    "    return data, labels"
   ]
  },
  {
   "cell_type": "code",
   "execution_count": 3,
   "metadata": {},
   "outputs": [
    {
     "name": "stdout",
     "output_type": "stream",
     "text": [
      "IMDB reviews: train = 12500 pos / 12500 neg, test = 12500 pos / 12500 neg\n"
     ]
    }
   ],
   "source": [
    "data, labels = read_imdb_data()\n",
    "print(\"IMDB reviews: train = {} pos / {} neg, test = {} pos / {} neg\".format(\n",
    "            len(data['train']['pos']), len(data['train']['neg']),\n",
    "            len(data['test']['pos']), len(data['test']['neg'])))"
   ]
  },
  {
   "cell_type": "code",
   "execution_count": 4,
   "metadata": {},
   "outputs": [],
   "source": [
    "from sklearn.utils import shuffle\n",
    "\n",
    "def prepare_imdb_data(data, labels):\n",
    "    \"\"\"Prepare training and test sets from IMDb movie reviews.\"\"\"\n",
    "    \n",
    "    #Combine positive and negative reviews and labels\n",
    "    data_train = data['train']['pos'] + data['train']['neg']\n",
    "    data_test = data['test']['pos'] + data['test']['neg']\n",
    "    labels_train = labels['train']['pos'] + labels['train']['neg']\n",
    "    labels_test = labels['test']['pos'] + labels['test']['neg']\n",
    "    \n",
    "    #Shuffle reviews and corresponding labels within training and test sets\n",
    "    data_train, labels_train = shuffle(data_train, labels_train)\n",
    "    data_test, labels_test = shuffle(data_test, labels_test)\n",
    "    \n",
    "    # Return a unified training data, test data, training labels, test labets\n",
    "    return data_train, data_test, labels_train, labels_test"
   ]
  },
  {
   "cell_type": "code",
   "execution_count": 5,
   "metadata": {},
   "outputs": [
    {
     "name": "stdout",
     "output_type": "stream",
     "text": [
      "IMDb reviews (combined): train = 25000, test = 25000\n"
     ]
    }
   ],
   "source": [
    "train_X, test_X, train_y, test_y = prepare_imdb_data(data, labels)\n",
    "print(\"IMDb reviews (combined): train = {}, test = {}\".format(len(train_X), len(test_X)))"
   ]
  },
  {
   "cell_type": "code",
   "execution_count": 6,
   "metadata": {},
   "outputs": [
    {
     "data": {
      "text/plain": [
       "'Currently, this film is listed on IMDb as the 42nd worst film ever made--which is exactly why I rented it from NetFlix. However, I am saddened to report that the film, while bad, is no where near bad enough to merit being in the bottom 100 films ever made list. I have personally seen at least 100 films worse than this one. Hardly a glowing endorsement, but it just didn\\'t meet the expected level of awfulness to be included on this infamous list.<br /><br />The film begin with Stewart Moss and Marianne McAndrew on their belated honeymoon (by the way, they are married in real life as well). He\\'s a doctor who is obsessed with bats and insists they go to a nearby cave. Once there, they behave very, very, very stupidly (hallmark of a bad film) and are soon bitten by a bat. According to this film, bats love to attack people and there are vampire bats in the US--both of which are not true at all.<br /><br />Oddly, after being bitten, the man doesn\\'t even bother going to the hospital!! The first thing on anyone\\'s mind (especially a doctor) is to get medical help immediately, but not this boob. Soon, he\\'s having seizures--yet he STILL isn\\'t interested in seeking help! Again and again you keep thinking that this must be the stupidest couple in film history!! <br /><br />After a while, he eventually goes to see a doctor and is sent to the hospital. But, by then it\\'s too late and his attacks become more violent and he begins killing people to suck their blood. When it\\'s totally obvious to everyone that the man is a crazed killing machine, the wife (who, like her husband, has a grapefruit for a brain) refuses to believe he\\'s dangerous--even after he attacks people, steals an ambulance and runs a police car off the road!! <br /><br />Now most of the time Moss is going through these episodes, his eyes roll back and he looks like a normal person. Oddly, however, a couple times he develops bat-like hands and towards the end they used some nice prosthetics on him to make him look quite bat-like. Had this been really cheesy, the film would have merited a 1.<br /><br />In the very end, in a twist that hardly made any sense at all, the wife inexplicably turned into a crazed bat lady and had a swarm of bats kill the evil sheriff. How all this was arranged was a mystery as was Moss\\' and McAndrew\\'s belief that this film would somehow help their careers--though they both have had reasonably long careers on TV playing bit roles since 1974.<br /><br />Overall, very dumb. The plot is silly and makes no sense and strongly relies on people acting way too dumb to be real. Not a good film at all, but not among the worst films of all time either.<br /><br />NOTE: For some reason, IMDb shows the graphic for the three DVD set for IT\\'S ALIVE and it\\'s two sequels of the web page for THE BAT PEOPLE. While THE BAT PEOPLE has been seen with the title \"It\\'s Alive\", the two movies are not at all related. It\\'s easy to understand the mistake--especially since they both came out in 1974, but the movie I just reviewed starred Stewart Moss and Marianne McAndrew and the other film starred John Ryan and Sharon Farrell.'"
      ]
     },
     "execution_count": 6,
     "metadata": {},
     "output_type": "execute_result"
    }
   ],
   "source": [
    "train_X[100]"
   ]
  },
  {
   "cell_type": "markdown",
   "metadata": {},
   "source": [
    "## Processing the data\n",
    "\n",
    "Now that we have our training and testing datasets merged and ready to use, we need to start processing the raw data into something that will be useable by our machine learning algorithm. To begin with, we remove any html formatting and any non-alpha numeric characters that may appear in the reviews. We will do this in a very simplistic way using Python's regular expression module. We will discuss the reason for this rather simplistic pre-processing later on."
   ]
  },
  {
   "cell_type": "code",
   "execution_count": 7,
   "metadata": {},
   "outputs": [],
   "source": [
    "import re\n",
    "\n",
    "REPLACE_NO_SPACE = re.compile(\"(\\.)|(\\;)|(\\:)|(\\!)|(\\')|(\\?)|(\\,)|(\\\")|(\\()|(\\))|(\\[)|(\\])\")\n",
    "REPLACE_WITH_SPACE = re.compile(\"(<br\\s*/><br\\s*/>)|(\\-)|(\\/)\")\n",
    "\n",
    "def review_to_words(review):\n",
    "    words = REPLACE_NO_SPACE.sub(\"\", review.lower())\n",
    "    words = REPLACE_WITH_SPACE.sub(\" \", words)\n",
    "    return words"
   ]
  },
  {
   "cell_type": "code",
   "execution_count": 8,
   "metadata": {},
   "outputs": [
    {
     "data": {
      "text/plain": [
       "'currently this film is listed on imdb as the 42nd worst film ever made  which is exactly why i rented it from netflix however i am saddened to report that the film while bad is no where near bad enough to merit being in the bottom 100 films ever made list i have personally seen at least 100 films worse than this one hardly a glowing endorsement but it just didnt meet the expected level of awfulness to be included on this infamous list the film begin with stewart moss and marianne mcandrew on their belated honeymoon by the way they are married in real life as well hes a doctor who is obsessed with bats and insists they go to a nearby cave once there they behave very very very stupidly hallmark of a bad film and are soon bitten by a bat according to this film bats love to attack people and there are vampire bats in the us  both of which are not true at all oddly after being bitten the man doesnt even bother going to the hospital the first thing on anyones mind especially a doctor is to get medical help immediately but not this boob soon hes having seizures  yet he still isnt interested in seeking help again and again you keep thinking that this must be the stupidest couple in film history  after a while he eventually goes to see a doctor and is sent to the hospital but by then its too late and his attacks become more violent and he begins killing people to suck their blood when its totally obvious to everyone that the man is a crazed killing machine the wife who like her husband has a grapefruit for a brain refuses to believe hes dangerous  even after he attacks people steals an ambulance and runs a police car off the road  now most of the time moss is going through these episodes his eyes roll back and he looks like a normal person oddly however a couple times he develops bat like hands and towards the end they used some nice prosthetics on him to make him look quite bat like had this been really cheesy the film would have merited a 1 in the very end in a twist that hardly made any sense at all the wife inexplicably turned into a crazed bat lady and had a swarm of bats kill the evil sheriff how all this was arranged was a mystery as was moss and mcandrews belief that this film would somehow help their careers  though they both have had reasonably long careers on tv playing bit roles since 1974 overall very dumb the plot is silly and makes no sense and strongly relies on people acting way too dumb to be real not a good film at all but not among the worst films of all time either note for some reason imdb shows the graphic for the three dvd set for its alive and its two sequels of the web page for the bat people while the bat people has been seen with the title its alive the two movies are not at all related its easy to understand the mistake  especially since they both came out in 1974 but the movie i just reviewed starred stewart moss and marianne mcandrew and the other film starred john ryan and sharon farrell'"
      ]
     },
     "execution_count": 8,
     "metadata": {},
     "output_type": "execute_result"
    }
   ],
   "source": [
    "review_to_words(train_X[100])"
   ]
  },
  {
   "cell_type": "code",
   "execution_count": 9,
   "metadata": {},
   "outputs": [],
   "source": [
    "import pickle\n",
    "\n",
    "cache_dir = os.path.join(\"../cache\", \"sentiment_web_app\")  # where to store cache files\n",
    "os.makedirs(cache_dir, exist_ok=True)  # ensure cache directory exists\n",
    "\n",
    "def preprocess_data(data_train, data_test, labels_train, labels_test,\n",
    "                    cache_dir=cache_dir, cache_file=\"preprocessed_data.pkl\"):\n",
    "    \"\"\"Convert each review to words; read from cache if available.\"\"\"\n",
    "\n",
    "    # If cache_file is not None, try to read from it first\n",
    "    cache_data = None\n",
    "    if cache_file is not None:\n",
    "        try:\n",
    "            with open(os.path.join(cache_dir, cache_file), \"rb\") as f:\n",
    "                cache_data = pickle.load(f)\n",
    "            print(\"Read preprocessed data from cache file:\", cache_file)\n",
    "        except:\n",
    "            pass  # unable to read from cache, but that's okay\n",
    "    \n",
    "    # If cache is missing, then do the heavy lifting\n",
    "    if cache_data is None:\n",
    "        # Preprocess training and test data to obtain words for each review\n",
    "        #words_train = list(map(review_to_words, data_train))\n",
    "        #words_test = list(map(review_to_words, data_test))\n",
    "        words_train = [review_to_words(review) for review in data_train]\n",
    "        words_test = [review_to_words(review) for review in data_test]\n",
    "        \n",
    "        # Write to cache file for future runs\n",
    "        if cache_file is not None:\n",
    "            cache_data = dict(words_train=words_train, words_test=words_test,\n",
    "                              labels_train=labels_train, labels_test=labels_test)\n",
    "            with open(os.path.join(cache_dir, cache_file), \"wb\") as f:\n",
    "                pickle.dump(cache_data, f)\n",
    "            print(\"Wrote preprocessed data to cache file:\", cache_file)\n",
    "    else:\n",
    "        # Unpack data loaded from cache file\n",
    "        words_train, words_test, labels_train, labels_test = (cache_data['words_train'],\n",
    "                cache_data['words_test'], cache_data['labels_train'], cache_data['labels_test'])\n",
    "    \n",
    "    return words_train, words_test, labels_train, labels_test"
   ]
  },
  {
   "cell_type": "code",
   "execution_count": 10,
   "metadata": {},
   "outputs": [
    {
     "name": "stdout",
     "output_type": "stream",
     "text": [
      "Wrote preprocessed data to cache file: preprocessed_data.pkl\n"
     ]
    }
   ],
   "source": [
    "# Preprocess data\n",
    "train_X, test_X, train_y, test_y = preprocess_data(train_X, test_X, train_y, test_y)"
   ]
  },
  {
   "cell_type": "markdown",
   "metadata": {},
   "source": [
    "### Extract Bag-of-Words features\n",
    "\n",
    "For the model we will be implementing, rather than using the reviews directly, we are going to transform each review into a Bag-of-Words feature representation. Keep in mind that 'in the wild' we will only have access to the training set so our transformer can only use the training set to construct a representation."
   ]
  },
  {
   "cell_type": "code",
   "execution_count": 11,
   "metadata": {},
   "outputs": [],
   "source": [
    "import numpy as np\n",
    "from sklearn.feature_extraction.text import CountVectorizer\n",
    "from sklearn.externals import joblib\n",
    "# joblib is an enhanced version of pickle that is more efficient for storing NumPy arrays\n",
    "\n",
    "def extract_BoW_features(words_train, words_test, vocabulary_size=5000,\n",
    "                         cache_dir=cache_dir, cache_file=\"bow_features.pkl\"):\n",
    "    \"\"\"Extract Bag-of-Words for a given set of documents, already preprocessed into words.\"\"\"\n",
    "    \n",
    "    # If cache_file is not None, try to read from it first\n",
    "    cache_data = None\n",
    "    if cache_file is not None:\n",
    "        try:\n",
    "            with open(os.path.join(cache_dir, cache_file), \"rb\") as f:\n",
    "                cache_data = joblib.load(f)\n",
    "            print(\"Read features from cache file:\", cache_file)\n",
    "        except:\n",
    "            pass  # unable to read from cache, but that's okay\n",
    "    \n",
    "    # If cache is missing, then do the heavy lifting\n",
    "    if cache_data is None:\n",
    "        # Fit a vectorizer to training documents and use it to transform them\n",
    "        # NOTE: Training documents have already been preprocessed and tokenized into words;\n",
    "        #       pass in dummy functions to skip those steps, e.g. preprocessor=lambda x: x\n",
    "        vectorizer = CountVectorizer(max_features=vocabulary_size)\n",
    "        features_train = vectorizer.fit_transform(words_train).toarray()\n",
    "\n",
    "        # Apply the same vectorizer to transform the test documents (ignore unknown words)\n",
    "        features_test = vectorizer.transform(words_test).toarray()\n",
    "        \n",
    "        # NOTE: Remember to convert the features using .toarray() for a compact representation\n",
    "        \n",
    "        # Write to cache file for future runs (store vocabulary as well)\n",
    "        if cache_file is not None:\n",
    "            vocabulary = vectorizer.vocabulary_\n",
    "            cache_data = dict(features_train=features_train, features_test=features_test,\n",
    "                             vocabulary=vocabulary)\n",
    "            with open(os.path.join(cache_dir, cache_file), \"wb\") as f:\n",
    "                joblib.dump(cache_data, f)\n",
    "            print(\"Wrote features to cache file:\", cache_file)\n",
    "    else:\n",
    "        # Unpack data loaded from cache file\n",
    "        features_train, features_test, vocabulary = (cache_data['features_train'],\n",
    "                cache_data['features_test'], cache_data['vocabulary'])\n",
    "    \n",
    "    # Return both the extracted features as well as the vocabulary\n",
    "    return features_train, features_test, vocabulary"
   ]
  },
  {
   "cell_type": "code",
   "execution_count": 12,
   "metadata": {},
   "outputs": [
    {
     "name": "stdout",
     "output_type": "stream",
     "text": [
      "Wrote features to cache file: bow_features.pkl\n"
     ]
    }
   ],
   "source": [
    "# Extract Bag of Words features for both training and test datasets\n",
    "train_X, test_X, vocabulary = extract_BoW_features(train_X, test_X)"
   ]
  },
  {
   "cell_type": "code",
   "execution_count": 13,
   "metadata": {},
   "outputs": [
    {
     "data": {
      "text/plain": [
       "5000"
      ]
     },
     "execution_count": 13,
     "metadata": {},
     "output_type": "execute_result"
    }
   ],
   "source": [
    "len(train_X[100])"
   ]
  },
  {
   "cell_type": "markdown",
   "metadata": {},
   "source": [
    "## Step 3: Upload data to S3\n",
    "\n",
    "Now that we have created the feature representation of our training (and testing) data, it is time to start setting up and using the XGBoost classifier provided by SageMaker.\n",
    "\n",
    "### Writing the datasets\n",
    "\n",
    "The XGBoost classifier that we will be using requires the dataset to be written to a file and stored using Amazon S3. To do this, we will start by splitting the training dataset into two parts, the data we will train the model with and a validation set. Then, we will write those datasets to a file locally and then upload the files to S3. In addition, we will write the test set to a file and upload that file to S3. This is so that we can use SageMakers Batch Transform functionality to test our model once we've fit it."
   ]
  },
  {
   "cell_type": "code",
   "execution_count": 14,
   "metadata": {},
   "outputs": [],
   "source": [
    "import pandas as pd\n",
    "\n",
    "# Earlier we shuffled the training dataset so to make things simple we can just assign\n",
    "# the first 10 000 reviews to the validation set and use the remaining reviews for training.\n",
    "val_X = pd.DataFrame(train_X[:10000])\n",
    "train_X = pd.DataFrame(train_X[10000:])\n",
    "\n",
    "val_y = pd.DataFrame(train_y[:10000])\n",
    "train_y = pd.DataFrame(train_y[10000:])"
   ]
  },
  {
   "cell_type": "markdown",
   "metadata": {},
   "source": [
    "The documentation for the XGBoost algorithm in SageMaker requires that the training and validation datasets should contain no headers or index and that the label should occur first for each sample.\n",
    "\n",
    "For more information about this and other algorithms, the SageMaker developer documentation can be found on __[Amazon's website.](https://docs.aws.amazon.com/sagemaker/latest/dg/)__"
   ]
  },
  {
   "cell_type": "code",
   "execution_count": 15,
   "metadata": {},
   "outputs": [],
   "source": [
    "# First we make sure that the local directory in which we'd like to store the training and validation csv files exists.\n",
    "data_dir = '../data/sentiment_web_app'\n",
    "if not os.path.exists(data_dir):\n",
    "    os.makedirs(data_dir)"
   ]
  },
  {
   "cell_type": "code",
   "execution_count": 16,
   "metadata": {},
   "outputs": [],
   "source": [
    "pd.DataFrame(test_X).to_csv(os.path.join(data_dir, 'test.csv'), header=False, index=False)\n",
    "\n",
    "pd.concat([val_y, val_X], axis=1).to_csv(os.path.join(data_dir, 'validation.csv'), header=False, index=False)\n",
    "pd.concat([train_y, train_X], axis=1).to_csv(os.path.join(data_dir, 'train.csv'), header=False, index=False)"
   ]
  },
  {
   "cell_type": "code",
   "execution_count": 17,
   "metadata": {},
   "outputs": [],
   "source": [
    "# To save a bit of memory we can set text_X, train_X, val_X, train_y and val_y to None.\n",
    "\n",
    "test_X = train_X = val_X = train_y = val_y = None"
   ]
  },
  {
   "cell_type": "markdown",
   "metadata": {},
   "source": [
    "### Uploading Training / Validation files to S3\n",
    "\n",
    "Amazon's S3 service allows us to store files that can be accessed by both the built-in training models such as the XGBoost model we will be using as well as custom models such as the one we will see a little later.\n",
    "\n",
    "For this and most other tasks we will be doing using SageMaker, there are two methods we could use. The first is to use the low level functionality of SageMaker which requires knowing each of the objects involved in the SageMaker environment. The second is to use the high level functionality in which certain choices have been made on the user's behalf. The low level approach benefits from allowing the user a great deal of flexibility while the high level approach makes development much quicker. For our purposes we will opt to use the high level approach although using the low-level approach is certainly an option.\n",
    "\n",
    "Recall the method `upload_data()` which is a member of the object representing our current SageMaker session. What this method does is upload the data to the default bucket (which is created if it does not exist) into the path described by the key_prefix variable. To see this for yourself, once you have uploaded the data files, go to the S3 console and look to see where the files have been uploaded.\n",
    "\n",
    "For additional resources, see the __[SageMaker API documentation](http://sagemaker.readthedocs.io/en/latest/)__ and in addition the __[SageMaker Developer Guide.](https://docs.aws.amazon.com/sagemaker/latest/dg/)__"
   ]
  },
  {
   "cell_type": "code",
   "execution_count": 18,
   "metadata": {},
   "outputs": [],
   "source": [
    "import sagemaker\n",
    "\n",
    "session = sagemaker.Session() # Store the current SageMaker session\n",
    "\n",
    "# S3 prefix (which folder will we use)\n",
    "prefix = 'sentiment-web-app'\n",
    "\n",
    "test_location = session.upload_data(os.path.join(data_dir, 'test.csv'), key_prefix=prefix)\n",
    "val_location = session.upload_data(os.path.join(data_dir, 'validation.csv'), key_prefix=prefix)\n",
    "train_location = session.upload_data(os.path.join(data_dir, 'train.csv'), key_prefix=prefix)"
   ]
  },
  {
   "cell_type": "markdown",
   "metadata": {},
   "source": [
    "## Step 4: Creating the XGBoost model\n",
    "\n",
    "Now that the data has been uploaded it is time to create the XGBoost model. To begin with, we need to do some setup. At this point it is worth discussing what a model is in SageMaker. It is easiest to think of a model of comprising three different objects in the SageMaker ecosystem, which interact with one another.\n",
    "\n",
    "- Model Artifacts\n",
    "- Training Code (Container)\n",
    "- Inference Code (Container)\n",
    "\n",
    "The Model Artifacts are what you might think of as the actual model itself. For example, if you were building a neural network, the model artifacts would be the weights of the various layers. In our case, for an XGBoost model, the artifacts are the actual trees that are created during training.\n",
    "\n",
    "The other two objects, the training code and the inference code are then used to manipulate the training artifacts. More precisely, the training code uses the training data that is provided and creates the model artifacts, while the inference code uses the model artifacts to make predictions on new data.\n",
    "\n",
    "The way that SageMaker runs the training and inference code is by making use of Docker containers. For now, think of a container as being a way of packaging code up so that dependencies aren't an issue."
   ]
  },
  {
   "cell_type": "code",
   "execution_count": 19,
   "metadata": {},
   "outputs": [],
   "source": [
    "from sagemaker import get_execution_role\n",
    "\n",
    "# Our current execution role is required when creating the model as the training\n",
    "# and inference code will need to access the model artifacts.\n",
    "role = get_execution_role()"
   ]
  },
  {
   "cell_type": "code",
   "execution_count": 20,
   "metadata": {},
   "outputs": [
    {
     "name": "stderr",
     "output_type": "stream",
     "text": [
      "WARNING:root:There is a more up to date SageMaker XGBoost image. To use the newer image, please set 'repo_version'='0.90-1'. For example:\n",
      "\tget_image_uri(region, 'xgboost', '0.90-1').\n"
     ]
    }
   ],
   "source": [
    "# We need to retrieve the location of the container which is provided by Amazon for using XGBoost.\n",
    "# As a matter of convenience, the training and inference code both use the same container.\n",
    "from sagemaker.amazon.amazon_estimator import get_image_uri\n",
    "\n",
    "container = get_image_uri(session.boto_region_name, 'xgboost')"
   ]
  },
  {
   "cell_type": "code",
   "execution_count": 21,
   "metadata": {},
   "outputs": [],
   "source": [
    "# First we create a SageMaker estimator object for our model.\n",
    "xgb = sagemaker.estimator.Estimator(container, # The location of the container we wish to use\n",
    "                                    role,                                    # What is our current IAM Role\n",
    "                                    train_instance_count=1,                  # How many compute instances\n",
    "                                    train_instance_type='ml.m4.xlarge',      # What kind of compute instances\n",
    "                                    output_path='s3://{}/{}/output'.format(session.default_bucket(), prefix),\n",
    "                                    sagemaker_session=session)\n",
    "\n",
    "# And then set the algorithm specific parameters.\n",
    "xgb.set_hyperparameters(max_depth=5,\n",
    "                        eta=0.2,\n",
    "                        gamma=4,\n",
    "                        min_child_weight=6,\n",
    "                        subsample=0.8,\n",
    "                        silent=0,\n",
    "                        objective='binary:logistic',\n",
    "                        early_stopping_rounds=10,\n",
    "                        num_round=500)"
   ]
  },
  {
   "cell_type": "markdown",
   "metadata": {},
   "source": [
    "### Fit the XGBoost model\n",
    "\n",
    "Now that our model has been set up we simply need to attach the training and validation datasets and then ask SageMaker to set up the computation."
   ]
  },
  {
   "cell_type": "code",
   "execution_count": 22,
   "metadata": {},
   "outputs": [],
   "source": [
    "s3_input_train = sagemaker.s3_input(s3_data=train_location, content_type='csv')\n",
    "s3_input_validation = sagemaker.s3_input(s3_data=val_location, content_type='csv')"
   ]
  },
  {
   "cell_type": "code",
   "execution_count": 23,
   "metadata": {},
   "outputs": [
    {
     "name": "stdout",
     "output_type": "stream",
     "text": [
      "2020-06-11 15:35:06 Starting - Starting the training job...\n",
      "2020-06-11 15:35:08 Starting - Launching requested ML instances......\n",
      "2020-06-11 15:36:14 Starting - Preparing the instances for training...\n",
      "2020-06-11 15:37:07 Downloading - Downloading input data......\n",
      "2020-06-11 15:37:57 Training - Training image download completed. Training in progress.\u001b[34mArguments: train\u001b[0m\n",
      "\u001b[34m[2020-06-11:15:37:58:INFO] Running standalone xgboost training.\u001b[0m\n",
      "\u001b[34m[2020-06-11:15:37:58:INFO] File size need to be processed in the node: 238.5mb. Available memory size in the node: 8469.64mb\u001b[0m\n",
      "\u001b[34m[2020-06-11:15:37:58:INFO] Determined delimiter of CSV input is ','\u001b[0m\n",
      "\u001b[34m[15:37:58] S3DistributionType set as FullyReplicated\u001b[0m\n",
      "\u001b[34m[15:38:00] 15000x5000 matrix with 75000000 entries loaded from /opt/ml/input/data/train?format=csv&label_column=0&delimiter=,\u001b[0m\n",
      "\u001b[34m[2020-06-11:15:38:00:INFO] Determined delimiter of CSV input is ','\u001b[0m\n",
      "\u001b[34m[15:38:00] S3DistributionType set as FullyReplicated\u001b[0m\n",
      "\u001b[34m[15:38:01] 10000x5000 matrix with 50000000 entries loaded from /opt/ml/input/data/validation?format=csv&label_column=0&delimiter=,\u001b[0m\n",
      "\u001b[34m[15:38:05] src/tree/updater_prune.cc:74: tree pruning end, 1 roots, 40 extra nodes, 8 pruned nodes, max_depth=5\u001b[0m\n",
      "\u001b[34m[0]#011train-error:0.305133#011validation-error:0.3097\u001b[0m\n",
      "\u001b[34mMultiple eval metrics have been passed: 'validation-error' will be used for early stopping.\n",
      "\u001b[0m\n",
      "\u001b[34mWill train until validation-error hasn't improved in 10 rounds.\u001b[0m\n",
      "\u001b[34m[15:38:06] src/tree/updater_prune.cc:74: tree pruning end, 1 roots, 42 extra nodes, 4 pruned nodes, max_depth=5\u001b[0m\n",
      "\u001b[34m[1]#011train-error:0.3012#011validation-error:0.3058\u001b[0m\n",
      "\u001b[34m[15:38:07] src/tree/updater_prune.cc:74: tree pruning end, 1 roots, 46 extra nodes, 8 pruned nodes, max_depth=5\u001b[0m\n",
      "\u001b[34m[2]#011train-error:0.275933#011validation-error:0.2906\u001b[0m\n",
      "\u001b[34m[15:38:09] src/tree/updater_prune.cc:74: tree pruning end, 1 roots, 32 extra nodes, 2 pruned nodes, max_depth=5\u001b[0m\n",
      "\u001b[34m[3]#011train-error:0.280933#011validation-error:0.2912\u001b[0m\n",
      "\u001b[34m[15:38:11] src/tree/updater_prune.cc:74: tree pruning end, 1 roots, 44 extra nodes, 2 pruned nodes, max_depth=5\u001b[0m\n",
      "\u001b[34m[4]#011train-error:0.2692#011validation-error:0.2785\u001b[0m\n",
      "\u001b[34m[15:38:12] src/tree/updater_prune.cc:74: tree pruning end, 1 roots, 34 extra nodes, 4 pruned nodes, max_depth=5\u001b[0m\n",
      "\u001b[34m[5]#011train-error:0.258667#011validation-error:0.2708\u001b[0m\n",
      "\u001b[34m[15:38:13] src/tree/updater_prune.cc:74: tree pruning end, 1 roots, 24 extra nodes, 12 pruned nodes, max_depth=5\u001b[0m\n",
      "\u001b[34m[6]#011train-error:0.253467#011validation-error:0.2663\u001b[0m\n",
      "\u001b[34m[15:38:14] src/tree/updater_prune.cc:74: tree pruning end, 1 roots, 30 extra nodes, 10 pruned nodes, max_depth=5\u001b[0m\n",
      "\u001b[34m[7]#011train-error:0.247867#011validation-error:0.2589\u001b[0m\n",
      "\u001b[34m[15:38:16] src/tree/updater_prune.cc:74: tree pruning end, 1 roots, 28 extra nodes, 8 pruned nodes, max_depth=5\u001b[0m\n",
      "\u001b[34m[8]#011train-error:0.239333#011validation-error:0.2499\u001b[0m\n",
      "\u001b[34m[15:38:17] src/tree/updater_prune.cc:74: tree pruning end, 1 roots, 40 extra nodes, 4 pruned nodes, max_depth=5\u001b[0m\n",
      "\u001b[34m[9]#011train-error:0.2302#011validation-error:0.2445\u001b[0m\n",
      "\u001b[34m[15:38:18] src/tree/updater_prune.cc:74: tree pruning end, 1 roots, 28 extra nodes, 4 pruned nodes, max_depth=5\u001b[0m\n",
      "\u001b[34m[10]#011train-error:0.226067#011validation-error:0.2395\u001b[0m\n",
      "\u001b[34m[15:38:20] src/tree/updater_prune.cc:74: tree pruning end, 1 roots, 48 extra nodes, 4 pruned nodes, max_depth=5\u001b[0m\n",
      "\u001b[34m[11]#011train-error:0.219667#011validation-error:0.235\u001b[0m\n",
      "\u001b[34m[15:38:21] src/tree/updater_prune.cc:74: tree pruning end, 1 roots, 24 extra nodes, 6 pruned nodes, max_depth=5\u001b[0m\n",
      "\u001b[34m[12]#011train-error:0.217#011validation-error:0.2305\u001b[0m\n",
      "\u001b[34m[15:38:22] src/tree/updater_prune.cc:74: tree pruning end, 1 roots, 36 extra nodes, 4 pruned nodes, max_depth=5\u001b[0m\n",
      "\u001b[34m[13]#011train-error:0.2132#011validation-error:0.2299\u001b[0m\n",
      "\u001b[34m[15:38:24] src/tree/updater_prune.cc:74: tree pruning end, 1 roots, 34 extra nodes, 12 pruned nodes, max_depth=5\u001b[0m\n",
      "\u001b[34m[14]#011train-error:0.2072#011validation-error:0.2248\u001b[0m\n",
      "\u001b[34m[15:38:25] src/tree/updater_prune.cc:74: tree pruning end, 1 roots, 38 extra nodes, 6 pruned nodes, max_depth=5\u001b[0m\n",
      "\u001b[34m[15]#011train-error:0.200733#011validation-error:0.2216\u001b[0m\n",
      "\u001b[34m[15:38:26] src/tree/updater_prune.cc:74: tree pruning end, 1 roots, 32 extra nodes, 8 pruned nodes, max_depth=5\u001b[0m\n",
      "\u001b[34m[16]#011train-error:0.198133#011validation-error:0.2209\u001b[0m\n",
      "\u001b[34m[15:38:27] src/tree/updater_prune.cc:74: tree pruning end, 1 roots, 34 extra nodes, 2 pruned nodes, max_depth=5\u001b[0m\n",
      "\u001b[34m[17]#011train-error:0.1942#011validation-error:0.2182\u001b[0m\n",
      "\u001b[34m[15:38:29] src/tree/updater_prune.cc:74: tree pruning end, 1 roots, 32 extra nodes, 14 pruned nodes, max_depth=5\u001b[0m\n",
      "\u001b[34m[18]#011train-error:0.191933#011validation-error:0.2177\u001b[0m\n",
      "\u001b[34m[15:38:30] src/tree/updater_prune.cc:74: tree pruning end, 1 roots, 18 extra nodes, 16 pruned nodes, max_depth=5\u001b[0m\n",
      "\u001b[34m[19]#011train-error:0.1902#011validation-error:0.2156\u001b[0m\n",
      "\u001b[34m[15:38:31] src/tree/updater_prune.cc:74: tree pruning end, 1 roots, 22 extra nodes, 8 pruned nodes, max_depth=5\u001b[0m\n",
      "\u001b[34m[20]#011train-error:0.1874#011validation-error:0.2114\u001b[0m\n",
      "\u001b[34m[15:38:33] src/tree/updater_prune.cc:74: tree pruning end, 1 roots, 28 extra nodes, 10 pruned nodes, max_depth=5\u001b[0m\n",
      "\u001b[34m[21]#011train-error:0.185#011validation-error:0.2099\u001b[0m\n",
      "\u001b[34m[15:38:34] src/tree/updater_prune.cc:74: tree pruning end, 1 roots, 30 extra nodes, 10 pruned nodes, max_depth=5\u001b[0m\n",
      "\u001b[34m[22]#011train-error:0.182533#011validation-error:0.2092\u001b[0m\n",
      "\u001b[34m[15:38:35] src/tree/updater_prune.cc:74: tree pruning end, 1 roots, 24 extra nodes, 8 pruned nodes, max_depth=5\u001b[0m\n",
      "\u001b[34m[23]#011train-error:0.180467#011validation-error:0.2085\u001b[0m\n",
      "\u001b[34m[15:38:37] src/tree/updater_prune.cc:74: tree pruning end, 1 roots, 34 extra nodes, 4 pruned nodes, max_depth=5\u001b[0m\n",
      "\u001b[34m[24]#011train-error:0.1774#011validation-error:0.2045\u001b[0m\n",
      "\u001b[34m[15:38:38] src/tree/updater_prune.cc:74: tree pruning end, 1 roots, 26 extra nodes, 6 pruned nodes, max_depth=5\u001b[0m\n",
      "\u001b[34m[25]#011train-error:0.176733#011validation-error:0.2041\u001b[0m\n",
      "\u001b[34m[15:38:39] src/tree/updater_prune.cc:74: tree pruning end, 1 roots, 30 extra nodes, 6 pruned nodes, max_depth=5\u001b[0m\n",
      "\u001b[34m[26]#011train-error:0.174733#011validation-error:0.2035\u001b[0m\n",
      "\u001b[34m[15:38:41] src/tree/updater_prune.cc:74: tree pruning end, 1 roots, 22 extra nodes, 10 pruned nodes, max_depth=5\u001b[0m\n",
      "\u001b[34m[27]#011train-error:0.171467#011validation-error:0.1994\u001b[0m\n",
      "\u001b[34m[15:38:42] src/tree/updater_prune.cc:74: tree pruning end, 1 roots, 34 extra nodes, 6 pruned nodes, max_depth=5\u001b[0m\n",
      "\u001b[34m[28]#011train-error:0.169733#011validation-error:0.1988\u001b[0m\n",
      "\u001b[34m[15:38:43] src/tree/updater_prune.cc:74: tree pruning end, 1 roots, 22 extra nodes, 12 pruned nodes, max_depth=5\u001b[0m\n",
      "\u001b[34m[29]#011train-error:0.167#011validation-error:0.1978\u001b[0m\n",
      "\u001b[34m[15:38:44] src/tree/updater_prune.cc:74: tree pruning end, 1 roots, 24 extra nodes, 8 pruned nodes, max_depth=5\u001b[0m\n",
      "\u001b[34m[30]#011train-error:0.1652#011validation-error:0.1955\u001b[0m\n",
      "\u001b[34m[15:38:46] src/tree/updater_prune.cc:74: tree pruning end, 1 roots, 32 extra nodes, 6 pruned nodes, max_depth=5\u001b[0m\n",
      "\u001b[34m[31]#011train-error:0.1632#011validation-error:0.1934\u001b[0m\n",
      "\u001b[34m[15:38:47] src/tree/updater_prune.cc:74: tree pruning end, 1 roots, 24 extra nodes, 8 pruned nodes, max_depth=5\u001b[0m\n",
      "\u001b[34m[32]#011train-error:0.161133#011validation-error:0.1941\u001b[0m\n",
      "\u001b[34m[15:38:48] src/tree/updater_prune.cc:74: tree pruning end, 1 roots, 34 extra nodes, 2 pruned nodes, max_depth=5\u001b[0m\n",
      "\u001b[34m[33]#011train-error:0.1602#011validation-error:0.1913\u001b[0m\n",
      "\u001b[34m[15:38:50] src/tree/updater_prune.cc:74: tree pruning end, 1 roots, 40 extra nodes, 10 pruned nodes, max_depth=5\u001b[0m\n",
      "\u001b[34m[34]#011train-error:0.157933#011validation-error:0.191\u001b[0m\n",
      "\u001b[34m[15:38:51] src/tree/updater_prune.cc:74: tree pruning end, 1 roots, 14 extra nodes, 12 pruned nodes, max_depth=5\u001b[0m\n",
      "\u001b[34m[35]#011train-error:0.156533#011validation-error:0.1899\u001b[0m\n",
      "\u001b[34m[15:38:52] src/tree/updater_prune.cc:74: tree pruning end, 1 roots, 16 extra nodes, 16 pruned nodes, max_depth=5\u001b[0m\n",
      "\u001b[34m[36]#011train-error:0.1556#011validation-error:0.1899\u001b[0m\n",
      "\u001b[34m[15:38:53] src/tree/updater_prune.cc:74: tree pruning end, 1 roots, 12 extra nodes, 6 pruned nodes, max_depth=5\u001b[0m\n",
      "\u001b[34m[37]#011train-error:0.154867#011validation-error:0.1885\u001b[0m\n",
      "\u001b[34m[15:38:55] src/tree/updater_prune.cc:74: tree pruning end, 1 roots, 20 extra nodes, 4 pruned nodes, max_depth=5\u001b[0m\n",
      "\u001b[34m[38]#011train-error:0.153933#011validation-error:0.1867\u001b[0m\n",
      "\u001b[34m[15:38:56] src/tree/updater_prune.cc:74: tree pruning end, 1 roots, 38 extra nodes, 6 pruned nodes, max_depth=5\u001b[0m\n",
      "\u001b[34m[39]#011train-error:0.151133#011validation-error:0.1861\u001b[0m\n",
      "\u001b[34m[15:38:57] src/tree/updater_prune.cc:74: tree pruning end, 1 roots, 30 extra nodes, 14 pruned nodes, max_depth=5\u001b[0m\n",
      "\u001b[34m[40]#011train-error:0.1502#011validation-error:0.1857\u001b[0m\n",
      "\u001b[34m[15:38:59] src/tree/updater_prune.cc:74: tree pruning end, 1 roots, 26 extra nodes, 12 pruned nodes, max_depth=5\u001b[0m\n",
      "\u001b[34m[41]#011train-error:0.1484#011validation-error:0.1852\u001b[0m\n",
      "\u001b[34m[15:39:00] src/tree/updater_prune.cc:74: tree pruning end, 1 roots, 26 extra nodes, 12 pruned nodes, max_depth=5\u001b[0m\n",
      "\u001b[34m[42]#011train-error:0.147267#011validation-error:0.1854\u001b[0m\n",
      "\u001b[34m[15:39:01] src/tree/updater_prune.cc:74: tree pruning end, 1 roots, 32 extra nodes, 6 pruned nodes, max_depth=5\u001b[0m\n",
      "\u001b[34m[43]#011train-error:0.145533#011validation-error:0.1847\u001b[0m\n"
     ]
    },
    {
     "name": "stdout",
     "output_type": "stream",
     "text": [
      "\u001b[34m[15:39:03] src/tree/updater_prune.cc:74: tree pruning end, 1 roots, 18 extra nodes, 6 pruned nodes, max_depth=5\u001b[0m\n",
      "\u001b[34m[44]#011train-error:0.144333#011validation-error:0.184\u001b[0m\n",
      "\u001b[34m[15:39:04] src/tree/updater_prune.cc:74: tree pruning end, 1 roots, 24 extra nodes, 10 pruned nodes, max_depth=5\u001b[0m\n",
      "\u001b[34m[45]#011train-error:0.143133#011validation-error:0.1833\u001b[0m\n",
      "\u001b[34m[15:39:05] src/tree/updater_prune.cc:74: tree pruning end, 1 roots, 14 extra nodes, 8 pruned nodes, max_depth=5\u001b[0m\n",
      "\u001b[34m[46]#011train-error:0.141667#011validation-error:0.1828\u001b[0m\n",
      "\u001b[34m[15:39:06] src/tree/updater_prune.cc:74: tree pruning end, 1 roots, 24 extra nodes, 4 pruned nodes, max_depth=5\u001b[0m\n",
      "\u001b[34m[47]#011train-error:0.141333#011validation-error:0.1826\u001b[0m\n",
      "\u001b[34m[15:39:08] src/tree/updater_prune.cc:74: tree pruning end, 1 roots, 18 extra nodes, 8 pruned nodes, max_depth=5\u001b[0m\n",
      "\u001b[34m[48]#011train-error:0.1402#011validation-error:0.1809\u001b[0m\n",
      "\u001b[34m[15:39:09] src/tree/updater_prune.cc:74: tree pruning end, 1 roots, 20 extra nodes, 10 pruned nodes, max_depth=5\u001b[0m\n",
      "\u001b[34m[49]#011train-error:0.1386#011validation-error:0.1799\u001b[0m\n",
      "\u001b[34m[15:39:10] src/tree/updater_prune.cc:74: tree pruning end, 1 roots, 18 extra nodes, 2 pruned nodes, max_depth=5\u001b[0m\n",
      "\u001b[34m[50]#011train-error:0.137733#011validation-error:0.1792\u001b[0m\n",
      "\u001b[34m[15:39:12] src/tree/updater_prune.cc:74: tree pruning end, 1 roots, 22 extra nodes, 6 pruned nodes, max_depth=5\u001b[0m\n",
      "\u001b[34m[51]#011train-error:0.137133#011validation-error:0.1774\u001b[0m\n",
      "\u001b[34m[15:39:13] src/tree/updater_prune.cc:74: tree pruning end, 1 roots, 32 extra nodes, 6 pruned nodes, max_depth=5\u001b[0m\n",
      "\u001b[34m[52]#011train-error:0.137133#011validation-error:0.1763\u001b[0m\n",
      "\u001b[34m[15:39:14] src/tree/updater_prune.cc:74: tree pruning end, 1 roots, 16 extra nodes, 14 pruned nodes, max_depth=5\u001b[0m\n",
      "\u001b[34m[53]#011train-error:0.1364#011validation-error:0.1748\u001b[0m\n",
      "\u001b[34m[15:39:16] src/tree/updater_prune.cc:74: tree pruning end, 1 roots, 16 extra nodes, 10 pruned nodes, max_depth=5\u001b[0m\n",
      "\u001b[34m[54]#011train-error:0.1346#011validation-error:0.1747\u001b[0m\n",
      "\u001b[34m[15:39:17] src/tree/updater_prune.cc:74: tree pruning end, 1 roots, 26 extra nodes, 6 pruned nodes, max_depth=5\u001b[0m\n",
      "\u001b[34m[55]#011train-error:0.133267#011validation-error:0.1755\u001b[0m\n",
      "\u001b[34m[15:39:18] src/tree/updater_prune.cc:74: tree pruning end, 1 roots, 22 extra nodes, 8 pruned nodes, max_depth=5\u001b[0m\n",
      "\u001b[34m[56]#011train-error:0.132067#011validation-error:0.1739\u001b[0m\n",
      "\u001b[34m[15:39:19] src/tree/updater_prune.cc:74: tree pruning end, 1 roots, 20 extra nodes, 12 pruned nodes, max_depth=5\u001b[0m\n",
      "\u001b[34m[57]#011train-error:0.131867#011validation-error:0.172\u001b[0m\n",
      "\u001b[34m[15:39:21] src/tree/updater_prune.cc:74: tree pruning end, 1 roots, 20 extra nodes, 8 pruned nodes, max_depth=5\u001b[0m\n",
      "\u001b[34m[58]#011train-error:0.131933#011validation-error:0.1722\u001b[0m\n",
      "\u001b[34m[15:39:22] src/tree/updater_prune.cc:74: tree pruning end, 1 roots, 32 extra nodes, 12 pruned nodes, max_depth=5\u001b[0m\n",
      "\u001b[34m[59]#011train-error:0.130533#011validation-error:0.171\u001b[0m\n",
      "\u001b[34m[15:39:23] src/tree/updater_prune.cc:74: tree pruning end, 1 roots, 26 extra nodes, 12 pruned nodes, max_depth=5\u001b[0m\n",
      "\u001b[34m[60]#011train-error:0.1284#011validation-error:0.1697\u001b[0m\n",
      "\u001b[34m[15:39:25] src/tree/updater_prune.cc:74: tree pruning end, 1 roots, 28 extra nodes, 12 pruned nodes, max_depth=5\u001b[0m\n",
      "\u001b[34m[61]#011train-error:0.127#011validation-error:0.171\u001b[0m\n",
      "\u001b[34m[15:39:26] src/tree/updater_prune.cc:74: tree pruning end, 1 roots, 18 extra nodes, 16 pruned nodes, max_depth=5\u001b[0m\n",
      "\u001b[34m[62]#011train-error:0.126267#011validation-error:0.1701\u001b[0m\n",
      "\u001b[34m[15:39:27] src/tree/updater_prune.cc:74: tree pruning end, 1 roots, 14 extra nodes, 8 pruned nodes, max_depth=5\u001b[0m\n",
      "\u001b[34m[63]#011train-error:0.124933#011validation-error:0.1691\u001b[0m\n",
      "\u001b[34m[15:39:29] src/tree/updater_prune.cc:74: tree pruning end, 1 roots, 22 extra nodes, 20 pruned nodes, max_depth=5\u001b[0m\n",
      "\u001b[34m[64]#011train-error:0.1236#011validation-error:0.1689\u001b[0m\n",
      "\u001b[34m[15:39:30] src/tree/updater_prune.cc:74: tree pruning end, 1 roots, 22 extra nodes, 6 pruned nodes, max_depth=5\u001b[0m\n",
      "\u001b[34m[65]#011train-error:0.1236#011validation-error:0.1683\u001b[0m\n",
      "\u001b[34m[15:39:31] src/tree/updater_prune.cc:74: tree pruning end, 1 roots, 22 extra nodes, 4 pruned nodes, max_depth=5\u001b[0m\n",
      "\u001b[34m[66]#011train-error:0.123933#011validation-error:0.1691\u001b[0m\n",
      "\u001b[34m[15:39:32] src/tree/updater_prune.cc:74: tree pruning end, 1 roots, 30 extra nodes, 2 pruned nodes, max_depth=5\u001b[0m\n",
      "\u001b[34m[67]#011train-error:0.121467#011validation-error:0.1678\u001b[0m\n",
      "\u001b[34m[15:39:34] src/tree/updater_prune.cc:74: tree pruning end, 1 roots, 20 extra nodes, 6 pruned nodes, max_depth=5\u001b[0m\n",
      "\u001b[34m[68]#011train-error:0.120667#011validation-error:0.1668\u001b[0m\n",
      "\u001b[34m[15:39:35] src/tree/updater_prune.cc:74: tree pruning end, 1 roots, 30 extra nodes, 12 pruned nodes, max_depth=5\u001b[0m\n",
      "\u001b[34m[69]#011train-error:0.120267#011validation-error:0.1673\u001b[0m\n",
      "\u001b[34m[15:39:36] src/tree/updater_prune.cc:74: tree pruning end, 1 roots, 20 extra nodes, 10 pruned nodes, max_depth=5\u001b[0m\n",
      "\u001b[34m[70]#011train-error:0.1196#011validation-error:0.1668\u001b[0m\n",
      "\u001b[34m[15:39:38] src/tree/updater_prune.cc:74: tree pruning end, 1 roots, 20 extra nodes, 12 pruned nodes, max_depth=5\u001b[0m\n",
      "\u001b[34m[71]#011train-error:0.118733#011validation-error:0.1663\u001b[0m\n",
      "\u001b[34m[15:39:39] src/tree/updater_prune.cc:74: tree pruning end, 1 roots, 20 extra nodes, 10 pruned nodes, max_depth=5\u001b[0m\n",
      "\u001b[34m[72]#011train-error:0.119067#011validation-error:0.1658\u001b[0m\n",
      "\u001b[34m[15:39:40] src/tree/updater_prune.cc:74: tree pruning end, 1 roots, 22 extra nodes, 4 pruned nodes, max_depth=5\u001b[0m\n",
      "\u001b[34m[73]#011train-error:0.117733#011validation-error:0.1649\u001b[0m\n",
      "\u001b[34m[15:39:42] src/tree/updater_prune.cc:74: tree pruning end, 1 roots, 18 extra nodes, 10 pruned nodes, max_depth=5\u001b[0m\n",
      "\u001b[34m[74]#011train-error:0.117133#011validation-error:0.1637\u001b[0m\n",
      "\u001b[34m[15:39:43] src/tree/updater_prune.cc:74: tree pruning end, 1 roots, 14 extra nodes, 4 pruned nodes, max_depth=5\u001b[0m\n",
      "\u001b[34m[75]#011train-error:0.1172#011validation-error:0.1616\u001b[0m\n",
      "\u001b[34m[15:39:44] src/tree/updater_prune.cc:74: tree pruning end, 1 roots, 28 extra nodes, 2 pruned nodes, max_depth=5\u001b[0m\n",
      "\u001b[34m[76]#011train-error:0.116267#011validation-error:0.162\u001b[0m\n",
      "\u001b[34m[15:39:46] src/tree/updater_prune.cc:74: tree pruning end, 1 roots, 16 extra nodes, 4 pruned nodes, max_depth=5\u001b[0m\n",
      "\u001b[34m[77]#011train-error:0.115867#011validation-error:0.1619\u001b[0m\n",
      "\u001b[34m[15:39:47] src/tree/updater_prune.cc:74: tree pruning end, 1 roots, 16 extra nodes, 6 pruned nodes, max_depth=5\u001b[0m\n",
      "\u001b[34m[78]#011train-error:0.115467#011validation-error:0.161\u001b[0m\n",
      "\u001b[34m[15:39:48] src/tree/updater_prune.cc:74: tree pruning end, 1 roots, 22 extra nodes, 8 pruned nodes, max_depth=5\u001b[0m\n",
      "\u001b[34m[79]#011train-error:0.1142#011validation-error:0.1604\u001b[0m\n",
      "\u001b[34m[15:39:49] src/tree/updater_prune.cc:74: tree pruning end, 1 roots, 16 extra nodes, 4 pruned nodes, max_depth=5\u001b[0m\n",
      "\u001b[34m[80]#011train-error:0.1146#011validation-error:0.1609\u001b[0m\n",
      "\u001b[34m[15:39:51] src/tree/updater_prune.cc:74: tree pruning end, 1 roots, 16 extra nodes, 8 pruned nodes, max_depth=5\u001b[0m\n",
      "\u001b[34m[81]#011train-error:0.1142#011validation-error:0.1605\u001b[0m\n",
      "\u001b[34m[15:39:52] src/tree/updater_prune.cc:74: tree pruning end, 1 roots, 10 extra nodes, 4 pruned nodes, max_depth=5\u001b[0m\n",
      "\u001b[34m[82]#011train-error:0.113533#011validation-error:0.1599\u001b[0m\n",
      "\u001b[34m[15:39:53] src/tree/updater_prune.cc:74: tree pruning end, 1 roots, 30 extra nodes, 12 pruned nodes, max_depth=5\u001b[0m\n",
      "\u001b[34m[83]#011train-error:0.1132#011validation-error:0.1596\u001b[0m\n",
      "\u001b[34m[15:39:55] src/tree/updater_prune.cc:74: tree pruning end, 1 roots, 26 extra nodes, 6 pruned nodes, max_depth=5\u001b[0m\n",
      "\u001b[34m[84]#011train-error:0.1122#011validation-error:0.1586\u001b[0m\n",
      "\u001b[34m[15:39:56] src/tree/updater_prune.cc:74: tree pruning end, 1 roots, 20 extra nodes, 10 pruned nodes, max_depth=5\u001b[0m\n",
      "\u001b[34m[85]#011train-error:0.112467#011validation-error:0.1587\u001b[0m\n",
      "\u001b[34m[15:39:57] src/tree/updater_prune.cc:74: tree pruning end, 1 roots, 16 extra nodes, 2 pruned nodes, max_depth=5\u001b[0m\n",
      "\u001b[34m[86]#011train-error:0.111533#011validation-error:0.1581\u001b[0m\n",
      "\u001b[34m[15:39:58] src/tree/updater_prune.cc:74: tree pruning end, 1 roots, 30 extra nodes, 8 pruned nodes, max_depth=5\u001b[0m\n",
      "\u001b[34m[87]#011train-error:0.110467#011validation-error:0.1573\u001b[0m\n",
      "\u001b[34m[15:40:00] src/tree/updater_prune.cc:74: tree pruning end, 1 roots, 10 extra nodes, 12 pruned nodes, max_depth=5\u001b[0m\n",
      "\u001b[34m[88]#011train-error:0.1094#011validation-error:0.1567\u001b[0m\n",
      "\u001b[34m[15:40:01] src/tree/updater_prune.cc:74: tree pruning end, 1 roots, 24 extra nodes, 10 pruned nodes, max_depth=5\u001b[0m\n",
      "\u001b[34m[89]#011train-error:0.108733#011validation-error:0.156\u001b[0m\n",
      "\u001b[34m[15:40:02] src/tree/updater_prune.cc:74: tree pruning end, 1 roots, 18 extra nodes, 12 pruned nodes, max_depth=5\u001b[0m\n",
      "\u001b[34m[90]#011train-error:0.1078#011validation-error:0.1554\u001b[0m\n"
     ]
    },
    {
     "name": "stdout",
     "output_type": "stream",
     "text": [
      "\u001b[34m[15:40:04] src/tree/updater_prune.cc:74: tree pruning end, 1 roots, 22 extra nodes, 4 pruned nodes, max_depth=5\u001b[0m\n",
      "\u001b[34m[91]#011train-error:0.107133#011validation-error:0.1558\u001b[0m\n",
      "\u001b[34m[15:40:05] src/tree/updater_prune.cc:74: tree pruning end, 1 roots, 12 extra nodes, 12 pruned nodes, max_depth=5\u001b[0m\n",
      "\u001b[34m[92]#011train-error:0.106533#011validation-error:0.1561\u001b[0m\n",
      "\u001b[34m[15:40:06] src/tree/updater_prune.cc:74: tree pruning end, 1 roots, 14 extra nodes, 8 pruned nodes, max_depth=5\u001b[0m\n",
      "\u001b[34m[93]#011train-error:0.105867#011validation-error:0.1554\u001b[0m\n",
      "\u001b[34m[15:40:08] src/tree/updater_prune.cc:74: tree pruning end, 1 roots, 20 extra nodes, 6 pruned nodes, max_depth=5\u001b[0m\n",
      "\u001b[34m[94]#011train-error:0.105267#011validation-error:0.1556\u001b[0m\n",
      "\u001b[34m[15:40:09] src/tree/updater_prune.cc:74: tree pruning end, 1 roots, 16 extra nodes, 12 pruned nodes, max_depth=5\u001b[0m\n",
      "\u001b[34m[95]#011train-error:0.104533#011validation-error:0.1552\u001b[0m\n",
      "\u001b[34m[15:40:10] src/tree/updater_prune.cc:74: tree pruning end, 1 roots, 18 extra nodes, 8 pruned nodes, max_depth=5\u001b[0m\n",
      "\u001b[34m[96]#011train-error:0.104467#011validation-error:0.1545\u001b[0m\n",
      "\u001b[34m[15:40:12] src/tree/updater_prune.cc:74: tree pruning end, 1 roots, 18 extra nodes, 6 pruned nodes, max_depth=5\u001b[0m\n",
      "\u001b[34m[97]#011train-error:0.104533#011validation-error:0.1535\u001b[0m\n",
      "\u001b[34m[15:40:13] src/tree/updater_prune.cc:74: tree pruning end, 1 roots, 12 extra nodes, 6 pruned nodes, max_depth=5\u001b[0m\n",
      "\u001b[34m[98]#011train-error:0.104267#011validation-error:0.1535\u001b[0m\n",
      "\u001b[34m[15:40:14] src/tree/updater_prune.cc:74: tree pruning end, 1 roots, 16 extra nodes, 8 pruned nodes, max_depth=5\u001b[0m\n",
      "\u001b[34m[99]#011train-error:0.103667#011validation-error:0.153\u001b[0m\n",
      "\u001b[34m[15:40:15] src/tree/updater_prune.cc:74: tree pruning end, 1 roots, 12 extra nodes, 2 pruned nodes, max_depth=5\u001b[0m\n",
      "\u001b[34m[100]#011train-error:0.102867#011validation-error:0.1525\u001b[0m\n",
      "\u001b[34m[15:40:17] src/tree/updater_prune.cc:74: tree pruning end, 1 roots, 18 extra nodes, 16 pruned nodes, max_depth=5\u001b[0m\n",
      "\u001b[34m[101]#011train-error:0.102333#011validation-error:0.1534\u001b[0m\n",
      "\u001b[34m[15:40:18] src/tree/updater_prune.cc:74: tree pruning end, 1 roots, 26 extra nodes, 14 pruned nodes, max_depth=5\u001b[0m\n",
      "\u001b[34m[102]#011train-error:0.102133#011validation-error:0.1524\u001b[0m\n",
      "\u001b[34m[15:40:19] src/tree/updater_prune.cc:74: tree pruning end, 1 roots, 18 extra nodes, 10 pruned nodes, max_depth=5\u001b[0m\n",
      "\u001b[34m[103]#011train-error:0.101733#011validation-error:0.1519\u001b[0m\n",
      "\u001b[34m[15:40:21] src/tree/updater_prune.cc:74: tree pruning end, 1 roots, 22 extra nodes, 10 pruned nodes, max_depth=5\u001b[0m\n",
      "\u001b[34m[104]#011train-error:0.101133#011validation-error:0.1516\u001b[0m\n",
      "\u001b[34m[15:40:22] src/tree/updater_prune.cc:74: tree pruning end, 1 roots, 18 extra nodes, 14 pruned nodes, max_depth=5\u001b[0m\n",
      "\u001b[34m[105]#011train-error:0.101067#011validation-error:0.1514\u001b[0m\n",
      "\u001b[34m[15:40:23] src/tree/updater_prune.cc:74: tree pruning end, 1 roots, 26 extra nodes, 16 pruned nodes, max_depth=5\u001b[0m\n",
      "\u001b[34m[106]#011train-error:0.1012#011validation-error:0.1518\u001b[0m\n",
      "\u001b[34m[15:40:24] src/tree/updater_prune.cc:74: tree pruning end, 1 roots, 10 extra nodes, 10 pruned nodes, max_depth=5\u001b[0m\n",
      "\u001b[34m[107]#011train-error:0.1012#011validation-error:0.1516\u001b[0m\n",
      "\u001b[34m[15:40:26] src/tree/updater_prune.cc:74: tree pruning end, 1 roots, 14 extra nodes, 12 pruned nodes, max_depth=5\u001b[0m\n",
      "\u001b[34m[108]#011train-error:0.1006#011validation-error:0.1507\u001b[0m\n",
      "\u001b[34m[15:40:27] src/tree/updater_prune.cc:74: tree pruning end, 1 roots, 34 extra nodes, 8 pruned nodes, max_depth=5\u001b[0m\n",
      "\u001b[34m[109]#011train-error:0.099133#011validation-error:0.1505\u001b[0m\n",
      "\u001b[34m[15:40:28] src/tree/updater_prune.cc:74: tree pruning end, 1 roots, 12 extra nodes, 4 pruned nodes, max_depth=5\u001b[0m\n",
      "\u001b[34m[110]#011train-error:0.098733#011validation-error:0.1499\u001b[0m\n",
      "\u001b[34m[15:40:30] src/tree/updater_prune.cc:74: tree pruning end, 1 roots, 20 extra nodes, 8 pruned nodes, max_depth=5\u001b[0m\n",
      "\u001b[34m[111]#011train-error:0.0978#011validation-error:0.1496\u001b[0m\n",
      "\u001b[34m[15:40:31] src/tree/updater_prune.cc:74: tree pruning end, 1 roots, 12 extra nodes, 18 pruned nodes, max_depth=5\u001b[0m\n",
      "\u001b[34m[112]#011train-error:0.097267#011validation-error:0.1481\u001b[0m\n",
      "\u001b[34m[15:40:32] src/tree/updater_prune.cc:74: tree pruning end, 1 roots, 14 extra nodes, 14 pruned nodes, max_depth=5\u001b[0m\n",
      "\u001b[34m[113]#011train-error:0.0974#011validation-error:0.1482\u001b[0m\n",
      "\u001b[34m[15:40:34] src/tree/updater_prune.cc:74: tree pruning end, 1 roots, 12 extra nodes, 6 pruned nodes, max_depth=5\u001b[0m\n",
      "\u001b[34m[114]#011train-error:0.096933#011validation-error:0.148\u001b[0m\n",
      "\u001b[34m[15:40:35] src/tree/updater_prune.cc:74: tree pruning end, 1 roots, 12 extra nodes, 6 pruned nodes, max_depth=5\u001b[0m\n",
      "\u001b[34m[115]#011train-error:0.096067#011validation-error:0.1486\u001b[0m\n",
      "\u001b[34m[15:40:36] src/tree/updater_prune.cc:74: tree pruning end, 1 roots, 18 extra nodes, 10 pruned nodes, max_depth=5\u001b[0m\n",
      "\u001b[34m[116]#011train-error:0.095733#011validation-error:0.1482\u001b[0m\n",
      "\u001b[34m[15:40:37] src/tree/updater_prune.cc:74: tree pruning end, 1 roots, 14 extra nodes, 6 pruned nodes, max_depth=5\u001b[0m\n",
      "\u001b[34m[117]#011train-error:0.0954#011validation-error:0.1481\u001b[0m\n",
      "\u001b[34m[15:40:39] src/tree/updater_prune.cc:74: tree pruning end, 1 roots, 18 extra nodes, 6 pruned nodes, max_depth=5\u001b[0m\n",
      "\u001b[34m[118]#011train-error:0.095333#011validation-error:0.1487\u001b[0m\n",
      "\u001b[34m[15:40:40] src/tree/updater_prune.cc:74: tree pruning end, 1 roots, 16 extra nodes, 2 pruned nodes, max_depth=5\u001b[0m\n",
      "\u001b[34m[119]#011train-error:0.094467#011validation-error:0.1481\u001b[0m\n",
      "\u001b[34m[15:40:41] src/tree/updater_prune.cc:74: tree pruning end, 1 roots, 10 extra nodes, 8 pruned nodes, max_depth=5\u001b[0m\n",
      "\u001b[34m[120]#011train-error:0.094133#011validation-error:0.1479\u001b[0m\n",
      "\u001b[34m[15:40:43] src/tree/updater_prune.cc:74: tree pruning end, 1 roots, 20 extra nodes, 16 pruned nodes, max_depth=5\u001b[0m\n",
      "\u001b[34m[121]#011train-error:0.093733#011validation-error:0.1485\u001b[0m\n",
      "\u001b[34m[15:40:44] src/tree/updater_prune.cc:74: tree pruning end, 1 roots, 18 extra nodes, 6 pruned nodes, max_depth=5\u001b[0m\n",
      "\u001b[34m[122]#011train-error:0.093533#011validation-error:0.1468\u001b[0m\n",
      "\u001b[34m[15:40:45] src/tree/updater_prune.cc:74: tree pruning end, 1 roots, 24 extra nodes, 10 pruned nodes, max_depth=5\u001b[0m\n",
      "\u001b[34m[123]#011train-error:0.093533#011validation-error:0.1479\u001b[0m\n",
      "\u001b[34m[15:40:47] src/tree/updater_prune.cc:74: tree pruning end, 1 roots, 14 extra nodes, 2 pruned nodes, max_depth=5\u001b[0m\n",
      "\u001b[34m[124]#011train-error:0.0936#011validation-error:0.1474\u001b[0m\n",
      "\u001b[34m[15:40:48] src/tree/updater_prune.cc:74: tree pruning end, 1 roots, 22 extra nodes, 6 pruned nodes, max_depth=5\u001b[0m\n",
      "\u001b[34m[125]#011train-error:0.092933#011validation-error:0.1469\u001b[0m\n",
      "\u001b[34m[15:40:49] src/tree/updater_prune.cc:74: tree pruning end, 1 roots, 38 extra nodes, 2 pruned nodes, max_depth=5\u001b[0m\n",
      "\u001b[34m[126]#011train-error:0.092133#011validation-error:0.1483\u001b[0m\n",
      "\u001b[34m[15:40:51] src/tree/updater_prune.cc:74: tree pruning end, 1 roots, 14 extra nodes, 8 pruned nodes, max_depth=5\u001b[0m\n",
      "\u001b[34m[127]#011train-error:0.0914#011validation-error:0.1464\u001b[0m\n",
      "\u001b[34m[15:40:52] src/tree/updater_prune.cc:74: tree pruning end, 1 roots, 12 extra nodes, 6 pruned nodes, max_depth=5\u001b[0m\n",
      "\u001b[34m[128]#011train-error:0.090867#011validation-error:0.1468\u001b[0m\n",
      "\u001b[34m[15:40:53] src/tree/updater_prune.cc:74: tree pruning end, 1 roots, 18 extra nodes, 2 pruned nodes, max_depth=5\u001b[0m\n",
      "\u001b[34m[129]#011train-error:0.090133#011validation-error:0.1463\u001b[0m\n",
      "\u001b[34m[15:40:54] src/tree/updater_prune.cc:74: tree pruning end, 1 roots, 10 extra nodes, 8 pruned nodes, max_depth=5\u001b[0m\n",
      "\u001b[34m[130]#011train-error:0.090267#011validation-error:0.1463\u001b[0m\n",
      "\u001b[34m[15:40:56] src/tree/updater_prune.cc:74: tree pruning end, 1 roots, 16 extra nodes, 20 pruned nodes, max_depth=5\u001b[0m\n",
      "\u001b[34m[131]#011train-error:0.090467#011validation-error:0.1461\u001b[0m\n",
      "\u001b[34m[15:40:57] src/tree/updater_prune.cc:74: tree pruning end, 1 roots, 12 extra nodes, 4 pruned nodes, max_depth=5\u001b[0m\n",
      "\u001b[34m[132]#011train-error:0.090133#011validation-error:0.1463\u001b[0m\n",
      "\u001b[34m[15:40:58] src/tree/updater_prune.cc:74: tree pruning end, 1 roots, 14 extra nodes, 6 pruned nodes, max_depth=5\u001b[0m\n",
      "\u001b[34m[133]#011train-error:0.0894#011validation-error:0.1459\u001b[0m\n",
      "\u001b[34m[15:41:00] src/tree/updater_prune.cc:74: tree pruning end, 1 roots, 20 extra nodes, 10 pruned nodes, max_depth=5\u001b[0m\n",
      "\u001b[34m[134]#011train-error:0.089467#011validation-error:0.1459\u001b[0m\n",
      "\u001b[34m[15:41:01] src/tree/updater_prune.cc:74: tree pruning end, 1 roots, 10 extra nodes, 2 pruned nodes, max_depth=5\u001b[0m\n",
      "\u001b[34m[135]#011train-error:0.0888#011validation-error:0.1453\u001b[0m\n",
      "\u001b[34m[15:41:02] src/tree/updater_prune.cc:74: tree pruning end, 1 roots, 12 extra nodes, 4 pruned nodes, max_depth=5\u001b[0m\n",
      "\u001b[34m[136]#011train-error:0.089333#011validation-error:0.1456\u001b[0m\n",
      "\u001b[34m[15:41:03] src/tree/updater_prune.cc:74: tree pruning end, 1 roots, 16 extra nodes, 16 pruned nodes, max_depth=5\u001b[0m\n",
      "\u001b[34m[137]#011train-error:0.0888#011validation-error:0.1445\u001b[0m\n",
      "\u001b[34m[15:41:05] src/tree/updater_prune.cc:74: tree pruning end, 1 roots, 10 extra nodes, 2 pruned nodes, max_depth=5\u001b[0m\n",
      "\u001b[34m[138]#011train-error:0.088667#011validation-error:0.1444\u001b[0m\n"
     ]
    },
    {
     "name": "stdout",
     "output_type": "stream",
     "text": [
      "\u001b[34m[15:41:06] src/tree/updater_prune.cc:74: tree pruning end, 1 roots, 12 extra nodes, 20 pruned nodes, max_depth=5\u001b[0m\n",
      "\u001b[34m[139]#011train-error:0.0884#011validation-error:0.1443\u001b[0m\n",
      "\u001b[34m[15:41:07] src/tree/updater_prune.cc:74: tree pruning end, 1 roots, 14 extra nodes, 2 pruned nodes, max_depth=5\u001b[0m\n",
      "\u001b[34m[140]#011train-error:0.087733#011validation-error:0.1445\u001b[0m\n",
      "\u001b[34m[15:41:09] src/tree/updater_prune.cc:74: tree pruning end, 1 roots, 26 extra nodes, 6 pruned nodes, max_depth=5\u001b[0m\n",
      "\u001b[34m[141]#011train-error:0.087#011validation-error:0.1447\u001b[0m\n",
      "\u001b[34m[15:41:10] src/tree/updater_prune.cc:74: tree pruning end, 1 roots, 10 extra nodes, 6 pruned nodes, max_depth=5\u001b[0m\n",
      "\u001b[34m[142]#011train-error:0.0868#011validation-error:0.1449\u001b[0m\n",
      "\u001b[34m[15:41:11] src/tree/updater_prune.cc:74: tree pruning end, 1 roots, 12 extra nodes, 6 pruned nodes, max_depth=5\u001b[0m\n",
      "\u001b[34m[143]#011train-error:0.086867#011validation-error:0.1437\u001b[0m\n",
      "\u001b[34m[15:41:13] src/tree/updater_prune.cc:74: tree pruning end, 1 roots, 22 extra nodes, 10 pruned nodes, max_depth=5\u001b[0m\n",
      "\u001b[34m[144]#011train-error:0.086533#011validation-error:0.1438\u001b[0m\n",
      "\u001b[34m[15:41:14] src/tree/updater_prune.cc:74: tree pruning end, 1 roots, 14 extra nodes, 10 pruned nodes, max_depth=5\u001b[0m\n",
      "\u001b[34m[145]#011train-error:0.085533#011validation-error:0.1436\u001b[0m\n",
      "\u001b[34m[15:41:15] src/tree/updater_prune.cc:74: tree pruning end, 1 roots, 30 extra nodes, 18 pruned nodes, max_depth=5\u001b[0m\n",
      "\u001b[34m[146]#011train-error:0.084#011validation-error:0.1423\u001b[0m\n",
      "\u001b[34m[15:41:17] src/tree/updater_prune.cc:74: tree pruning end, 1 roots, 14 extra nodes, 6 pruned nodes, max_depth=5\u001b[0m\n",
      "\u001b[34m[147]#011train-error:0.083667#011validation-error:0.1424\u001b[0m\n",
      "\u001b[34m[15:41:18] src/tree/updater_prune.cc:74: tree pruning end, 1 roots, 30 extra nodes, 10 pruned nodes, max_depth=5\u001b[0m\n",
      "\u001b[34m[148]#011train-error:0.083733#011validation-error:0.1431\u001b[0m\n",
      "\u001b[34m[15:41:19] src/tree/updater_prune.cc:74: tree pruning end, 1 roots, 12 extra nodes, 2 pruned nodes, max_depth=5\u001b[0m\n",
      "\u001b[34m[149]#011train-error:0.083533#011validation-error:0.1434\u001b[0m\n",
      "\u001b[34m[15:41:20] src/tree/updater_prune.cc:74: tree pruning end, 1 roots, 30 extra nodes, 8 pruned nodes, max_depth=5\u001b[0m\n",
      "\u001b[34m[150]#011train-error:0.0828#011validation-error:0.144\u001b[0m\n",
      "\u001b[34m[15:41:22] src/tree/updater_prune.cc:74: tree pruning end, 1 roots, 16 extra nodes, 8 pruned nodes, max_depth=5\u001b[0m\n",
      "\u001b[34m[151]#011train-error:0.082667#011validation-error:0.1426\u001b[0m\n",
      "\u001b[34m[15:41:23] src/tree/updater_prune.cc:74: tree pruning end, 1 roots, 16 extra nodes, 6 pruned nodes, max_depth=5\u001b[0m\n",
      "\u001b[34m[152]#011train-error:0.0824#011validation-error:0.1427\u001b[0m\n",
      "\u001b[34m[15:41:24] src/tree/updater_prune.cc:74: tree pruning end, 1 roots, 10 extra nodes, 14 pruned nodes, max_depth=5\u001b[0m\n",
      "\u001b[34m[153]#011train-error:0.082333#011validation-error:0.142\u001b[0m\n",
      "\u001b[34m[15:41:26] src/tree/updater_prune.cc:74: tree pruning end, 1 roots, 18 extra nodes, 4 pruned nodes, max_depth=5\u001b[0m\n",
      "\u001b[34m[154]#011train-error:0.0822#011validation-error:0.142\u001b[0m\n",
      "\u001b[34m[15:41:27] src/tree/updater_prune.cc:74: tree pruning end, 1 roots, 18 extra nodes, 6 pruned nodes, max_depth=5\u001b[0m\n",
      "\u001b[34m[155]#011train-error:0.082467#011validation-error:0.142\u001b[0m\n",
      "\u001b[34m[15:41:28] src/tree/updater_prune.cc:74: tree pruning end, 1 roots, 22 extra nodes, 2 pruned nodes, max_depth=5\u001b[0m\n",
      "\u001b[34m[156]#011train-error:0.081133#011validation-error:0.1415\u001b[0m\n",
      "\u001b[34m[15:41:29] src/tree/updater_prune.cc:74: tree pruning end, 1 roots, 18 extra nodes, 6 pruned nodes, max_depth=5\u001b[0m\n",
      "\u001b[34m[157]#011train-error:0.082333#011validation-error:0.142\u001b[0m\n",
      "\u001b[34m[15:41:31] src/tree/updater_prune.cc:74: tree pruning end, 1 roots, 26 extra nodes, 6 pruned nodes, max_depth=5\u001b[0m\n",
      "\u001b[34m[158]#011train-error:0.080533#011validation-error:0.1421\u001b[0m\n",
      "\u001b[34m[15:41:32] src/tree/updater_prune.cc:74: tree pruning end, 1 roots, 10 extra nodes, 10 pruned nodes, max_depth=5\u001b[0m\n",
      "\u001b[34m[159]#011train-error:0.080333#011validation-error:0.142\u001b[0m\n",
      "\u001b[34m[15:41:33] src/tree/updater_prune.cc:74: tree pruning end, 1 roots, 12 extra nodes, 6 pruned nodes, max_depth=5\u001b[0m\n",
      "\u001b[34m[160]#011train-error:0.080133#011validation-error:0.1418\u001b[0m\n",
      "\u001b[34m[15:41:35] src/tree/updater_prune.cc:74: tree pruning end, 1 roots, 12 extra nodes, 12 pruned nodes, max_depth=5\u001b[0m\n",
      "\u001b[34m[161]#011train-error:0.079867#011validation-error:0.1415\u001b[0m\n",
      "\u001b[34m[15:41:36] src/tree/updater_prune.cc:74: tree pruning end, 1 roots, 16 extra nodes, 10 pruned nodes, max_depth=5\u001b[0m\n",
      "\u001b[34m[162]#011train-error:0.079733#011validation-error:0.1409\u001b[0m\n",
      "\u001b[34m[15:41:37] src/tree/updater_prune.cc:74: tree pruning end, 1 roots, 10 extra nodes, 4 pruned nodes, max_depth=5\u001b[0m\n",
      "\u001b[34m[163]#011train-error:0.0798#011validation-error:0.1406\u001b[0m\n",
      "\u001b[34m[15:41:39] src/tree/updater_prune.cc:74: tree pruning end, 1 roots, 16 extra nodes, 6 pruned nodes, max_depth=5\u001b[0m\n",
      "\u001b[34m[164]#011train-error:0.079933#011validation-error:0.1413\u001b[0m\n",
      "\u001b[34m[15:41:40] src/tree/updater_prune.cc:74: tree pruning end, 1 roots, 28 extra nodes, 10 pruned nodes, max_depth=5\u001b[0m\n",
      "\u001b[34m[165]#011train-error:0.079533#011validation-error:0.1422\u001b[0m\n",
      "\u001b[34m[15:41:41] src/tree/updater_prune.cc:74: tree pruning end, 1 roots, 10 extra nodes, 16 pruned nodes, max_depth=5\u001b[0m\n",
      "\u001b[34m[166]#011train-error:0.079467#011validation-error:0.1417\u001b[0m\n",
      "\u001b[34m[15:41:43] src/tree/updater_prune.cc:74: tree pruning end, 1 roots, 16 extra nodes, 2 pruned nodes, max_depth=5\u001b[0m\n",
      "\u001b[34m[167]#011train-error:0.0794#011validation-error:0.1419\u001b[0m\n",
      "\u001b[34m[15:41:44] src/tree/updater_prune.cc:74: tree pruning end, 1 roots, 10 extra nodes, 10 pruned nodes, max_depth=5\u001b[0m\n",
      "\u001b[34m[168]#011train-error:0.079#011validation-error:0.1414\u001b[0m\n",
      "\u001b[34m[15:41:45] src/tree/updater_prune.cc:74: tree pruning end, 1 roots, 10 extra nodes, 4 pruned nodes, max_depth=5\u001b[0m\n",
      "\u001b[34m[169]#011train-error:0.078467#011validation-error:0.1407\u001b[0m\n",
      "\u001b[34m[15:41:46] src/tree/updater_prune.cc:74: tree pruning end, 1 roots, 16 extra nodes, 0 pruned nodes, max_depth=5\u001b[0m\n",
      "\u001b[34m[170]#011train-error:0.0786#011validation-error:0.1399\u001b[0m\n",
      "\u001b[34m[15:41:48] src/tree/updater_prune.cc:74: tree pruning end, 1 roots, 12 extra nodes, 6 pruned nodes, max_depth=5\u001b[0m\n",
      "\u001b[34m[171]#011train-error:0.078467#011validation-error:0.1407\u001b[0m\n",
      "\u001b[34m[15:41:49] src/tree/updater_prune.cc:74: tree pruning end, 1 roots, 16 extra nodes, 12 pruned nodes, max_depth=5\u001b[0m\n",
      "\u001b[34m[172]#011train-error:0.077933#011validation-error:0.1404\u001b[0m\n",
      "\u001b[34m[15:41:50] src/tree/updater_prune.cc:74: tree pruning end, 1 roots, 28 extra nodes, 16 pruned nodes, max_depth=5\u001b[0m\n",
      "\u001b[34m[173]#011train-error:0.077333#011validation-error:0.1408\u001b[0m\n",
      "\u001b[34m[15:41:52] src/tree/updater_prune.cc:74: tree pruning end, 1 roots, 20 extra nodes, 10 pruned nodes, max_depth=5\u001b[0m\n",
      "\u001b[34m[174]#011train-error:0.0776#011validation-error:0.1414\u001b[0m\n",
      "\u001b[34m[15:41:53] src/tree/updater_prune.cc:74: tree pruning end, 1 roots, 12 extra nodes, 12 pruned nodes, max_depth=5\u001b[0m\n",
      "\u001b[34m[175]#011train-error:0.076933#011validation-error:0.1416\u001b[0m\n",
      "\u001b[34m[15:41:54] src/tree/updater_prune.cc:74: tree pruning end, 1 roots, 12 extra nodes, 6 pruned nodes, max_depth=5\u001b[0m\n",
      "\u001b[34m[176]#011train-error:0.0766#011validation-error:0.1409\u001b[0m\n",
      "\u001b[34m[15:41:56] src/tree/updater_prune.cc:74: tree pruning end, 1 roots, 12 extra nodes, 8 pruned nodes, max_depth=5\u001b[0m\n",
      "\u001b[34m[177]#011train-error:0.0768#011validation-error:0.1407\u001b[0m\n",
      "\u001b[34m[15:41:57] src/tree/updater_prune.cc:74: tree pruning end, 1 roots, 30 extra nodes, 20 pruned nodes, max_depth=5\u001b[0m\n",
      "\u001b[34m[178]#011train-error:0.076267#011validation-error:0.141\u001b[0m\n",
      "\u001b[34m[15:41:58] src/tree/updater_prune.cc:74: tree pruning end, 1 roots, 10 extra nodes, 4 pruned nodes, max_depth=5\u001b[0m\n",
      "\u001b[34m[179]#011train-error:0.0764#011validation-error:0.1409\u001b[0m\n",
      "\u001b[34m[15:41:59] src/tree/updater_prune.cc:74: tree pruning end, 1 roots, 12 extra nodes, 6 pruned nodes, max_depth=5\u001b[0m\n",
      "\u001b[34m[180]#011train-error:0.076267#011validation-error:0.1409\u001b[0m\n",
      "\u001b[34mStopping. Best iteration:\u001b[0m\n",
      "\u001b[34m[170]#011train-error:0.0786#011validation-error:0.1399\n",
      "\u001b[0m\n",
      "\n",
      "2020-06-11 15:43:08 Uploading - Uploading generated training model\n",
      "2020-06-11 15:43:08 Completed - Training job completed\n",
      "Training seconds: 361\n",
      "Billable seconds: 361\n"
     ]
    }
   ],
   "source": [
    "xgb.fit({'train': s3_input_train, 'validation': s3_input_validation})"
   ]
  },
  {
   "cell_type": "markdown",
   "metadata": {},
   "source": [
    "## Step 5: Testing the model\n",
    "\n",
    "Now that we've fit our XGBoost model, it's time to see how well it performs. To do this we will use SageMakers Batch Transform functionality. Batch Transform is a convenient way to perform inference on a large dataset in a way that is not realtime. That is, we don't necessarily need to use our model's results immediately and instead we can perform inference on a large number of samples. An example of this in industry might be performing an end of month report. This method of inference can also be useful to us as it means that we can perform inference on our entire test set. \n",
    "\n",
    "To perform a Batch Transformation we need to first create a transformer objects from our trained estimator object."
   ]
  },
  {
   "cell_type": "code",
   "execution_count": 24,
   "metadata": {},
   "outputs": [],
   "source": [
    "xgb_transformer = xgb.transformer(instance_count = 1, instance_type = 'ml.m4.xlarge')"
   ]
  },
  {
   "cell_type": "markdown",
   "metadata": {},
   "source": [
    "Next we actually perform the transform job. When doing so we need to make sure to specify the type of data we are sending so that it is serialized correctly in the background. In our case we are providing our model with csv data so we specify `text/csv`. Also, if the test data that we have provided is too large to process all at once then we need to specify how the data file should be split up. Since each line is a single entry in our data set we tell SageMaker that it can split the input on each line."
   ]
  },
  {
   "cell_type": "code",
   "execution_count": 25,
   "metadata": {},
   "outputs": [],
   "source": [
    "xgb_transformer.transform(test_location, content_type='text/csv', split_type='Line')"
   ]
  },
  {
   "cell_type": "markdown",
   "metadata": {},
   "source": [
    "Currently the transform job is running but it is doing so in the background. Since we wish to wait until the transform job is done and we would like a bit of feedback we can run the `wait()` method."
   ]
  },
  {
   "cell_type": "code",
   "execution_count": 26,
   "metadata": {},
   "outputs": [
    {
     "name": "stdout",
     "output_type": "stream",
     "text": [
      "...................\u001b[34mArguments: serve\u001b[0m\n",
      "\u001b[34m[2020-06-11 15:46:25 +0000] [1] [INFO] Starting gunicorn 19.7.1\u001b[0m\n",
      "\u001b[34m[2020-06-11 15:46:25 +0000] [1] [INFO] Listening at: http://0.0.0.0:8080 (1)\u001b[0m\n",
      "\u001b[34m[2020-06-11 15:46:25 +0000] [1] [INFO] Using worker: gevent\u001b[0m\n",
      "\u001b[34m[2020-06-11 15:46:25 +0000] [38] [INFO] Booting worker with pid: 38\u001b[0m\n",
      "\u001b[34m[2020-06-11 15:46:25 +0000] [39] [INFO] Booting worker with pid: 39\u001b[0m\n",
      "\u001b[34m[2020-06-11:15:46:25:INFO] Model loaded successfully for worker : 38\u001b[0m\n",
      "\u001b[34m[2020-06-11 15:46:25 +0000] [40] [INFO] Booting worker with pid: 40\u001b[0m\n",
      "\u001b[34m[2020-06-11 15:46:25 +0000] [41] [INFO] Booting worker with pid: 41\u001b[0m\n",
      "\u001b[34m[2020-06-11:15:46:25:INFO] Model loaded successfully for worker : 39\u001b[0m\n",
      "\u001b[34m[2020-06-11:15:46:25:INFO] Model loaded successfully for worker : 40\u001b[0m\n",
      "\u001b[34m[2020-06-11:15:46:25:INFO] Model loaded successfully for worker : 41\u001b[0m\n",
      "\u001b[32m2020-06-11T15:46:53.904:[sagemaker logs]: MaxConcurrentTransforms=4, MaxPayloadInMB=6, BatchStrategy=MULTI_RECORD\u001b[0m\n",
      "\u001b[34m[2020-06-11:15:46:56:INFO] Sniff delimiter as ','\u001b[0m\n",
      "\u001b[34m[2020-06-11:15:46:56:INFO] Determined delimiter of CSV input is ','\u001b[0m\n",
      "\u001b[35m[2020-06-11:15:46:56:INFO] Sniff delimiter as ','\u001b[0m\n",
      "\u001b[35m[2020-06-11:15:46:56:INFO] Determined delimiter of CSV input is ','\u001b[0m\n",
      "\u001b[34m[2020-06-11:15:46:56:INFO] Sniff delimiter as ','\u001b[0m\n",
      "\u001b[34m[2020-06-11:15:46:56:INFO] Determined delimiter of CSV input is ','\u001b[0m\n",
      "\u001b[34m[2020-06-11:15:46:57:INFO] Sniff delimiter as ','\u001b[0m\n",
      "\u001b[35m[2020-06-11:15:46:56:INFO] Sniff delimiter as ','\u001b[0m\n",
      "\u001b[35m[2020-06-11:15:46:56:INFO] Determined delimiter of CSV input is ','\u001b[0m\n",
      "\u001b[35m[2020-06-11:15:46:57:INFO] Sniff delimiter as ','\u001b[0m\n",
      "\u001b[34m[2020-06-11:15:46:57:INFO] Determined delimiter of CSV input is ','\u001b[0m\n",
      "\u001b[34m[2020-06-11:15:46:57:INFO] Sniff delimiter as ','\u001b[0m\n",
      "\u001b[34m[2020-06-11:15:46:57:INFO] Determined delimiter of CSV input is ','\u001b[0m\n",
      "\u001b[35m[2020-06-11:15:46:57:INFO] Determined delimiter of CSV input is ','\u001b[0m\n",
      "\u001b[35m[2020-06-11:15:46:57:INFO] Sniff delimiter as ','\u001b[0m\n",
      "\u001b[35m[2020-06-11:15:46:57:INFO] Determined delimiter of CSV input is ','\u001b[0m\n",
      "\u001b[34m[2020-06-11:15:46:59:INFO] Sniff delimiter as ','\u001b[0m\n",
      "\u001b[34m[2020-06-11:15:46:59:INFO] Determined delimiter of CSV input is ','\u001b[0m\n",
      "\u001b[35m[2020-06-11:15:46:59:INFO] Sniff delimiter as ','\u001b[0m\n",
      "\u001b[35m[2020-06-11:15:46:59:INFO] Determined delimiter of CSV input is ','\u001b[0m\n",
      "\u001b[34m[2020-06-11:15:46:59:INFO] Sniff delimiter as ','\u001b[0m\n",
      "\u001b[34m[2020-06-11:15:46:59:INFO] Determined delimiter of CSV input is ','\u001b[0m\n",
      "\u001b[34m[2020-06-11:15:46:59:INFO] Sniff delimiter as ','\u001b[0m\n",
      "\u001b[34m[2020-06-11:15:46:59:INFO] Determined delimiter of CSV input is ','\u001b[0m\n",
      "\u001b[35m[2020-06-11:15:46:59:INFO] Sniff delimiter as ','\u001b[0m\n",
      "\u001b[35m[2020-06-11:15:46:59:INFO] Determined delimiter of CSV input is ','\u001b[0m\n",
      "\u001b[35m[2020-06-11:15:46:59:INFO] Sniff delimiter as ','\u001b[0m\n",
      "\u001b[35m[2020-06-11:15:46:59:INFO] Determined delimiter of CSV input is ','\u001b[0m\n",
      "\u001b[34m[2020-06-11:15:47:00:INFO] Sniff delimiter as ','\u001b[0m\n",
      "\u001b[34m[2020-06-11:15:47:00:INFO] Determined delimiter of CSV input is ','\u001b[0m\n",
      "\u001b[35m[2020-06-11:15:47:00:INFO] Sniff delimiter as ','\u001b[0m\n",
      "\u001b[35m[2020-06-11:15:47:00:INFO] Determined delimiter of CSV input is ','\u001b[0m\n",
      "\u001b[34m[2020-06-11:15:47:01:INFO] Sniff delimiter as ','\u001b[0m\n",
      "\u001b[34m[2020-06-11:15:47:01:INFO] Determined delimiter of CSV input is ','\u001b[0m\n",
      "\u001b[35m[2020-06-11:15:47:01:INFO] Sniff delimiter as ','\u001b[0m\n",
      "\u001b[35m[2020-06-11:15:47:01:INFO] Determined delimiter of CSV input is ','\u001b[0m\n",
      "\u001b[34m[2020-06-11:15:47:03:INFO] Sniff delimiter as ','\u001b[0m\n",
      "\u001b[34m[2020-06-11:15:47:03:INFO] Determined delimiter of CSV input is ','\u001b[0m\n",
      "\u001b[34m[2020-06-11:15:47:03:INFO] Sniff delimiter as ','\u001b[0m\n",
      "\u001b[34m[2020-06-11:15:47:03:INFO] Determined delimiter of CSV input is ','\u001b[0m\n",
      "\u001b[34m[2020-06-11:15:47:03:INFO] Sniff delimiter as ','\u001b[0m\n",
      "\u001b[34m[2020-06-11:15:47:03:INFO] Determined delimiter of CSV input is ','\u001b[0m\n",
      "\u001b[35m[2020-06-11:15:47:03:INFO] Sniff delimiter as ','\u001b[0m\n",
      "\u001b[35m[2020-06-11:15:47:03:INFO] Determined delimiter of CSV input is ','\u001b[0m\n",
      "\u001b[35m[2020-06-11:15:47:03:INFO] Sniff delimiter as ','\u001b[0m\n",
      "\u001b[35m[2020-06-11:15:47:03:INFO] Determined delimiter of CSV input is ','\u001b[0m\n",
      "\u001b[35m[2020-06-11:15:47:03:INFO] Sniff delimiter as ','\u001b[0m\n",
      "\u001b[35m[2020-06-11:15:47:03:INFO] Determined delimiter of CSV input is ','\u001b[0m\n",
      "\u001b[34m[2020-06-11:15:47:04:INFO] Sniff delimiter as ','\u001b[0m\n",
      "\u001b[34m[2020-06-11:15:47:04:INFO] Determined delimiter of CSV input is ','\u001b[0m\n",
      "\u001b[35m[2020-06-11:15:47:04:INFO] Sniff delimiter as ','\u001b[0m\n",
      "\u001b[35m[2020-06-11:15:47:04:INFO] Determined delimiter of CSV input is ','\u001b[0m\n",
      "\u001b[34m[2020-06-11:15:47:05:INFO] Sniff delimiter as ','\u001b[0m\n",
      "\u001b[34m[2020-06-11:15:47:05:INFO] Determined delimiter of CSV input is ','\u001b[0m\n",
      "\u001b[34m[2020-06-11:15:47:05:INFO] Sniff delimiter as ','\u001b[0m\n",
      "\u001b[34m[2020-06-11:15:47:05:INFO] Determined delimiter of CSV input is ','\u001b[0m\n",
      "\u001b[35m[2020-06-11:15:47:05:INFO] Sniff delimiter as ','\u001b[0m\n",
      "\u001b[35m[2020-06-11:15:47:05:INFO] Determined delimiter of CSV input is ','\u001b[0m\n",
      "\u001b[35m[2020-06-11:15:47:05:INFO] Sniff delimiter as ','\u001b[0m\n",
      "\u001b[35m[2020-06-11:15:47:05:INFO] Determined delimiter of CSV input is ','\u001b[0m\n",
      "\u001b[34m[2020-06-11:15:47:05:INFO] Sniff delimiter as ','\u001b[0m\n",
      "\u001b[35m[2020-06-11:15:47:05:INFO] Sniff delimiter as ','\u001b[0m\n",
      "\u001b[34m[2020-06-11:15:47:05:INFO] Determined delimiter of CSV input is ','\u001b[0m\n",
      "\u001b[35m[2020-06-11:15:47:05:INFO] Determined delimiter of CSV input is ','\u001b[0m\n",
      "\u001b[34m[2020-06-11:15:47:06:INFO] Sniff delimiter as ','\u001b[0m\n",
      "\u001b[34m[2020-06-11:15:47:06:INFO] Determined delimiter of CSV input is ','\u001b[0m\n",
      "\u001b[35m[2020-06-11:15:47:06:INFO] Sniff delimiter as ','\u001b[0m\n",
      "\u001b[35m[2020-06-11:15:47:06:INFO] Determined delimiter of CSV input is ','\u001b[0m\n",
      "\u001b[34m[2020-06-11:15:47:07:INFO] Sniff delimiter as ','\u001b[0m\n",
      "\u001b[34m[2020-06-11:15:47:07:INFO] Determined delimiter of CSV input is ','\u001b[0m\n",
      "\u001b[34m[2020-06-11:15:47:08:INFO] Sniff delimiter as ','\u001b[0m\n",
      "\u001b[34m[2020-06-11:15:47:08:INFO] Determined delimiter of CSV input is ','\u001b[0m\n",
      "\u001b[34m[2020-06-11:15:47:08:INFO] Sniff delimiter as ','\u001b[0m\n",
      "\u001b[34m[2020-06-11:15:47:08:INFO] Determined delimiter of CSV input is ','\u001b[0m\n",
      "\u001b[35m[2020-06-11:15:47:07:INFO] Sniff delimiter as ','\u001b[0m\n",
      "\u001b[35m[2020-06-11:15:47:07:INFO] Determined delimiter of CSV input is ','\u001b[0m\n",
      "\u001b[35m[2020-06-11:15:47:08:INFO] Sniff delimiter as ','\u001b[0m\n",
      "\u001b[35m[2020-06-11:15:47:08:INFO] Determined delimiter of CSV input is ','\u001b[0m\n",
      "\u001b[35m[2020-06-11:15:47:08:INFO] Sniff delimiter as ','\u001b[0m\n",
      "\u001b[35m[2020-06-11:15:47:08:INFO] Determined delimiter of CSV input is ','\u001b[0m\n",
      "\u001b[34m[2020-06-11:15:47:09:INFO] Sniff delimiter as ','\u001b[0m\n",
      "\u001b[34m[2020-06-11:15:47:09:INFO] Determined delimiter of CSV input is ','\u001b[0m\n",
      "\u001b[35m[2020-06-11:15:47:09:INFO] Sniff delimiter as ','\u001b[0m\n",
      "\u001b[35m[2020-06-11:15:47:09:INFO] Determined delimiter of CSV input is ','\u001b[0m\n",
      "\u001b[34m[2020-06-11:15:47:10:INFO] Sniff delimiter as ','\u001b[0m\n",
      "\u001b[34m[2020-06-11:15:47:10:INFO] Determined delimiter of CSV input is ','\u001b[0m\n",
      "\u001b[34m[2020-06-11:15:47:10:INFO] Sniff delimiter as ','\u001b[0m\n",
      "\u001b[34m[2020-06-11:15:47:10:INFO] Determined delimiter of CSV input is ','\u001b[0m\n",
      "\u001b[34m[2020-06-11:15:47:10:INFO] Sniff delimiter as ','\u001b[0m\n",
      "\u001b[34m[2020-06-11:15:47:10:INFO] Determined delimiter of CSV input is ','\u001b[0m\n",
      "\u001b[35m[2020-06-11:15:47:10:INFO] Sniff delimiter as ','\u001b[0m\n",
      "\u001b[35m[2020-06-11:15:47:10:INFO] Determined delimiter of CSV input is ','\u001b[0m\n",
      "\u001b[35m[2020-06-11:15:47:10:INFO] Sniff delimiter as ','\u001b[0m\n",
      "\u001b[35m[2020-06-11:15:47:10:INFO] Determined delimiter of CSV input is ','\u001b[0m\n",
      "\u001b[35m[2020-06-11:15:47:10:INFO] Sniff delimiter as ','\u001b[0m\n",
      "\u001b[35m[2020-06-11:15:47:10:INFO] Determined delimiter of CSV input is ','\u001b[0m\n",
      "\n",
      "\u001b[34m[2020-06-11:15:47:13:INFO] Sniff delimiter as ','\u001b[0m\n",
      "\u001b[34m[2020-06-11:15:47:13:INFO] Determined delimiter of CSV input is ','\u001b[0m\n",
      "\u001b[35m[2020-06-11:15:47:13:INFO] Sniff delimiter as ','\u001b[0m\n",
      "\u001b[35m[2020-06-11:15:47:13:INFO] Determined delimiter of CSV input is ','\u001b[0m\n",
      "\u001b[34m[2020-06-11:15:47:14:INFO] Sniff delimiter as ','\u001b[0m\n",
      "\u001b[34m[2020-06-11:15:47:14:INFO] Determined delimiter of CSV input is ','\u001b[0m\n",
      "\u001b[34m[2020-06-11:15:47:14:INFO] Sniff delimiter as ','\u001b[0m\n",
      "\u001b[34m[2020-06-11:15:47:14:INFO] Determined delimiter of CSV input is ','\u001b[0m\n",
      "\u001b[35m[2020-06-11:15:47:14:INFO] Sniff delimiter as ','\u001b[0m\n",
      "\u001b[35m[2020-06-11:15:47:14:INFO] Determined delimiter of CSV input is ','\u001b[0m\n",
      "\u001b[35m[2020-06-11:15:47:14:INFO] Sniff delimiter as ','\u001b[0m\n",
      "\u001b[35m[2020-06-11:15:47:14:INFO] Determined delimiter of CSV input is ','\u001b[0m\n",
      "\u001b[34m[2020-06-11:15:47:15:INFO] Sniff delimiter as ','\u001b[0m\n",
      "\u001b[34m[2020-06-11:15:47:15:INFO] Determined delimiter of CSV input is ','\u001b[0m\n",
      "\u001b[34m[2020-06-11:15:47:15:INFO] Sniff delimiter as ','\u001b[0m\n",
      "\u001b[34m[2020-06-11:15:47:15:INFO] Determined delimiter of CSV input is ','\u001b[0m\n",
      "\u001b[35m[2020-06-11:15:47:15:INFO] Sniff delimiter as ','\u001b[0m\n",
      "\u001b[35m[2020-06-11:15:47:15:INFO] Determined delimiter of CSV input is ','\u001b[0m\n",
      "\u001b[35m[2020-06-11:15:47:15:INFO] Sniff delimiter as ','\u001b[0m\n",
      "\u001b[35m[2020-06-11:15:47:15:INFO] Determined delimiter of CSV input is ','\u001b[0m\n",
      "\u001b[34m[2020-06-11:15:47:16:INFO] Sniff delimiter as ','\u001b[0m\n",
      "\u001b[34m[2020-06-11:15:47:16:INFO] Determined delimiter of CSV input is ','\u001b[0m\n",
      "\u001b[35m[2020-06-11:15:47:16:INFO] Sniff delimiter as ','\u001b[0m\n",
      "\u001b[35m[2020-06-11:15:47:16:INFO] Determined delimiter of CSV input is ','\u001b[0m\n",
      "\u001b[34m[2020-06-11:15:47:17:INFO] Sniff delimiter as ','\u001b[0m\n",
      "\u001b[34m[2020-06-11:15:47:17:INFO] Determined delimiter of CSV input is ','\u001b[0m\n",
      "\u001b[35m[2020-06-11:15:47:17:INFO] Sniff delimiter as ','\u001b[0m\n",
      "\u001b[35m[2020-06-11:15:47:17:INFO] Determined delimiter of CSV input is ','\u001b[0m\n",
      "\u001b[34m[2020-06-11:15:47:18:INFO] Sniff delimiter as ','\u001b[0m\n",
      "\u001b[34m[2020-06-11:15:47:18:INFO] Determined delimiter of CSV input is ','\u001b[0m\n",
      "\u001b[35m[2020-06-11:15:47:18:INFO] Sniff delimiter as ','\u001b[0m\n",
      "\u001b[35m[2020-06-11:15:47:18:INFO] Determined delimiter of CSV input is ','\u001b[0m\n",
      "\u001b[34m[2020-06-11:15:47:18:INFO] Sniff delimiter as ','\u001b[0m\n",
      "\u001b[34m[2020-06-11:15:47:18:INFO] Determined delimiter of CSV input is ','\u001b[0m\n",
      "\u001b[35m[2020-06-11:15:47:18:INFO] Sniff delimiter as ','\u001b[0m\n",
      "\u001b[35m[2020-06-11:15:47:18:INFO] Determined delimiter of CSV input is ','\u001b[0m\n",
      "\u001b[34m[2020-06-11:15:47:19:INFO] Sniff delimiter as ','\u001b[0m\n",
      "\u001b[34m[2020-06-11:15:47:19:INFO] Determined delimiter of CSV input is ','\u001b[0m\n",
      "\u001b[34m[2020-06-11:15:47:19:INFO] Sniff delimiter as ','\u001b[0m\n",
      "\u001b[34m[2020-06-11:15:47:19:INFO] Determined delimiter of CSV input is ','\u001b[0m\n",
      "\u001b[35m[2020-06-11:15:47:19:INFO] Sniff delimiter as ','\u001b[0m\n",
      "\u001b[35m[2020-06-11:15:47:19:INFO] Determined delimiter of CSV input is ','\u001b[0m\n",
      "\u001b[35m[2020-06-11:15:47:19:INFO] Sniff delimiter as ','\u001b[0m\n",
      "\u001b[35m[2020-06-11:15:47:19:INFO] Determined delimiter of CSV input is ','\u001b[0m\n"
     ]
    }
   ],
   "source": [
    "xgb_transformer.wait()"
   ]
  },
  {
   "cell_type": "markdown",
   "metadata": {},
   "source": [
    "Now the transform job has executed and the result, the estimated sentiment of each review, has been saved on S3. Since we would rather work on this file locally we can perform a bit of notebook magic to copy the file to the `data_dir`."
   ]
  },
  {
   "cell_type": "code",
   "execution_count": 27,
   "metadata": {},
   "outputs": [
    {
     "name": "stdout",
     "output_type": "stream",
     "text": [
      "Completed 256.0 KiB/370.1 KiB (3.1 MiB/s) with 1 file(s) remaining\r",
      "Completed 370.1 KiB/370.1 KiB (4.5 MiB/s) with 1 file(s) remaining\r",
      "download: s3://sagemaker-eu-central-1-922345290913/xgboost-2020-06-11-15-43-22-253/test.csv.out to ../data/sentiment_web_app/test.csv.out\r\n"
     ]
    }
   ],
   "source": [
    "!aws s3 cp --recursive $xgb_transformer.output_path $data_dir"
   ]
  },
  {
   "cell_type": "markdown",
   "metadata": {},
   "source": [
    "The last step is now to read in the output from our model, convert the output to something a little more usable, in this case we want the sentiment to be either `1` (positive) or `0` (negative), and then compare to the ground truth labels."
   ]
  },
  {
   "cell_type": "code",
   "execution_count": 28,
   "metadata": {},
   "outputs": [],
   "source": [
    "predictions = pd.read_csv(os.path.join(data_dir, 'test.csv.out'), header=None)\n",
    "predictions = [round(num) for num in predictions.squeeze().values]"
   ]
  },
  {
   "cell_type": "code",
   "execution_count": 29,
   "metadata": {},
   "outputs": [
    {
     "data": {
      "text/plain": [
       "0.86004"
      ]
     },
     "execution_count": 29,
     "metadata": {},
     "output_type": "execute_result"
    }
   ],
   "source": [
    "from sklearn.metrics import accuracy_score\n",
    "accuracy_score(test_y, predictions)"
   ]
  },
  {
   "cell_type": "markdown",
   "metadata": {},
   "source": [
    "## Step 6: Deploying the model\n",
    "\n",
    "Once we construct and fit our model, SageMaker stores the resulting model artifacts and we can use those to deploy an endpoint (inference code). To see this, look in the SageMaker console and you should see that a model has been created along with a link to the S3 location where the model artifacts have been stored.\n",
    "\n",
    "Deploying an endpoint is a lot like training the model with a few important differences. The first is that a deployed model doesn't change the model artifacts, so as you send it various testing instances the model won't change. Another difference is that since we aren't performing a fixed computation, as we were in the training step or while performing a batch transform, the compute instance that gets started stays running until we tell it to stop. This is important to note as if we forget and leave it running we will be charged the entire time.\n",
    "\n",
    "In other words **If you are no longer using a deployed endpoint, shut it down!**"
   ]
  },
  {
   "cell_type": "code",
   "execution_count": 30,
   "metadata": {},
   "outputs": [
    {
     "name": "stderr",
     "output_type": "stream",
     "text": [
      "WARNING:sagemaker:Using already existing model: xgboost-2020-06-11-15-35-06-449\n"
     ]
    },
    {
     "name": "stdout",
     "output_type": "stream",
     "text": [
      "-------------!"
     ]
    }
   ],
   "source": [
    "xgb_predictor = xgb.deploy(initial_instance_count = 1, instance_type = 'ml.m4.xlarge')"
   ]
  },
  {
   "cell_type": "markdown",
   "metadata": {},
   "source": [
    "### Testing the model (again)\n",
    "\n",
    "Now that we have deployed our endpoint, we can send the testing data to it and get back the inference results. We already did this earlier using the batch transform functionality of SageMaker, however, we will test our model again using the newly deployed endpoint so that we can make sure that it works properly and to get a bit of a feel for how the endpoint works.\n",
    "\n",
    "When using the created endpoint it is important to know that we are limited in the amount of information we can send in each call so we need to break the testing data up into chunks and then send each chunk. Also, we need to serialize our data before we send it to the endpoint to ensure that our data is transmitted properly. Fortunately, SageMaker can do the serialization part for us provided we tell it the format of our data."
   ]
  },
  {
   "cell_type": "code",
   "execution_count": 31,
   "metadata": {},
   "outputs": [],
   "source": [
    "from sagemaker.predictor import csv_serializer\n",
    "\n",
    "# We need to tell the endpoint what format the data we are sending is in so that SageMaker can perform the serialization.\n",
    "xgb_predictor.content_type = 'text/csv'\n",
    "xgb_predictor.serializer = csv_serializer"
   ]
  },
  {
   "cell_type": "code",
   "execution_count": 32,
   "metadata": {},
   "outputs": [],
   "source": [
    "# We split the data into chunks and send each chunk seperately, accumulating the results.\n",
    "\n",
    "def predict(data, rows=512):\n",
    "    split_array = np.array_split(data, int(data.shape[0] / float(rows) + 1))\n",
    "    predictions = ''\n",
    "    for array in split_array:\n",
    "        predictions = ','.join([predictions, xgb_predictor.predict(array).decode('utf-8')])\n",
    "    \n",
    "    return np.fromstring(predictions[1:], sep=',')"
   ]
  },
  {
   "cell_type": "code",
   "execution_count": 33,
   "metadata": {},
   "outputs": [],
   "source": [
    "test_X = pd.read_csv(os.path.join(data_dir, 'test.csv'), header=None).values\n",
    "\n",
    "predictions = predict(test_X)\n",
    "predictions = [round(num) for num in predictions]"
   ]
  },
  {
   "cell_type": "markdown",
   "metadata": {},
   "source": [
    "Lastly, we check to see what the accuracy of our model is."
   ]
  },
  {
   "cell_type": "code",
   "execution_count": 34,
   "metadata": {},
   "outputs": [
    {
     "data": {
      "text/plain": [
       "0.86004"
      ]
     },
     "execution_count": 34,
     "metadata": {},
     "output_type": "execute_result"
    }
   ],
   "source": [
    "from sklearn.metrics import accuracy_score\n",
    "accuracy_score(test_y, predictions)"
   ]
  },
  {
   "cell_type": "markdown",
   "metadata": {},
   "source": [
    "And the results here should agree with the model testing that we did earlier using the batch transform job.\n",
    "\n",
    "### Cleaning up\n",
    "\n",
    "Now that we've determined that deploying our model works as expected, we are going to shut it down. Remember that the longer the endpoint is left running, the greater the cost and since we have a bit more work to do before we are able to use our endpoint with our simple web app, we should shut everything down."
   ]
  },
  {
   "cell_type": "code",
   "execution_count": 35,
   "metadata": {},
   "outputs": [],
   "source": [
    "xgb_predictor.delete_endpoint()"
   ]
  },
  {
   "cell_type": "markdown",
   "metadata": {},
   "source": [
    "## Step 7: Putting our model to work\n",
    "\n",
    "As we've mentioned a few times now, our goal is to have our model deployed and then access it using a very simple web app. The intent is for this web app to take some user submitted data (a review), send it off to our endpoint (the model) and then display the result.\n",
    "\n",
    "However, there is a small catch. Currently the only way we can access the endpoint to send it data is using the SageMaker API. We can, if we wish, expose the actual URL that our model's endpoint is receiving data from, however, if we just send it data ourselves we will not get anything in return. This is because the endpoint created by SageMaker requires the entity accessing it have the correct permissions. So, we would need to somehow authenticate our web app with AWS.\n",
    "\n",
    "Having a website that authenticates to AWS seems a bit beyond the scope of this lesson so we will opt for an alternative approach. Namely, we will create a new endpoint which does not require authentication and which acts as a proxy for the SageMaker endpoint.\n",
    "\n",
    "As an additional constraint, we will try to avoid doing any data processing in the web app itself. Remember that when we constructed and tested our model we started with a movie review, then we simplified it by removing any html formatting and punctuation, then we constructed a bag of words embedding and the resulting vector is what we sent to our model. All of this needs to be done to our user input as well.\n",
    "\n",
    "Fortunately we can do all of this data processing in the backend, using Amazon's Lambda service.\n",
    "\n",
    "<img src=\"Web App Diagram.svg\">\n",
    "\n",
    "The diagram above gives an overview of how the various services will work together. On the far right is the model which we trained above and which will be deployed using SageMaker. On the far left is our web app that collects a user's movie review, sends it off and expects a positive or negative sentiment in return.\n",
    "\n",
    "In the middle is where some of the magic happens. We will construct a Lambda function, which you can think of as a straightforward Python function that can be executed whenever a specified event occurs. This Python function will do the data processing we need to perform on a user submitted review. In addition, we will give this function permission to send and recieve data from a SageMaker endpoint.\n",
    "\n",
    "Lastly, the method we will use to execute the Lambda function is a new endpoint that we will create using API Gateway. This endpoint will be a url that listens for data to be sent to it. Once it gets some data it will pass that data on to the Lambda function and then return whatever the Lambda function returns. Essentially it will act as an interface that lets our web app communicate with the Lambda function.\n",
    "\n",
    "### Processing a single review\n",
    "\n",
    "For now, suppose we are given a movie review by our user in the form of a string, like so:"
   ]
  },
  {
   "cell_type": "code",
   "execution_count": 36,
   "metadata": {},
   "outputs": [],
   "source": [
    "test_review = \"Nothing but a disgusting materialistic pageant of glistening abed remote control greed zombies, totally devoid of any heart or heat. A romantic comedy that has zero romantic chemestry and zero laughs!\""
   ]
  },
  {
   "cell_type": "markdown",
   "metadata": {},
   "source": [
    "How do we go from this string to the bag of words feature vector that is expected by our model?\n",
    "\n",
    "If we recall at the beginning of this notebook, the first step is to remove any unnecessary characters using the `review_to_words` method. Remember that we intentionally did this in a very simplistic way. This is because we are going to have to copy this method to our (eventual) Lambda function (we will go into more detail later) and this means it needs to be rather simplistic."
   ]
  },
  {
   "cell_type": "code",
   "execution_count": 37,
   "metadata": {},
   "outputs": [
    {
     "name": "stdout",
     "output_type": "stream",
     "text": [
      "nothing but a disgusting materialistic pageant of glistening abed remote control greed zombies totally devoid of any heart or heat a romantic comedy that has zero romantic chemestry and zero laughs\n"
     ]
    }
   ],
   "source": [
    "test_words = review_to_words(test_review)\n",
    "print(test_words)"
   ]
  },
  {
   "cell_type": "markdown",
   "metadata": {},
   "source": [
    "Next, we need to construct a bag of words embedding of the `test_words` string. To do this, remember that a bag of words embedding uses a `vocabulary` consisting of the most frequently appearing words in a set of documents. Then, for each word in the vocabulary we record the number of times that word appears in `test_words`. We constructed the `vocabulary` earlier using the training set for our problem so encoding `test_words` is relatively straightforward."
   ]
  },
  {
   "cell_type": "code",
   "execution_count": 38,
   "metadata": {},
   "outputs": [],
   "source": [
    "def bow_encoding(words, vocabulary):\n",
    "    bow = [0] * len(vocabulary) # Start by setting the count for each word in the vocabulary to zero.\n",
    "    for word in words.split():  # For each word in the string\n",
    "        if word in vocabulary:  # If the word is one that occurs in the vocabulary, increase its count.\n",
    "            bow[vocabulary[word]] += 1\n",
    "    return bow"
   ]
  },
  {
   "cell_type": "code",
   "execution_count": 39,
   "metadata": {},
   "outputs": [
    {
     "name": "stdout",
     "output_type": "stream",
     "text": [
      "[0, 0, 0, 0, 0, 0, 0, 0, 0, 0, 0, 0, 0, 0, 0, 0, 0, 0, 0, 0, 0, 0, 0, 0, 0, 0, 0, 0, 0, 0, 0, 0, 0, 0, 0, 0, 0, 0, 0, 0, 0, 0, 0, 0, 0, 0, 0, 0, 0, 0, 0, 0, 0, 0, 0, 0, 0, 0, 0, 0, 0, 0, 0, 0, 0, 0, 0, 0, 0, 0, 0, 0, 0, 0, 0, 0, 0, 0, 0, 0, 0, 0, 0, 0, 0, 0, 0, 0, 0, 0, 0, 0, 0, 0, 0, 0, 0, 0, 0, 0, 0, 0, 0, 0, 0, 0, 0, 0, 0, 0, 0, 0, 0, 0, 0, 0, 0, 0, 0, 0, 0, 0, 0, 0, 0, 0, 0, 0, 0, 0, 0, 0, 0, 0, 0, 0, 0, 0, 0, 0, 0, 0, 0, 0, 0, 0, 0, 0, 0, 0, 0, 0, 0, 0, 0, 0, 0, 0, 0, 0, 0, 0, 0, 0, 0, 0, 0, 0, 0, 0, 0, 0, 0, 0, 0, 0, 0, 0, 0, 0, 0, 0, 0, 0, 0, 0, 0, 0, 0, 0, 0, 0, 0, 0, 0, 0, 0, 0, 0, 0, 0, 0, 0, 0, 0, 0, 0, 0, 0, 0, 0, 0, 0, 0, 0, 0, 0, 0, 0, 0, 0, 0, 0, 0, 0, 0, 1, 0, 0, 0, 0, 0, 0, 0, 0, 0, 0, 0, 0, 0, 0, 0, 0, 0, 0, 0, 0, 0, 0, 0, 0, 0, 0, 0, 0, 0, 1, 0, 0, 0, 0, 0, 0, 0, 0, 0, 0, 0, 0, 0, 0, 0, 0, 0, 0, 0, 0, 0, 0, 0, 0, 0, 0, 0, 0, 0, 0, 0, 0, 0, 0, 0, 0, 0, 0, 0, 0, 0, 0, 0, 0, 0, 0, 0, 0, 0, 0, 0, 0, 0, 0, 0, 0, 0, 0, 0, 0, 0, 0, 0, 0, 0, 0, 0, 0, 0, 0, 0, 0, 0, 0, 0, 0, 0, 0, 0, 0, 0, 0, 0, 0, 0, 0, 0, 0, 0, 0, 0, 0, 0, 0, 0, 0, 0, 0, 0, 0, 0, 0, 0, 0, 0, 0, 0, 0, 0, 0, 0, 0, 0, 0, 0, 0, 0, 0, 0, 0, 0, 0, 0, 0, 0, 0, 0, 0, 0, 0, 0, 0, 0, 0, 0, 0, 0, 0, 0, 0, 0, 0, 0, 0, 0, 0, 0, 0, 0, 0, 0, 0, 0, 0, 0, 0, 0, 0, 0, 0, 0, 0, 0, 0, 0, 0, 0, 0, 0, 0, 0, 0, 0, 0, 0, 0, 0, 0, 0, 0, 0, 0, 0, 0, 0, 0, 0, 0, 0, 0, 0, 0, 0, 0, 0, 0, 0, 0, 0, 0, 0, 0, 0, 0, 0, 0, 0, 0, 0, 0, 0, 0, 0, 0, 0, 0, 0, 0, 0, 0, 0, 0, 0, 0, 0, 0, 0, 0, 0, 0, 0, 0, 0, 0, 0, 0, 0, 0, 0, 0, 0, 0, 0, 0, 0, 0, 0, 0, 0, 0, 0, 0, 0, 0, 0, 0, 0, 0, 0, 0, 0, 0, 0, 0, 0, 0, 0, 0, 0, 0, 0, 0, 0, 0, 0, 0, 0, 0, 0, 0, 0, 0, 0, 0, 0, 0, 0, 0, 0, 0, 0, 0, 0, 0, 0, 0, 0, 0, 0, 0, 0, 0, 0, 0, 0, 0, 0, 0, 0, 0, 0, 0, 0, 0, 0, 0, 0, 0, 0, 0, 0, 0, 0, 0, 0, 0, 0, 0, 0, 0, 0, 0, 0, 0, 0, 0, 0, 0, 0, 0, 0, 0, 0, 0, 0, 0, 0, 0, 0, 0, 0, 0, 0, 0, 0, 0, 0, 0, 0, 0, 0, 0, 0, 0, 0, 0, 0, 0, 0, 0, 0, 0, 0, 0, 0, 0, 0, 0, 0, 1, 0, 0, 0, 0, 0, 0, 0, 0, 0, 0, 0, 0, 0, 0, 0, 0, 0, 0, 0, 0, 0, 0, 0, 0, 0, 0, 0, 0, 0, 0, 0, 0, 0, 0, 0, 0, 0, 0, 0, 0, 0, 0, 0, 0, 0, 0, 0, 0, 0, 0, 0, 0, 0, 0, 0, 0, 0, 0, 0, 0, 0, 0, 0, 0, 0, 0, 0, 0, 0, 0, 0, 0, 0, 0, 0, 0, 0, 0, 0, 0, 0, 0, 0, 0, 0, 0, 0, 0, 0, 0, 0, 0, 0, 0, 0, 0, 0, 0, 0, 0, 0, 0, 0, 0, 0, 0, 0, 0, 0, 0, 0, 0, 0, 0, 0, 0, 0, 0, 0, 0, 0, 0, 0, 0, 0, 0, 0, 0, 0, 0, 0, 0, 0, 0, 0, 0, 0, 0, 0, 0, 0, 0, 0, 0, 0, 0, 0, 0, 0, 0, 0, 0, 0, 0, 0, 0, 0, 0, 0, 0, 0, 0, 0, 0, 0, 0, 0, 0, 0, 0, 0, 0, 0, 0, 0, 0, 0, 0, 0, 0, 0, 0, 0, 0, 0, 0, 0, 0, 0, 0, 0, 0, 0, 0, 0, 0, 0, 0, 0, 0, 0, 0, 0, 0, 0, 0, 0, 0, 0, 0, 0, 0, 0, 0, 0, 0, 0, 0, 0, 0, 0, 0, 0, 0, 0, 0, 0, 0, 0, 0, 0, 0, 0, 0, 0, 0, 0, 0, 0, 0, 0, 0, 0, 0, 0, 0, 0, 0, 0, 0, 0, 0, 0, 1, 0, 0, 0, 0, 0, 0, 0, 0, 0, 0, 0, 0, 0, 0, 0, 0, 0, 0, 0, 0, 0, 0, 0, 0, 0, 0, 0, 0, 0, 0, 0, 0, 0, 0, 0, 0, 0, 0, 0, 0, 0, 0, 0, 0, 0, 0, 0, 0, 0, 0, 0, 0, 0, 0, 0, 0, 0, 0, 0, 0, 0, 0, 0, 0, 0, 0, 0, 0, 0, 0, 0, 0, 0, 0, 0, 0, 0, 0, 0, 0, 0, 0, 0, 0, 0, 0, 1, 0, 0, 0, 0, 0, 0, 0, 0, 0, 0, 0, 0, 0, 0, 0, 0, 0, 0, 0, 0, 0, 0, 0, 0, 0, 0, 0, 0, 0, 0, 0, 0, 0, 0, 0, 0, 0, 0, 0, 0, 0, 0, 0, 0, 0, 0, 0, 0, 0, 0, 0, 0, 0, 0, 0, 0, 0, 0, 0, 0, 0, 0, 0, 0, 0, 0, 0, 0, 0, 0, 0, 0, 0, 0, 0, 0, 0, 0, 0, 0, 0, 0, 0, 0, 0, 0, 0, 0, 0, 0, 0, 0, 0, 0, 0, 0, 0, 0, 0, 0, 0, 0, 0, 0, 0, 0, 0, 0, 0, 0, 0, 0, 0, 0, 0, 0, 0, 0, 0, 0, 0, 0, 0, 0, 0, 0, 0, 0, 0, 0, 0, 0, 0, 0, 0, 0, 0, 0, 0, 0, 0, 0, 0, 0, 0, 0, 0, 0, 0, 0, 0, 0, 0, 0, 0, 0, 0, 0, 0, 0, 0, 0, 0, 0, 0, 0, 0, 0, 0, 0, 0, 0, 0, 0, 0, 0, 0, 0, 0, 0, 0, 0, 0, 0, 0, 0, 0, 0, 0, 0, 0, 0, 0, 0, 0, 0, 0, 0, 0, 0, 0, 0, 0, 0, 0, 0, 0, 0, 0, 0, 0, 0, 0, 0, 0, 0, 0, 0, 0, 0, 0, 0, 0, 0, 0, 0, 0, 0, 0, 0, 0, 0, 0, 0, 0, 0, 0, 0, 0, 0, 0, 0, 0, 0, 0, 0, 0, 0, 0, 0, 0, 0, 1, 0, 0, 0, 0, 0, 0, 0, 0, 0, 0, 0, 0, 0, 0, 0, 0, 0, 0, 0, 0, 0, 0, 0, 0, 0, 0, 0, 0, 0, 0, 0, 0, 0, 0, 0, 0, 0, 0, 0, 0, 0, 0, 0, 0, 0, 0, 0, 0, 0, 0, 0, 0, 0, 0, 0, 1, 0, 0, 0, 0, 0, 0, 0, 0, 0, 0, 0, 0, 0, 0, 0, 0, 0, 0, 0, 0, 0, 0, 0, 0, 0, 0, 0, 0, 0, 0, 0, 0, 0, 0, 0, 0, 0, 0, 0, 0, 0, 0, 0, 0, 0, 0, 0, 0, 0, 0, 0, 0, 0, 0, 0, 0, 0, 0, 0, 0, 0, 0, 0, 0, 0, 0, 0, 0, 0, 0, 0, 0, 0, 0, 0, 0, 0, 0, 0, 0, 0, 0, 0, 0, 0, 0, 0, 0, 0, 0, 0, 0, 0, 0, 0, 0, 0, 0, 0, 0, 0, 0, 0, 0, 0, 0, 0, 0, 0, 0, 0, 0, 0, 0, 0, 0, 0, 0, 0, 0, 0, 0, 0, 0, 0, 0, 0, 0, 0, 0, 0, 0, 0, 0, 0, 0, 0, 0, 0, 0, 0, 0, 0, 0, 0, 0, 0, 0, 0, 0, 0, 0, 0, 0, 0, 0, 0, 0, 0, 0, 0, 0, 0, 0, 0, 0, 0, 0, 0, 0, 0, 0, 0, 0, 0, 0, 0, 0, 0, 0, 0, 0, 0, 0, 0, 0, 0, 0, 0, 0, 0, 0, 0, 0, 0, 0, 0, 0, 0, 0, 0, 0, 0, 0, 0, 0, 0, 0, 0, 0, 0, 0, 0, 0, 0, 0, 0, 0, 0, 0, 0, 0, 0, 0, 0, 0, 0, 0, 0, 0, 0, 0, 0, 0, 0, 0, 0, 0, 0, 0, 0, 0, 0, 0, 0, 0, 0, 0, 0, 0, 0, 0, 0, 0, 0, 0, 0, 0, 0, 0, 0, 0, 0, 0, 0, 0, 0, 0, 0, 0, 0, 0, 0, 0, 0, 0, 0, 0, 0, 0, 0, 0, 0, 0, 0, 0, 0, 0, 0, 0, 0, 0, 0, 0, 0, 0, 0, 0, 0, 0, 0, 0, 0, 0, 0, 0, 0, 0, 0, 0, 0, 0, 0, 0, 0, 0, 0, 0, 0, 0, 0, 0, 0, 0, 0, 0, 0, 0, 0, 0, 0, 0, 0, 0, 0, 0, 0, 0, 0, 0, 0, 0, 0, 0, 0, 0, 0, 0, 0, 0, 0, 0, 0, 0, 0, 0, 0, 0, 0, 0, 0, 0, 0, 0, 0, 0, 0, 0, 0, 0, 0, 0, 0, 0, 0, 0, 0, 0, 0, 0, 0, 0, 0, 0, 0, 0, 0, 0, 0, 0, 0, 0, 0, 0, 0, 0, 0, 0, 0, 0, 0, 0, 0, 0, 0, 0, 0, 0, 0, 0, 0, 0, 0, 0, 0, 0, 0, 0, 0, 0, 0, 0, 0, 0, 0, 0, 0, 0, 0, 0, 0, 0, 0, 0, 0, 0, 0, 0, 0, 0, 0, 0, 0, 0, 0, 0, 0, 0, 0, 0, 0, 0, 0, 0, 0, 0, 0, 0, 0, 0, 0, 0, 0, 0, 0, 0, 0, 0, 0, 0, 0, 0, 0, 0, 0, 0, 0, 0, 0, 0, 0, 0, 0, 0, 0, 0, 0, 0, 0, 0, 0, 0, 0, 0, 0, 0, 0, 0, 0, 0, 0, 0, 0, 0, 0, 0, 0, 0, 0, 0, 0, 0, 0, 0, 0, 0, 0, 0, 0, 0, 0, 0, 0, 0, 0, 0, 0, 0, 0, 0, 0, 0, 0, 0, 0, 0, 0, 0, 0, 0, 0, 0, 0, 0, 0, 0, 0, 0, 0, 0, 0, 0, 0, 0, 0, 0, 0, 0, 0, 0, 0, 0, 0, 0, 0, 0, 0, 0, 0, 0, 0, 0, 0, 0, 0, 0, 0, 0, 0, 0, 0, 0, 0, 0, 0, 0, 0, 0, 0, 0, 0, 0, 0, 0, 0, 0, 0, 0, 0, 0, 0, 0, 0, 0, 0, 0, 0, 0, 0, 0, 0, 0, 0, 0, 0, 0, 0, 0, 0, 0, 0, 0, 0, 0, 0, 0, 0, 0, 0, 0, 0, 0, 0, 0, 0, 0, 0, 0, 0, 0, 0, 0, 0, 0, 0, 0, 0, 0, 0, 0, 0, 0, 0, 0, 0, 0, 0, 0, 0, 0, 0, 0, 0, 0, 0, 0, 0, 0, 0, 0, 0, 0, 0, 0, 0, 0, 0, 0, 0, 0, 0, 1, 0, 0, 0, 0, 0, 0, 0, 0, 0, 0, 0, 0, 0, 0, 0, 0, 0, 0, 0, 0, 0, 0, 0, 0, 0, 0, 0, 0, 0, 0, 0, 0, 0, 0, 0, 0, 0, 0, 0, 0, 0, 0, 0, 0, 0, 0, 0, 0, 0, 0, 0, 0, 0, 0, 0, 0, 0, 0, 0, 0, 0, 0, 0, 0, 0, 0, 0, 0, 0, 0, 0, 0, 0, 0, 1, 0, 0, 0, 0, 0, 0, 0, 0, 0, 0, 0, 0, 0, 0, 0, 0, 0, 0, 0, 0, 1, 0, 0, 1, 0, 0, 0, 0, 0, 0, 0, 0, 0, 0, 0, 0, 0, 0, 0, 0, 0, 0, 0, 0, 0, 0, 0, 0, 0, 0, 0, 0, 0, 0, 0, 0, 0, 0, 0, 0, 0, 0, 0, 0, 0, 0, 0, 0, 0, 0, 0, 0, 0, 0, 0, 0, 0, 0, 0, 0, 0, 0, 0, 0, 0, 0, 0, 0, 0, 0, 0, 0, 0, 0, 0, 0, 0, 0, 0, 0, 0, 0, 0, 0, 0, 0, 0, 0, 0, 0, 0, 0, 0, 0, 0, 0, 0, 0, 0, 0, 0, 0, 0, 0, 0, 0, 0, 0, 0, 0, 0, 0, 0, 0, 0, 0, 0, 0, 0, 0, 0, 0, 0, 0, 0, 0, 0, 0, 0, 0, 0, 0, 0, 0, 0, 0, 0, 0, 0, 0, 0, 0, 0, 0, 0, 0, 0, 0, 0, 0, 0, 0, 0, 0, 0, 0, 0, 0, 0, 0, 0, 0, 0, 0, 0, 0, 0, 0, 0, 0, 0, 0, 0, 0, 0, 0, 0, 0, 0, 0, 0, 0, 0, 0, 0, 0, 0, 0, 0, 0, 0, 0, 0, 0, 0, 0, 0, 0, 0, 0, 0, 0, 0, 0, 0, 0, 0, 0, 0, 0, 0, 0, 0, 0, 0, 0, 0, 0, 0, 0, 0, 0, 0, 0, 0, 0, 0, 0, 0, 0, 0, 0, 0, 0, 0, 0, 0, 0, 0, 0, 0, 0, 0, 0, 0, 0, 0, 0, 0, 0, 0, 0, 0, 0, 0, 0, 0, 0, 0, 0, 0, 0, 0, 0, 0, 0, 0, 0, 0, 0, 0, 0, 0, 0, 0, 0, 0, 0, 0, 0, 0, 0, 0, 0, 0, 0, 0, 0, 0, 0, 0, 0, 0, 0, 0, 0, 0, 0, 0, 0, 0, 0, 0, 0, 0, 0, 0, 0, 0, 0, 0, 0, 0, 0, 0, 0, 0, 0, 0, 0, 0, 0, 0, 0, 0, 0, 0, 0, 0, 0, 0, 0, 0, 0, 0, 0, 0, 0, 0, 0, 0, 0, 0, 0, 0, 0, 0, 0, 0, 0, 0, 0, 0, 0, 0, 0, 0, 0, 0, 0, 0, 0, 0, 0, 0, 0, 0, 0, 0, 0, 0, 0, 0, 0, 0, 0, 0, 0, 0, 0, 0, 0, 0, 0, 0, 0, 0, 0, 0, 0, 0, 0, 0, 0, 0, 0, 0, 0, 0, 0, 0, 0, 0, 0, 0, 0, 0, 0, 0, 0, 0, 0, 0, 0, 0, 0, 0, 0, 0, 0, 0, 0, 0, 0, 0, 0, 0, 0, 0, 0, 0, 0, 0, 0, 0, 0, 0, 0, 0, 0, 0, 0, 0, 0, 0, 0, 0, 0, 0, 0, 0, 0, 0, 0, 0, 0, 0, 0, 0, 0, 0, 0, 0, 0, 0, 0, 0, 0, 0, 0, 1, 0, 0, 0, 0, 0, 0, 0, 0, 0, 0, 0, 0, 0, 0, 0, 0, 0, 0, 0, 0, 0, 0, 0, 0, 0, 0, 0, 0, 0, 0, 0, 0, 0, 0, 0, 0, 0, 0, 0, 0, 0, 0, 0, 0, 0, 0, 0, 0, 0, 0, 0, 0, 0, 0, 0, 0, 0, 0, 0, 0, 0, 0, 0, 0, 0, 0, 0, 0, 0, 0, 0, 0, 0, 0, 0, 0, 0, 0, 0, 0, 0, 0, 0, 0, 0, 0, 0, 0, 0, 0, 0, 0, 0, 0, 0, 0, 0, 0, 0, 0, 0, 0, 0, 0, 0, 0, 0, 0, 0, 0, 0, 0, 0, 0, 0, 0, 0, 0, 0, 0, 0, 0, 0, 0, 0, 0, 0, 0, 0, 0, 0, 0, 0, 0, 0, 0, 0, 0, 0, 0, 0, 0, 0, 0, 0, 0, 0, 0, 0, 0, 0, 0, 0, 0, 0, 0, 0, 0, 0, 0, 0, 0, 0, 0, 0, 0, 0, 0, 0, 0, 0, 0, 0, 0, 0, 0, 0, 0, 0, 0, 0, 0, 0, 0, 0, 0, 0, 0, 0, 0, 0, 0, 0, 0, 0, 0, 0, 0, 0, 0, 0, 0, 0, 0, 0, 0, 0, 0, 0, 0, 0, 0, 0, 0, 0, 0, 0, 0, 0, 0, 0, 0, 0, 0, 0, 0, 0, 0, 0, 0, 0, 0, 0, 0, 0, 0, 0, 0, 0, 0, 0, 0, 0, 0, 0, 0, 0, 0, 0, 0, 0, 0, 0, 0, 0, 0, 0, 0, 0, 0, 0, 0, 0, 0, 0, 0, 0, 0, 0, 0, 0, 0, 0, 0, 0, 0, 0, 0, 0, 0, 0, 0, 0, 0, 0, 0, 0, 0, 0, 0, 0, 0, 0, 0, 0, 0, 0, 0, 0, 0, 0, 0, 0, 0, 0, 0, 0, 0, 0, 0, 0, 0, 0, 0, 0, 0, 0, 0, 0, 0, 0, 0, 0, 0, 0, 0, 0, 0, 0, 0, 0, 0, 0, 0, 0, 0, 0, 0, 0, 0, 0, 0, 0, 0, 0, 0, 0, 0, 0, 0, 0, 0, 0, 0, 0, 0, 0, 0, 0, 0, 0, 0, 0, 0, 0, 0, 0, 0, 0, 0, 0, 0, 0, 0, 0, 0, 0, 0, 0, 0, 0, 0, 0, 0, 0, 0, 0, 0, 0, 0, 0, 0, 0, 0, 0, 0, 0, 0, 0, 0, 0, 0, 0, 0, 0, 0, 0, 0, 0, 0, 0, 0, 0, 0, 0, 0, 0, 0, 0, 0, 0, 0, 0, 0, 0, 0, 0, 0, 0, 0, 0, 0, 0, 0, 0, 0, 0, 0, 0, 0, 0, 0, 0, 0, 0, 0, 0, 0, 0, 0, 0, 0, 0, 0, 0, 0, 0, 0, 0, 0, 0, 0, 0, 0, 0, 0, 0, 0, 0, 0, 0, 0, 0, 0, 0, 0, 0, 0, 0, 0, 0, 0, 0, 0, 0, 0, 0, 0, 0, 0, 0, 0, 0, 0, 0, 0, 0, 0, 0, 0, 0, 0, 0, 0, 0, 0, 0, 0, 0, 0, 0, 0, 1, 0, 0, 0, 0, 0, 0, 0, 0, 0, 0, 0, 0, 0, 0, 0, 0, 0, 0, 0, 0, 0, 0, 0, 0, 0, 0, 0, 0, 0, 0, 0, 0, 0, 0, 0, 2, 0, 0, 0, 0, 0, 0, 0, 0, 0, 0, 0, 0, 0, 0, 0, 0, 0, 0, 0, 0, 0, 0, 0, 0, 0, 0, 0, 0, 0, 0, 0, 0, 0, 0, 0, 0, 0, 0, 0, 0, 1, 0, 0, 0, 0, 0, 0, 0, 0, 0, 0, 0, 0, 0, 0, 0, 0, 0, 0, 0, 0, 0, 0, 0, 0, 0, 0, 0, 0, 0, 0, 0, 0, 0, 0, 0, 0, 0, 0, 0, 0, 0, 0, 0, 0, 0, 0, 0, 0, 0, 0, 0, 0, 0, 0, 0, 0, 0, 0, 0, 0, 0, 0, 0, 0, 0, 0, 0, 0, 0, 0, 0, 0, 0, 0, 0, 0, 0, 0, 0, 0, 0, 0, 0, 0, 0, 0, 0, 0, 0, 0, 0, 0, 0, 0, 0, 0, 0, 0, 0, 0, 0, 0, 0, 0, 0, 0, 0, 0, 0, 0, 0, 0, 0, 0, 0, 0, 0, 0, 0, 0, 0, 0, 0, 0, 0, 0, 0, 0, 0, 0, 0, 0, 0, 0, 0, 0, 0, 0, 0, 0, 0, 0, 0, 0, 0, 0, 0, 0, 0, 0, 0, 0, 0, 0, 0, 0, 0, 0, 0, 0, 0, 0, 0, 0, 0, 0, 0, 0, 0, 0, 0, 0, 0, 0, 0, 0, 0, 0, 0, 0, 0, 0, 0, 0, 0, 0, 0, 0, 0, 0, 0, 0, 0, 0, 0, 0, 0, 0, 0, 0, 0, 0, 0, 0, 0, 0, 0, 0, 0, 0, 0, 0, 0, 0, 0, 0, 0, 0, 0, 0, 0, 0, 0, 0, 0, 0, 0, 0, 0, 0, 0, 0, 0, 0, 0, 0, 0, 0, 0, 0, 0, 0, 0, 0, 0, 0, 0, 0, 0, 0, 0, 0, 0, 0, 0, 0, 0, 0, 0, 0, 0, 0, 0, 0, 0, 0, 0, 0, 0, 0, 0, 0, 0, 0, 0, 0, 0, 0, 0, 0, 0, 0, 0, 0, 0, 0, 0, 0, 0, 0, 0, 0, 0, 0, 0, 0, 0, 0, 0, 0, 0, 0, 0, 0, 0, 0, 0, 0, 0, 0, 0, 0, 0, 0, 0, 0, 0, 0, 0, 0, 0, 0, 0, 0, 0, 0, 0, 0, 0, 0, 0, 0, 0, 0, 0, 0, 0, 0, 0, 0, 0, 0, 0, 0, 0, 0, 0, 0, 0, 0, 0, 0, 0, 0, 0, 0, 0, 0, 0, 0, 0, 0, 0, 0, 0, 0, 0, 0, 0, 0, 0, 0, 0, 0, 0, 0, 0, 0, 0, 0, 0, 0, 0, 0, 0, 0, 0, 0, 0, 0, 0, 0, 0, 0, 0, 0, 0, 0, 0, 0, 0, 0, 0, 0, 0, 0, 0, 0, 0, 0, 0, 0, 0, 0, 0, 0, 0, 0, 0, 0, 0, 0, 0, 0, 0, 0, 0, 0, 0, 0, 0, 0, 0, 0, 0, 0, 0, 0, 0, 0, 0, 0, 0, 0, 0, 0, 0, 0, 0, 0, 0, 0, 0, 0, 0, 0, 0, 0, 0, 0, 0, 0, 0, 0, 0, 0, 0, 0, 0, 0, 0, 0, 0, 0, 0, 0, 0, 0, 0, 0, 0, 0, 0, 0, 0, 0, 0, 0, 0, 0, 0, 0, 0, 0, 0, 0, 0, 1, 0, 0, 0, 0, 0, 0, 0, 0, 0, 0, 0, 0, 0, 0, 0, 0, 0, 0, 0, 0, 0, 0, 0, 0, 0, 0, 0, 0, 0, 0, 0, 0, 0, 0, 0, 0, 0, 0, 0, 0, 0, 0, 0, 0, 0, 0, 0, 0, 0, 0, 0, 0, 0, 0, 0, 0, 0, 0, 0, 0, 0, 0, 0, 0, 0, 0, 0, 0, 0, 0, 0, 0, 0, 0, 0, 0, 0, 0, 0, 0, 0, 0, 0, 0, 0, 0, 0, 0, 0, 0, 0, 0, 0, 0, 0, 0, 0, 0, 0, 0, 0, 0, 0, 0, 0, 0, 0, 0, 0, 0, 2, 0, 0, 0, 0, 0, 0, 0, 0, 0, 0, 0, 0, 0, 0, 0, 0, 0, 0, 0, 0, 0, 0, 0, 0, 0, 0, 0, 0, 0, 0, 0, 0, 0, 0, 0, 0, 0, 0, 0, 0, 0, 0, 0, 0, 0, 0, 0, 0, 0, 0, 0, 0, 0, 0, 0, 0, 0, 0, 0, 0, 0, 0, 0, 0, 0, 0, 0, 0, 0, 0, 0, 0, 0, 0, 0, 0, 0, 0, 0, 0, 0, 0, 0, 0, 0, 0, 0, 0, 0, 0, 0, 0, 0, 0, 0, 0, 0, 0, 0, 0, 0, 0, 0, 0, 0, 0, 0, 0, 0, 0, 0, 0, 0, 0, 0, 0, 0, 0, 0, 0, 0, 0, 0, 0, 0, 0, 0, 0, 0, 0, 0, 0, 0, 0, 0, 0, 0, 0, 0, 0, 0, 0, 0, 0, 0, 0, 0, 0, 0, 0, 0, 0, 0, 0, 0, 0, 0, 0, 0, 0, 0, 0, 0, 0, 0, 0, 0, 0, 0, 0, 0, 0, 0, 0, 0, 0, 0, 0, 0, 0, 0, 0, 0, 0, 0, 0, 0, 0, 0, 0, 0, 0, 0, 0, 0, 0, 0, 0, 0, 0, 0, 0, 0, 0, 0, 0, 0, 0, 0, 0, 0, 0, 0, 0, 0, 0, 0, 0, 0, 0, 0, 0, 0, 0, 0, 0, 0, 0, 0, 0, 0, 0, 0, 0, 0, 0, 0, 0, 0, 0, 0, 0, 0, 0, 0, 0, 0, 0, 0, 0, 0, 0, 0, 0, 0, 0, 0, 0, 0, 0, 0, 0, 0, 0, 0, 0, 0, 0, 0, 0, 0, 0, 0, 0, 0, 0, 0, 0, 0, 0, 0, 0, 0, 0, 0, 0, 0, 0, 0, 0, 0, 0, 0, 0, 0, 0, 0, 0, 0, 0, 0, 0, 0, 0, 0, 0, 0, 0, 0, 0, 0, 0, 0, 0, 0, 0, 0, 0, 0, 0, 0, 0, 0, 0, 0, 0, 0, 0, 0, 0, 0, 0, 0, 0, 0, 0, 0, 0, 0, 0, 0, 0, 0, 0, 0, 0, 0, 0, 0, 0, 0, 0, 0, 0, 0, 0, 0, 0, 0, 0, 0, 0, 0, 0, 0, 0, 0, 0, 0, 0, 0, 0, 0, 0, 0, 0, 0, 0, 0, 0, 0, 0, 0, 0, 0, 0, 0, 0, 0, 0, 0, 0, 0, 0, 0, 0, 0, 0, 0, 0, 0, 0, 0, 0, 0, 0, 0, 0, 0, 0, 0, 0, 0, 0, 0, 0, 0, 0, 0, 0, 0, 0, 0, 0, 0, 0, 0, 0, 0, 0, 0, 0, 0, 0, 0, 0, 0, 0, 0, 0, 0, 0, 0, 0, 0, 0, 0, 0, 0, 0, 0, 0, 0, 0, 0, 0, 0, 0, 0, 0, 0, 0, 0, 0, 0, 0, 0, 0, 0, 0, 0, 0, 0, 0, 0, 0, 0, 0, 0, 0, 0, 0, 0, 0, 0, 0, 0, 0, 0, 0, 0, 0, 0, 0, 0, 0, 0, 0, 0, 0, 0, 0, 0, 0, 0, 0, 0, 0, 0, 0, 0, 0, 0, 0, 0, 0, 0, 0, 0, 0, 0, 0, 0, 0, 0, 0, 0, 0, 0, 0, 0, 0, 0, 0, 0, 0, 0, 0, 0, 0, 0, 0, 0, 0, 0, 0, 0, 0, 0, 0, 0, 0, 0, 0, 0, 0, 0, 0, 0, 0, 0, 0, 0, 0, 0, 0, 0, 0, 0, 0, 0, 0, 0, 0, 0, 0, 0, 0, 0, 0, 0, 0, 0, 0, 0, 0, 0, 0, 0, 0, 0, 0, 0, 0, 0, 0, 0, 0, 0, 0, 0, 0, 0, 0, 0, 0, 0, 0, 0, 0, 0, 0, 0, 0, 0, 0, 0, 0, 0, 0, 0, 0, 0, 0, 0, 0, 0, 0, 0, 0, 0, 0, 0, 0, 0, 0, 0, 0, 0, 0, 0, 0, 0, 0, 0, 0, 0, 0, 0, 0, 0, 0, 0, 0, 0, 0, 0, 0, 0, 0, 0, 0, 0, 0, 0, 0, 0, 0, 0, 0, 0, 0, 0, 0, 0, 0, 0, 0, 0, 0, 0, 0, 0, 0, 0, 0, 0, 0, 0, 0, 1, 0, 0, 0, 0, 0, 0, 0, 0, 0, 0, 0, 0, 0, 0, 0, 0, 0, 0, 0, 0, 0, 0, 0, 0, 0, 0, 0, 0, 0, 0, 0, 0, 0, 0, 0, 0, 0, 0, 0, 0, 0, 0, 0, 0, 0, 0, 0, 0, 0, 0, 0, 0, 0, 0, 0, 0, 0, 0, 0, 0, 0, 0, 0, 0, 0, 0, 0, 0, 0, 0, 0, 0, 0, 0, 0, 0, 0, 0, 0, 0, 0, 0, 0, 0, 0, 0, 0, 0, 0, 0, 0, 0, 0, 0, 0, 0, 0, 0, 0, 0, 0, 0, 0, 0, 0, 0, 0, 1, 0, 0, 0, 0, 0, 0, 0, 0, 0, 0, 0, 0, 0, 0, 0, 0, 0, 0, 0, 0, 0, 0, 0, 0, 0, 0, 0, 0, 0, 0, 0, 0, 0, 0, 0, 0, 0, 0, 0, 0, 0, 0, 0, 0, 0, 0, 0, 0, 0, 0, 0, 0, 0, 0, 0, 0, 0, 0, 0, 0, 0, 0, 0, 0, 0, 0, 0, 0, 0, 0, 0, 0, 0, 0, 0, 0, 0, 0, 0, 0, 0, 0, 0, 0, 0, 0, 0, 0, 0, 0, 0, 0, 0, 0, 0, 0, 0, 0, 0, 0, 0, 0, 0, 0, 0, 0, 0, 0, 0, 0, 0, 0, 0, 0, 0, 0, 0, 0, 0, 0, 0, 0, 0, 0, 0, 0, 0, 0, 0, 0, 0, 0, 0, 0, 0, 0, 0, 0, 0, 0, 0, 0, 0, 0, 0, 0, 0, 0, 0, 0, 0, 0, 0, 0, 0, 0, 0, 0, 0, 0, 0, 0, 0, 0, 0, 0, 0, 0, 0, 0, 0, 0, 0, 0, 0, 0, 0, 0, 0, 0, 0, 0, 0, 0, 0, 0, 0, 0, 0, 0, 0, 0, 0, 0, 0, 0, 0, 0, 0, 0, 0, 0, 0, 0, 0, 0, 0, 0, 0, 0, 0, 0, 0, 0, 0, 0, 0, 0, 0, 0, 0, 0, 0, 0, 0, 0, 0, 0, 0, 0, 0, 0, 0, 0, 0, 0, 0, 0, 0, 0, 0, 0, 0, 0, 0, 0, 0, 0, 0, 0, 0, 0, 0, 0, 0, 0, 0, 0, 0, 0, 0, 0, 0, 0, 0, 0, 0, 0, 0, 0, 0, 0, 0, 0, 0, 0, 0, 0, 0, 0, 0, 0, 0, 0, 0, 0, 0, 0, 0, 0, 0, 0, 0, 0, 0, 0, 0, 0, 0, 0, 0, 0, 0, 0, 0, 0, 0, 0, 0, 0, 0, 0, 0, 0, 0, 0, 0, 0, 0, 0, 0, 0, 0, 0, 0, 0, 0, 0, 0, 0, 0, 0, 0, 0, 0, 0, 0, 0, 0, 0, 0, 0, 0, 0, 0, 0, 0, 0, 0, 0, 0, 0, 0, 0, 0, 0, 0, 0, 0, 0, 0, 0, 0, 0, 0, 0, 0, 0, 0, 0, 0, 0, 0, 0, 0, 0, 0, 0, 0, 0, 0, 0, 0, 0, 0, 0, 0, 0, 0, 0, 0, 0, 0, 0, 0, 0, 0, 0, 0, 0, 0, 0, 0, 0, 0, 0, 0, 0, 0, 0, 0, 0, 0, 0, 0, 0, 0, 0, 0, 0, 0, 0, 0, 0, 0, 0, 0, 0, 0, 0, 0, 0, 0, 0, 0, 0, 0, 0, 0, 0, 0, 0, 0, 0, 0, 0, 0, 0, 0, 0, 0, 0, 0, 0, 0, 0, 0, 0, 0, 0, 0, 0, 0, 2, 0, 1, 0]\n"
     ]
    }
   ],
   "source": [
    "test_bow = bow_encoding(test_words, vocabulary)\n",
    "print(test_bow)"
   ]
  },
  {
   "cell_type": "code",
   "execution_count": 40,
   "metadata": {},
   "outputs": [
    {
     "data": {
      "text/plain": [
       "5000"
      ]
     },
     "execution_count": 40,
     "metadata": {},
     "output_type": "execute_result"
    }
   ],
   "source": [
    "len(test_bow)"
   ]
  },
  {
   "cell_type": "markdown",
   "metadata": {},
   "source": [
    "So now we know how to construct a bag of words encoding of a user provided review, how to we send it to our endpoint? First, we need to start the endpoint back up."
   ]
  },
  {
   "cell_type": "code",
   "execution_count": 41,
   "metadata": {},
   "outputs": [
    {
     "name": "stderr",
     "output_type": "stream",
     "text": [
      "WARNING:sagemaker:Using already existing model: xgboost-2020-06-11-15-35-06-449\n"
     ]
    },
    {
     "name": "stdout",
     "output_type": "stream",
     "text": [
      "-------------!"
     ]
    }
   ],
   "source": [
    "xgb_predictor = xgb.deploy(initial_instance_count = 1, instance_type = 'ml.m4.xlarge')"
   ]
  },
  {
   "cell_type": "markdown",
   "metadata": {},
   "source": [
    "At this point we could just do the same thing that we did earlier when we tested our deployed model and send `test_bow` to our endpoint using the `xgb_predictor` object. However, when we eventually construct our Lambda function we won't have access to this object, so how do we call a SageMaker endpoint?\n",
    "\n",
    "It turns out that Python functions that are used in Lambda have access to another Amazon library called `boto3`. This library provides an API for working with Amazon services, including SageMaker. To start with, we need to get a handle to the SageMaker runtime."
   ]
  },
  {
   "cell_type": "code",
   "execution_count": 42,
   "metadata": {},
   "outputs": [],
   "source": [
    "import boto3\n",
    "\n",
    "runtime = boto3.Session().client('sagemaker-runtime')"
   ]
  },
  {
   "cell_type": "markdown",
   "metadata": {},
   "source": [
    "And now that we have access to the SageMaker runtime, we can ask it to make use of (invoke) an endpoint that has already been created. However, we need to provide SageMaker with the name of the deployed endpoint. To find this out we can print it out using the `xgb_predictor` object."
   ]
  },
  {
   "cell_type": "code",
   "execution_count": 43,
   "metadata": {},
   "outputs": [
    {
     "data": {
      "text/plain": [
       "'xgboost-2020-06-11-15-35-06-449'"
      ]
     },
     "execution_count": 43,
     "metadata": {},
     "output_type": "execute_result"
    }
   ],
   "source": [
    "xgb_predictor.endpoint"
   ]
  },
  {
   "cell_type": "markdown",
   "metadata": {},
   "source": [
    "Using the SageMaker runtime and the name of our endpoint, we can invoke the endpoint and send it the `test_bow` data."
   ]
  },
  {
   "cell_type": "code",
   "execution_count": 44,
   "metadata": {},
   "outputs": [
    {
     "ename": "ParamValidationError",
     "evalue": "Parameter validation failed:\nInvalid type for parameter Body, value: [0, 0, 0, 0, 0, 0, 0, 0, 0, 0, 0, 0, 0, 0, 0, 0, 0, 0, 0, 0, 0, 0, 0, 0, 0, 0, 0, 0, 0, 0, 0, 0, 0, 0, 0, 0, 0, 0, 0, 0, 0, 0, 0, 0, 0, 0, 0, 0, 0, 0, 0, 0, 0, 0, 0, 0, 0, 0, 0, 0, 0, 0, 0, 0, 0, 0, 0, 0, 0, 0, 0, 0, 0, 0, 0, 0, 0, 0, 0, 0, 0, 0, 0, 0, 0, 0, 0, 0, 0, 0, 0, 0, 0, 0, 0, 0, 0, 0, 0, 0, 0, 0, 0, 0, 0, 0, 0, 0, 0, 0, 0, 0, 0, 0, 0, 0, 0, 0, 0, 0, 0, 0, 0, 0, 0, 0, 0, 0, 0, 0, 0, 0, 0, 0, 0, 0, 0, 0, 0, 0, 0, 0, 0, 0, 0, 0, 0, 0, 0, 0, 0, 0, 0, 0, 0, 0, 0, 0, 0, 0, 0, 0, 0, 0, 0, 0, 0, 0, 0, 0, 0, 0, 0, 0, 0, 0, 0, 0, 0, 0, 0, 0, 0, 0, 0, 0, 0, 0, 0, 0, 0, 0, 0, 0, 0, 0, 0, 0, 0, 0, 0, 0, 0, 0, 0, 0, 0, 0, 0, 0, 0, 0, 0, 0, 0, 0, 0, 0, 0, 0, 0, 0, 0, 0, 0, 0, 1, 0, 0, 0, 0, 0, 0, 0, 0, 0, 0, 0, 0, 0, 0, 0, 0, 0, 0, 0, 0, 0, 0, 0, 0, 0, 0, 0, 0, 0, 1, 0, 0, 0, 0, 0, 0, 0, 0, 0, 0, 0, 0, 0, 0, 0, 0, 0, 0, 0, 0, 0, 0, 0, 0, 0, 0, 0, 0, 0, 0, 0, 0, 0, 0, 0, 0, 0, 0, 0, 0, 0, 0, 0, 0, 0, 0, 0, 0, 0, 0, 0, 0, 0, 0, 0, 0, 0, 0, 0, 0, 0, 0, 0, 0, 0, 0, 0, 0, 0, 0, 0, 0, 0, 0, 0, 0, 0, 0, 0, 0, 0, 0, 0, 0, 0, 0, 0, 0, 0, 0, 0, 0, 0, 0, 0, 0, 0, 0, 0, 0, 0, 0, 0, 0, 0, 0, 0, 0, 0, 0, 0, 0, 0, 0, 0, 0, 0, 0, 0, 0, 0, 0, 0, 0, 0, 0, 0, 0, 0, 0, 0, 0, 0, 0, 0, 0, 0, 0, 0, 0, 0, 0, 0, 0, 0, 0, 0, 0, 0, 0, 0, 0, 0, 0, 0, 0, 0, 0, 0, 0, 0, 0, 0, 0, 0, 0, 0, 0, 0, 0, 0, 0, 0, 0, 0, 0, 0, 0, 0, 0, 0, 0, 0, 0, 0, 0, 0, 0, 0, 0, 0, 0, 0, 0, 0, 0, 0, 0, 0, 0, 0, 0, 0, 0, 0, 0, 0, 0, 0, 0, 0, 0, 0, 0, 0, 0, 0, 0, 0, 0, 0, 0, 0, 0, 0, 0, 0, 0, 0, 0, 0, 0, 0, 0, 0, 0, 0, 0, 0, 0, 0, 0, 0, 0, 0, 0, 0, 0, 0, 0, 0, 0, 0, 0, 0, 0, 0, 0, 0, 0, 0, 0, 0, 0, 0, 0, 0, 0, 0, 0, 0, 0, 0, 0, 0, 0, 0, 0, 0, 0, 0, 0, 0, 0, 0, 0, 0, 0, 0, 0, 0, 0, 0, 0, 0, 0, 0, 0, 0, 0, 0, 0, 0, 0, 0, 0, 0, 0, 0, 0, 0, 0, 0, 0, 0, 0, 0, 0, 0, 0, 0, 0, 0, 0, 0, 0, 0, 0, 0, 0, 0, 0, 0, 0, 0, 0, 0, 0, 0, 0, 0, 0, 0, 0, 0, 0, 0, 0, 0, 0, 0, 0, 0, 0, 0, 0, 0, 0, 0, 0, 0, 0, 0, 0, 0, 0, 0, 0, 0, 0, 0, 0, 0, 0, 0, 0, 0, 0, 0, 1, 0, 0, 0, 0, 0, 0, 0, 0, 0, 0, 0, 0, 0, 0, 0, 0, 0, 0, 0, 0, 0, 0, 0, 0, 0, 0, 0, 0, 0, 0, 0, 0, 0, 0, 0, 0, 0, 0, 0, 0, 0, 0, 0, 0, 0, 0, 0, 0, 0, 0, 0, 0, 0, 0, 0, 0, 0, 0, 0, 0, 0, 0, 0, 0, 0, 0, 0, 0, 0, 0, 0, 0, 0, 0, 0, 0, 0, 0, 0, 0, 0, 0, 0, 0, 0, 0, 0, 0, 0, 0, 0, 0, 0, 0, 0, 0, 0, 0, 0, 0, 0, 0, 0, 0, 0, 0, 0, 0, 0, 0, 0, 0, 0, 0, 0, 0, 0, 0, 0, 0, 0, 0, 0, 0, 0, 0, 0, 0, 0, 0, 0, 0, 0, 0, 0, 0, 0, 0, 0, 0, 0, 0, 0, 0, 0, 0, 0, 0, 0, 0, 0, 0, 0, 0, 0, 0, 0, 0, 0, 0, 0, 0, 0, 0, 0, 0, 0, 0, 0, 0, 0, 0, 0, 0, 0, 0, 0, 0, 0, 0, 0, 0, 0, 0, 0, 0, 0, 0, 0, 0, 0, 0, 0, 0, 0, 0, 0, 0, 0, 0, 0, 0, 0, 0, 0, 0, 0, 0, 0, 0, 0, 0, 0, 0, 0, 0, 0, 0, 0, 0, 0, 0, 0, 0, 0, 0, 0, 0, 0, 0, 0, 0, 0, 0, 0, 0, 0, 0, 0, 0, 0, 0, 0, 0, 0, 0, 0, 0, 0, 0, 0, 0, 0, 1, 0, 0, 0, 0, 0, 0, 0, 0, 0, 0, 0, 0, 0, 0, 0, 0, 0, 0, 0, 0, 0, 0, 0, 0, 0, 0, 0, 0, 0, 0, 0, 0, 0, 0, 0, 0, 0, 0, 0, 0, 0, 0, 0, 0, 0, 0, 0, 0, 0, 0, 0, 0, 0, 0, 0, 0, 0, 0, 0, 0, 0, 0, 0, 0, 0, 0, 0, 0, 0, 0, 0, 0, 0, 0, 0, 0, 0, 0, 0, 0, 0, 0, 0, 0, 0, 0, 1, 0, 0, 0, 0, 0, 0, 0, 0, 0, 0, 0, 0, 0, 0, 0, 0, 0, 0, 0, 0, 0, 0, 0, 0, 0, 0, 0, 0, 0, 0, 0, 0, 0, 0, 0, 0, 0, 0, 0, 0, 0, 0, 0, 0, 0, 0, 0, 0, 0, 0, 0, 0, 0, 0, 0, 0, 0, 0, 0, 0, 0, 0, 0, 0, 0, 0, 0, 0, 0, 0, 0, 0, 0, 0, 0, 0, 0, 0, 0, 0, 0, 0, 0, 0, 0, 0, 0, 0, 0, 0, 0, 0, 0, 0, 0, 0, 0, 0, 0, 0, 0, 0, 0, 0, 0, 0, 0, 0, 0, 0, 0, 0, 0, 0, 0, 0, 0, 0, 0, 0, 0, 0, 0, 0, 0, 0, 0, 0, 0, 0, 0, 0, 0, 0, 0, 0, 0, 0, 0, 0, 0, 0, 0, 0, 0, 0, 0, 0, 0, 0, 0, 0, 0, 0, 0, 0, 0, 0, 0, 0, 0, 0, 0, 0, 0, 0, 0, 0, 0, 0, 0, 0, 0, 0, 0, 0, 0, 0, 0, 0, 0, 0, 0, 0, 0, 0, 0, 0, 0, 0, 0, 0, 0, 0, 0, 0, 0, 0, 0, 0, 0, 0, 0, 0, 0, 0, 0, 0, 0, 0, 0, 0, 0, 0, 0, 0, 0, 0, 0, 0, 0, 0, 0, 0, 0, 0, 0, 0, 0, 0, 0, 0, 0, 0, 0, 0, 0, 0, 0, 0, 0, 0, 0, 0, 0, 0, 0, 0, 0, 0, 0, 0, 1, 0, 0, 0, 0, 0, 0, 0, 0, 0, 0, 0, 0, 0, 0, 0, 0, 0, 0, 0, 0, 0, 0, 0, 0, 0, 0, 0, 0, 0, 0, 0, 0, 0, 0, 0, 0, 0, 0, 0, 0, 0, 0, 0, 0, 0, 0, 0, 0, 0, 0, 0, 0, 0, 0, 0, 1, 0, 0, 0, 0, 0, 0, 0, 0, 0, 0, 0, 0, 0, 0, 0, 0, 0, 0, 0, 0, 0, 0, 0, 0, 0, 0, 0, 0, 0, 0, 0, 0, 0, 0, 0, 0, 0, 0, 0, 0, 0, 0, 0, 0, 0, 0, 0, 0, 0, 0, 0, 0, 0, 0, 0, 0, 0, 0, 0, 0, 0, 0, 0, 0, 0, 0, 0, 0, 0, 0, 0, 0, 0, 0, 0, 0, 0, 0, 0, 0, 0, 0, 0, 0, 0, 0, 0, 0, 0, 0, 0, 0, 0, 0, 0, 0, 0, 0, 0, 0, 0, 0, 0, 0, 0, 0, 0, 0, 0, 0, 0, 0, 0, 0, 0, 0, 0, 0, 0, 0, 0, 0, 0, 0, 0, 0, 0, 0, 0, 0, 0, 0, 0, 0, 0, 0, 0, 0, 0, 0, 0, 0, 0, 0, 0, 0, 0, 0, 0, 0, 0, 0, 0, 0, 0, 0, 0, 0, 0, 0, 0, 0, 0, 0, 0, 0, 0, 0, 0, 0, 0, 0, 0, 0, 0, 0, 0, 0, 0, 0, 0, 0, 0, 0, 0, 0, 0, 0, 0, 0, 0, 0, 0, 0, 0, 0, 0, 0, 0, 0, 0, 0, 0, 0, 0, 0, 0, 0, 0, 0, 0, 0, 0, 0, 0, 0, 0, 0, 0, 0, 0, 0, 0, 0, 0, 0, 0, 0, 0, 0, 0, 0, 0, 0, 0, 0, 0, 0, 0, 0, 0, 0, 0, 0, 0, 0, 0, 0, 0, 0, 0, 0, 0, 0, 0, 0, 0, 0, 0, 0, 0, 0, 0, 0, 0, 0, 0, 0, 0, 0, 0, 0, 0, 0, 0, 0, 0, 0, 0, 0, 0, 0, 0, 0, 0, 0, 0, 0, 0, 0, 0, 0, 0, 0, 0, 0, 0, 0, 0, 0, 0, 0, 0, 0, 0, 0, 0, 0, 0, 0, 0, 0, 0, 0, 0, 0, 0, 0, 0, 0, 0, 0, 0, 0, 0, 0, 0, 0, 0, 0, 0, 0, 0, 0, 0, 0, 0, 0, 0, 0, 0, 0, 0, 0, 0, 0, 0, 0, 0, 0, 0, 0, 0, 0, 0, 0, 0, 0, 0, 0, 0, 0, 0, 0, 0, 0, 0, 0, 0, 0, 0, 0, 0, 0, 0, 0, 0, 0, 0, 0, 0, 0, 0, 0, 0, 0, 0, 0, 0, 0, 0, 0, 0, 0, 0, 0, 0, 0, 0, 0, 0, 0, 0, 0, 0, 0, 0, 0, 0, 0, 0, 0, 0, 0, 0, 0, 0, 0, 0, 0, 0, 0, 0, 0, 0, 0, 0, 0, 0, 0, 0, 0, 0, 0, 0, 0, 0, 0, 0, 0, 0, 0, 0, 0, 0, 0, 0, 0, 0, 0, 0, 0, 0, 0, 0, 0, 0, 0, 0, 0, 0, 0, 0, 0, 0, 0, 0, 0, 0, 0, 0, 0, 0, 0, 0, 0, 0, 0, 0, 0, 0, 0, 0, 0, 0, 0, 0, 0, 0, 0, 0, 0, 0, 0, 0, 0, 0, 0, 0, 0, 0, 0, 0, 0, 0, 0, 0, 0, 0, 0, 0, 0, 0, 0, 0, 0, 0, 0, 0, 0, 0, 0, 0, 0, 0, 0, 0, 0, 0, 0, 0, 0, 0, 0, 0, 0, 0, 0, 0, 0, 0, 0, 0, 0, 0, 0, 0, 0, 0, 0, 0, 0, 0, 0, 0, 0, 0, 0, 0, 0, 0, 0, 0, 0, 0, 0, 0, 0, 0, 0, 0, 0, 0, 0, 0, 0, 0, 0, 0, 0, 0, 0, 0, 0, 0, 0, 0, 0, 0, 0, 0, 0, 0, 0, 0, 0, 0, 0, 0, 0, 0, 0, 0, 0, 0, 0, 0, 0, 0, 0, 0, 0, 0, 0, 0, 0, 0, 0, 0, 0, 0, 0, 0, 0, 0, 0, 0, 0, 0, 0, 0, 0, 0, 0, 0, 0, 0, 0, 0, 0, 0, 0, 0, 0, 0, 0, 0, 0, 0, 0, 0, 0, 0, 0, 0, 0, 0, 0, 0, 0, 0, 0, 0, 0, 0, 0, 0, 0, 0, 0, 0, 0, 0, 0, 0, 0, 0, 0, 0, 0, 0, 1, 0, 0, 0, 0, 0, 0, 0, 0, 0, 0, 0, 0, 0, 0, 0, 0, 0, 0, 0, 0, 0, 0, 0, 0, 0, 0, 0, 0, 0, 0, 0, 0, 0, 0, 0, 0, 0, 0, 0, 0, 0, 0, 0, 0, 0, 0, 0, 0, 0, 0, 0, 0, 0, 0, 0, 0, 0, 0, 0, 0, 0, 0, 0, 0, 0, 0, 0, 0, 0, 0, 0, 0, 0, 0, 1, 0, 0, 0, 0, 0, 0, 0, 0, 0, 0, 0, 0, 0, 0, 0, 0, 0, 0, 0, 0, 1, 0, 0, 1, 0, 0, 0, 0, 0, 0, 0, 0, 0, 0, 0, 0, 0, 0, 0, 0, 0, 0, 0, 0, 0, 0, 0, 0, 0, 0, 0, 0, 0, 0, 0, 0, 0, 0, 0, 0, 0, 0, 0, 0, 0, 0, 0, 0, 0, 0, 0, 0, 0, 0, 0, 0, 0, 0, 0, 0, 0, 0, 0, 0, 0, 0, 0, 0, 0, 0, 0, 0, 0, 0, 0, 0, 0, 0, 0, 0, 0, 0, 0, 0, 0, 0, 0, 0, 0, 0, 0, 0, 0, 0, 0, 0, 0, 0, 0, 0, 0, 0, 0, 0, 0, 0, 0, 0, 0, 0, 0, 0, 0, 0, 0, 0, 0, 0, 0, 0, 0, 0, 0, 0, 0, 0, 0, 0, 0, 0, 0, 0, 0, 0, 0, 0, 0, 0, 0, 0, 0, 0, 0, 0, 0, 0, 0, 0, 0, 0, 0, 0, 0, 0, 0, 0, 0, 0, 0, 0, 0, 0, 0, 0, 0, 0, 0, 0, 0, 0, 0, 0, 0, 0, 0, 0, 0, 0, 0, 0, 0, 0, 0, 0, 0, 0, 0, 0, 0, 0, 0, 0, 0, 0, 0, 0, 0, 0, 0, 0, 0, 0, 0, 0, 0, 0, 0, 0, 0, 0, 0, 0, 0, 0, 0, 0, 0, 0, 0, 0, 0, 0, 0, 0, 0, 0, 0, 0, 0, 0, 0, 0, 0, 0, 0, 0, 0, 0, 0, 0, 0, 0, 0, 0, 0, 0, 0, 0, 0, 0, 0, 0, 0, 0, 0, 0, 0, 0, 0, 0, 0, 0, 0, 0, 0, 0, 0, 0, 0, 0, 0, 0, 0, 0, 0, 0, 0, 0, 0, 0, 0, 0, 0, 0, 0, 0, 0, 0, 0, 0, 0, 0, 0, 0, 0, 0, 0, 0, 0, 0, 0, 0, 0, 0, 0, 0, 0, 0, 0, 0, 0, 0, 0, 0, 0, 0, 0, 0, 0, 0, 0, 0, 0, 0, 0, 0, 0, 0, 0, 0, 0, 0, 0, 0, 0, 0, 0, 0, 0, 0, 0, 0, 0, 0, 0, 0, 0, 0, 0, 0, 0, 0, 0, 0, 0, 0, 0, 0, 0, 0, 0, 0, 0, 0, 0, 0, 0, 0, 0, 0, 0, 0, 0, 0, 0, 0, 0, 0, 0, 0, 0, 0, 0, 0, 0, 0, 0, 0, 0, 0, 0, 0, 0, 0, 0, 0, 0, 0, 0, 0, 0, 0, 0, 0, 0, 0, 0, 0, 0, 0, 0, 0, 0, 0, 0, 0, 0, 0, 0, 0, 0, 0, 0, 0, 0, 0, 0, 0, 0, 0, 0, 0, 0, 0, 0, 0, 0, 0, 0, 0, 0, 0, 0, 0, 0, 0, 0, 0, 0, 0, 0, 0, 0, 0, 0, 0, 0, 0, 0, 0, 0, 0, 0, 0, 0, 0, 0, 0, 0, 0, 1, 0, 0, 0, 0, 0, 0, 0, 0, 0, 0, 0, 0, 0, 0, 0, 0, 0, 0, 0, 0, 0, 0, 0, 0, 0, 0, 0, 0, 0, 0, 0, 0, 0, 0, 0, 0, 0, 0, 0, 0, 0, 0, 0, 0, 0, 0, 0, 0, 0, 0, 0, 0, 0, 0, 0, 0, 0, 0, 0, 0, 0, 0, 0, 0, 0, 0, 0, 0, 0, 0, 0, 0, 0, 0, 0, 0, 0, 0, 0, 0, 0, 0, 0, 0, 0, 0, 0, 0, 0, 0, 0, 0, 0, 0, 0, 0, 0, 0, 0, 0, 0, 0, 0, 0, 0, 0, 0, 0, 0, 0, 0, 0, 0, 0, 0, 0, 0, 0, 0, 0, 0, 0, 0, 0, 0, 0, 0, 0, 0, 0, 0, 0, 0, 0, 0, 0, 0, 0, 0, 0, 0, 0, 0, 0, 0, 0, 0, 0, 0, 0, 0, 0, 0, 0, 0, 0, 0, 0, 0, 0, 0, 0, 0, 0, 0, 0, 0, 0, 0, 0, 0, 0, 0, 0, 0, 0, 0, 0, 0, 0, 0, 0, 0, 0, 0, 0, 0, 0, 0, 0, 0, 0, 0, 0, 0, 0, 0, 0, 0, 0, 0, 0, 0, 0, 0, 0, 0, 0, 0, 0, 0, 0, 0, 0, 0, 0, 0, 0, 0, 0, 0, 0, 0, 0, 0, 0, 0, 0, 0, 0, 0, 0, 0, 0, 0, 0, 0, 0, 0, 0, 0, 0, 0, 0, 0, 0, 0, 0, 0, 0, 0, 0, 0, 0, 0, 0, 0, 0, 0, 0, 0, 0, 0, 0, 0, 0, 0, 0, 0, 0, 0, 0, 0, 0, 0, 0, 0, 0, 0, 0, 0, 0, 0, 0, 0, 0, 0, 0, 0, 0, 0, 0, 0, 0, 0, 0, 0, 0, 0, 0, 0, 0, 0, 0, 0, 0, 0, 0, 0, 0, 0, 0, 0, 0, 0, 0, 0, 0, 0, 0, 0, 0, 0, 0, 0, 0, 0, 0, 0, 0, 0, 0, 0, 0, 0, 0, 0, 0, 0, 0, 0, 0, 0, 0, 0, 0, 0, 0, 0, 0, 0, 0, 0, 0, 0, 0, 0, 0, 0, 0, 0, 0, 0, 0, 0, 0, 0, 0, 0, 0, 0, 0, 0, 0, 0, 0, 0, 0, 0, 0, 0, 0, 0, 0, 0, 0, 0, 0, 0, 0, 0, 0, 0, 0, 0, 0, 0, 0, 0, 0, 0, 0, 0, 0, 0, 0, 0, 0, 0, 0, 0, 0, 0, 0, 0, 0, 0, 0, 0, 0, 0, 0, 0, 0, 0, 0, 0, 0, 0, 0, 0, 0, 0, 0, 0, 0, 0, 0, 0, 0, 0, 0, 0, 0, 0, 0, 0, 0, 0, 0, 0, 0, 0, 0, 0, 0, 0, 0, 0, 0, 0, 0, 0, 0, 0, 0, 0, 0, 0, 0, 0, 0, 0, 0, 0, 0, 0, 0, 0, 0, 0, 0, 0, 0, 0, 0, 0, 0, 0, 0, 0, 0, 0, 0, 0, 0, 0, 0, 0, 0, 0, 0, 0, 0, 0, 0, 0, 0, 0, 0, 0, 0, 1, 0, 0, 0, 0, 0, 0, 0, 0, 0, 0, 0, 0, 0, 0, 0, 0, 0, 0, 0, 0, 0, 0, 0, 0, 0, 0, 0, 0, 0, 0, 0, 0, 0, 0, 0, 2, 0, 0, 0, 0, 0, 0, 0, 0, 0, 0, 0, 0, 0, 0, 0, 0, 0, 0, 0, 0, 0, 0, 0, 0, 0, 0, 0, 0, 0, 0, 0, 0, 0, 0, 0, 0, 0, 0, 0, 0, 1, 0, 0, 0, 0, 0, 0, 0, 0, 0, 0, 0, 0, 0, 0, 0, 0, 0, 0, 0, 0, 0, 0, 0, 0, 0, 0, 0, 0, 0, 0, 0, 0, 0, 0, 0, 0, 0, 0, 0, 0, 0, 0, 0, 0, 0, 0, 0, 0, 0, 0, 0, 0, 0, 0, 0, 0, 0, 0, 0, 0, 0, 0, 0, 0, 0, 0, 0, 0, 0, 0, 0, 0, 0, 0, 0, 0, 0, 0, 0, 0, 0, 0, 0, 0, 0, 0, 0, 0, 0, 0, 0, 0, 0, 0, 0, 0, 0, 0, 0, 0, 0, 0, 0, 0, 0, 0, 0, 0, 0, 0, 0, 0, 0, 0, 0, 0, 0, 0, 0, 0, 0, 0, 0, 0, 0, 0, 0, 0, 0, 0, 0, 0, 0, 0, 0, 0, 0, 0, 0, 0, 0, 0, 0, 0, 0, 0, 0, 0, 0, 0, 0, 0, 0, 0, 0, 0, 0, 0, 0, 0, 0, 0, 0, 0, 0, 0, 0, 0, 0, 0, 0, 0, 0, 0, 0, 0, 0, 0, 0, 0, 0, 0, 0, 0, 0, 0, 0, 0, 0, 0, 0, 0, 0, 0, 0, 0, 0, 0, 0, 0, 0, 0, 0, 0, 0, 0, 0, 0, 0, 0, 0, 0, 0, 0, 0, 0, 0, 0, 0, 0, 0, 0, 0, 0, 0, 0, 0, 0, 0, 0, 0, 0, 0, 0, 0, 0, 0, 0, 0, 0, 0, 0, 0, 0, 0, 0, 0, 0, 0, 0, 0, 0, 0, 0, 0, 0, 0, 0, 0, 0, 0, 0, 0, 0, 0, 0, 0, 0, 0, 0, 0, 0, 0, 0, 0, 0, 0, 0, 0, 0, 0, 0, 0, 0, 0, 0, 0, 0, 0, 0, 0, 0, 0, 0, 0, 0, 0, 0, 0, 0, 0, 0, 0, 0, 0, 0, 0, 0, 0, 0, 0, 0, 0, 0, 0, 0, 0, 0, 0, 0, 0, 0, 0, 0, 0, 0, 0, 0, 0, 0, 0, 0, 0, 0, 0, 0, 0, 0, 0, 0, 0, 0, 0, 0, 0, 0, 0, 0, 0, 0, 0, 0, 0, 0, 0, 0, 0, 0, 0, 0, 0, 0, 0, 0, 0, 0, 0, 0, 0, 0, 0, 0, 0, 0, 0, 0, 0, 0, 0, 0, 0, 0, 0, 0, 0, 0, 0, 0, 0, 0, 0, 0, 0, 0, 0, 0, 0, 0, 0, 0, 0, 0, 0, 0, 0, 0, 0, 0, 0, 0, 0, 0, 0, 0, 0, 0, 0, 0, 0, 0, 0, 0, 0, 0, 0, 0, 0, 0, 0, 0, 0, 0, 0, 0, 0, 0, 0, 0, 0, 0, 0, 0, 0, 0, 0, 0, 0, 0, 0, 0, 0, 0, 0, 0, 0, 0, 0, 0, 0, 0, 0, 0, 0, 0, 0, 0, 0, 0, 0, 0, 0, 0, 0, 0, 0, 0, 0, 0, 0, 0, 0, 0, 0, 0, 0, 0, 0, 0, 0, 0, 0, 0, 0, 0, 0, 0, 0, 1, 0, 0, 0, 0, 0, 0, 0, 0, 0, 0, 0, 0, 0, 0, 0, 0, 0, 0, 0, 0, 0, 0, 0, 0, 0, 0, 0, 0, 0, 0, 0, 0, 0, 0, 0, 0, 0, 0, 0, 0, 0, 0, 0, 0, 0, 0, 0, 0, 0, 0, 0, 0, 0, 0, 0, 0, 0, 0, 0, 0, 0, 0, 0, 0, 0, 0, 0, 0, 0, 0, 0, 0, 0, 0, 0, 0, 0, 0, 0, 0, 0, 0, 0, 0, 0, 0, 0, 0, 0, 0, 0, 0, 0, 0, 0, 0, 0, 0, 0, 0, 0, 0, 0, 0, 0, 0, 0, 0, 0, 0, 2, 0, 0, 0, 0, 0, 0, 0, 0, 0, 0, 0, 0, 0, 0, 0, 0, 0, 0, 0, 0, 0, 0, 0, 0, 0, 0, 0, 0, 0, 0, 0, 0, 0, 0, 0, 0, 0, 0, 0, 0, 0, 0, 0, 0, 0, 0, 0, 0, 0, 0, 0, 0, 0, 0, 0, 0, 0, 0, 0, 0, 0, 0, 0, 0, 0, 0, 0, 0, 0, 0, 0, 0, 0, 0, 0, 0, 0, 0, 0, 0, 0, 0, 0, 0, 0, 0, 0, 0, 0, 0, 0, 0, 0, 0, 0, 0, 0, 0, 0, 0, 0, 0, 0, 0, 0, 0, 0, 0, 0, 0, 0, 0, 0, 0, 0, 0, 0, 0, 0, 0, 0, 0, 0, 0, 0, 0, 0, 0, 0, 0, 0, 0, 0, 0, 0, 0, 0, 0, 0, 0, 0, 0, 0, 0, 0, 0, 0, 0, 0, 0, 0, 0, 0, 0, 0, 0, 0, 0, 0, 0, 0, 0, 0, 0, 0, 0, 0, 0, 0, 0, 0, 0, 0, 0, 0, 0, 0, 0, 0, 0, 0, 0, 0, 0, 0, 0, 0, 0, 0, 0, 0, 0, 0, 0, 0, 0, 0, 0, 0, 0, 0, 0, 0, 0, 0, 0, 0, 0, 0, 0, 0, 0, 0, 0, 0, 0, 0, 0, 0, 0, 0, 0, 0, 0, 0, 0, 0, 0, 0, 0, 0, 0, 0, 0, 0, 0, 0, 0, 0, 0, 0, 0, 0, 0, 0, 0, 0, 0, 0, 0, 0, 0, 0, 0, 0, 0, 0, 0, 0, 0, 0, 0, 0, 0, 0, 0, 0, 0, 0, 0, 0, 0, 0, 0, 0, 0, 0, 0, 0, 0, 0, 0, 0, 0, 0, 0, 0, 0, 0, 0, 0, 0, 0, 0, 0, 0, 0, 0, 0, 0, 0, 0, 0, 0, 0, 0, 0, 0, 0, 0, 0, 0, 0, 0, 0, 0, 0, 0, 0, 0, 0, 0, 0, 0, 0, 0, 0, 0, 0, 0, 0, 0, 0, 0, 0, 0, 0, 0, 0, 0, 0, 0, 0, 0, 0, 0, 0, 0, 0, 0, 0, 0, 0, 0, 0, 0, 0, 0, 0, 0, 0, 0, 0, 0, 0, 0, 0, 0, 0, 0, 0, 0, 0, 0, 0, 0, 0, 0, 0, 0, 0, 0, 0, 0, 0, 0, 0, 0, 0, 0, 0, 0, 0, 0, 0, 0, 0, 0, 0, 0, 0, 0, 0, 0, 0, 0, 0, 0, 0, 0, 0, 0, 0, 0, 0, 0, 0, 0, 0, 0, 0, 0, 0, 0, 0, 0, 0, 0, 0, 0, 0, 0, 0, 0, 0, 0, 0, 0, 0, 0, 0, 0, 0, 0, 0, 0, 0, 0, 0, 0, 0, 0, 0, 0, 0, 0, 0, 0, 0, 0, 0, 0, 0, 0, 0, 0, 0, 0, 0, 0, 0, 0, 0, 0, 0, 0, 0, 0, 0, 0, 0, 0, 0, 0, 0, 0, 0, 0, 0, 0, 0, 0, 0, 0, 0, 0, 0, 0, 0, 0, 0, 0, 0, 0, 0, 0, 0, 0, 0, 0, 0, 0, 0, 0, 0, 0, 0, 0, 0, 0, 0, 0, 0, 0, 0, 0, 0, 0, 0, 0, 0, 0, 0, 0, 0, 0, 0, 0, 0, 0, 0, 0, 0, 0, 0, 0, 0, 0, 0, 0, 0, 0, 0, 0, 0, 0, 0, 0, 0, 0, 0, 0, 0, 0, 0, 0, 0, 0, 0, 0, 0, 0, 0, 0, 0, 0, 0, 0, 0, 0, 0, 0, 0, 0, 0, 0, 0, 0, 0, 0, 0, 0, 0, 0, 0, 0, 0, 0, 0, 0, 0, 0, 0, 0, 0, 0, 0, 0, 0, 0, 0, 0, 0, 0, 0, 0, 0, 0, 0, 0, 0, 0, 0, 0, 0, 0, 0, 0, 0, 0, 0, 0, 0, 0, 0, 0, 0, 0, 0, 0, 0, 0, 0, 0, 0, 0, 0, 0, 0, 0, 0, 0, 0, 0, 0, 0, 0, 0, 0, 0, 0, 0, 0, 0, 0, 0, 0, 0, 0, 0, 0, 0, 0, 0, 0, 0, 0, 0, 0, 0, 0, 0, 0, 0, 0, 0, 0, 0, 0, 0, 1, 0, 0, 0, 0, 0, 0, 0, 0, 0, 0, 0, 0, 0, 0, 0, 0, 0, 0, 0, 0, 0, 0, 0, 0, 0, 0, 0, 0, 0, 0, 0, 0, 0, 0, 0, 0, 0, 0, 0, 0, 0, 0, 0, 0, 0, 0, 0, 0, 0, 0, 0, 0, 0, 0, 0, 0, 0, 0, 0, 0, 0, 0, 0, 0, 0, 0, 0, 0, 0, 0, 0, 0, 0, 0, 0, 0, 0, 0, 0, 0, 0, 0, 0, 0, 0, 0, 0, 0, 0, 0, 0, 0, 0, 0, 0, 0, 0, 0, 0, 0, 0, 0, 0, 0, 0, 0, 0, 1, 0, 0, 0, 0, 0, 0, 0, 0, 0, 0, 0, 0, 0, 0, 0, 0, 0, 0, 0, 0, 0, 0, 0, 0, 0, 0, 0, 0, 0, 0, 0, 0, 0, 0, 0, 0, 0, 0, 0, 0, 0, 0, 0, 0, 0, 0, 0, 0, 0, 0, 0, 0, 0, 0, 0, 0, 0, 0, 0, 0, 0, 0, 0, 0, 0, 0, 0, 0, 0, 0, 0, 0, 0, 0, 0, 0, 0, 0, 0, 0, 0, 0, 0, 0, 0, 0, 0, 0, 0, 0, 0, 0, 0, 0, 0, 0, 0, 0, 0, 0, 0, 0, 0, 0, 0, 0, 0, 0, 0, 0, 0, 0, 0, 0, 0, 0, 0, 0, 0, 0, 0, 0, 0, 0, 0, 0, 0, 0, 0, 0, 0, 0, 0, 0, 0, 0, 0, 0, 0, 0, 0, 0, 0, 0, 0, 0, 0, 0, 0, 0, 0, 0, 0, 0, 0, 0, 0, 0, 0, 0, 0, 0, 0, 0, 0, 0, 0, 0, 0, 0, 0, 0, 0, 0, 0, 0, 0, 0, 0, 0, 0, 0, 0, 0, 0, 0, 0, 0, 0, 0, 0, 0, 0, 0, 0, 0, 0, 0, 0, 0, 0, 0, 0, 0, 0, 0, 0, 0, 0, 0, 0, 0, 0, 0, 0, 0, 0, 0, 0, 0, 0, 0, 0, 0, 0, 0, 0, 0, 0, 0, 0, 0, 0, 0, 0, 0, 0, 0, 0, 0, 0, 0, 0, 0, 0, 0, 0, 0, 0, 0, 0, 0, 0, 0, 0, 0, 0, 0, 0, 0, 0, 0, 0, 0, 0, 0, 0, 0, 0, 0, 0, 0, 0, 0, 0, 0, 0, 0, 0, 0, 0, 0, 0, 0, 0, 0, 0, 0, 0, 0, 0, 0, 0, 0, 0, 0, 0, 0, 0, 0, 0, 0, 0, 0, 0, 0, 0, 0, 0, 0, 0, 0, 0, 0, 0, 0, 0, 0, 0, 0, 0, 0, 0, 0, 0, 0, 0, 0, 0, 0, 0, 0, 0, 0, 0, 0, 0, 0, 0, 0, 0, 0, 0, 0, 0, 0, 0, 0, 0, 0, 0, 0, 0, 0, 0, 0, 0, 0, 0, 0, 0, 0, 0, 0, 0, 0, 0, 0, 0, 0, 0, 0, 0, 0, 0, 0, 0, 0, 0, 0, 0, 0, 0, 0, 0, 0, 0, 0, 0, 0, 0, 0, 0, 0, 0, 0, 0, 0, 0, 0, 0, 0, 0, 0, 0, 0, 0, 0, 0, 0, 0, 0, 0, 0, 0, 0, 0, 0, 0, 0, 0, 0, 0, 0, 0, 0, 0, 0, 0, 0, 0, 0, 0, 0, 0, 0, 0, 0, 0, 0, 0, 0, 0, 0, 0, 0, 0, 0, 0, 0, 0, 0, 0, 0, 0, 0, 0, 0, 0, 0, 0, 0, 0, 2, 0, 1, 0], type: <class 'list'>, valid types: <class 'bytes'>, <class 'bytearray'>, file-like object",
     "output_type": "error",
     "traceback": [
      "\u001b[0;31m---------------------------------------------------------------------------\u001b[0m",
      "\u001b[0;31mParamValidationError\u001b[0m                      Traceback (most recent call last)",
      "\u001b[0;32m<ipython-input-44-c9ab54ae3a48>\u001b[0m in \u001b[0;36m<module>\u001b[0;34m()\u001b[0m\n\u001b[1;32m      1\u001b[0m response = runtime.invoke_endpoint(EndpointName = xgb_predictor.endpoint, # The name of the endpoint we created\n\u001b[1;32m      2\u001b[0m                                        \u001b[0mContentType\u001b[0m \u001b[0;34m=\u001b[0m \u001b[0;34m'text/csv'\u001b[0m\u001b[0;34m,\u001b[0m                     \u001b[0;31m# The data format that is expected\u001b[0m\u001b[0;34m\u001b[0m\u001b[0m\n\u001b[0;32m----> 3\u001b[0;31m                                        Body = test_bow)\n\u001b[0m",
      "\u001b[0;32m~/anaconda3/envs/python3/lib/python3.6/site-packages/botocore/client.py\u001b[0m in \u001b[0;36m_api_call\u001b[0;34m(self, *args, **kwargs)\u001b[0m\n\u001b[1;32m    314\u001b[0m                     \"%s() only accepts keyword arguments.\" % py_operation_name)\n\u001b[1;32m    315\u001b[0m             \u001b[0;31m# The \"self\" in this scope is referring to the BaseClient.\u001b[0m\u001b[0;34m\u001b[0m\u001b[0;34m\u001b[0m\u001b[0m\n\u001b[0;32m--> 316\u001b[0;31m             \u001b[0;32mreturn\u001b[0m \u001b[0mself\u001b[0m\u001b[0;34m.\u001b[0m\u001b[0m_make_api_call\u001b[0m\u001b[0;34m(\u001b[0m\u001b[0moperation_name\u001b[0m\u001b[0;34m,\u001b[0m \u001b[0mkwargs\u001b[0m\u001b[0;34m)\u001b[0m\u001b[0;34m\u001b[0m\u001b[0m\n\u001b[0m\u001b[1;32m    317\u001b[0m \u001b[0;34m\u001b[0m\u001b[0m\n\u001b[1;32m    318\u001b[0m         \u001b[0m_api_call\u001b[0m\u001b[0;34m.\u001b[0m\u001b[0m__name__\u001b[0m \u001b[0;34m=\u001b[0m \u001b[0mstr\u001b[0m\u001b[0;34m(\u001b[0m\u001b[0mpy_operation_name\u001b[0m\u001b[0;34m)\u001b[0m\u001b[0;34m\u001b[0m\u001b[0m\n",
      "\u001b[0;32m~/anaconda3/envs/python3/lib/python3.6/site-packages/botocore/client.py\u001b[0m in \u001b[0;36m_make_api_call\u001b[0;34m(self, operation_name, api_params)\u001b[0m\n\u001b[1;32m    597\u001b[0m         }\n\u001b[1;32m    598\u001b[0m         request_dict = self._convert_to_request_dict(\n\u001b[0;32m--> 599\u001b[0;31m             api_params, operation_model, context=request_context)\n\u001b[0m\u001b[1;32m    600\u001b[0m \u001b[0;34m\u001b[0m\u001b[0m\n\u001b[1;32m    601\u001b[0m         \u001b[0mservice_id\u001b[0m \u001b[0;34m=\u001b[0m \u001b[0mself\u001b[0m\u001b[0;34m.\u001b[0m\u001b[0m_service_model\u001b[0m\u001b[0;34m.\u001b[0m\u001b[0mservice_id\u001b[0m\u001b[0;34m.\u001b[0m\u001b[0mhyphenize\u001b[0m\u001b[0;34m(\u001b[0m\u001b[0;34m)\u001b[0m\u001b[0;34m\u001b[0m\u001b[0m\n",
      "\u001b[0;32m~/anaconda3/envs/python3/lib/python3.6/site-packages/botocore/client.py\u001b[0m in \u001b[0;36m_convert_to_request_dict\u001b[0;34m(self, api_params, operation_model, context)\u001b[0m\n\u001b[1;32m    645\u001b[0m             api_params, operation_model, context)\n\u001b[1;32m    646\u001b[0m         request_dict = self._serializer.serialize_to_request(\n\u001b[0;32m--> 647\u001b[0;31m             api_params, operation_model)\n\u001b[0m\u001b[1;32m    648\u001b[0m         \u001b[0;32mif\u001b[0m \u001b[0;32mnot\u001b[0m \u001b[0mself\u001b[0m\u001b[0;34m.\u001b[0m\u001b[0m_client_config\u001b[0m\u001b[0;34m.\u001b[0m\u001b[0minject_host_prefix\u001b[0m\u001b[0;34m:\u001b[0m\u001b[0;34m\u001b[0m\u001b[0m\n\u001b[1;32m    649\u001b[0m             \u001b[0mrequest_dict\u001b[0m\u001b[0;34m.\u001b[0m\u001b[0mpop\u001b[0m\u001b[0;34m(\u001b[0m\u001b[0;34m'host_prefix'\u001b[0m\u001b[0;34m,\u001b[0m \u001b[0;32mNone\u001b[0m\u001b[0;34m)\u001b[0m\u001b[0;34m\u001b[0m\u001b[0m\n",
      "\u001b[0;32m~/anaconda3/envs/python3/lib/python3.6/site-packages/botocore/validate.py\u001b[0m in \u001b[0;36mserialize_to_request\u001b[0;34m(self, parameters, operation_model)\u001b[0m\n\u001b[1;32m    295\u001b[0m                                                     operation_model.input_shape)\n\u001b[1;32m    296\u001b[0m             \u001b[0;32mif\u001b[0m \u001b[0mreport\u001b[0m\u001b[0;34m.\u001b[0m\u001b[0mhas_errors\u001b[0m\u001b[0;34m(\u001b[0m\u001b[0;34m)\u001b[0m\u001b[0;34m:\u001b[0m\u001b[0;34m\u001b[0m\u001b[0m\n\u001b[0;32m--> 297\u001b[0;31m                 \u001b[0;32mraise\u001b[0m \u001b[0mParamValidationError\u001b[0m\u001b[0;34m(\u001b[0m\u001b[0mreport\u001b[0m\u001b[0;34m=\u001b[0m\u001b[0mreport\u001b[0m\u001b[0;34m.\u001b[0m\u001b[0mgenerate_report\u001b[0m\u001b[0;34m(\u001b[0m\u001b[0;34m)\u001b[0m\u001b[0;34m)\u001b[0m\u001b[0;34m\u001b[0m\u001b[0m\n\u001b[0m\u001b[1;32m    298\u001b[0m         return self._serializer.serialize_to_request(parameters,\n\u001b[1;32m    299\u001b[0m                                                      operation_model)\n",
      "\u001b[0;31mParamValidationError\u001b[0m: Parameter validation failed:\nInvalid type for parameter Body, value: [0, 0, 0, 0, 0, 0, 0, 0, 0, 0, 0, 0, 0, 0, 0, 0, 0, 0, 0, 0, 0, 0, 0, 0, 0, 0, 0, 0, 0, 0, 0, 0, 0, 0, 0, 0, 0, 0, 0, 0, 0, 0, 0, 0, 0, 0, 0, 0, 0, 0, 0, 0, 0, 0, 0, 0, 0, 0, 0, 0, 0, 0, 0, 0, 0, 0, 0, 0, 0, 0, 0, 0, 0, 0, 0, 0, 0, 0, 0, 0, 0, 0, 0, 0, 0, 0, 0, 0, 0, 0, 0, 0, 0, 0, 0, 0, 0, 0, 0, 0, 0, 0, 0, 0, 0, 0, 0, 0, 0, 0, 0, 0, 0, 0, 0, 0, 0, 0, 0, 0, 0, 0, 0, 0, 0, 0, 0, 0, 0, 0, 0, 0, 0, 0, 0, 0, 0, 0, 0, 0, 0, 0, 0, 0, 0, 0, 0, 0, 0, 0, 0, 0, 0, 0, 0, 0, 0, 0, 0, 0, 0, 0, 0, 0, 0, 0, 0, 0, 0, 0, 0, 0, 0, 0, 0, 0, 0, 0, 0, 0, 0, 0, 0, 0, 0, 0, 0, 0, 0, 0, 0, 0, 0, 0, 0, 0, 0, 0, 0, 0, 0, 0, 0, 0, 0, 0, 0, 0, 0, 0, 0, 0, 0, 0, 0, 0, 0, 0, 0, 0, 0, 0, 0, 0, 0, 0, 1, 0, 0, 0, 0, 0, 0, 0, 0, 0, 0, 0, 0, 0, 0, 0, 0, 0, 0, 0, 0, 0, 0, 0, 0, 0, 0, 0, 0, 0, 1, 0, 0, 0, 0, 0, 0, 0, 0, 0, 0, 0, 0, 0, 0, 0, 0, 0, 0, 0, 0, 0, 0, 0, 0, 0, 0, 0, 0, 0, 0, 0, 0, 0, 0, 0, 0, 0, 0, 0, 0, 0, 0, 0, 0, 0, 0, 0, 0, 0, 0, 0, 0, 0, 0, 0, 0, 0, 0, 0, 0, 0, 0, 0, 0, 0, 0, 0, 0, 0, 0, 0, 0, 0, 0, 0, 0, 0, 0, 0, 0, 0, 0, 0, 0, 0, 0, 0, 0, 0, 0, 0, 0, 0, 0, 0, 0, 0, 0, 0, 0, 0, 0, 0, 0, 0, 0, 0, 0, 0, 0, 0, 0, 0, 0, 0, 0, 0, 0, 0, 0, 0, 0, 0, 0, 0, 0, 0, 0, 0, 0, 0, 0, 0, 0, 0, 0, 0, 0, 0, 0, 0, 0, 0, 0, 0, 0, 0, 0, 0, 0, 0, 0, 0, 0, 0, 0, 0, 0, 0, 0, 0, 0, 0, 0, 0, 0, 0, 0, 0, 0, 0, 0, 0, 0, 0, 0, 0, 0, 0, 0, 0, 0, 0, 0, 0, 0, 0, 0, 0, 0, 0, 0, 0, 0, 0, 0, 0, 0, 0, 0, 0, 0, 0, 0, 0, 0, 0, 0, 0, 0, 0, 0, 0, 0, 0, 0, 0, 0, 0, 0, 0, 0, 0, 0, 0, 0, 0, 0, 0, 0, 0, 0, 0, 0, 0, 0, 0, 0, 0, 0, 0, 0, 0, 0, 0, 0, 0, 0, 0, 0, 0, 0, 0, 0, 0, 0, 0, 0, 0, 0, 0, 0, 0, 0, 0, 0, 0, 0, 0, 0, 0, 0, 0, 0, 0, 0, 0, 0, 0, 0, 0, 0, 0, 0, 0, 0, 0, 0, 0, 0, 0, 0, 0, 0, 0, 0, 0, 0, 0, 0, 0, 0, 0, 0, 0, 0, 0, 0, 0, 0, 0, 0, 0, 0, 0, 0, 0, 0, 0, 0, 0, 0, 0, 0, 0, 0, 0, 0, 0, 0, 0, 0, 0, 0, 0, 0, 0, 0, 0, 0, 0, 0, 0, 0, 0, 0, 0, 0, 0, 0, 0, 0, 0, 0, 0, 0, 0, 0, 0, 0, 0, 0, 0, 0, 0, 0, 0, 0, 0, 0, 0, 0, 0, 0, 0, 0, 0, 0, 0, 1, 0, 0, 0, 0, 0, 0, 0, 0, 0, 0, 0, 0, 0, 0, 0, 0, 0, 0, 0, 0, 0, 0, 0, 0, 0, 0, 0, 0, 0, 0, 0, 0, 0, 0, 0, 0, 0, 0, 0, 0, 0, 0, 0, 0, 0, 0, 0, 0, 0, 0, 0, 0, 0, 0, 0, 0, 0, 0, 0, 0, 0, 0, 0, 0, 0, 0, 0, 0, 0, 0, 0, 0, 0, 0, 0, 0, 0, 0, 0, 0, 0, 0, 0, 0, 0, 0, 0, 0, 0, 0, 0, 0, 0, 0, 0, 0, 0, 0, 0, 0, 0, 0, 0, 0, 0, 0, 0, 0, 0, 0, 0, 0, 0, 0, 0, 0, 0, 0, 0, 0, 0, 0, 0, 0, 0, 0, 0, 0, 0, 0, 0, 0, 0, 0, 0, 0, 0, 0, 0, 0, 0, 0, 0, 0, 0, 0, 0, 0, 0, 0, 0, 0, 0, 0, 0, 0, 0, 0, 0, 0, 0, 0, 0, 0, 0, 0, 0, 0, 0, 0, 0, 0, 0, 0, 0, 0, 0, 0, 0, 0, 0, 0, 0, 0, 0, 0, 0, 0, 0, 0, 0, 0, 0, 0, 0, 0, 0, 0, 0, 0, 0, 0, 0, 0, 0, 0, 0, 0, 0, 0, 0, 0, 0, 0, 0, 0, 0, 0, 0, 0, 0, 0, 0, 0, 0, 0, 0, 0, 0, 0, 0, 0, 0, 0, 0, 0, 0, 0, 0, 0, 0, 0, 0, 0, 0, 0, 0, 0, 0, 0, 0, 0, 0, 1, 0, 0, 0, 0, 0, 0, 0, 0, 0, 0, 0, 0, 0, 0, 0, 0, 0, 0, 0, 0, 0, 0, 0, 0, 0, 0, 0, 0, 0, 0, 0, 0, 0, 0, 0, 0, 0, 0, 0, 0, 0, 0, 0, 0, 0, 0, 0, 0, 0, 0, 0, 0, 0, 0, 0, 0, 0, 0, 0, 0, 0, 0, 0, 0, 0, 0, 0, 0, 0, 0, 0, 0, 0, 0, 0, 0, 0, 0, 0, 0, 0, 0, 0, 0, 0, 0, 1, 0, 0, 0, 0, 0, 0, 0, 0, 0, 0, 0, 0, 0, 0, 0, 0, 0, 0, 0, 0, 0, 0, 0, 0, 0, 0, 0, 0, 0, 0, 0, 0, 0, 0, 0, 0, 0, 0, 0, 0, 0, 0, 0, 0, 0, 0, 0, 0, 0, 0, 0, 0, 0, 0, 0, 0, 0, 0, 0, 0, 0, 0, 0, 0, 0, 0, 0, 0, 0, 0, 0, 0, 0, 0, 0, 0, 0, 0, 0, 0, 0, 0, 0, 0, 0, 0, 0, 0, 0, 0, 0, 0, 0, 0, 0, 0, 0, 0, 0, 0, 0, 0, 0, 0, 0, 0, 0, 0, 0, 0, 0, 0, 0, 0, 0, 0, 0, 0, 0, 0, 0, 0, 0, 0, 0, 0, 0, 0, 0, 0, 0, 0, 0, 0, 0, 0, 0, 0, 0, 0, 0, 0, 0, 0, 0, 0, 0, 0, 0, 0, 0, 0, 0, 0, 0, 0, 0, 0, 0, 0, 0, 0, 0, 0, 0, 0, 0, 0, 0, 0, 0, 0, 0, 0, 0, 0, 0, 0, 0, 0, 0, 0, 0, 0, 0, 0, 0, 0, 0, 0, 0, 0, 0, 0, 0, 0, 0, 0, 0, 0, 0, 0, 0, 0, 0, 0, 0, 0, 0, 0, 0, 0, 0, 0, 0, 0, 0, 0, 0, 0, 0, 0, 0, 0, 0, 0, 0, 0, 0, 0, 0, 0, 0, 0, 0, 0, 0, 0, 0, 0, 0, 0, 0, 0, 0, 0, 0, 0, 0, 0, 0, 0, 1, 0, 0, 0, 0, 0, 0, 0, 0, 0, 0, 0, 0, 0, 0, 0, 0, 0, 0, 0, 0, 0, 0, 0, 0, 0, 0, 0, 0, 0, 0, 0, 0, 0, 0, 0, 0, 0, 0, 0, 0, 0, 0, 0, 0, 0, 0, 0, 0, 0, 0, 0, 0, 0, 0, 0, 1, 0, 0, 0, 0, 0, 0, 0, 0, 0, 0, 0, 0, 0, 0, 0, 0, 0, 0, 0, 0, 0, 0, 0, 0, 0, 0, 0, 0, 0, 0, 0, 0, 0, 0, 0, 0, 0, 0, 0, 0, 0, 0, 0, 0, 0, 0, 0, 0, 0, 0, 0, 0, 0, 0, 0, 0, 0, 0, 0, 0, 0, 0, 0, 0, 0, 0, 0, 0, 0, 0, 0, 0, 0, 0, 0, 0, 0, 0, 0, 0, 0, 0, 0, 0, 0, 0, 0, 0, 0, 0, 0, 0, 0, 0, 0, 0, 0, 0, 0, 0, 0, 0, 0, 0, 0, 0, 0, 0, 0, 0, 0, 0, 0, 0, 0, 0, 0, 0, 0, 0, 0, 0, 0, 0, 0, 0, 0, 0, 0, 0, 0, 0, 0, 0, 0, 0, 0, 0, 0, 0, 0, 0, 0, 0, 0, 0, 0, 0, 0, 0, 0, 0, 0, 0, 0, 0, 0, 0, 0, 0, 0, 0, 0, 0, 0, 0, 0, 0, 0, 0, 0, 0, 0, 0, 0, 0, 0, 0, 0, 0, 0, 0, 0, 0, 0, 0, 0, 0, 0, 0, 0, 0, 0, 0, 0, 0, 0, 0, 0, 0, 0, 0, 0, 0, 0, 0, 0, 0, 0, 0, 0, 0, 0, 0, 0, 0, 0, 0, 0, 0, 0, 0, 0, 0, 0, 0, 0, 0, 0, 0, 0, 0, 0, 0, 0, 0, 0, 0, 0, 0, 0, 0, 0, 0, 0, 0, 0, 0, 0, 0, 0, 0, 0, 0, 0, 0, 0, 0, 0, 0, 0, 0, 0, 0, 0, 0, 0, 0, 0, 0, 0, 0, 0, 0, 0, 0, 0, 0, 0, 0, 0, 0, 0, 0, 0, 0, 0, 0, 0, 0, 0, 0, 0, 0, 0, 0, 0, 0, 0, 0, 0, 0, 0, 0, 0, 0, 0, 0, 0, 0, 0, 0, 0, 0, 0, 0, 0, 0, 0, 0, 0, 0, 0, 0, 0, 0, 0, 0, 0, 0, 0, 0, 0, 0, 0, 0, 0, 0, 0, 0, 0, 0, 0, 0, 0, 0, 0, 0, 0, 0, 0, 0, 0, 0, 0, 0, 0, 0, 0, 0, 0, 0, 0, 0, 0, 0, 0, 0, 0, 0, 0, 0, 0, 0, 0, 0, 0, 0, 0, 0, 0, 0, 0, 0, 0, 0, 0, 0, 0, 0, 0, 0, 0, 0, 0, 0, 0, 0, 0, 0, 0, 0, 0, 0, 0, 0, 0, 0, 0, 0, 0, 0, 0, 0, 0, 0, 0, 0, 0, 0, 0, 0, 0, 0, 0, 0, 0, 0, 0, 0, 0, 0, 0, 0, 0, 0, 0, 0, 0, 0, 0, 0, 0, 0, 0, 0, 0, 0, 0, 0, 0, 0, 0, 0, 0, 0, 0, 0, 0, 0, 0, 0, 0, 0, 0, 0, 0, 0, 0, 0, 0, 0, 0, 0, 0, 0, 0, 0, 0, 0, 0, 0, 0, 0, 0, 0, 0, 0, 0, 0, 0, 0, 0, 0, 0, 0, 0, 0, 0, 0, 0, 0, 0, 0, 0, 0, 0, 0, 0, 0, 0, 0, 0, 0, 0, 0, 0, 0, 0, 0, 0, 0, 0, 0, 0, 0, 0, 0, 0, 0, 0, 0, 0, 0, 0, 0, 0, 0, 0, 0, 0, 0, 0, 0, 0, 0, 0, 0, 0, 0, 0, 0, 0, 0, 0, 0, 0, 0, 0, 0, 0, 0, 0, 0, 0, 0, 0, 0, 0, 0, 0, 0, 0, 0, 0, 0, 0, 0, 0, 0, 0, 0, 0, 0, 0, 0, 0, 0, 0, 0, 0, 0, 0, 0, 0, 0, 0, 0, 0, 0, 0, 0, 0, 0, 0, 0, 0, 0, 0, 0, 0, 0, 0, 0, 0, 0, 0, 0, 0, 0, 0, 0, 0, 0, 0, 0, 0, 0, 0, 0, 0, 0, 0, 0, 0, 0, 0, 0, 0, 0, 0, 0, 0, 0, 0, 0, 0, 0, 0, 0, 0, 0, 0, 0, 0, 0, 0, 0, 0, 0, 0, 0, 0, 0, 0, 0, 0, 0, 0, 0, 0, 0, 0, 0, 0, 0, 0, 0, 0, 0, 0, 1, 0, 0, 0, 0, 0, 0, 0, 0, 0, 0, 0, 0, 0, 0, 0, 0, 0, 0, 0, 0, 0, 0, 0, 0, 0, 0, 0, 0, 0, 0, 0, 0, 0, 0, 0, 0, 0, 0, 0, 0, 0, 0, 0, 0, 0, 0, 0, 0, 0, 0, 0, 0, 0, 0, 0, 0, 0, 0, 0, 0, 0, 0, 0, 0, 0, 0, 0, 0, 0, 0, 0, 0, 0, 0, 1, 0, 0, 0, 0, 0, 0, 0, 0, 0, 0, 0, 0, 0, 0, 0, 0, 0, 0, 0, 0, 1, 0, 0, 1, 0, 0, 0, 0, 0, 0, 0, 0, 0, 0, 0, 0, 0, 0, 0, 0, 0, 0, 0, 0, 0, 0, 0, 0, 0, 0, 0, 0, 0, 0, 0, 0, 0, 0, 0, 0, 0, 0, 0, 0, 0, 0, 0, 0, 0, 0, 0, 0, 0, 0, 0, 0, 0, 0, 0, 0, 0, 0, 0, 0, 0, 0, 0, 0, 0, 0, 0, 0, 0, 0, 0, 0, 0, 0, 0, 0, 0, 0, 0, 0, 0, 0, 0, 0, 0, 0, 0, 0, 0, 0, 0, 0, 0, 0, 0, 0, 0, 0, 0, 0, 0, 0, 0, 0, 0, 0, 0, 0, 0, 0, 0, 0, 0, 0, 0, 0, 0, 0, 0, 0, 0, 0, 0, 0, 0, 0, 0, 0, 0, 0, 0, 0, 0, 0, 0, 0, 0, 0, 0, 0, 0, 0, 0, 0, 0, 0, 0, 0, 0, 0, 0, 0, 0, 0, 0, 0, 0, 0, 0, 0, 0, 0, 0, 0, 0, 0, 0, 0, 0, 0, 0, 0, 0, 0, 0, 0, 0, 0, 0, 0, 0, 0, 0, 0, 0, 0, 0, 0, 0, 0, 0, 0, 0, 0, 0, 0, 0, 0, 0, 0, 0, 0, 0, 0, 0, 0, 0, 0, 0, 0, 0, 0, 0, 0, 0, 0, 0, 0, 0, 0, 0, 0, 0, 0, 0, 0, 0, 0, 0, 0, 0, 0, 0, 0, 0, 0, 0, 0, 0, 0, 0, 0, 0, 0, 0, 0, 0, 0, 0, 0, 0, 0, 0, 0, 0, 0, 0, 0, 0, 0, 0, 0, 0, 0, 0, 0, 0, 0, 0, 0, 0, 0, 0, 0, 0, 0, 0, 0, 0, 0, 0, 0, 0, 0, 0, 0, 0, 0, 0, 0, 0, 0, 0, 0, 0, 0, 0, 0, 0, 0, 0, 0, 0, 0, 0, 0, 0, 0, 0, 0, 0, 0, 0, 0, 0, 0, 0, 0, 0, 0, 0, 0, 0, 0, 0, 0, 0, 0, 0, 0, 0, 0, 0, 0, 0, 0, 0, 0, 0, 0, 0, 0, 0, 0, 0, 0, 0, 0, 0, 0, 0, 0, 0, 0, 0, 0, 0, 0, 0, 0, 0, 0, 0, 0, 0, 0, 0, 0, 0, 0, 0, 0, 0, 0, 0, 0, 0, 0, 0, 0, 0, 0, 0, 0, 0, 0, 0, 0, 0, 0, 0, 0, 0, 0, 0, 0, 0, 0, 0, 0, 0, 0, 0, 0, 0, 0, 0, 0, 0, 0, 0, 0, 0, 0, 0, 0, 0, 0, 0, 0, 0, 0, 0, 0, 0, 0, 0, 0, 0, 0, 0, 0, 0, 0, 0, 0, 0, 0, 0, 0, 0, 0, 0, 0, 0, 0, 0, 0, 0, 0, 0, 0, 0, 0, 0, 0, 0, 0, 0, 0, 0, 0, 0, 0, 0, 0, 1, 0, 0, 0, 0, 0, 0, 0, 0, 0, 0, 0, 0, 0, 0, 0, 0, 0, 0, 0, 0, 0, 0, 0, 0, 0, 0, 0, 0, 0, 0, 0, 0, 0, 0, 0, 0, 0, 0, 0, 0, 0, 0, 0, 0, 0, 0, 0, 0, 0, 0, 0, 0, 0, 0, 0, 0, 0, 0, 0, 0, 0, 0, 0, 0, 0, 0, 0, 0, 0, 0, 0, 0, 0, 0, 0, 0, 0, 0, 0, 0, 0, 0, 0, 0, 0, 0, 0, 0, 0, 0, 0, 0, 0, 0, 0, 0, 0, 0, 0, 0, 0, 0, 0, 0, 0, 0, 0, 0, 0, 0, 0, 0, 0, 0, 0, 0, 0, 0, 0, 0, 0, 0, 0, 0, 0, 0, 0, 0, 0, 0, 0, 0, 0, 0, 0, 0, 0, 0, 0, 0, 0, 0, 0, 0, 0, 0, 0, 0, 0, 0, 0, 0, 0, 0, 0, 0, 0, 0, 0, 0, 0, 0, 0, 0, 0, 0, 0, 0, 0, 0, 0, 0, 0, 0, 0, 0, 0, 0, 0, 0, 0, 0, 0, 0, 0, 0, 0, 0, 0, 0, 0, 0, 0, 0, 0, 0, 0, 0, 0, 0, 0, 0, 0, 0, 0, 0, 0, 0, 0, 0, 0, 0, 0, 0, 0, 0, 0, 0, 0, 0, 0, 0, 0, 0, 0, 0, 0, 0, 0, 0, 0, 0, 0, 0, 0, 0, 0, 0, 0, 0, 0, 0, 0, 0, 0, 0, 0, 0, 0, 0, 0, 0, 0, 0, 0, 0, 0, 0, 0, 0, 0, 0, 0, 0, 0, 0, 0, 0, 0, 0, 0, 0, 0, 0, 0, 0, 0, 0, 0, 0, 0, 0, 0, 0, 0, 0, 0, 0, 0, 0, 0, 0, 0, 0, 0, 0, 0, 0, 0, 0, 0, 0, 0, 0, 0, 0, 0, 0, 0, 0, 0, 0, 0, 0, 0, 0, 0, 0, 0, 0, 0, 0, 0, 0, 0, 0, 0, 0, 0, 0, 0, 0, 0, 0, 0, 0, 0, 0, 0, 0, 0, 0, 0, 0, 0, 0, 0, 0, 0, 0, 0, 0, 0, 0, 0, 0, 0, 0, 0, 0, 0, 0, 0, 0, 0, 0, 0, 0, 0, 0, 0, 0, 0, 0, 0, 0, 0, 0, 0, 0, 0, 0, 0, 0, 0, 0, 0, 0, 0, 0, 0, 0, 0, 0, 0, 0, 0, 0, 0, 0, 0, 0, 0, 0, 0, 0, 0, 0, 0, 0, 0, 0, 0, 0, 0, 0, 0, 0, 0, 0, 0, 0, 0, 0, 0, 0, 0, 0, 0, 0, 0, 0, 0, 0, 0, 0, 0, 0, 0, 0, 0, 0, 0, 0, 0, 0, 0, 0, 0, 0, 0, 0, 0, 0, 0, 0, 0, 0, 0, 0, 0, 0, 0, 0, 0, 0, 0, 0, 0, 0, 0, 0, 0, 0, 0, 0, 0, 0, 0, 0, 0, 0, 0, 0, 0, 0, 0, 0, 0, 0, 0, 0, 0, 0, 0, 0, 0, 0, 0, 0, 0, 0, 0, 0, 0, 0, 0, 0, 0, 0, 0, 0, 1, 0, 0, 0, 0, 0, 0, 0, 0, 0, 0, 0, 0, 0, 0, 0, 0, 0, 0, 0, 0, 0, 0, 0, 0, 0, 0, 0, 0, 0, 0, 0, 0, 0, 0, 0, 2, 0, 0, 0, 0, 0, 0, 0, 0, 0, 0, 0, 0, 0, 0, 0, 0, 0, 0, 0, 0, 0, 0, 0, 0, 0, 0, 0, 0, 0, 0, 0, 0, 0, 0, 0, 0, 0, 0, 0, 0, 1, 0, 0, 0, 0, 0, 0, 0, 0, 0, 0, 0, 0, 0, 0, 0, 0, 0, 0, 0, 0, 0, 0, 0, 0, 0, 0, 0, 0, 0, 0, 0, 0, 0, 0, 0, 0, 0, 0, 0, 0, 0, 0, 0, 0, 0, 0, 0, 0, 0, 0, 0, 0, 0, 0, 0, 0, 0, 0, 0, 0, 0, 0, 0, 0, 0, 0, 0, 0, 0, 0, 0, 0, 0, 0, 0, 0, 0, 0, 0, 0, 0, 0, 0, 0, 0, 0, 0, 0, 0, 0, 0, 0, 0, 0, 0, 0, 0, 0, 0, 0, 0, 0, 0, 0, 0, 0, 0, 0, 0, 0, 0, 0, 0, 0, 0, 0, 0, 0, 0, 0, 0, 0, 0, 0, 0, 0, 0, 0, 0, 0, 0, 0, 0, 0, 0, 0, 0, 0, 0, 0, 0, 0, 0, 0, 0, 0, 0, 0, 0, 0, 0, 0, 0, 0, 0, 0, 0, 0, 0, 0, 0, 0, 0, 0, 0, 0, 0, 0, 0, 0, 0, 0, 0, 0, 0, 0, 0, 0, 0, 0, 0, 0, 0, 0, 0, 0, 0, 0, 0, 0, 0, 0, 0, 0, 0, 0, 0, 0, 0, 0, 0, 0, 0, 0, 0, 0, 0, 0, 0, 0, 0, 0, 0, 0, 0, 0, 0, 0, 0, 0, 0, 0, 0, 0, 0, 0, 0, 0, 0, 0, 0, 0, 0, 0, 0, 0, 0, 0, 0, 0, 0, 0, 0, 0, 0, 0, 0, 0, 0, 0, 0, 0, 0, 0, 0, 0, 0, 0, 0, 0, 0, 0, 0, 0, 0, 0, 0, 0, 0, 0, 0, 0, 0, 0, 0, 0, 0, 0, 0, 0, 0, 0, 0, 0, 0, 0, 0, 0, 0, 0, 0, 0, 0, 0, 0, 0, 0, 0, 0, 0, 0, 0, 0, 0, 0, 0, 0, 0, 0, 0, 0, 0, 0, 0, 0, 0, 0, 0, 0, 0, 0, 0, 0, 0, 0, 0, 0, 0, 0, 0, 0, 0, 0, 0, 0, 0, 0, 0, 0, 0, 0, 0, 0, 0, 0, 0, 0, 0, 0, 0, 0, 0, 0, 0, 0, 0, 0, 0, 0, 0, 0, 0, 0, 0, 0, 0, 0, 0, 0, 0, 0, 0, 0, 0, 0, 0, 0, 0, 0, 0, 0, 0, 0, 0, 0, 0, 0, 0, 0, 0, 0, 0, 0, 0, 0, 0, 0, 0, 0, 0, 0, 0, 0, 0, 0, 0, 0, 0, 0, 0, 0, 0, 0, 0, 0, 0, 0, 0, 0, 0, 0, 0, 0, 0, 0, 0, 0, 0, 0, 0, 0, 0, 0, 0, 0, 0, 0, 0, 0, 0, 0, 0, 0, 0, 0, 0, 0, 0, 0, 0, 0, 0, 0, 0, 0, 0, 0, 0, 0, 0, 0, 0, 0, 0, 0, 0, 0, 0, 0, 0, 0, 0, 0, 0, 0, 0, 0, 0, 0, 0, 0, 0, 0, 0, 0, 0, 0, 0, 0, 0, 0, 0, 0, 0, 0, 0, 0, 1, 0, 0, 0, 0, 0, 0, 0, 0, 0, 0, 0, 0, 0, 0, 0, 0, 0, 0, 0, 0, 0, 0, 0, 0, 0, 0, 0, 0, 0, 0, 0, 0, 0, 0, 0, 0, 0, 0, 0, 0, 0, 0, 0, 0, 0, 0, 0, 0, 0, 0, 0, 0, 0, 0, 0, 0, 0, 0, 0, 0, 0, 0, 0, 0, 0, 0, 0, 0, 0, 0, 0, 0, 0, 0, 0, 0, 0, 0, 0, 0, 0, 0, 0, 0, 0, 0, 0, 0, 0, 0, 0, 0, 0, 0, 0, 0, 0, 0, 0, 0, 0, 0, 0, 0, 0, 0, 0, 0, 0, 0, 2, 0, 0, 0, 0, 0, 0, 0, 0, 0, 0, 0, 0, 0, 0, 0, 0, 0, 0, 0, 0, 0, 0, 0, 0, 0, 0, 0, 0, 0, 0, 0, 0, 0, 0, 0, 0, 0, 0, 0, 0, 0, 0, 0, 0, 0, 0, 0, 0, 0, 0, 0, 0, 0, 0, 0, 0, 0, 0, 0, 0, 0, 0, 0, 0, 0, 0, 0, 0, 0, 0, 0, 0, 0, 0, 0, 0, 0, 0, 0, 0, 0, 0, 0, 0, 0, 0, 0, 0, 0, 0, 0, 0, 0, 0, 0, 0, 0, 0, 0, 0, 0, 0, 0, 0, 0, 0, 0, 0, 0, 0, 0, 0, 0, 0, 0, 0, 0, 0, 0, 0, 0, 0, 0, 0, 0, 0, 0, 0, 0, 0, 0, 0, 0, 0, 0, 0, 0, 0, 0, 0, 0, 0, 0, 0, 0, 0, 0, 0, 0, 0, 0, 0, 0, 0, 0, 0, 0, 0, 0, 0, 0, 0, 0, 0, 0, 0, 0, 0, 0, 0, 0, 0, 0, 0, 0, 0, 0, 0, 0, 0, 0, 0, 0, 0, 0, 0, 0, 0, 0, 0, 0, 0, 0, 0, 0, 0, 0, 0, 0, 0, 0, 0, 0, 0, 0, 0, 0, 0, 0, 0, 0, 0, 0, 0, 0, 0, 0, 0, 0, 0, 0, 0, 0, 0, 0, 0, 0, 0, 0, 0, 0, 0, 0, 0, 0, 0, 0, 0, 0, 0, 0, 0, 0, 0, 0, 0, 0, 0, 0, 0, 0, 0, 0, 0, 0, 0, 0, 0, 0, 0, 0, 0, 0, 0, 0, 0, 0, 0, 0, 0, 0, 0, 0, 0, 0, 0, 0, 0, 0, 0, 0, 0, 0, 0, 0, 0, 0, 0, 0, 0, 0, 0, 0, 0, 0, 0, 0, 0, 0, 0, 0, 0, 0, 0, 0, 0, 0, 0, 0, 0, 0, 0, 0, 0, 0, 0, 0, 0, 0, 0, 0, 0, 0, 0, 0, 0, 0, 0, 0, 0, 0, 0, 0, 0, 0, 0, 0, 0, 0, 0, 0, 0, 0, 0, 0, 0, 0, 0, 0, 0, 0, 0, 0, 0, 0, 0, 0, 0, 0, 0, 0, 0, 0, 0, 0, 0, 0, 0, 0, 0, 0, 0, 0, 0, 0, 0, 0, 0, 0, 0, 0, 0, 0, 0, 0, 0, 0, 0, 0, 0, 0, 0, 0, 0, 0, 0, 0, 0, 0, 0, 0, 0, 0, 0, 0, 0, 0, 0, 0, 0, 0, 0, 0, 0, 0, 0, 0, 0, 0, 0, 0, 0, 0, 0, 0, 0, 0, 0, 0, 0, 0, 0, 0, 0, 0, 0, 0, 0, 0, 0, 0, 0, 0, 0, 0, 0, 0, 0, 0, 0, 0, 0, 0, 0, 0, 0, 0, 0, 0, 0, 0, 0, 0, 0, 0, 0, 0, 0, 0, 0, 0, 0, 0, 0, 0, 0, 0, 0, 0, 0, 0, 0, 0, 0, 0, 0, 0, 0, 0, 0, 0, 0, 0, 0, 0, 0, 0, 0, 0, 0, 0, 0, 0, 0, 0, 0, 0, 0, 0, 0, 0, 0, 0, 0, 0, 0, 0, 0, 0, 0, 0, 0, 0, 0, 0, 0, 0, 0, 0, 0, 0, 0, 0, 0, 0, 0, 0, 0, 0, 0, 0, 0, 0, 0, 0, 0, 0, 0, 0, 0, 0, 0, 0, 0, 0, 0, 0, 0, 0, 0, 0, 0, 0, 0, 0, 0, 0, 0, 0, 0, 0, 0, 0, 0, 0, 0, 0, 0, 0, 0, 0, 0, 0, 0, 0, 0, 0, 0, 0, 0, 0, 0, 0, 0, 0, 0, 0, 0, 0, 0, 0, 0, 0, 0, 0, 0, 0, 0, 0, 0, 0, 0, 0, 0, 0, 0, 0, 0, 0, 0, 0, 0, 0, 0, 0, 0, 0, 0, 0, 0, 0, 0, 0, 0, 0, 0, 0, 0, 0, 0, 0, 0, 0, 0, 0, 0, 0, 0, 0, 0, 0, 0, 0, 0, 0, 0, 0, 0, 0, 0, 0, 0, 0, 0, 0, 0, 0, 0, 0, 0, 0, 0, 0, 0, 0, 0, 0, 0, 0, 0, 0, 0, 0, 0, 0, 0, 0, 0, 0, 0, 1, 0, 0, 0, 0, 0, 0, 0, 0, 0, 0, 0, 0, 0, 0, 0, 0, 0, 0, 0, 0, 0, 0, 0, 0, 0, 0, 0, 0, 0, 0, 0, 0, 0, 0, 0, 0, 0, 0, 0, 0, 0, 0, 0, 0, 0, 0, 0, 0, 0, 0, 0, 0, 0, 0, 0, 0, 0, 0, 0, 0, 0, 0, 0, 0, 0, 0, 0, 0, 0, 0, 0, 0, 0, 0, 0, 0, 0, 0, 0, 0, 0, 0, 0, 0, 0, 0, 0, 0, 0, 0, 0, 0, 0, 0, 0, 0, 0, 0, 0, 0, 0, 0, 0, 0, 0, 0, 0, 1, 0, 0, 0, 0, 0, 0, 0, 0, 0, 0, 0, 0, 0, 0, 0, 0, 0, 0, 0, 0, 0, 0, 0, 0, 0, 0, 0, 0, 0, 0, 0, 0, 0, 0, 0, 0, 0, 0, 0, 0, 0, 0, 0, 0, 0, 0, 0, 0, 0, 0, 0, 0, 0, 0, 0, 0, 0, 0, 0, 0, 0, 0, 0, 0, 0, 0, 0, 0, 0, 0, 0, 0, 0, 0, 0, 0, 0, 0, 0, 0, 0, 0, 0, 0, 0, 0, 0, 0, 0, 0, 0, 0, 0, 0, 0, 0, 0, 0, 0, 0, 0, 0, 0, 0, 0, 0, 0, 0, 0, 0, 0, 0, 0, 0, 0, 0, 0, 0, 0, 0, 0, 0, 0, 0, 0, 0, 0, 0, 0, 0, 0, 0, 0, 0, 0, 0, 0, 0, 0, 0, 0, 0, 0, 0, 0, 0, 0, 0, 0, 0, 0, 0, 0, 0, 0, 0, 0, 0, 0, 0, 0, 0, 0, 0, 0, 0, 0, 0, 0, 0, 0, 0, 0, 0, 0, 0, 0, 0, 0, 0, 0, 0, 0, 0, 0, 0, 0, 0, 0, 0, 0, 0, 0, 0, 0, 0, 0, 0, 0, 0, 0, 0, 0, 0, 0, 0, 0, 0, 0, 0, 0, 0, 0, 0, 0, 0, 0, 0, 0, 0, 0, 0, 0, 0, 0, 0, 0, 0, 0, 0, 0, 0, 0, 0, 0, 0, 0, 0, 0, 0, 0, 0, 0, 0, 0, 0, 0, 0, 0, 0, 0, 0, 0, 0, 0, 0, 0, 0, 0, 0, 0, 0, 0, 0, 0, 0, 0, 0, 0, 0, 0, 0, 0, 0, 0, 0, 0, 0, 0, 0, 0, 0, 0, 0, 0, 0, 0, 0, 0, 0, 0, 0, 0, 0, 0, 0, 0, 0, 0, 0, 0, 0, 0, 0, 0, 0, 0, 0, 0, 0, 0, 0, 0, 0, 0, 0, 0, 0, 0, 0, 0, 0, 0, 0, 0, 0, 0, 0, 0, 0, 0, 0, 0, 0, 0, 0, 0, 0, 0, 0, 0, 0, 0, 0, 0, 0, 0, 0, 0, 0, 0, 0, 0, 0, 0, 0, 0, 0, 0, 0, 0, 0, 0, 0, 0, 0, 0, 0, 0, 0, 0, 0, 0, 0, 0, 0, 0, 0, 0, 0, 0, 0, 0, 0, 0, 0, 0, 0, 0, 0, 0, 0, 0, 0, 0, 0, 0, 0, 0, 0, 0, 0, 0, 0, 0, 0, 0, 0, 0, 0, 0, 0, 0, 0, 0, 0, 0, 0, 0, 0, 0, 0, 0, 0, 0, 0, 0, 0, 0, 0, 0, 0, 0, 0, 0, 0, 0, 0, 0, 0, 0, 0, 0, 0, 0, 0, 0, 0, 0, 0, 0, 0, 0, 0, 0, 0, 0, 0, 0, 0, 0, 0, 0, 2, 0, 1, 0], type: <class 'list'>, valid types: <class 'bytes'>, <class 'bytearray'>, file-like object"
     ]
    }
   ],
   "source": [
    "response = runtime.invoke_endpoint(EndpointName = xgb_predictor.endpoint, # The name of the endpoint we created\n",
    "                                       ContentType = 'text/csv',                     # The data format that is expected\n",
    "                                       Body = test_bow)"
   ]
  },
  {
   "cell_type": "markdown",
   "metadata": {},
   "source": [
    "So why did we get an error?\n",
    "\n",
    "Because we tried to send the endpoint a list of integers but it expected us to send data of type `text/csv`. So, we need to convert it."
   ]
  },
  {
   "cell_type": "code",
   "execution_count": 45,
   "metadata": {},
   "outputs": [],
   "source": [
    "response = runtime.invoke_endpoint(EndpointName = xgb_predictor.endpoint, # The name of the endpoint we created\n",
    "                                       ContentType = 'text/csv',                     # The data format that is expected\n",
    "                                       Body = ','.join([str(val) for val in test_bow]).encode('utf-8'))"
   ]
  },
  {
   "cell_type": "code",
   "execution_count": 46,
   "metadata": {},
   "outputs": [
    {
     "name": "stdout",
     "output_type": "stream",
     "text": [
      "{'ResponseMetadata': {'RequestId': 'a91f01a6-6af2-4822-b660-bdf702af2786', 'HTTPStatusCode': 200, 'HTTPHeaders': {'x-amzn-requestid': 'a91f01a6-6af2-4822-b660-bdf702af2786', 'x-amzn-invoked-production-variant': 'AllTraffic', 'date': 'Thu, 11 Jun 2020 16:03:37 GMT', 'content-type': 'text/csv; charset=utf-8', 'content-length': '14'}, 'RetryAttempts': 0}, 'ContentType': 'text/csv; charset=utf-8', 'InvokedProductionVariant': 'AllTraffic', 'Body': <botocore.response.StreamingBody object at 0x7f6306202ba8>}\n"
     ]
    }
   ],
   "source": [
    "print(response)"
   ]
  },
  {
   "cell_type": "markdown",
   "metadata": {},
   "source": [
    "As we can see, the response from our model is a somewhat complicated looking dict that contains a bunch of information. The bit that we are most interested in is `'Body'` object which is a streaming object that we need to `read` in order to make use of."
   ]
  },
  {
   "cell_type": "code",
   "execution_count": 47,
   "metadata": {},
   "outputs": [
    {
     "name": "stdout",
     "output_type": "stream",
     "text": [
      "0.374631792307\n"
     ]
    }
   ],
   "source": [
    "response = response['Body'].read().decode('utf-8')\n",
    "print(response)"
   ]
  },
  {
   "cell_type": "markdown",
   "metadata": {},
   "source": [
    "Now that we know how to process the incoming user data we can start setting up the infrastructure to make our simple web app work. To do this we will make use of two different services. Amazon's Lambda and API Gateway services.\n",
    "\n",
    "Lambda is a service which allows someone to write some relatively simple code and have it executed whenever a chosen trigger occurs. For example, you may want to update a database whenever new data is uploaded to a folder stored on S3.\n",
    "\n",
    "API Gateway is a service that allows you to create HTTP endpoints (url addresses) which are connected to other AWS services. One of the benefits to this is that you get to decide what credentials, if any, are required to access these endpoints.\n",
    "\n",
    "In our case we are going to set up an HTTP endpoint through API Gateway which is open to the public. Then, whenever anyone sends data to our public endpoint we will trigger a Lambda function which will send the input (in our case a review) to our model's endpoint and then return the result."
   ]
  },
  {
   "cell_type": "markdown",
   "metadata": {},
   "source": [
    "### Setting up a Lambda function\n",
    "\n",
    "The first thing we are going to do is set up a Lambda function. This Lambda function will be executed whenever our public API has data sent to it. When it is executed it will receive the data, perform any sort of processing that is required, send the data (the review) to the SageMaker endpoint we've created and then return the result.\n",
    "\n",
    "#### Part A: Create an IAM Role for the Lambda function\n",
    "\n",
    "Since we want the Lambda function to call a SageMaker endpoint, we need to make sure that it has permission to do so. To do this, we will construct a role that we can later give the Lambda function.\n",
    "\n",
    "Using the AWS Console, navigate to the **IAM** page and click on **Roles**. Then, click on **Create role**. Make sure that the **AWS service** is the type of trusted entity selected and choose **Lambda** as the service that will use this role, then click **Next: Permissions**.\n",
    "\n",
    "In the search box type `sagemaker` and select the check box next to the **AmazonSageMakerFullAccess** policy. Then, click on **Next: Review**.\n",
    "\n",
    "Lastly, give this role a name. Make sure you use a name that you will remember later on, for example `LambdaSageMakerRole`. Then, click on **Create role**."
   ]
  },
  {
   "cell_type": "markdown",
   "metadata": {},
   "source": [
    "#### Part B: Create a Lambda function\n",
    "\n",
    "Now it is time to actually create the Lambda function. Remember from earlier that in order to process the user provided input and send it to our endpoint we need to gather two pieces of information:\n",
    "\n",
    " - The name of the endpoint, and\n",
    " - the vocabulary object.\n",
    "\n",
    "We will copy these pieces of information to our Lambda function after we create it.\n",
    "\n",
    "To start, using the AWS Console, navigate to the AWS Lambda page and click on **Create a function**. When you get to the next page, make sure that **Author from scratch** is selected. Now, name your Lambda function, using a name that you will remember later on, for example `sentiment_analysis_xgboost_func`. Make sure that the **Python 3.6** runtime is selected and then choose the role that you created in the previous part. Then, click on **Create Function**.\n",
    "\n",
    "On the next page you will see some information about the Lambda function you've just created. If you scroll down you should see an editor in which you can write the code that will be executed when your Lambda function is triggered. Collecting the code we wrote above to process a single review and adding it to the provided example `lambda_handler` we arrive at the following.\n",
    "\n",
    "```python\n",
    "# We need to use the low-level library to interact with SageMaker since the SageMaker API\n",
    "# is not available natively through Lambda.\n",
    "import boto3\n",
    "\n",
    "# And we need the regular expression library to do some of the data processing\n",
    "import re\n",
    "\n",
    "REPLACE_NO_SPACE = re.compile(\"(\\.)|(\\;)|(\\:)|(\\!)|(\\')|(\\?)|(\\,)|(\\\")|(\\()|(\\))|(\\[)|(\\])\")\n",
    "REPLACE_WITH_SPACE = re.compile(\"(<br\\s*/><br\\s*/>)|(\\-)|(\\/)\")\n",
    "\n",
    "def review_to_words(review):\n",
    "    words = REPLACE_NO_SPACE.sub(\"\", review.lower())\n",
    "    words = REPLACE_WITH_SPACE.sub(\" \", words)\n",
    "    return words\n",
    "    \n",
    "def bow_encoding(words, vocabulary):\n",
    "    bow = [0] * len(vocabulary) # Start by setting the count for each word in the vocabulary to zero.\n",
    "    for word in words.split():  # For each word in the string\n",
    "        if word in vocabulary:  # If the word is one that occurs in the vocabulary, increase its count.\n",
    "            bow[vocabulary[word]] += 1\n",
    "    return bow\n",
    "\n",
    "\n",
    "def lambda_handler(event, context):\n",
    "    \n",
    "    vocab = \"*** ACTUAL VOCABULARY GOES HERE ***\"\n",
    "    \n",
    "    words = review_to_words(event['body'])\n",
    "    bow = bow_encoding(words, vocab)\n",
    "\n",
    "    # The SageMaker runtime is what allows us to invoke the endpoint that we've created.\n",
    "    runtime = boto3.Session().client('sagemaker-runtime')\n",
    "\n",
    "    # Now we use the SageMaker runtime to invoke our endpoint, sending the review we were given\n",
    "    response = runtime.invoke_endpoint(EndpointName = '***ENDPOINT NAME HERE***',# The name of the endpoint we created\n",
    "                                       ContentType = 'text/csv',                 # The data format that is expected\n",
    "                                       Body = ','.join([str(val) for val in bow]).encode('utf-8')) # The actual review\n",
    "\n",
    "    # The response is an HTTP response whose body contains the result of our inference\n",
    "    result = response['Body'].read().decode('utf-8')\n",
    "    \n",
    "    # Round the result so that our web app only gets '1' or '0' as a response.\n",
    "    result = round(float(result))\n",
    "\n",
    "    return {\n",
    "        'statusCode' : 200,\n",
    "        'headers' : { 'Content-Type' : 'text/plain', 'Access-Control-Allow-Origin' : '*' },\n",
    "        'body' : str(result)\n",
    "    }\n",
    "```"
   ]
  },
  {
   "cell_type": "markdown",
   "metadata": {},
   "source": [
    "Once you have copy and pasted the code above into the Lambda code editor, replace the `**ENDPOINT NAME HERE**` portion with the name of the endpoint that we deployed earlier. You can determine the name of the endpoint using the code cell below."
   ]
  },
  {
   "cell_type": "code",
   "execution_count": 48,
   "metadata": {},
   "outputs": [
    {
     "data": {
      "text/plain": [
       "'xgboost-2020-06-11-15-35-06-449'"
      ]
     },
     "execution_count": 48,
     "metadata": {},
     "output_type": "execute_result"
    }
   ],
   "source": [
    "xgb_predictor.endpoint"
   ]
  },
  {
   "cell_type": "markdown",
   "metadata": {},
   "source": [
    "In addition, you will need to copy the vocabulary dict to the appropriate place in the code at the beginning of the `lambda_handler` method. The cell below prints out the vocabulary dict in a way that is easy to copy and paste."
   ]
  },
  {
   "cell_type": "code",
   "execution_count": 49,
   "metadata": {},
   "outputs": [
    {
     "name": "stdout",
     "output_type": "stream",
     "text": [
      "{'in': 2257, 'the': 4426, 'old': 3100, 'commercial': 902, 'for': 1784, 'blank': 501, 'audio': 354, 'tag': 4348, 'line': 2610, 'was': 4805, 'is': 2360, 'it': 2366, 'real': 3547, 'or': 3124, 'same': 3778, 'might': 2835, 'be': 418, 'said': 3774, 'events': 1536, 'this': 4457, 'episode': 1507, 'and': 226, 'of': 3083, 'cage': 645, 'first': 1736, 'pilot': 3276, 'star': 4150, 'trek': 4578, 'mr': 2929, 'has': 2043, 'cleverly': 842, 'ship': 3934, 'to': 4507, 'take': 4349, 'forbidden': 1785, 'planet': 3289, 'order': 3126, 'allow': 189, 'christopher': 811, 'his': 2118, 'captain': 674, 'who': 4871, 'been': 438, 'burned': 626, 'return': 3665, 'there': 4438, 'why': 4878, 'because': 432, 'have': 2052, 'any': 256, 'contact': 961, 'at': 331, 'all': 187, 'with': 4911, 'death': 1141, 'sentence': 3881, 'so': 4046, 'never': 3001, 'explained': 1587, 'that': 4424, 'bothered': 549, 'me': 2778, 'but': 636, 'if': 2222, 'nothing': 3047, 'else': 1448, 'adds': 119, 'story': 4207, 'after': 143, 'he': 2056, 'gotten': 1947, 'travel': 4567, 'turns': 4609, 'himself': 2111, 'dr': 1340, 'most': 2909, 'officer': 3092, 'present': 3374, 'kirk': 2482, 'off': 3084, 'says': 3801, 'charge': 761, 'received': 3564, 'orders': 3127, 'over': 3148, 'what': 4858, 'follows': 1775, 'court': 1020, 'martial': 2747, 'which': 4867, 'thanks': 4423, 'we': 4823, 'learn': 2550, 'important': 2247, 'besides': 468, 'obvious': 3071, 'get': 1899, 'even': 1533, 'risk': 3704, 'create': 1036, 'background': 380, 'music': 2946, 'entire': 1502, 'storyline': 4208, 'are': 285, 'fantastic': 1651, 'as': 311, 'head': 2057, 'wonderful': 4928, 'call': 651, 'occurred': 3077, 'woman': 4921, 'role': 3726, 'she': 3923, 'perfect': 3224, 'having': 2054, 'given': 1913, 'up': 4683, 'almost': 193, 'physical': 3262, 'becoming': 435, 'completely': 922, 'upon': 4684, 'power': 3359, 'also': 199, 'you': 4986, 'cant': 671, 'really': 3556, 'tell': 4395, 'theyre': 4445, 'male': 2719, 'female': 1693, 'doesnt': 1309, 'matter': 2769, 'more': 2904, 'than': 4420, 'other': 3135, 'series': 3890, 'makes': 2716, 'hope': 2155, 'worlds': 4947, 'out': 3141, 'far': 1653, 'advanced': 128, 'neat': 2982, 'thing': 4450, 'were': 4848, 'one': 3107, 'my': 2951, 'favorite': 1671, 'episodes': 1508, 'no': 3020, 'how': 2181, 'many': 2732, 'times': 4497, 'ive': 2372, 'seen': 3865, 'on': 3105, 'video': 4733, 'fails': 1628, 'looks': 2649, 'like': 2599, 'an': 223, 'alien': 183, 'do': 1302, 'not': 3040, 'mean': 2779, 'good': 1937, 'performances': 3229, 'save': 3794, 'terrible': 4407, 'script': 3834, 'every': 1539, 'cliche': 843, 'chick': 786, 'flick': 1754, 'book': 535, 'both': 547, 'main': 2707, 'characters': 760, 'deeply': 1156, 'scene': 3809, 'where': 4864, 'laura': 2536, 'character': 758, 'about': 67, 'sex': 3907, 'her': 2085, 'dead': 1132, 'husband': 2204, 'front': 1841, 'teenage': 4389, 'son': 4070, 'think': 4452, 'supposed': 4306, 'poignant': 3315, 'just': 2437, 'horrifying': 2167, 'panic': 3181, 'streets': 4217, 'fairly': 1631, 'unknown': 4668, 'little': 2624, 'movie': 2926, 'from': 1840, 'director': 1264, 'made': 2697, 'before': 440, 'classic': 835, 'masterpieces': 2760, 'such': 4268, 'named': 2961, 'desire': 1205, 'east': 1407, 'already': 197, 'won': 4925, 'oscar': 3133, 'time': 4495, 'still': 4188, 'mostly': 2910, 'passed': 3202, 'under': 4639, 'great': 1964, 'winning': 4898, 'very': 4723, 'concept': 930, 'its': 2370, 'excellent': 1555, 'tense': 4403, 'thriller': 4472, 'material': 2766, 'crime': 1055, 'film': 1716, 'noir': 3023, 'elements': 1443, 'dialog': 1232, 'absolutely': 72, 'magnificent': 2705, 'gives': 1914, 'feel': 1684, 'reality': 3551, 'credibility': 1047, 'cast': 710, 'especially': 1520, 'released': 3603, 'features': 1680, 'zero': 4996, 'jack': 2373, 'their': 4431, 'roles': 3727, 'tough': 4537, 'gangster': 1868, 'boss': 546, 'powerful': 3360, 'looking': 2648, 'face': 1616, 'drags': 1345, 'some': 4061, 'points': 3319, 'starts': 4159, 'well': 4843, 'start': 4156, 'down': 1335, 'does': 1308, 'always': 203, 'right': 3696, 'decisions': 1152, 'terms': 4406, 'pace': 3161, 'point': 3316, 'view': 4736, 'told': 4513, 'yet': 4984, 'remains': 3611, 'perfectly': 3226, 'watchable': 4812, 'mainly': 2708, 'due': 1382, 'solid': 4057, 'believable': 453, 'watch': 4811, 'fans': 1650, 'genre': 1888, '10': 0, 'enjoyed': 1486, 'watching': 4815, 'people': 3221, 'watched': 4813, 'wasnt': 4807, 'sure': 4308, 'getting': 1901, 'goldberg': 1933, 'funny': 1852, 'comedian': 887, 'done': 1322, 'lot': 2661, 'movies': 2927, 'ie': 2221, 'sister': 4001, 'act': 97, 'however': 2183, 'comedy': 890, 'drama': 1346, 'comedic': 888, 'moments': 2887, 'your': 4991, 'laugh': 2529, 'then': 4436, 'keep': 2449, 'black': 493, 'family': 1645, 'moving': 2928, 'nice': 3008, 'neighborhood': 2993, 'city': 825, 'upper': 4685, 'middle': 2833, 'class': 833, 'would': 4957, 'say': 3799, 'spoil': 4121, 'deal': 1135, 'race': 3499, 'relations': 3596, 'between': 475, 'blacks': 494, 'community': 908, 'worth': 4953, 'chance': 747, 'interested': 2324, 'see': 3855, 'another': 250, 'isnt': 2362, 'saw': 3798, 'couple': 1016, 'weeks': 4839, 'dont': 1324, 'remember': 3616, 'exactly': 1551, 'when': 4862, 'thought': 4462, 'alright': 198, 'ben': 463, 'stiller': 4189, 'person': 3238, 'without': 4913, 'sense': 3877, 'humor': 2192, 'jokes': 2415, 'them': 4432, 'website': 4834, 'didnt': 1242, 'anything': 260, 'rating': 3529, 'larger': 2519, 'should': 3951, 'better': 472, 'maybe': 2776, 'im': 2232, 'giving': 1915, 'persons': 3244, 'opinion': 3118, 'young': 4989, 'jewish': 2401, 'living': 2629, 'century': 736, 'england': 1482, 'surrounded': 4318, 'by': 642, 'dreary': 1356, 'worn': 4948, 'brown': 601, 'lives': 2628, 'tiny': 4500, 'apartment': 265, 'large': 2517, 'whom': 4875, 'clothes': 860, 'shop': 3945, 'within': 4912, 'child': 789, 'worked': 4941, 'had': 2003, 'wore': 4939, 'clothing': 861, 'bed': 436, 'silent': 3975, 'mother': 2911, 'boredom': 542, 'life': 2592, 'state': 4160, 'mental': 2808, 'expression': 1602, 'plain': 3286, 'grey': 1973, 'mundane': 2938, 'buildings': 616, 'loud': 2664, 'lifestyle': 2593, 'only': 3110, 'form': 1798, 'escape': 1517, 'theatre': 4429, 'sitting': 4007, 'row': 3744, 'vast': 4716, 'space': 4090, 'mind': 2849, 'stage': 4139, 'despite': 1211, 'freedom': 1828, 'open': 3112, 'provides': 3450, 'body': 527, 'remain': 3609, 'common': 906, 'summer': 4291, 'brilliantly': 584, 'convey': 982, 'want': 4788, 'unusual': 4681, 'finally': 1724, 'decides': 1150, 'break': 569, 'free': 1827, 'bleak': 503, 'trapped': 4564, 'eventually': 1537, 'minor': 2857, 'parts': 3199, 'few': 1700, 'plays': 3301, 'meets': 2795, 'portrayed': 3342, 'british': 589, 'actor': 103, 'ian': 2209, 'teach': 4374, 'technical': 4381, 'skill': 4013, 'acting': 99, 'forward': 1808, 'begins': 444, 'journey': 2421, 'learning': 2552, 'emotions': 1461, 'felt': 1692, 'experience': 1580, 'needs': 2990, 'fully': 1847, 'aspects': 322, 'walks': 4780, 'across': 96, 'through': 4477, 'emotional': 1459, 'steps': 4177, 'surprise': 4312, 'anger': 235, 'self': 3869, 'etc': 1527, 'walking': 4779, 'those': 4460, 'personal': 3240, 'three': 4469, 'tells': 4397, 'truth': 4599, 'react': 3540, 'these': 4441, 'slowly': 4032, 'lead': 2545, 'two': 4620, 'experiences': 1582, 'mark': 2739, 'beginning': 443, 'movement': 2923, 'emotion': 1458, 'technically': 4382, 'challenging': 744, 'odd': 3080, 'camera': 659, 'shots': 3950, 'photo': 3257, 'direction': 1261, 'realistic': 3550, 'setting': 3900, 'portrayal': 3341, 'nature': 2975, 'must': 2950, 'craft': 1028, 'appreciate': 279, 'films': 1721, 'fascinated': 1657, 'truly': 4597, 'bad': 382, 'viewer': 4738, 'something': 4066, 'reflect': 3584, 'here': 2086, 'impressed': 2251, 'garbage': 1870, 'street': 4216, 'hotel': 2175, 'narrator': 2967, 'interviews': 2330, 'edited': 1420, 'achieve': 92, 'best': 469, 'part': 3193, 'interview': 2329, 'professor': 3422, 'us': 4690, 'will': 4886, 'finished': 1733, 'am': 204, 'amazed': 208, 'believe': 454, 'creator': 1043, 'struggling': 4236, 'become': 433, 'intellectual': 2312, 'trying': 4601, 'impress': 2250, 'che': 773, 'cuba': 1075, 'portion': 3338, 'contains': 964, 'too': 4522, 'battles': 415, 'wounded': 4961, 'ends': 1474, 'wins': 4899, 'revolution': 3680, 'gets': 1900, 'second': 3846, 'guess': 1989, 'realized': 3553, 'epic': 1506, 'knew': 2486, 'title': 4504, 'started': 4157, 'naturally': 2974, 'greatest': 1966, 'david': 1124, 'lawrence': 2539, 'later': 2525, 'racist': 3503, 'aside': 315, 'mentioned': 2811, 'fact': 1621, 'actors': 104, 'look': 2646, 'alike': 185, 'considering': 952, 'they': 4442, 'wear': 4830, 'results': 3662, 'being': 448, 'able': 66, 'identify': 2216, 'anyone': 259, 'del': 1165, 'while': 4868, 'terrific': 4409, 'peter': 3247, 'anthony': 253, 'idea': 2213, 'loss': 2659, 'reference': 3582, 'top': 4525, 'killed': 2469, 'since': 3990, 'know': 2489, 'thats': 4425, 'spoiler': 4123, 'theres': 4440, 'empathy': 1462, 'audience': 352, 'hes': 2093, 'dimensional': 1253, 'relate': 3593, 'human': 2188, 'revolutionary': 3681, 'jesus': 2399, 'moral': 2902, 'married': 2744, 'five': 1743, 'children': 792, 'near': 2979, 'end': 1468, 'motivation': 2914, 'complete': 921, 'lets': 2580, 'mystery': 2956, 'man': 2721, 'least': 2554, 'friend': 1835, 'qualities': 3483, 'machine': 2693, 'warm': 4794, 'earlier': 1399, 'year': 4978, 'war': 4792, 'cameron': 661, 'grant': 1956, 'directors': 1266, 'doing': 1312, 'adult': 125, 'rival': 3706, 'andrew': 228, 'blake': 498, 'thru': 4483, 'office': 3091, 'sequence': 3887, 'ladies': 2506, 'incredible': 2269, 'nearly': 2981, 'performance': 3228, 'construction': 960, 'worker': 4942, 'highly': 2105, 'recommend': 3571, 'gave': 1875, '2000': 30, 'kevin': 2457, 'believed': 455, 'de': 1131, 'close': 853, 'prison': 3401, 'sets': 3899, 'make': 2713, 'new': 3003, 'things': 4451, 'going': 1931, 'busy': 635, 'helping': 2081, 'homeless': 2143, 'dogs': 1311, 'strikes': 4225, 'big': 478, 'turn': 4605, 'cure': 1081, 'back': 378, 'determined': 1221, 'wanted': 4789, 'glenn': 1918, 'once': 3106, 'again': 146, 'highlight': 2103, 'dull': 1384, 'sequel': 3885, 'feels': 1687, 'repeat': 3630, 'previous': 3387, 'rather': 3528, 'shes': 3930, 'changed': 750, 'ken': 2453, 'genuinely': 1892, 'single': 3996, 'moment': 2886, 'covers': 1024, 'can': 665, 'stars': 4155, 'creators': 1044, 'south': 4087, 'park': 3190, 'directed': 1259, 'immediately': 2242, 'realise': 3548, 'matt': 2768, 'talent': 4354, 'writing': 4971, 'came': 656, 'quite': 3495, 'impressive': 2253, 'pleasantly': 3303, 'surprised': 4313, 'sometimes': 4067, 'crude': 1069, 'foul': 1810, 'brilliant': 583, 'subtle': 4260, 'stupid': 4247, 'overall': 3150, 'hell': 2077, 'doubt': 1332, 'rated': 3527, 'actually': 109, 'insane': 2296, 'totally': 4532, 'unfunny': 4655, 'timing': 4498, 'slapstick': 4019, 'kind': 2476, 'certain': 737, 'sequences': 3888, 'wonder': 4926, 'actual': 108, 'quality': 3484, 'irrelevant': 2358, 'viewing': 4740, 'buffs': 612, 'examples': 1554, 'gay': 1876, 'cinema': 816, 'guy': 2000, 'much': 2934, 'stereotypical': 4180, 'early': 1400, 'attitude': 346, 'pretty': 3384, 'awful': 372, 'fascinating': 1658, 'historical': 2119, 'love': 2669, 'everything': 1544, 'detail': 1217, 'id': 2212, 'shed': 3924, 'light': 2595, 'onto': 3111, 'footage': 1782, 'standing': 4146, 'heard': 2062, 'used': 4693, 'whole': 4873, 'set': 3898, 'reason': 3557, 'could': 1007, 'stop': 4201, 'st': 4137, 'martin': 2748, 'several': 3905, 'typical': 4623, 'lynch': 2691, 'slightly': 4029, 'raw': 3532, 'amateurish': 207, 'purpose': 3474, 'give': 1912, 'greater': 1965, 'realism': 3549, 'serves': 3895, 'intensity': 2317, 'surreal': 4317, 'floating': 1758, 'work': 4940, 'haunting': 2051, 'long': 2644, 'hanging': 2023, 'lights': 2597, 'growing': 1983, 'darker': 1116, 'slow': 4031, 'extreme': 1609, 'ups': 4686, 'themes': 4434, 'women': 4923, 'trouble': 4592, 'knowing': 2490, 'facing': 1620, 'dark': 1115, 'short': 3946, 'provoking': 3452, 'usual': 4699, 'leaves': 2556, 'interpretation': 2328, 'questions': 3489, 'left': 2561, 'imagination': 2236, 'effort': 1432, 'shorts': 3948, 'along': 195, 'lines': 2612, 'commercials': 903, 'inspired': 2301, 'go': 1924, 'killer': 2470, 'outer': 3143, 'agrees': 157, 'help': 2079, 'aged': 149, 'guys': 2001, '80s': 59, 'meant': 2784, 'likable': 2598, 'including': 2264, 'limited': 2606, 'kid': 2464, 'whos': 4876, 'friday': 1834, '13th': 5, 'girl': 1909, 'leads': 2548, 'men': 2805, 'goes': 1930, 'into': 2332, 'fits': 1741, 'touch': 4533, 'fat': 1663, 'bottom': 551, 'comedies': 889, 'thus': 4486, 'eye': 1611, 'candy': 668, 'numerous': 3062, 'count': 1010, 'imagined': 2239, 'party': 3200, 'disturbing': 1300, 'regular': 3592, 'basis': 408, 'suppose': 4305, 'interesting': 2325, 'introduces': 2338, 'each': 1395, 'unique': 4662, 'kung': 2498, 'fu': 1844, 'style': 4249, 'secret': 3849, 'deadly': 1133, 'trained': 4557, 'master': 2757, 'kept': 2456, 'dying': 1393, 'sends': 3876, 'last': 2521, 'student': 4238, 'attempt': 340, 'suspects': 4328, 'students': 4239, 'committed': 905, 'find': 1726, 'way': 4820, 'fight': 1707, 'combination': 883, 'fun': 1848, 'styles': 4250, 'match': 2762, 'against': 147, 'forced': 1787, 'pass': 3201, 'version': 4720, 'tale': 4353, 'following': 1774, 'chuck': 812, 'jones': 2418, 'animated': 241, 'tv': 4610, 'special': 4097, 'difficult': 1249, 'heavy': 2070, 'handed': 2016, 'handful': 2017, 'gags': 1862, 'comes': 891, 'cash': 709, 'grab': 1949, 'supposedly': 4307, 'christmas': 810, 'jim': 2402, 'carrey': 696, 'typically': 4624, 'odds': 3082, 'grinch': 1975, 'karloff': 2445, 'burn': 625, 'method': 2824, 'madness': 2698, 'talented': 4355, 'jeffrey': 2391, 'utterly': 4702, 'wasted': 4809, 'universal': 4665, 'understand': 4643, 'tony': 4521, 'offered': 3088, 'michael': 2829, 'caine': 647, 'cat': 713, 'hat': 2045, 'feeling': 1685, 'making': 2718, 'skip': 4016, 'either': 1438, 'read': 3543, 'hours': 2177, 'ever': 1538, 'curious': 1083, 'yellow': 4981, 'available': 361, 'versions': 4721, 'blue': 518, 'art': 304, 'house': 2178, 'hits': 2125, 'major': 2711, 'cause': 723, 'united': 4664, 'states': 4163, 'print': 3399, 'held': 2074, 'went': 4847, 'whats': 4860, 'picture': 3269, 'today': 4508, 'revealed': 3671, 'nudity': 3059, 'various': 4715, 'scenes': 3811, 'flesh': 1753, 'occasional': 3074, 'graphic': 1958, 'bit': 488, 'lust': 2689, 'daring': 1114, 'pure': 3471, 'true': 4596, 'statement': 4162, 'generally': 1881, 'country': 1014, 'usually': 4700, 'foreign': 1790, 'wars': 4804, 'politically': 3325, 'filmmaker': 1719, 'works': 4945, 'lesser': 2576, 'extent': 1605, 'mix': 2876, 'politics': 3326, 'social': 4049, 'around': 297, 'comment': 898, 'lena': 2568, 'hot': 2174, 'cold': 872, 'relationship': 3597, 'wannabe': 4787, 'sort': 4077, 'cabin': 643, 'woods': 4935, 'car': 680, 'boyfriend': 558, 'itself': 2371, 'enough': 1491, 'crew': 1053, 'rock': 3720, 'concert': 935, 'cards': 683, 'fill': 1714, 'during': 1387, 'shooting': 3943, 'use': 4692, 'credits': 1050, 'dynamic': 1394, 'hey': 2095, 'playing': 3300, 'structure': 4233, 'documentary': 1307, 'asking': 318, 'subjects': 4254, 'thoughts': 4464, 'spain': 4091, 'franco': 1820, 'father': 1666, 'stay': 4166, 'years': 4979, 'afraid': 140, 'dramatic': 1348, 'narrative': 2966, 'serious': 3891, 'king': 2479, 'acts': 107, 'coherent': 871, 'analysis': 224, 'cheating': 776, 'satire': 3788, 'loaded': 2632, 'tricks': 4583, 'put': 3480, 'less': 2575, 'stands': 4147, 'enterprise': 1495, 'full': 1846, 'blown': 516, 'trip': 4588, 'manner': 2729, 'captivating': 675, 'shown': 3959, 'comfortable': 892, 'seems': 3864, 'entirely': 1503, 'successful': 4266, 'bergman': 466, 'purely': 3472, 'specific': 4099, 'ideas': 2215, 'directing': 1260, 'occasionally': 3075, 'spectacular': 4101, 'asks': 319, 'ambitious': 211, 'confused': 941, 'someone': 4064, 'sympathetic': 4342, 'vulnerable': 4768, '40': 48, 'hard': 2033, 'connect': 944, 'happens': 2029, 'inner': 2292, 'perhaps': 3235, 'intentionally': 2320, 'clichés': 846, 'girlfriend': 1910, 'leave': 2555, 'narration': 2965, 'sorts': 4078, 'whatever': 4859, 'faults': 1669, 'may': 2775, 'ironically': 2356, 'means': 2783, 'holds': 2131, 'beautifully': 429, 'artistic': 308, 'experiment': 1583, 'waters': 4817, 'swedish': 4335, 'couldnt': 1008, 'probably': 3407, 'ways': 4822, 'cult': 1077, 'technique': 4383, 'towards': 4540, 'games': 1865, 'outstanding': 3147, 'behind': 447, 'lucky': 2683, 'catch': 714, 'turner': 4607, 'tonight': 4519, 'effects': 1431, 'month': 2896, 'easily': 1406, 'success': 4265, 'mary': 2751, 'winner': 4897, 'actress': 105, 'julie': 2428, 'andrews': 229, 'learns': 2553, 'fine': 1729, 'mixture': 2878, 'live': 2625, 'action': 100, 'animation': 242, 'past': 3207, 'period': 3236, 'history': 2121, 'world': 4946, 'london': 2641, 'general': 1880, 'home': 2142, 'guard': 1988, 'whereas': 4865, 'boom': 537, 'final': 1722, 'reminds': 3620, 'army': 295, 'dealing': 1136, 'problems': 3409, 'local': 2634, 'suggested': 4281, 'appearance': 274, 'disney': 1289, 'fashion': 1659, 'musical': 2947, 'number': 3060, 'road': 3709, 'different': 1248, 'members': 2801, 'soldiers': 4054, 'india': 2273, 'metal': 2823, 'appear': 273, 'scottish': 3825, 'costume': 1005, 'surprisingly': 4316, 'plus': 3311, 'biggest': 480, 'angela': 232, 'price': 3389, 'sole': 4055, 'career': 686, 'got': 1944, 'deserved': 1200, 'shortly': 3947, 'did': 1241, 'singing': 3995, 'brief': 579, 'boys': 559, 'gray': 1963, 'bird': 484, 'support': 4303, 'conclusion': 936, 'harvey': 2042, 'girls': 1911, 'santa': 3783, 'play': 3296, 'hear': 2061, 'lost': 2660, 'dennis': 1179, 'rest': 3657, 'rise': 3702, 'occasion': 3073, 'lifetime': 2594, 'relative': 3599, 'failure': 1629, 'roy': 3745, 'showing': 3958, 'sides': 3967, 'particular': 3194, 'thinking': 4453, 'finding': 1727, 'witch': 4909, 'surprising': 4315, 'waste': 4808, 'possibly': 3351, 'cutting': 1092, 'possible': 3350, 'bigger': 479, 'note': 3044, 'john': 2409, 'german': 1896, 'countryside': 1015, 'sam': 3777, 'magic': 2703, 'formula': 1802, 'seeking': 3859, 'sea': 3838, 'soccer': 4048, 'drawn': 1351, 'pulled': 3462, 'latter': 2528, 'badly': 383, 'studios': 4241, 'teenager': 4390, 'eddie': 1416, 'spends': 4107, 'obsession': 3070, 'day': 1129, 'finds': 1728, 'hero': 2088, 'died': 1244, 'record': 3573, 'messages': 2820, 'telling': 4396, 'him': 2110, 'halloween': 2010, 'exact': 1550, 'revenge': 3675, 'town': 4541, 'filled': 1715, 'humour': 2194, 'entertaining': 1499, 'original': 3129, 'horror': 2168, 'villain': 4744, 'shows': 3960, 'hollywood': 2137, 'days': 1130, 'toilet': 4512, 'kiss': 2483, 'mouth': 2920, 'language': 2516, 'rip': 3700, 'blatant': 502, 'finger': 1731, 'north': 3036, 'opening': 3114, 'bo': 521, 'luke': 2687, 'duke': 1383, 'run': 3755, 'uncle': 4636, 'jesse': 2397, 'shine': 3931, 'running': 3756, 'show': 3953, 'jail': 2376, 'closing': 859, 'smoking': 4040, 'disappointing': 1274, 'faced': 1617, 'insult': 2309, 'parents': 3188, 'theater': 4427, '15': 7, 'minutes': 2859, 'horribly': 2164, 'basic': 406, 'values': 4710, 'safe': 3771, 'worry': 4950, 'teaching': 4377, 'kids': 2467, 'george': 1893, 'seven': 3903, 'words': 4938, 'reviews': 3679, 'correct': 1000, 'friends': 1837, 'come': 886, 'rebel': 3561, 'otherwise': 3137, 'honor': 2150, 'trust': 4598, 'popular': 3333, 'brought': 600, 'belief': 451, 'beer': 439, 'trash': 4565, 'buy': 640, 'piece': 3272, 'willing': 4889, 'sell': 3871, 'prove': 3445, 'wrong': 4973, 'warner': 4799, 'mail': 2706, 'destroying': 1215, 'money': 2888, 'dvds': 1392, 'caught': 722, 'hbo': 2055, 'hilarious': 2106, 'seeing': 3857, 'alfred': 181, 'theatrical': 4430, 'trailers': 4555, 'mad': 2696, 'magazine': 2701, 'half': 2007, 'gang': 1867, 'themselves': 4435, 'crap': 1031, 'assumed': 329, 'seriously': 3892, 'ron': 3734, 'embarrassed': 1453, 'names': 2963, 'surely': 4309, 'worse': 4951, 'associated': 327, 'now': 3054, 'age': 148, 'references': 3583, 'restored': 3659, 'kick': 2460, 'fan': 1648, 'neighbors': 2994, 'camp': 662, 'indian': 2274, 'sleep': 4024, 'inducing': 2279, 'bore': 540, 'eight': 1436, 'barely': 399, 'introduced': 2337, 'unbelievably': 4635, 'boring': 543, 'flashbacks': 1747, 'begin': 442, 'alan': 171, 'bill': 481, 'smaller': 4034, 'repeated': 3631, 'ten': 4399, 'neither': 2996, 'unless': 4669, 'disappointment': 1275, 'involved': 2346, 'sick': 3963, 'feelings': 1686, 'pig': 3274, 'example': 1553, 'absurd': 73, 'turned': 4606, 'violent': 4748, 'mob': 2879, 'crazy': 1035, 'singers': 3994, 'unfortunately': 4654, 'stays': 4169, 'putting': 3482, 'era': 1513, 'dialogue': 1234, 'shakespeare': 3915, 'seem': 3861, 'easy': 1410, 'third': 4455, 'level': 2584, 'cinematography': 820, 'future': 1856, 'sally': 3776, 'briefly': 580, 'created': 1037, 'endearing': 1469, 'portrait': 3339, 'poverty': 3357, 'lower': 2677, 'side': 3965, 'york': 4985, 'known': 2492, 'heart': 2064, 'place': 3282, 'cities': 823, 'positive': 3346, 'presents': 3377, 'basically': 407, 'whose': 4877, 'grandmother': 1955, 'taken': 4350, 'wing': 4896, 'instead': 2307, 'losers': 2656, 'drugs': 1374, 'stealing': 4171, 'poor': 3328, 'stereotypes': 4179, 'deep': 1154, 'inside': 2297, 'victor': 4731, 'revelation': 3674, 'natural': 2973, 'nonsense': 3030, 'fooled': 1780, 'driven': 1365, 'frustration': 1843, 'believes': 456, 'blow': 514, 'models': 2881, 'makers': 2715, 'theyll': 4444, 'anyway': 261, 'artists': 309, 'expected': 1577, 'reduced': 3579, 'standard': 4144, 'physically': 3263, 'flawless': 1751, 'creature': 1045, 'none': 3028, 'area': 286, 'message': 2819, 'portray': 3340, 'artist': 307, 'accused': 91, 'torture': 4529, 'supernatural': 4302, 'group': 1980, 'thugs': 4484, 'pull': 3461, 'robbery': 3711, 'california': 650, 'high': 2100, 'plane': 3288, 'daughter': 1121, 'demands': 1175, 'mexico': 2827, 'greedy': 1969, 'landing': 2512, 'strange': 4211, 'arent': 288, 'mill': 2845, 'kill': 2468, 'horrible': 2163, 'attempts': 343, 'low': 2676, 'budget': 610, 'shot': 3949, 'includes': 2263, 'ted': 4386, 'victoria': 4732, 'christian': 808, 'firstly': 1737, 'dated': 1119, 'non': 3027, 'focused': 1767, 'political': 3324, 'honestly': 2147, 'nonsensical': 3031, 'answer': 251, 'arrived': 301, 'despair': 1207, 'apes': 267, 'name': 2960, 'simply': 3986, 'ridiculous': 3693, 'our': 3139, 'ourselves': 3140, 'highest': 2102, 'degree': 1164, 'educational': 1425, 'ties': 4490, 'hence': 2083, 'rolling': 3730, 'stones': 4198, 'song': 4071, 'sympathy': 4343, 'devil': 1228, 'creation': 1040, 'witness': 4914, 'takes': 4351, 'effect': 1428, 'led': 2558, 'ii': 2226, 'apart': 264, 'sir': 4000, 'bob': 524, 'notice': 3048, 'depicted': 1183, 'fighting': 1709, 'involve': 2345, 'sexual': 3908, '1960s': 15, 'indeed': 2271, 'dvd': 1391, 'sunday': 4293, 'profound': 3423, 'listen': 2619, 'masterpiece': 2759, 'al': 170, 'genius': 1887, 'prince': 3396, '90': 60, 'hint': 2112, 'add': 115, 'numbers': 3061, 'mile': 2842, 'recent': 3566, 'soundtrack': 4085, 'spot': 4131, 'club': 863, 'owner': 3159, 'frustrated': 1842, 'soon': 4074, 'fired': 1735, 'replaced': 3634, 'dad': 1095, 'course': 1019, 'lessons': 2578, 'stuff': 4243, 'coming': 896, 'dramas': 1347, 'combined': 885, 'striking': 4226, 'williams': 4888, 'abusive': 75, 'debut': 1143, 'sexy': 3911, 'interest': 2323, 'strength': 4219, 'superb': 4296, 'staged': 4140, 'albeit': 173, 'eccentric': 1414, 'often': 3095, 'songs': 4072, 'solely': 4056, 'own': 3158, 'taste': 4369, 'miss': 2866, 'fire': 1734, 'though': 4461, 'weak': 4824, 'purple': 3473, 'rain': 3506, 'favourite': 1673, 'cover': 1022, 'ears': 1402, 'eyes': 1613, 'violence': 4747, 'entertainment': 1500, 'enjoyable': 1485, 'pulls': 3464, 'lived': 2626, 'bought': 552, 'became': 431, 'household': 2179, 'vhs': 4725, 'copy': 994, 'blood': 512, 'looked': 2647, 'familiar': 1643, 'sold': 4052, 'ago': 154, 'guessing': 1991, 'knows': 2493, 'recall': 3562, 'night': 3013, 'memory': 2804, 'enjoy': 1484, 'freak': 1824, 'consider': 949, 'fell': 1690, 'talk': 4358, 'types': 4622, 'using': 4698, 'shadow': 3912, 'wall': 4781, 'followed': 1773, 'splatter': 4118, 'youre': 4992, 'similar': 3978, 'plots': 3310, 'buried': 624, 'forgotten': 1797, 'contrary': 974, 'hate': 2046, 'mysterious': 2955, 'aliens': 184, 'giant': 1905, 'robots': 3718, 'hopes': 2159, 'until': 4680, 'attacks': 339, 'missed': 2867, 'sat': 3786, 'robot': 3717, 'fights': 1710, 'depressing': 1188, '12': 3, 'change': 749, 'nor': 3032, 'bloody': 513, 'ones': 3108, 'angry': 238, 'screen': 3829, 'oh': 3096, 'writer': 4968, 'wrote': 4974, 'suffering': 4277, 'depression': 1189, 'depressed': 1187, 'designed': 1203, 'annoyed': 248, 'write': 4967, 'plot': 3309, 'nowhere': 3056, 'claim': 828, 'theyve': 4446, 'rule': 3753, 'clearly': 840, 'resident': 3647, 'evil': 1548, 'spirit': 4113, 'game': 1864, 'blowing': 515, 're': 3535, 'survival': 4320, 'damn': 1100, 'effective': 1429, 'paul': 3214, 'anderson': 227, 'managed': 2723, 'alone': 194, 'essentially': 1523, 'slight': 4027, 'manage': 2722, 'brain': 562, 'proves': 3447, 'longer': 2645, 'obviously': 3072, 'described': 1195, 'text': 4419, 'minute': 2858, 'passes': 3203, 'stops': 4203, 'caring': 691, 'sits': 4006, 'hitting': 2126, 'object': 3066, 'closest': 857, 'ancient': 225, 'demons': 1178, 'together': 4511, 'viewers': 4739, 'follow': 1772, 'move': 2921, 'huge': 2185, 'build': 614, 'meaningless': 2782, 'deaths': 1142, 'edward': 1426, 'link': 2613, 'operation': 3117, 'failed': 1626, 'involving': 2349, 'brings': 587, 'ex': 1549, 'manages': 2725, 'away': 369, 'breaks': 571, 'loose': 2650, 'pair': 3176, 'military': 2844, 'team': 4378, 'apparently': 270, 'hatred': 2049, 'complicated': 925, 'room': 3735, 'care': 684, 'bring': 585, 'ball': 388, 'yourself': 4993, 'confusion': 943, 'ruined': 3751, 'quick': 3490, 'cuts': 1091, 'based': 404, 'annoying': 249, 'chasing': 772, 'taxi': 4371, 'among': 217, 'worst': 4952, 'somewhat': 4068, 'cool': 989, 'lots': 2662, 'guns': 1998, 'source': 4086, 'faster': 1662, 'crack': 1027, 'keeps': 2451, 'taking': 4352, 'sound': 4081, 'letting': 2583, 'happened': 2027, 'appeal': 271, 'whenever': 4863, 'tries': 4585, 'disaster': 1276, 'incredibly': 2270, 'scientist': 3818, 'type': 4621, 'killing': 2472, 'tommy': 4516, 'unlike': 4670, 'deserve': 1199, 'forget': 1793, 'bland': 500, 'uninteresting': 4660, 'equivalent': 1512, 'thrown': 4481, 'glad': 1916, 'total': 4531, 'simple': 3983, 'rules': 3754, 'mature': 2773, 'lesson': 2577, 'lose': 2654, 'abc': 63, 'daughters': 1122, 'amy': 222, 'ritter': 3705, 'james': 2378, 'hand': 2015, '2nd': 41, 'season': 3843, 'decided': 1149, 'shoot': 3942, '90s': 61, 'viewed': 4737, 'veteran': 4724, 'america': 212, 'modern': 2882, 'except': 1556, 'radio': 3504, 'starting': 4158, 'sweet': 4336, 'innocent': 2294, 'tales': 4357, 'romance': 3732, 'ann': 244, 'played': 3297, 'called': 652, 'red': 3576, 'hair': 2005, 'found': 1811, 'herself': 2092, 'elderly': 1440, 'folks': 1771, 'wise': 4903, 'shirley': 3936, 'small': 4033, 'everyone': 1542, 'earth': 1403, 'decent': 1147, '30s': 44, 'generation': 1883, 'loved': 2670, 'four': 1812, 'becomes': 434, 'stand': 4143, 'quest': 3486, 'la': 2500, 'problem': 3408, 'scripted': 3835, 'sorry': 4076, 'betty': 474, 'costumes': 1006, 'grow': 1982, 'dress': 1357, 'douglas': 1334, 'jr': 2423, 'silly': 3976, 'seemed': 3862, 'cartoon': 704, 'try': 4600, 'explain': 1586, 'details': 1219, 'disappointed': 1273, 'voices': 4763, 'talked': 4359, 'admit': 122, 'education': 1424, 'recently': 3567, 'nowadays': 3055, 'independent': 2272, 'nightmare': 3014, 'suffer': 4275, 'wonderfully': 4929, 'written': 4972, 'creates': 1038, 'atmosphere': 333, 'dream': 1354, 'starring': 4154, 'sees': 3866, 'lonely': 2643, 'drag': 1342, 'impossible': 2249, 'lack': 2502, 'twists': 4619, 'corner': 996, 'engaging': 1481, 'recommended': 3572, 'ranks': 3519, 'service': 3896, 'potential': 3355, 'ham': 2011, 'clark': 832, 'johnson': 2411, 'working': 4944, 'bored': 541, 'holes': 2133, 'twist': 4617, 'predictable': 3367, 'square': 4136, 'motives': 2916, 'laughter': 2535, 'avoid': 363, 'costs': 1004, 'redeeming': 3577, 'value': 4709, 'innovative': 2295, 'television': 4394, 'compelling': 916, 'development': 1225, 'sings': 3997, 'tune': 4602, 'whether': 4866, 'chooses': 800, 'tone': 4517, 'next': 3007, 'site': 4005, 'dollars': 1315, 'stuck': 4237, '24': 39, 'desperate': 1208, 'executive': 1567, 'producers': 3416, 'brave': 567, 'higher': 2101, 'goal': 1925, 'storytelling': 4209, 'normal': 3033, 'conventional': 979, 'edge': 1418, 'public': 3460, 'testament': 4417, 'base': 402, 'consists': 955, 'audiences': 353, 'cars': 702, 'stood': 4199, 'scott': 3824, 'thomas': 4458, 'superbly': 4297, 'mixed': 2877, 'color': 877, 'scenery': 3810, 'hong': 2149, 'kong': 2494, 'stunning': 4244, 'hardly': 2036, 'beautiful': 428, 'island': 2361, 'phantom': 3251, 'loves': 2674, 'expensive': 1579, 'landscapes': 2514, 'beauty': 430, 'above': 68, 'fast': 1661, 'paced': 3162, 'combat': 882, 'thoroughly': 4459, 'vote': 4766, 'lou': 2663, 'flash': 1745, 'fetched': 1698, 'clear': 839, 'sudden': 4272, 'inspiring': 2302, 'boxing': 556, 'changes': 751, 'others': 3136, 'box': 555, 'thumbs': 4485, 'rate': 3526, 'scream': 3826, 'couldve': 1009, 'twins': 4616, 'ok': 3098, 'brother': 598, 'sucked': 4270, 'reading': 3544, 'scripts': 3836, 'vampires': 4712, 'drink': 1361, 'awards': 367, 'blair': 497, 'nonetheless': 3029, 'appreciated': 280, 'imdb': 2240, 'comments': 901, 'intelligent': 2314, 'gotta': 1946, 'describe': 1194, 'alas': 172, 'engage': 1479, 'respect': 3652, 'gore': 1941, 'scary': 3807, 'aspect': 321, 'severe': 3906, 'certainly': 738, 'smart': 4035, 'mess': 2818, 'worthwhile': 4955, 'stretch': 4221, 'feature': 1678, 'dialogs': 1233, 'expect': 1575, 'flaw': 1749, 'location': 2635, 'personality': 3242, 'whatsoever': 4861, 'forest': 1791, 'realize': 3552, 'needed': 2988, 'sloppy': 4030, 'attention': 345, 'die': 1243, 'daniel': 1111, 'although': 201, 'golden': 1934, 'stories': 4205, 'late': 2523, 'grand': 1953, 'existed': 1570, 'aka': 168, 'african': 142, 'americans': 214, 'white': 4870, 'chose': 804, 'talking': 4360, 'river': 3707, 'cry': 1073, 'awe': 370, 'wouldnt': 4958, 'business': 633, 'successfully': 4267, 'fair': 1630, 'anne': 246, 'ask': 316, 'myself': 2953, 'mysteries': 2954, 'suffered': 4276, 'daily': 1097, 'marry': 2745, 'prefer': 3368, 'continues': 971, 'cheated': 775, 'losing': 2658, 'jerk': 2395, 'sad': 3767, 'jean': 2389, 'west': 4852, 'sounding': 4083, 'cynical': 1093, 'intended': 2315, 'heck': 2071, 'locked': 2637, 'clichéd': 845, 'standards': 4145, 'ultimately': 4628, 'complaint': 920, 'credit': 1049, 'thank': 4421, 'aimed': 162, 'lucas': 2680, 'treatment': 4574, 'younger': 4990, 'formulaic': 1803, 'voice': 4761, 'suffers': 4278, 'casting': 711, 'notable': 3041, 'lady': 2507, 'cook': 988, 'parker': 3191, 'clue': 864, 'travesty': 4570, 'let': 2579, 'direct': 1258, 'tracy': 4546, 'rescue': 3643, 'rubbish': 3748, 'plague': 3285, 'stewart': 4184, 'walter': 4784, 'canada': 666, 'ruth': 3763, 'roman': 3731, 'ice': 2210, 'happy': 2032, 'wayne': 4821, 'pal': 3177, 'westerns': 4854, 'mann': 2728, 'frankly': 1823, 'melodrama': 2797, 'breathtaking': 574, 'definitely': 1162, 'strong': 4229, 'cute': 1090, 'double': 1331, 'western': 4853, 'jeremy': 2394, 'holmes': 2139, 'display': 1291, 'imagine': 2238, 'literature': 2623, 'argument': 291, 'inferior': 2285, 'notch': 3043, 'productions': 3420, 'agree': 155, 'forever': 1792, 'closed': 854, 'subject': 4253, 'rogers': 3725, 'dealt': 1138, 'william': 4887, 'wonders': 4931, 'agent': 150, 'goofy': 1939, 'sports': 4130, 'appeared': 276, 'whale': 4857, 'speaks': 4096, 'ellen': 1446, 'leading': 2547, 'fare': 1655, 'chemistry': 782, 'ms': 2931, 'doctor': 1304, 'image': 2233, 'tom': 4514, 'baker': 385, 'jon': 2416, 'bond': 532, 'sean': 3840, 'roger': 3724, 'moore': 2901, 'brosnan': 597, 'belongs': 460, 'wish': 4904, 'frightening': 1839, 'fit': 1740, 'category': 718, 'tension': 4404, 'harder': 2035, 'youve': 4995, 'experienced': 1581, 'cringe': 1059, 'simplicity': 3984, 'terrifying': 4410, 'jamie': 2379, 'lee': 2559, 'curtis': 1087, 'brutally': 604, 'older': 3101, 'myers': 2952, 'population': 3335, 'sounds': 4084, 'slasher': 4020, 'dumb': 1385, 'teenagers': 4391, 'puts': 3481, 'review': 3676, 'frequently': 1832, 'theaters': 4428, 'throughout': 4478, '1970s': 17, '1980s': 21, 'considered': 951, 'member': 2800, 'reasons': 3560, 'downright': 1337, 'teen': 4388, 'argue': 290, 'tongue': 4518, 'cheek': 779, 'fail': 1625, 'carpenter': 694, 'equal': 1509, 'relies': 3606, 'todays': 4509, 'sadistic': 3768, 'scares': 3806, 'fate': 1665, 'idiots': 2220, 'mistake': 2871, 'ridiculously': 3694, 'creative': 1041, 'inventive': 2341, 'murders': 2943, 'pieces': 3273, 'murder': 2939, 'twice': 4613, 'hit': 2122, 'theyd': 4443, 'particularly': 3195, 'need': 2987, 'exception': 1557, 'whoever': 4872, 'shape': 3919, 'result': 3660, 'co': 867, 'produced': 3414, 'chilling': 794, 'score': 3822, 'brilliance': 582, 'advantage': 129, 'recognize': 3569, 'flaws': 1752, 'famous': 1647, 'fear': 1676, 'luckily': 2682, 'uses': 4697, 'kicks': 2463, 'flawed': 1750, 'immensely': 2243, 'warned': 4798, 'scare': 3803, 'opera': 3116, 'fame': 1642, 'recording': 3575, 'revolves': 3682, 'throat': 4476, 'suddenly': 4273, 'largely': 2518, 'presence': 3373, 'lies': 2591, 'horrid': 2165, 'trite': 4589, 'pick': 3265, 'suited': 4286, '100': 1, 'remembered': 3617, 'list': 2617, 'efforts': 1433, 'popularity': 3334, 'incompetent': 2266, 'requires': 3642, 'jimmy': 2403, 'turkey': 4604, 'sellers': 3872, 'health': 2060, 'filming': 1718, 'release': 3602, 'painful': 3171, 'lacks': 2505, 'focus': 1766, 'commentary': 899, 'anti': 254, 'ignored': 2225, 'sid': 3964, 'racial': 3501, 'attempted': 341, 'laughs': 2534, 'sinister': 3998, 'youth': 4994, 'smith': 4038, 'hundred': 2195, 'per': 3223, 'quirky': 3493, 'warmth': 4796, 'oddly': 3081, 'english': 1483, 'hall': 2009, 'further': 1853, 'comical': 894, 'possibilities': 3348, 'convincingly': 986, 'witty': 4917, 'burt': 629, 'pink': 3277, 'helen': 2075, 'amusing': 221, 'cannot': 670, 'wants': 4791, 'wont': 4932, 'heavily': 2069, 'steven': 4182, 'seagal': 3839, 'dub': 1378, 'leaving': 2557, 'honest': 2146, 'bother': 548, 'buck': 605, 'anyways': 262, 'liked': 2600, 'dressing': 1359, 'duo': 1386, 'faithful': 1634, 'missing': 2869, 'carry': 700, 'hated': 2047, 'masses': 2755, 'rent': 3626, 'regret': 3591, 'ahead': 159, 'stupidity': 4248, 'kings': 2481, 'lovers': 2673, 'appears': 278, 'endless': 1473, 'videos': 4734, 'transfer': 4559, 'wow': 4962, 'store': 4204, 'mood': 2898, 'gem': 1877, 'amongst': 218, 'paying': 3217, 'renting': 3629, 'buying': 641, 'ready': 3546, 'commit': 904, 'suicide': 4283, 'yes': 4982, 'string': 4227, 'week': 4837, 'featuring': 1681, 'arms': 294, 'protect': 3443, 'ought': 3138, 'suspense': 4330, 'heroine': 2091, 'wedding': 4836, 'ring': 3698, 'boat': 523, 'contained': 963, 'dropping': 1371, 'ocean': 3079, 'childish': 791, 'market': 2740, 'humanity': 2189, 'porn': 3336, 'resolution': 3649, 'actresses': 106, 'topless': 4527, 'plenty': 3307, 'caused': 724, 'someones': 4065, 'ass': 323, 'tied': 4489, 'trees': 4577, 'cartoons': 705, 'somehow': 4063, 'beyond': 476, 'mere': 2814, 'therefore': 4439, 'summary': 4290, 'richard': 3686, 'button': 639, 'reminded': 3619, 'school': 3813, 'mine': 2853, 'excited': 1561, 'motion': 2913, 'began': 441, 'question': 3487, 'minds': 2852, 'tape': 4365, 'suspect': 4327, 'personally': 3243, 'cut': 1089, 'australian': 357, 'normally': 3034, 'mainstream': 2709, 'australia': 356, 'spoof': 4127, 'theme': 4433, 'elm': 1447, 'disbelief': 1277, 'tried': 4584, 'genres': 1889, 'treat': 4572, 'entertain': 1497, 'satisfying': 3791, 'ending': 1471, 'related': 3594, 'actions': 101, 'cop': 991, 'anybody': 257, 'hitler': 2124, 'wwii': 4975, 'post': 3352, 'stress': 4220, 'horrors': 2169, 'misses': 2868, 'books': 536, 'glory': 1922, 'utter': 4701, 'bullet': 620, 'key': 2458, 'understanding': 4645, 'germany': 1898, 'millions': 2848, 'germans': 1897, 'massive': 2756, 'throw': 4479, 'pile': 3275, 'fictional': 1703, 'threw': 4470, 'kicking': 2462, 'amateur': 206, 'wooden': 4934, 'crappy': 1032, 'doo': 1325, 'virginia': 4750, 'nude': 3058, 'stinker': 4191, 'wacky': 4769, 'church': 813, 'jason': 2383, 'bourne': 554, 'hands': 2020, 'meanwhile': 2785, 'cia': 814, 'chief': 788, 'nyc': 3065, 'response': 3654, 'american': 213, 'plan': 3287, 'territory': 4411, 'government': 1948, 'necessary': 2984, 'national': 2970, 'security': 3854, 'effectively': 1430, 'captures': 678, 'portraying': 3343, 'youll': 4988, 'intense': 2316, 'simon': 3982, 'newspaper': 3006, 'performing': 3233, 'choreographed': 801, 'planned': 3290, 'stunt': 4245, 'amazing': 209, 'pacing': 3163, 'driving': 1368, 'delivers': 1172, 'information': 2288, 'quickly': 3491, 'phone': 3255, 'heres': 2087, 'queen': 3485, 'desert': 1198, 'bank': 394, 'johnny': 2410, 'border': 539, 'overacting': 3149, 'robert': 3713, 'beloved': 461, 'pet': 3246, 'hiding': 2099, 'gas': 1874, 'station': 4164, 'newly': 3004, 'fallen': 1638, 'obnoxious': 3067, 'develops': 1226, 'control': 977, 'stolen': 4195, 'extra': 1606, 'convincing': 985, 'skin': 4015, 'tight': 4492, 'promise': 3430, 'blame': 499, 'thinks': 4454, 'premise': 3370, 'supporting': 4304, 'nail': 2957, 'cheap': 774, 'colors': 879, 'strangely': 4212, 'photography': 3260, 'batman': 413, 'comics': 895, 'anymore': 258, 'japanese': 2382, 'anime': 243, 'designs': 1204, 'gothic': 1945, 'obsessed': 3069, 'design': 1202, 'monkey': 2890, 'demented': 1176, 'fighter': 1708, 'enemy': 1477, 'threat': 4467, 'crimes': 1056, 'pointless': 3318, 'dog': 1310, 'food': 1778, 'complex': 923, 'haunted': 2050, 'detective': 1220, 'defeat': 1157, 'study': 4242, 'villains': 4745, 'bat': 410, 'tragic': 4552, 'accidentally': 85, 'apparent': 269, 'characterization': 759, 'accepted': 82, 'robin': 3715, 'petty': 3249, 'thief': 4448, 'dislike': 1288, 'tim': 4494, 'loyal': 2679, 'depth': 1190, 'media': 2789, 'chances': 748, 'importance': 2246, 'born': 544, 'spending': 4106, 'saturday': 3792, 'stayed': 4167, 'exciting': 1563, 'packed': 3166, 'midnight': 2834, 'disturbed': 1299, 'teens': 4392, 'nurse': 3063, 'boy': 557, 'cops': 993, 'monster': 2892, 'victim': 4729, 'hurts': 2203, 'convinced': 984, 'menace': 2806, 'grows': 1985, 'fabulous': 1615, 'sensitive': 3879, 'crying': 1074, 'franchise': 1817, 'picked': 3266, 'mansion': 2731, 'improved': 2255, 'widely': 4881, 'asian': 314, 'offering': 3089, 'virtually': 4751, 'philosophy': 3254, 'legend': 2564, 'deeper': 1155, 'knowledge': 2491, 'rich': 3685, 'traditional': 4550, 'fantasy': 1652, 'warrior': 4802, 'monk': 2889, 'demon': 1177, 'seeks': 3860, 'bridge': 578, 'case': 707, 'conflict': 939, 'ease': 1404, 'stylish': 4251, 'sink': 3999, 'lighting': 2596, 'air': 164, 'outside': 3146, 'dirty': 1268, 'fancy': 1649, 'vivid': 4760, 'detailed': 1218, 'affair': 135, 'ordinary': 3128, 'unaware': 4632, 'strictly': 4223, 'filmed': 1717, 'moves': 2925, 'impact': 2244, 'disappoint': 1272, 'individuals': 2278, 'force': 1786, 'unfortunate': 4653, 'cgi': 740, 'context': 968, 'distracting': 1297, 'beast': 422, 'generic': 1885, 'grade': 1951, 'research': 3644, 'science': 3816, 'technology': 4385, 'methods': 2825, 'explanation': 1590, 'russian': 3762, 'invasion': 2340, 'adaptation': 113, 'mediocre': 2791, 'bits': 490, 'unexpected': 4650, 'novel': 3052, 'poorly': 3329, 'rushed': 3760, 'conspiracy': 956, 'theory': 4437, 'incoherent': 2265, 'executed': 1565, 'extremely': 1610, 'fitting': 1742, 'sitcom': 4004, 'mini': 2854, 'remind': 3618, 'mtv': 2933, 'belong': 459, 'board': 522, 'christians': 809, 'unnecessary': 4672, 'reach': 3536, 'christ': 807, 'trilogy': 4586, 'choice': 797, 'disneys': 1290, 'morris': 2908, 'former': 1800, 'league': 2549, '1999': 27, '35': 45, 'opens': 3115, 'synopsis': 4344, 'childhood': 790, 'included': 2262, 'locations': 2636, 'football': 1783, 'texas': 4418, 'passion': 3205, 'baseball': 403, 'segment': 3867, 'jumps': 2432, 'coach': 868, 'teacher': 4375, 'lake': 2509, 'player': 3298, 'dreams': 1355, 'table': 4346, 'practice': 3363, 'express': 1600, 'speed': 4103, 'throws': 4482, 'players': 3299, 'win': 4892, 'bay': 416, 'miles': 2843, 'hour': 2176, 'contract': 973, 'decision': 1151, 'months': 2897, 'wife': 4884, 'signs': 3973, 'below': 462, 'winds': 4895, 'increasingly': 2268, 'pulling': 3463, 'job': 2405, 'professional': 3421, 'levels': 2585, 'timeless': 4496, 'holding': 2130, 'distant': 1295, 'accurate': 90, 'check': 777, 'closer': 856, 'faith': 1633, 'presumably': 3380, '20': 29, 'birth': 486, '14': 6, 'initial': 2290, 'ended': 1470, 'throwing': 4480, 'aforementioned': 139, 'titled': 4505, 'havent': 2053, 'triumph': 4590, 'purchased': 3470, 'wondered': 4927, 'temple': 4398, 'gary': 1873, 'cole': 873, 'sheriff': 3929, 'understood': 4647, 'suffice': 4279, 'powers': 3361, 'granted': 1957, 'holy': 2140, 'spite': 4117, 'pleasant': 3302, 'zone': 4999, 'usa': 4691, 'network': 3000, 'deals': 1137, 'satan': 3787, 'offensive': 3086, 'ill': 2228, 'religious': 3608, 'bunch': 623, 'grew': 1972, 'baby': 376, 'brothers': 599, 'youd': 4987, 'foot': 1781, 'environment': 1505, 'embarrassment': 1455, 'unable': 4631, 'desperately': 1209, 'receive': 3563, 'attempting': 342, 'defense': 1159, 'rape': 3521, 'peace': 3219, 'kills': 2474, 'nelson': 2997, '3rd': 47, 'hal': 2006, 'henry': 2084, 'fool': 1779, 'fay': 1674, 'grim': 1974, 'track': 4544, 'husbands': 2205, 'jeff': 2390, 'indie': 2276, 'surprises': 4314, 'claims': 830, 'serving': 3897, 'empire': 1464, 'wait': 4770, 'installment': 2303, 'powell': 3358, 'thin': 4449, '1930s': 11, 'ralph': 3510, 'morgan': 2905, 'raymond': 3534, 'secretary': 3850, 'frank': 1821, 'wizard': 4919, 'oz': 3160, 'hood': 2151, 'flynn': 1765, 'likely': 2601, 'stereotype': 4178, 'featured': 1679, 'mention': 2810, 'dancing': 1107, 'talents': 4356, 'davis': 1126, 'scale': 3802, 'warning': 4800, 'slightest': 4028, 'notion': 3050, 'till': 4493, 'comic': 893, 'dutch': 1389, 'impression': 2252, 'editing': 1421, 'jonathan': 2417, 'cake': 648, 'soap': 4047, 'intriguing': 2335, 'connected': 945, 'pay': 3216, 'bell': 458, 'stock': 4193, 'kennedy': 2454, 'ginger': 1908, 'walked': 4776, 'adapted': 114, 'kim': 2475, 'lemmon': 2567, 'appearing': 277, 'witches': 4910, 'building': 615, 'expert': 1585, 'soft': 4051, 'voiced': 4762, 'spell': 4104, 'falls': 1640, 'charming': 768, 'loads': 2633, 'college': 875, 'dating': 1120, 'aunt': 355, 'appropriate': 283, 'magical': 2704, 'romantic': 3733, 'elegant': 1441, 'afternoon': 144, 'smiling': 4037, 'nominated': 3025, 'matthau': 2771, 'lewis': 2586, 'burns': 628, 'hospital': 2172, 'conversation': 980, 'carol': 693, 'mrs': 2930, 'green': 1971, 'abraham': 69, 'mentioning': 2812, 'oscars': 3134, 'screenplay': 3831, 'classics': 837, 'nostalgia': 3038, 'undoubtedly': 4648, 'rangers': 3517, 'fx': 1858, 'resort': 3650, 'painfully': 3172, 'rats': 3531, 'dude': 1381, 'cliché': 844, 'toy': 4542, 'memorable': 2802, 'spin': 4112, 'challenge': 743, 'appealing': 272, 'somebody': 4062, 'discovers': 1281, 'hank': 2024, 'joseph': 2419, 'spend': 4105, 'spring': 4134, 'mindless': 2851, 'florida': 1761, 'pops': 3332, 'lousy': 2667, 'six': 4010, 'drunk': 1375, 'saying': 3800, 'helped': 2080, 'gruesome': 1986, 'sucks': 4271, 'dreadful': 1353, 'jay': 2386, 'allen': 188, 'brad': 560, 'handsome': 2021, 'logic': 2638, 'reaction': 3541, 'wilson': 4891, 'junior': 2435, 'producer': 3415, 'pleasure': 3306, 'hired': 2117, 'worried': 4949, 'similarities': 3979, 'danes': 1108, 'workers': 4943, 'department': 1182, 'safety': 3772, 'training': 4558, 'police': 3322, 'solve': 4060, 'behavior': 446, 'gone': 1935, 'discover': 1279, 'twisted': 4618, 'kidnapped': 2466, 'excessive': 1560, 'thrillers': 4473, 'serial': 3889, 'killers': 2471, 'crafted': 1029, 'heston': 2094, 'promised': 3431, 'law': 2538, 'andy': 230, 'jackson': 2375, 'draw': 1349, 'defend': 1158, 'projects': 3428, 'command': 897, 'colorful': 878, 'relief': 3605, 'blond': 510, 'battle': 414, 'rage': 3505, 'straight': 4210, 'dance': 1103, 'cheesy': 781, 'nicely': 3009, 'alive': 186, 'waiting': 4772, 'happening': 2028, 'wished': 4905, 'convoluted': 987, 'tour': 4538, 'figure': 1711, 'mirror': 2861, 'iron': 2354, 'fashioned': 1660, 'possessed': 3347, 'weird': 4841, 'yeah': 4977, 'steals': 4172, 'pregnant': 3369, 'murdered': 2940, 'system': 4345, 'knock': 2488, 'pretentious': 3383, 'downhill': 1336, 'block': 508, 'wood': 4933, 'computer': 927, 'memories': 2803, 'overlooked': 3154, 'conceived': 929, 'graphics': 1959, 'starred': 4153, 'variety': 4714, 'avoided': 364, 'altogether': 202, 'walk': 4775, 'nights': 3016, 'brian': 576, 'definition': 1163, 'consistently': 954, 'fall': 1637, 'drawing': 1350, 'animals': 240, 'decades': 1145, 'teeth': 4393, 'tiger': 4491, 'alert': 178, 'spoilers': 4124, 'split': 4120, '30': 42, '70': 55, 'scope': 3821, 'collection': 874, 'relationships': 3598, 'likes': 2602, 'falling': 1639, 'cardboard': 682, 'treated': 4573, 'gag': 1861, 'clever': 841, 'okay': 3099, 'shallow': 3917, 'existence': 1571, 'primarily': 3393, 'share': 3920, 'merely': 2815, 'attracted': 349, 'meaning': 2780, 'broad': 590, 'superficial': 4298, 'ethan': 1528, 'wed': 4835, 'substance': 4258, 'unfolds': 4651, 'happen': 2026, 'occur': 3076, 'manhattan': 2726, 'brooklyn': 595, 'train': 4556, 'ride': 3692, 'traveling': 4568, 'village': 4743, 'gender': 1878, 'deserves': 1201, 'represent': 3637, 'mistaken': 2872, 'disgusting': 1286, 'sexually': 3910, 'dancer': 1104, 'prepared': 3371, 'accept': 80, 'naive': 2958, 'mexican': 2826, 'screams': 3828, 'status': 4165, 'sit': 4003, 'significant': 3972, 'homage': 2141, 'paid': 3169, 'singer': 3993, 'everyones': 1543, 'screening': 3830, 'humorous': 2193, 'mans': 2730, 'progress': 3425, 'concerned': 932, 'semi': 3874, 'stellar': 4174, 'tad': 4347, 'desired': 1206, 'pitch': 3279, '50': 51, '2004': 34, 'blew': 505, 'extras': 1608, 'disc': 1278, 'albert': 174, 'donald': 1321, 'trailer': 4554, 'moon': 2900, 'page': 3167, 'influence': 2286, 'suck': 4269, 'balls': 390, 'jungle': 2434, 'ed': 1415, 'reputation': 3640, 'idiot': 2218, 'junk': 2436, 'accent': 78, 'sign': 3970, 'feet': 1688, 'partner': 3198, 'carrying': 701, 'bag': 384, 'returning': 3667, 'stopped': 4202, 'worthless': 4954, 'chases': 771, 'checking': 778, 'window': 4894, 'deliver': 1169, 'separate': 3883, 'glimpse': 1919, 'speech': 4102, 'notorious': 3051, 'los': 2653, 'angeles': 233, 'heads': 2059, 'planning': 3291, 'chase': 769, 'joke': 2414, 'suspenseful': 4331, 'somewhere': 4069, 'stomach': 4196, 'suggest': 4280, 'stated': 4161, 'ryan': 3765, 'nicholas': 3010, 'listening': 2620, 'whilst': 4869, 'award': 366, 'laughably': 2531, 'un': 4630, 'dire': 1257, 'required': 3641, 'pointed': 3317, 'acceptable': 81, 'opportunity': 3121, 'parallel': 3185, 'vampire': 4711, 'hunter': 2199, 'vaguely': 4706, 'originally': 3131, 'excuse': 1564, 'product': 3418, 'forgettable': 1794, 'trashy': 4566, 'gory': 1943, 'currently': 1085, 'listed': 2618, 'rented': 3628, 'report': 3635, 'merit': 2816, 'meet': 2793, 'infamous': 2284, 'nearby': 2980, 'cave': 727, 'behave': 445, 'according': 88, 'attack': 337, 'medical': 2790, 'sent': 3880, 'refuses': 3587, 'dangerous': 1110, 'runs': 3757, 'roll': 3728, 'careers': 687, 'reasonably': 3559, 'strongly': 4231, 'sequels': 3886, 'web': 4833, 'nevertheless': 3002, 'morning': 2906, 'offer': 3087, 'paint': 3173, 'dry': 1377, 'chinese': 796, 'round': 3742, 'li': 2587, '40s': 49, 'ruins': 3752, 'backdrop': 379, 'difference': 1246, 'tedious': 4387, 'description': 1197, 'overrated': 3156, 'industry': 2280, 'stole': 4194, 'instantly': 2306, 'viewings': 4741, 'rabbit': 3498, 'claimed': 829, 'mild': 2839, 'ruin': 3750, 'believing': 457, 'nobody': 3022, 'content': 966, 'nose': 3037, 'alongside': 196, 'visuals': 4759, 'brutal': 603, 'tradition': 4549, 'blade': 495, 'sword': 4340, 'subtitles': 4259, 'slick': 4026, 'lit': 2621, 'rare': 3523, 'helps': 2082, 'personalities': 3241, 'fresh': 1833, 'eve': 1532, 'truck': 4595, 'aware': 368, 'intimate': 2331, 'sticks': 4186, 'bear': 420, 'noble': 3021, 'horse': 2170, 'dawn': 1127, 'took': 4523, 'send': 3875, 'cousin': 1021, 'bears': 421, 'grown': 1984, 'land': 2511, '2005': 35, 'french': 1830, 'critic': 1061, 'escapes': 1519, 'garbo': 1871, 'louise': 2666, 'brooks': 596, 'european': 1530, 'exceptional': 1558, 'shame': 3918, 'addition': 118, 'pictures': 3270, 'paris': 3189, 'tired': 4501, 'finest': 1730, 'hopefully': 2157, 'creating': 1039, 'instant': 2305, 'chorus': 803, 'chris': 806, 'doors': 1329, 'rocks': 3722, 'areas': 287, 'society': 4050, 'wealth': 4826, 'remake': 3612, 'heaven': 2068, 'warren': 4801, 'beatty': 427, 'regardless': 3590, 'funnier': 1850, 'funniest': 1851, 'ad': 110, 'cost': 1003, 'bizarre': 492, 'everywhere': 1545, 'nightmares': 3015, 'search': 3841, 'soldier': 4053, 'dolph': 1317, 'bold': 528, 'arts': 310, 'excitement': 1562, 'involves': 2348, 'irritating': 2359, 'van': 4713, 'unintentional': 4658, 'production': 3419, 'elaborate': 1439, 'sight': 3969, 'welcome': 4842, 'investigation': 2343, 'project': 3427, 'stronger': 4230, 'damage': 1099, 'exists': 1573, 'glass': 1917, 'shut': 3961, 'code': 869, 'prevent': 3385, 'constructed': 959, 'seconds': 3848, 'subplot': 4255, 'reporter': 3636, 'humans': 2190, 'kidding': 2465, 'length': 2569, 'adequate': 120, 'majority': 2712, 'curiosity': 1082, 'gun': 1996, 'breath': 573, 'tend': 4400, 'urge': 4689, 'mgm': 2828, 'musicals': 2948, 'classical': 836, 'favorites': 1672, 'sinatra': 3989, 'kelly': 2452, 'dozens': 1339, 'piano': 3264, 'dances': 1106, 'jerry': 2396, 'mouse': 2919, 'mountains': 2918, 'mid': 2832, '1940s': 13, 'glorious': 1921, 'fbi': 1675, 'fiction': 1702, 'edgar': 1417, 'cameo': 657, 'hamilton': 2012, 'highlights': 2104, 'depiction': 1185, 'chicago': 785, 'headed': 2058, 'jealous': 2388, 'remote': 3622, 'agents': 151, 'international': 2326, 'mafia': 2700, 'naked': 2959, 'plastic': 3294, 'learned': 2551, 'drive': 1363, '70s': 56, 'minimum': 2856, 'jobs': 2406, 'laid': 2508, 'thirty': 4456, 'ignore': 2224, 'directly': 1263, 'authentic': 358, 'eric': 1514, 'donna': 1323, 'intentions': 2321, 'june': 2433, 'ward': 4793, 'decade': 1144, '60s': 54, 'reached': 3537, 'jackie': 2374, 'hyde': 2206, 'represents': 3639, 'seasons': 3844, 'absence': 70, 'randomly': 3515, 'chosen': 805, 'jane': 2380, 'empty': 1465, 'hurt': 2202, 'carefully': 689, 'spread': 4133, 'originality': 3130, 'kinda': 2477, 'provided': 3449, 'cinemas': 817, 'adults': 126, 'civil': 826, 'ideal': 2214, 'exist': 1569, 'sadly': 3769, 'hed': 2072, 'remaining': 3610, 'lacked': 2503, 'opened': 3113, 'news': 3005, '18': 10, 'task': 4368, 'vision': 4754, 'rank': 3518, 'segments': 3868, 'latin': 2527, 'delightful': 1168, 'visually': 4758, 'steve': 4181, 'nick': 3012, 'oliver': 3102, 'touching': 4536, 'alexander': 180, 'pathetic': 3210, 'underrated': 4642, 'million': 2847, 'dollar': 1314, 'vacation': 4704, 'blind': 506, 'wes': 4851, 'craven': 1034, 'emily': 1456, 'olivier': 3103, 'clean': 838, 'maggie': 2702, '11': 2, 'le': 2544, '13': 4, 'richardson': 3688, '16': 8, '17': 9, 'fortune': 1806, 'average': 362, 'lovely': 2671, 'issue': 2364, 'sarah': 3785, 'retarded': 3663, 'hoped': 2156, 'horrific': 2166, 'pie': 3271, 'compared': 912, 'citizen': 824, 'kane': 2442, 'beneath': 464, 'cinematic': 818, '45': 50, 'rarely': 3524, 'drop': 1369, 'compare': 911, 'virgin': 4749, 'breasts': 572, 'advice': 133, 'choose': 799, 'multi': 2935, 'rose': 3739, 'handle': 2018, 'current': 1084, 'turning': 4608, 'prior': 3400, 'polanski': 3321, 'lie': 2590, 'assume': 328, 'bakshi': 386, 'ashamed': 312, 'uneven': 4649, 'appearances': 275, 'exploitation': 1592, 'exaggerated': 1552, 'images': 2235, 'urban': 4688, 'painted': 3174, 'forms': 1801, 'racism': 3502, 'spike': 4111, 'delivering': 1171, 'awkward': 374, 'imagery': 2234, 'sharp': 3922, 'buddy': 609, 'fox': 1814, 'godfather': 1927, 'rotten': 3740, 'broke': 593, 'backgrounds': 381, 'occurs': 3078, 'bar': 396, 'climax': 849, 'wild': 4885, 'mel': 2796, 'kubrick': 2496, 'montage': 2894, 'serve': 3893, 'calling': 653, 'pro': 3406, 'develop': 1222, 'elsewhere': 1449, 'carter': 703, 'ruthless': 3764, 'editor': 1423, 'struggle': 4234, 'gratuitous': 1961, 'practically': 3362, 'unbearable': 4633, 'laughable': 2530, 'celluloid': 731, 'patrick': 3213, 'expecting': 1578, 'adventure': 130, 'dropped': 1370, 'wanting': 4790, 'stone': 4197, 'forty': 1807, 'amount': 219, 'lovable': 2668, 'beings': 449, 'intent': 2318, 'unsettling': 4679, 'edie': 1419, 'conversations': 981, 'parties': 3196, 'filmmakers': 1720, 'cats': 721, 'bedroom': 437, 'unbelievable': 4634, 'core': 995, 'gene': 1879, 'instance': 2304, 'abilities': 64, 'condition': 937, 'confusing': 942, 'shines': 3932, 'signed': 3971, 'date': 1118, 'library': 2589, 'repetitive': 3633, 'pretending': 3382, 'wasting': 4810, 'pain': 3170, 'vietnam': 4735, 'opinions': 3119, 'opposed': 3122, 'factor': 1622, 'distance': 1294, 'focusing': 1769, 'focuses': 1768, 'destiny': 1212, 'energy': 1478, 'searching': 3842, 'irony': 2357, 'provide': 3448, 'escaped': 1518, 'terror': 4412, 'beats': 426, 'werent': 4849, 'anywhere': 263, 'figured': 1712, 'contain': 962, 'paper': 3183, 'americas': 215, 'covered': 1023, 'writers': 4969, 'involvement': 2347, 'dear': 1140, 'letters': 2582, 'speak': 4094, 'presentation': 3375, 'event': 1535, 'cliff': 847, 'notes': 3046, 'rush': 3759, 'stick': 4185, 'figures': 1713, 'protagonists': 3442, 'ages': 152, 'childrens': 793, 'properly': 3437, 'julia': 2427, 'charles': 764, 'fred': 1825, 'minimal': 2855, 'mentions': 2813, 'tunes': 4603, 'album': 175, 'surface': 4310, 'approach': 282, 'keaton': 2448, 'speaking': 4095, 'delivery': 1173, 'todd': 4510, 'faces': 1618, 'expressions': 1603, 'broadway': 592, 'innocence': 2293, 'laughing': 2533, 'aint': 163, 'measure': 2786, 'laughed': 2532, 'performer': 3231, 'super': 4295, 'cross': 1066, 'finale': 1723, 'stilted': 4190, 'stevens': 4183, 'shelley': 3928, 'winters': 4901, 'raped': 3522, 'enjoys': 1489, 'reveals': 3673, 'allowing': 191, 'performers': 3232, 'essence': 1521, 'comparison': 914, 'roberts': 3714, 'raised': 3508, 'lacking': 2504, 'proud': 3444, 'overly': 3155, 'plans': 3292, 'situation': 4008, 'central': 735, 'word': 4937, 'hopper': 2161, 'gripping': 1976, 'unlikely': 4671, 'thrilling': 4474, 'capital': 673, 'showed': 3956, 'broken': 594, 'creepy': 1052, 'fathers': 1667, 'native': 2972, 'arm': 292, 'toward': 4539, 'fears': 1677, 'shall': 3916, 'cares': 690, 'hook': 2152, 'lincoln': 2608, 'buddies': 608, 'continue': 969, 'private': 3404, 'attend': 344, 'huh': 2187, 'seemingly': 3863, 'scientists': 3819, 'global': 1920, 'warming': 4795, '60': 53, 'questionable': 3488, 'suit': 4284, 'china': 795, 'succeeds': 4264, 'streep': 4215, 'melodramatic': 2798, 'struggles': 4235, 'ultimate': 4627, 'eaten': 1412, 'cup': 1080, 'tea': 4373, 'uncomfortable': 4637, 'topic': 4526, 'farce': 1654, 'showcase': 3954, 'facial': 1619, 'imaginative': 2237, 'killings': 2473, 'gonna': 1936, 'wondering': 4930, 'passing': 3204, 'victims': 4730, 'developed': 1223, 'wicked': 4879, 'ha': 2002, 'taught': 4370, 'hadnt': 2004, 'divorce': 1301, 'settings': 3901, 'attorney': 348, 'cases': 708, 'beach': 419, 'laurel': 2537, 'prisoner': 3402, 'makeup': 2717, 'weight': 4840, 'constant': 957, 'bright': 581, 'bang': 393, 'elvis': 1451, 'tall': 4362, 'nervous': 2999, 'pants': 3182, 'wet': 4855, 'eerie': 1427, 'visual': 4757, 'africa': 141, 'account': 89, 'hunt': 2198, 'soviet': 4089, 'admire': 121, 'emotionally': 1460, 'stephen': 4176, 'sutherland': 4333, 'meeting': 2794, 'please': 3304, 'hitchcock': 2123, 'angles': 237, 'gordon': 1940, 'nancy': 2964, 'trio': 4587, 'taylor': 4372, 'torn': 4528, 'jump': 2429, 'psychiatrist': 3455, 'survive': 4321, 'mayor': 2777, 'devoted': 1231, 'danny': 1112, 'choices': 798, 'prime': 3395, 'individual': 2277, 'frequent': 1831, 'sub': 4252, 'liners': 2611, 'floor': 1759, 'mildly': 2840, 'instinct': 2308, 'countless': 1012, 'channels': 754, 'lame': 2510, 'gorgeous': 1942, 'genuine': 1891, 'range': 3516, 'delivered': 1170, 'multiple': 2936, 'mask': 2752, 'authority': 360, 'outrageous': 3145, 'insulting': 2310, 'stinks': 4192, 'allowed': 190, '75': 57, 'massacre': 2754, 'earned': 1401, 'drug': 1373, 'canadian': 667, 'banned': 395, 'rap': 3520, 'prisoners': 3403, 'format': 1799, 'decide': 1148, 'leader': 2546, 'italian': 2367, 'sons': 4073, 'homosexual': 2145, '50s': 52, 'airport': 167, 'shower': 3957, 'sheer': 3925, 'poetry': 3314, 'tears': 4380, 'italy': 2368, 'culture': 1079, 'visits': 4756, 'irish': 2353, 'roots': 3738, 'spent': 4108, 'directions': 1262, 'alcohol': 176, 'returns': 3668, 'lord': 2652, 'rings': 3699, 'aired': 165, 'continued': 970, 'quiet': 3492, 'shock': 3938, 'shirt': 3937, 'tree': 4576, 'jennifer': 2392, 'creep': 1051, 'bette': 471, 'mildred': 2841, 'studio': 4240, 'philip': 3252, 'hide': 2097, 'soul': 4079, 'ran': 3513, 'leslie': 2574, 'howard': 2182, 'murphy': 2944, 'hilariously': 2107, '1983': 22, 'hasnt': 2044, 'added': 116, 'itll': 2369, 'humble': 2191, 'kay': 2447, 'silence': 3974, 'remarkable': 3613, 'revealing': 3672, 'unforgettable': 4652, 'test': 4416, 'erotic': 1515, 'criminals': 1058, 'vehicle': 4718, 'farm': 1656, 'rob': 3710, 'shoots': 3944, 'fields': 1705, 'literally': 2622, 'achieved': 93, 'unwatchable': 4682, 'dubbing': 1380, 'contest': 967, 'miserable': 2863, 'vague': 4705, 'parody': 3192, 'overcome': 3151, 'stiff': 4187, 'riveting': 3708, 'bull': 619, 'festival': 1697, 'unpleasant': 4674, 'messed': 2821, 'cusack': 1088, 'noticed': 3049, 'built': 618, 'execution': 1566, 'thrills': 4475, 'pg': 3250, 'prom': 3429, 'inept': 2281, 'bomb': 531, 'compelled': 915, 'bone': 533, 'drivel': 1364, 'hollow': 2135, 'titles': 4506, 'hopeless': 2158, 'invisible': 2344, 'lab': 2501, 'extended': 1604, 'par': 3184, 'happily': 2030, 'treats': 4575, 'pool': 3327, 'failing': 1627, 'acted': 98, 'progresses': 3426, 'explosion': 1596, 'reaching': 3539, 'heroes': 2089, 'survived': 4322, 'destruction': 1216, 'pop': 3330, 'watches': 4814, 'exceptionally': 1559, 'saving': 3797, 'chaplin': 756, 'god': 1926, 'ugly': 4625, 'arrogant': 303, 'feminist': 1695, 'afterwards': 145, 'sake': 3775, 'portrays': 3344, 'brains': 563, 'hugh': 2186, 'guarantee': 1987, 'embarrassing': 1454, 'awake': 365, 'sleeping': 4025, 'channel': 753, 'surfing': 4311, 'moronic': 2907, 'selling': 3873, 'horrendous': 2162, 'asleep': 320, 'halfway': 2008, 'rental': 3627, 'hoping': 2160, 'expectations': 1576, 'drops': 1372, 'hunting': 2201, 'critics': 1064, 'marvelous': 2750, 'everyday': 1541, 'property': 3438, 'holiday': 2134, 'calls': 654, 'fellow': 1691, 'miller': 2846, 'shocked': 3939, 'mummy': 2937, 'mechanical': 2788, 'ghost': 1902, 'water': 4816, 'finish': 1732, 'extraordinary': 1607, 'advise': 134, '1st': 28, 'hills': 2109, 'flat': 1748, 'snow': 4045, 'tragedy': 4551, 'arrives': 302, 'returned': 3666, 'jessica': 2398, 'situations': 4009, 'absolute': 71, 'pushing': 3479, 'fairy': 1632, 'sky': 4017, 'shell': 3927, 'company': 910, 'woody': 4936, 'crisis': 1060, 'alice': 182, 'folk': 1770, 'lover': 2672, 'flies': 1756, 'annie': 247, 'angel': 231, 'chaos': 755, 'landscape': 2513, 'primary': 3394, 'max': 2774, 'exercise': 1568, 'inspector': 2299, 'generations': 1884, 'greatly': 1967, 'touched': 4534, 'relation': 3595, 'intention': 2319, 'charm': 767, 'bringing': 586, 'splendid': 4119, 'reviewer': 3677, 'bugs': 613, 'nuts': 3064, 'wrapped': 4964, 'forgot': 1796, 'frame': 1815, 'lips': 2615, 'door': 1328, 'ensemble': 1492, 'subtlety': 4261, 'crush': 1072, 'responsibility': 3655, 'crowd': 1067, 'pan': 3180, 'considerable': 950, 'pretend': 3381, 'seed': 3856, 'consequences': 947, 'relatively': 3600, 'survivors': 4325, 'schools': 3814, 'weapons': 4829, 'ray': 3533, 'ignorant': 2223, 'program': 3424, 'digital': 1251, 'friendship': 1838, 'endure': 1475, 'matters': 2770, 'loses': 2657, 'melting': 2799, 'pot': 3354, 'sing': 3992, 'remarkably': 3614, 'anna': 245, 'loosely': 2651, 'arthur': 305, 'connection': 946, 'sci': 3815, 'fi': 1701, '2006': 36, 'inevitably': 2283, 'chest': 784, 'constantly': 958, 'complain': 919, 'unrealistic': 4677, 'gross': 1978, 'ninja': 3018, 'hidden': 2096, 'southern': 4088, '1973': 19, 'kenneth': 2455, 'branagh': 564, 'storm': 4206, 'damon': 1101, 'asked': 317, 'explosions': 1597, 'seat': 3845, 'entertained': 1498, 'cheese': 780, 'step': 4175, 'secondly': 3847, 'access': 83, 'troubled': 4593, 'armed': 293, 'legs': 2566, 'blockbuster': 509, 'load': 2631, 'causing': 726, 'winter': 4900, 'routine': 3743, 'offers': 3090, 'explicit': 1591, 'blows': 517, 'maker': 2714, 'ape': 266, 'arrive': 300, 'hardcore': 2034, 'colour': 880, 'deliberately': 1166, 'section': 3853, 'weve': 4856, 'classes': 834, 'cannibal': 669, 'lay': 2542, 'birds': 485, 'kingdom': 2480, 'slave': 4022, 'trade': 4547, 'guest': 1992, 'flicks': 1755, 'catherine': 719, 'larry': 2520, 'attacked': 338, 'zombie': 4997, 'dust': 1388, 'sisters': 4002, 'experiments': 1584, 'providing': 3451, 'underground': 4640, 'twenty': 4612, 'hearing': 2063, 'abandoned': 62, 'zombies': 4998, 'pays': 3218, 'mall': 2720, 'blonde': 511, 'wanna': 4786, 'abuse': 74, '2003': 33, 'capture': 676, 'souls': 4080, 'atrocious': 335, 'remotely': 3623, 'favor': 1670, 'nine': 3017, 'president': 3378, 'issues': 2365, 'visit': 4755, 'wit': 4908, '1950s': 14, 'spirits': 4115, 'describes': 1196, 'sadness': 3770, 'represented': 3638, 'sin': 3988, 'upset': 4687, 'staff': 4138, 'francis': 1818, 'terry': 4415, 'susan': 4326, 'barbara': 397, 'patients': 3212, 'joan': 2404, 'freddy': 1826, 'wendy': 4846, 'pity': 3281, 'enormous': 1490, 'field': 1704, 'gods': 1928, 'miserably': 2864, 'glover': 1923, 'crash': 1033, 'opposite': 3123, 'discussion': 1284, 'couples': 1017, 'moved': 2922, 'neighbor': 2992, 'shouldnt': 3952, 'process': 3412, 'trap': 4563, 'changing': 752, 'judge': 2424, 'princess': 3397, 'stanwyck': 4149, 'dan': 1102, 'ruby': 3749, 'jazz': 2387, 'dorothy': 1330, 'wolf': 4920, 'bands': 392, 'creatures': 1046, 'financial': 1725, 'gold': 1932, 'san': 3780, 'steal': 4170, 'don': 1320, 'aid': 160, 'francisco': 1819, 'stranger': 4213, 'reed': 3580, 'hold': 2129, 'justice': 2438, 'raising': 3509, 'legendary': 2565, 'joe': 2407, 'performs': 3234, 'jumping': 2431, 'horses': 2171, 'false': 1641, 'valley': 4707, 'riding': 3695, 'chapter': 757, 'include': 2261, 'charlie': 765, 'closely': 855, 'lone': 2642, 'tarzan': 4367, 'marriage': 2743, 'patient': 3211, 'godzilla': 1929, 'curse': 1086, 'castle': 712, 'letter': 2581, '80': 58, 'enjoyment': 1488, 'cared': 685, 'offended': 3085, 'peoples': 3222, 'thick': 4447, 'resemblance': 3645, 'vincent': 4746, 'movements': 2924, 'warn': 4797, 'presented': 3376, 'subplots': 4256, 'guts': 1999, 'kitchen': 2485, 'beat': 423, 'proceedings': 3410, 'contemporary': 965, 'minded': 2850, 'pre': 3365, 'facts': 1624, 'psycho': 3457, 'toys': 4543, 'luck': 2681, 'iii': 2227, 'dolls': 1316, 'lowest': 2678, 'fake': 1635, 'accents': 79, 'contrived': 976, 'breaking': 570, 'misery': 2865, 'seek': 3858, 'recognition': 3568, 'competent': 917, 'carries': 699, 'april': 284, 'bet': 470, 'gentle': 1890, 'painting': 3175, 'chan': 746, 'dragon': 1344, 'carried': 698, 'idiotic': 2219, 'cowboy': 1025, 'mars': 2746, 'thankfully': 4422, 'merits': 2817, 'saves': 3796, 'reel': 3581, 'ability': 65, 'prequel': 3372, 'raise': 3507, 'superior': 4300, 'push': 3477, 'scared': 3805, 'marketing': 2741, 'trick': 4582, 'washington': 4806, 'wives': 4918, 'disappear': 1270, 'receives': 3565, 'simmons': 3981, 'allows': 192, 'destroy': 1213, 'via': 4726, 'terribly': 4408, 'smile': 4036, 'band': 391, 'unreal': 4676, 'spoiled': 4122, 'loving': 2675, 'photographer': 3259, 'eg': 1434, 'sappy': 3784, 'felix': 1689, 'vice': 4727, 'neil': 2995, 'walls': 4783, 'cable': 644, 'rex': 3683, 'judging': 2425, 'aging': 153, 'sidney': 3968, 'scheme': 3812, 'calm': 655, 'strike': 4224, 'reaches': 3538, 'pack': 3165, 'matches': 2764, 'writes': 4970, 'placed': 3283, 'wouldve': 4959, 'troops': 4591, 'keeping': 2450, 'improvement': 2256, 'touches': 4535, 'directorial': 1265, 'succeed': 4262, 'psychotic': 3459, 'harris': 2038, 'louis': 2665, 'trail': 4553, 'kinds': 2478, 'ford': 1789, 'rough': 3741, 'drinking': 1362, 'foster': 1809, 'equally': 1510, 'womens': 4924, 'implausible': 2245, 'kate': 2446, 'molly': 2884, 'advertising': 132, 'host': 2173, '1996': 26, 'pacino': 3164, 'shocking': 3940, 'respected': 3653, 'arrested': 298, 'evident': 1547, 'estate': 1525, 'responsible': 3656, 'criminal': 1057, 'hip': 2114, 'corruption': 1002, 'dozen': 1338, 'fulci': 1845, 'terrorists': 4414, 'reminiscent': 3621, 'suits': 4287, 'flying': 1764, 'swimming': 4338, 'quote': 3496, 'ground': 1979, 'dies': 1245, 'notably': 3042, 'mario': 2738, 'guide': 1993, 'pseudo': 3454, 'scientific': 3817, 'punch': 3466, 'menacing': 2807, 'size': 4012, 'ear': 1397, 'thousand': 4465, 'hype': 2207, 'grace': 1950, 'hippie': 2115, 'join': 2412, 'mass': 2753, 'activities': 102, 'maria': 2736, 'priest': 3392, 'birthday': 487, 'mom': 2885, 'suggests': 4282, 'hideous': 2098, 'slap': 4018, 'bumbling': 622, 'stretched': 4222, 'billy': 482, 'elizabeth': 1445, 'ultra': 4629, 'spirited': 4114, 'witnessed': 4915, 'captured': 677, 'lees': 2560, 'depicting': 1184, 'beaten': 424, 'kicked': 2461, 'flashback': 1746, 'suspicious': 4332, 'morality': 2903, 'tame': 4363, 'females': 1694, 'criticism': 1063, 'appreciation': 281, 'gritty': 1977, 'regarding': 3589, 'slaughter': 4021, 'neck': 2985, 'animal': 239, 'bbc': 417, 'discovery': 1282, 'jaw': 2384, 'awesome': 371, 'circle': 821, 'cruel': 1070, 'shark': 3921, 'adorable': 124, 'earl': 1398, 'views': 4742, 'hundreds': 2196, 'denzel': 1181, 'potentially': 3356, 'proof': 3434, 'europe': 1529, 'blues': 519, 'performed': 3230, 'museum': 2945, 'places': 3284, 'repeatedly': 3632, 'perform': 3227, 'brazil': 568, 'nation': 2969, 'cultural': 1078, 'established': 1524, 'gifted': 1907, 'friendly': 1836, 'fish': 1738, 'evidence': 1546, 'endings': 1472, 'spiritual': 4116, 'hang': 2022, 'flight': 1757, 'needless': 2989, 'generated': 1882, 'spare': 4093, 'bible': 477, 'deaf': 1134, 'directs': 1267, 'robbins': 3712, 'redemption': 3578, 'kurt': 2499, 'shoes': 3941, 'refreshing': 3586, 'engaged': 1480, 'quotes': 3497, 'spanish': 4092, 'eat': 1411, 'rid': 3690, 'dinosaurs': 1256, 'selfish': 3870, 'heroic': 2090, 'commented': 900, 'leg': 2562, 'dinosaur': 1255, 'bodies': 526, 'fifteen': 1706, 'matrix': 2767, 'influenced': 2287, 'easier': 1405, 'accident': 84, 'niro': 3019, 'knife': 2487, 'cameras': 660, 'amounts': 220, 'driver': 1366, 'guilt': 1994, 'discovered': 1280, 'silver': 3977, 'developing': 1224, 'capable': 672, 'entry': 1504, 'lyrics': 2692, 'met': 2822, 'pamela': 3179, 'promising': 3433, 'hanks': 2025, 'charismatic': 763, 'plant': 3293, 'manager': 2724, 'cameos': 658, 'center': 732, 'composed': 926, 'eating': 1413, 'widow': 4883, 'welles': 4844, 'eager': 1396, 'polished': 3323, 'kudos': 2497, 'weakest': 4825, 'causes': 725, 'random': 3514, 'diamond': 1236, 'terrorist': 4413, 'weapon': 4828, 'charisma': 762, '3000': 43, 'mike': 2838, 'mst3k': 2932, 'protagonist': 3441, 'shadows': 3913, 'intelligence': 2313, 'tons': 4520, 'restaurant': 3658, 'noise': 3024, 'senseless': 3878, 'ripped': 3701, 'wealthy': 4827, 'agreed': 156, 'scenario': 3808, 'eastern': 1408, 'borrowed': 545, 'element': 1442, 'suitable': 4285, 'screenwriter': 3833, 'blah': 496, 'lasted': 2522, 'religion': 3607, 'uninspired': 4657, 'omen': 3104, 'tear': 4379, 'ensues': 1493, 'medium': 2792, 'adam': 111, 'sandler': 3781, 'lazy': 2543, 'wrap': 4963, 'britain': 588, 'previously': 3388, 'ballet': 389, 'dancers': 1105, 'houses': 2180, 'inappropriate': 2259, 'angels': 234, 'waves': 4819, 'purchase': 3469, 'emphasis': 1463, 'inspiration': 2300, 'nasty': 2968, 'bruce': 602, 'willis': 4890, 'ho': 2127, 'gradually': 1952, 'desperation': 1210, 'mission': 2870, 'balance': 387, 'quit': 3494, 'identity': 2217, 'twelve': 4611, 'monkeys': 2891, 'pitt': 3280, 'survivor': 4324, 'peters': 3248, 'investigate': 2342, 'unhappy': 4656, 'evening': 1534, 'vegas': 4717, 'switch': 4339, 'gift': 1906, 'produce': 3413, 'cell': 730, 'skills': 4014, 'bottle': 550, 'dig': 1250, 'grave': 1962, 'pleased': 3305, 'reviewers': 3678, 'assigned': 325, 'attraction': 350, 'picking': 3267, 'insight': 2298, 'encounter': 1466, 'thousands': 4466, 'sixties': 4011, 'maintain': 2710, 'dedicated': 1153, 'wound': 4960, 'happiness': 2031, 'joy': 2422, 'essential': 1522, 'descent': 1193, 'dawson': 1128, 'latest': 2526, '1984': 23, 'warriors': 4803, 'fourth': 1813, 'admittedly': 123, 'yelling': 4980, 'lisa': 2616, 'generous': 1886, 'spooky': 4128, 'rising': 3703, 'shining': 3933, 'nicholson': 3011, 'lloyd': 2630, 'artificial': 306, 'duty': 1390, 'ya': 4976, 'everybody': 1540, 'loser': 2655, 'poster': 3353, 'hysterical': 2208, 'vengeance': 4719, 'resist': 3648, 'encounters': 1467, 'deceased': 1146, 'trial': 4580, 'outcome': 3142, 'convince': 983, 'coffee': 870, 'inevitable': 2282, 'logical': 2639, 'russell': 3761, 'proved': 3446, 'similarly': 3980, 'resources': 3651, 'brady': 561, 'claire': 831, 'ingredients': 2289, 'japan': 2381, 'explore': 1594, 'interaction': 2322, 'vs': 4767, 'opportunities': 3120, 'lily': 2605, 'corporate': 998, 'wears': 4832, 'staring': 4152, 'wearing': 4831, 'rolled': 3729, '25': 40, 'liking': 2604, 'rick': 3689, 'darkness': 1117, 'juvenile': 2441, 'bettie': 473, 'partly': 3197, 'simplistic': 3985, 'pages': 3168, 'photos': 3261, 'inane': 2258, 'bite': 489, 'et': 1526, 'ghosts': 1903, 'smooth': 4041, 'definite': 1161, 'margaret': 2735, 'companion': 909, 'sentimental': 3882, 'affected': 137, '1990s': 25, 'yesterday': 4983, 'saved': 3795, 'sleazy': 4023, 'cd': 728, 'valuable': 4708, 'trademark': 4548, 'initially': 2291, 'dinner': 1254, 'harry': 2039, 'struck': 4232, 'fever': 1699, 'superman': 4301, 'mighty': 2836, 'brand': 565, 'unoriginal': 4673, 'greek': 1970, '2002': 32, 'ludicrous': 2685, 'broadcast': 591, 'advance': 127, 'emma': 1457, 'screaming': 3827, 'guilty': 1995, 'liberal': 2588, 'nuclear': 3057, 'corpse': 999, 'illegal': 2229, 'credible': 1048, 'widmark': 4882, 'scores': 3823, 'tap': 4364, 'contrast': 975, 'cagney': 646, 'furthermore': 1854, 'airplane': 166, 'understated': 4646, 'sophisticated': 4075, 'spider': 4109, 'doc': 1303, 'freeman': 1829, 'dignity': 1252, 'amazingly': 210, 'beliefs': 452, 'honesty': 2148, 'integrity': 2311, 'demand': 1174, 'preview': 3386, '1972': 18, 'path': 3209, 'blend': 504, 'hung': 2197, 'unconvincing': 4638, 'passionate': 3206, 'hearts': 2066, 'flow': 1762, 'threatening': 4468, 'adding': 117, 'reunion': 3669, 'fed': 1682, 'cooper': 990, 'alternate': 200, 'hearted': 2065, 'bitter': 491, 'courage': 1018, 'nazi': 2977, 'carrie': 697, 'hire': 2116, 'hates': 2048, 'secrets': 3852, 'target': 4366, 'sun': 4292, 'bela': 450, 'lugosi': 2686, 'producing': 3417, 'joined': 2413, 'exploration': 1593, 'meaningful': 2781, 'depicts': 1186, 'helicopter': 2076, 'author': 359, '2001': 31, 'stanley': 4148, 'introduction': 2339, 'laws': 2540, 'universe': 4666, 'danger': 1109, 'limits': 2607, 'twilight': 4614, 'centered': 733, 'talks': 4361, 'differences': 1247, 'marie': 2737, 'perspective': 3245, 'alcoholic': 177, 'dentist': 1180, 'stargate': 4151, 'stale': 4141, 'colonel': 876, 'dean': 1139, 'amanda': 205, 'snake': 4042, 'confidence': 938, 'groups': 1981, 'mitchell': 2875, 'displayed': 1292, 'exotic': 1574, 'displays': 1293, 'dare': 1113, 'dressed': 1358, 'hoffman': 2128, 'obscure': 3068, 'futuristic': 1857, 'map': 2733, 'enemies': 1476, 'hooked': 2153, 'gadget': 1860, 'negative': 2991, 'sue': 4274, 'korean': 2495, 'sport': 4129, 'device': 1227, 'ridden': 3691, 'campy': 664, 'sexuality': 3909, 'ireland': 2352, 'secretly': 3851, 'dick': 1239, 'exposure': 1599, 'wells': 4845, '20th': 38, 'novels': 3053, 'wide': 4880, 'forgive': 1795, 'destroyed': 1214, 'union': 4661, 'drew': 1360, 'pride': 3391, 'clint': 850, 'unit': 4663, 'murderer': 2941, 'corny': 997, 'sidekick': 3966, 'mothers': 2912, 'em': 1452, 'explaining': 1588, 'shake': 3914, 'sullivan': 4288, 'arrival': 299, 'critical': 1062, 'orson': 3132, 'lane': 2515, 'bonus': 534, 'subsequent': 4257, 'reasonable': 3558, 'elvira': 1450, 'mistress': 2874, 'hill': 2108, 'derek': 1192, 'icon': 2211, 'remarks': 3615, 'conservative': 948, 'draws': 1352, 'wishes': 4906, 'strip': 4228, 'madonna': 2699, 'hello': 2078, 'mountain': 2917, 'precious': 3366, 'domino': 1319, 'parent': 3187, 'meat': 2787, 'delight': 1167, 'antics': 255, 'versus': 4722, 'miscast': 2862, 'disagree': 1269, 'montana': 2895, 'settle': 3902, 'enthusiasm': 1501, 'clues': 865, 'prize': 3405, 'treasure': 4571, 'awfully': 373, 'drunken': 1376, 'reactions': 3542, 'internet': 2327, 'communist': 907, 'attached': 336, 'wake': 4774, 'enter': 1494, 'wisdom': 4902, 'heat': 2067, 'psychological': 3458, 'symbolism': 4341, 'distribution': 1298, 'accomplished': 87, 'angle': 236, 'fisher': 1739, 'columbo': 881, 'falk': 1636, 'forces': 1788, 'realizes': 3554, 'transformation': 4560, 'fault': 1668, 'royal': 3746, 'richards': 3687, 'marty': 2749, 'affect': 136, 'strangers': 4214, 'answers': 252, 'domestic': 1318, 'smoke': 4039, 'lol': 2640, 'walken': 4777, 'gabriel': 1859, 'wishing': 4907, 'likewise': 2603, 'disappeared': 1271, 'lengthy': 2570, 'translation': 4562, 'tracks': 4545, 'nostalgic': 3039, '2007': 37, 'ticket': 4487, 'werewolf': 4850, 'caliber': 649, 'abysmal': 76, 'boot': 538, 'punishment': 3467, 'cinematographer': 819, 'fly': 1763, 'cruise': 1071, 'spielberg': 4110, 'philosophical': 3253, 'historically': 2120, 'concern': 931, 'familys': 1646, 'wrestling': 4966, 'michelle': 2830, 'waitress': 4773, 'climactic': 848, 'fatal': 1664, 'incident': 2260, 'illness': 2230, 'bus': 631, 'saga': 3773, 'scooby': 3820, 'punk': 3468, 'wind': 4893, 'manipulative': 2727, 'hudson': 2184, 'bacall': 377, 'oil': 3097, 'chased': 770, 'bollywood': 530, 'careful': 688, 'relevant': 3604, 'circumstances': 822, 'imitation': 2241, 'goodness': 1938, 'appalling': 268, 'overdone': 3152, 'monsters': 2893, 'relatives': 3601, 'doll': 1313, 'pit': 3278, 'specifically': 4100, 'brando': 566, 'greed': 1968, 'resembles': 3646, 'dubbed': 1379, 'perfection': 3225, 'copies': 992, 'purposes': 3475, 'acid': 95, 'chicks': 787, 'continuity': 972, 'explored': 1595, 'ironic': 2355, 'phony': 3256, 'doctors': 1305, 'garden': 1872, 'matched': 2763, 'hop': 2154, 'rachel': 3500, 'useful': 4694, 'hollywoods': 2138, 'expressed': 1601, 'resulting': 3661, 'ramones': 3512, 'hole': 2132, 'satisfied': 3789, 'sacrifice': 3766, 'fonda': 1777, 'spoken': 4126, 'titanic': 4503, 'outfit': 3144, 'womans': 4922, 'swear': 4334, 'vicious': 4728, 'crucial': 1068, 'buff': 611, 'priceless': 3390, 'transition': 4561, 'techniques': 4384, 'nomination': 3026, 'academy': 77, 'worthy': 4956, 'bathroom': 412, 'ps': 3453, 'eyre': 1614, 'rochester': 3719, 'charlotte': 766, 'understandable': 4644, 'dialogues': 1235, 'errors': 1516, 'eyed': 1612, 'shy': 3962, 'plausible': 3295, 'grandfather': 1954, 'leo': 2571, 'giallo': 1904, 'illogical': 2231, 'discuss': 1283, 'porno': 3337, 'lesbian': 2573, 'uk': 4626, 'recorded': 3574, 'proper': 3436, 'justify': 2439, 'flop': 1760, 'superhero': 4299, 'cox': 1026, 'adventures': 131, 'march': 2734, 'arguably': 289, 'con': 928, 'ratings': 3530, 'countries': 1013, 'atlantis': 332, 'gain': 1863, 'rat': 3525, 'craig': 1030, 'retired': 3664, 'persona': 3239, 'rooms': 3736, 'photographed': 3258, 'mistakes': 2873, 'navy': 2976, 'assault': 324, 'counter': 1011, 'surviving': 4323, 'officers': 3093, 'forth': 1804, 'lion': 2614, 'lucy': 2684, 'term': 4405, 'surrounding': 4319, 'reveal': 3670, 'france': 1816, 'norman': 3035, 'dracula': 1341, 'sum': 4289, 'unintentionally': 4659, 'noted': 3045, 'wreck': 4965, 'shelf': 3926, 'reflection': 3585, 'chair': 742, 'popcorn': 3331, 'davies': 1125, 'atmospheric': 334, 'virus': 4752, 'kissing': 2484, 'mate': 2765, 'babe': 375, 'reynolds': 3684, 'diane': 1238, 'lately': 2524, 'ships': 3935, 'hardy': 2037, 'propaganda': 3435, 'modesty': 2883, 'gangsters': 1869, 'waited': 4771, 'psychic': 3456, 'fond': 1776, 'intrigued': 2334, 'georges': 1894, 'catholic': 720, 'existent': 1572, 'lumet': 2688, 'concerning': 933, 'families': 1644, 'importantly': 2248, 'suspend': 4329, 'user': 4696, 'eva': 1531, 'enjoying': 1487, 'wave': 4818, 'jaws': 2385, 'realizing': 3555, 'recognized': 3570, 'spoke': 4125, 'chain': 741, 'documentaries': 1306, 'aids': 161, 'thrill': 4471, 'orange': 3125, 'devils': 1229, 'sounded': 4082, 'campbell': 663, 'brenda': 575, 'jenny': 2393, 'justin': 2440, 'combine': 884, 'eighties': 1437, 'poetic': 3313, 'dragged': 1343, 'served': 3894, 'robinson': 3716, '3d': 46, 'elephant': 1444, 'factory': 1623, 'carl': 692, 'screens': 3832, 'ah': 158, 'bucks': 606, 'fortunately': 1805, 'exposed': 1598, 'murderous': 2942, 'reads': 3545, 'necessarily': 2983, 'thoughtful': 4463, 'drives': 1367, 'bargain': 400, 'disjointed': 1287, 'berlin': 467, 'model': 2880, 'tie': 4488, 'consistent': 953, 'promises': 3432, 'namely': 2962, 'masterful': 2758, 'fury': 1855, 'picks': 3268, 'achievement': 94, 'solo': 4058, 'beating': 425, 'bullets': 621, 'staying': 4168, 'principal': 3398, 'funeral': 1849, 'harsh': 2040, 'travels': 4569, 'concerns': 934, 'der': 1191, 'mickey': 2831, 'stooges': 4200, 'proceeds': 3411, 'fix': 1744, 'hunters': 2200, 'wandering': 4785, 'lying': 2690, 'distinct': 1296, 'bound': 553, 'lawyer': 2541, 'september': 3884, 'walker': 4778, 'showdown': 3955, 'centers': 734, 'assistant': 326, 'weekend': 4838, 'enters': 1496, 'tiresome': 4502, 'butt': 638, 'sandra': 3782, 'tender': 4401, 'benefit': 465, 'praise': 3364, 'blunt': 520, 'succeeded': 4263, 'competition': 918, 'press': 3379, 'arnold': 296, 'handled': 2019, 'sincere': 3991, 'creativity': 1042, '1990': 24, 'miracle': 2860, 'afford': 138, 'hints': 2113, 'astaire': 330, 'mentally': 2809, 'tends': 4402, 'perry': 3237, '1980': 20, 'position': 3345, 'barry': 401, 'solution': 4059, 'moody': 2899, 'equipment': 1511, 'von': 4765, 'scarecrow': 3804, 'bin': 483, 'jumped': 2430, 'twin': 4615, 'witnesses': 4916, 'akshay': 169, 'cary': 706, 'tomatoes': 4515, 'spy': 4135, 'regard': 3588, 'sneak': 4043, 'tremendous': 4579, 'paranoia': 3186, 'bush': 632, 'karen': 2444, 'rocky': 3723, 'capturing': 679, 'gandhi': 1866, 'kapoor': 2443, 'wholly': 4874, 'civilization': 827, 'daddy': 1096, 'heights': 2073, 'ned': 2986, 'ego': 1435, 'clips': 852, 'edition': 1422, 'online': 3109, 'indians': 2275, 'uwe': 4703, 'boll': 529, 'controversial': 978, 'tribute': 4581, 'pushed': 3478, 'judy': 2426, 'burning': 627, 'amitabh': 216, 'official': 3094, 'cinderella': 815, 'incomprehensible': 2267, 'fest': 1696, 'basement': 405, 'jake': 2377, 'teachers': 4376, 'possibility': 3349, 'bobby': 525, 'rendition': 3625, 'doomed': 1327, 'hart': 2041, 'lively': 2627, 'timothy': 4499, 'dalton': 1098, 'catches': 715, 'catching': 716, 'stunts': 4246, 'hammer': 2014, 'attractive': 351, '1968': 16, 'businessman': 634, 'motivations': 2915, 'homer': 2144, 'rocket': 3721, 'chess': 783, 'neo': 2998, 'explains': 1589, 'paltrow': 3178, 'bath': 411, 'streisand': 4218, 'pearl': 3220, 'holly': 2136, 'wallace': 4782, 'journalist': 2420, 'catchy': 717, 'troubles': 4594, 'university': 4667, 'masters': 2761, 'alex': 179, 'seventies': 3904, 'hamlet': 2013, 'dave': 1123, 'guessed': 1990, 'doom': 1326, 'defined': 1160, 'improve': 2254, 'khan': 2459, 'bud': 607, 'tortured': 4530, 'complexity': 924, 'adams': 112, 'underlying': 4641, 'burton': 630, 'clown': 862, 'matthew': 2772, 'bare': 398, 'joey': 2408, 'ashley': 313, 'useless': 4695, 'overlook': 3153, 'muslim': 2949, 'spots': 4132, '1933': 12, 'leonard': 2572, 'overwhelming': 3157, 'machines': 2694, 'devoid': 1230, 'pat': 3208, 'diana': 1237, 'marks': 2742, 'cg': 739, 'sunshine': 4294, 'nations': 2971, 'root': 3737, 'choreography': 802, 'conflicts': 940, 'accompanied': 86, 'satisfy': 3790, 'jet': 2400, 'nazis': 2978, 'props': 3439, 'closet': 858, 'dickens': 1240, 'poem': 3312, 'celebrity': 729, 'pokemon': 3320, 'corrupt': 1001, 'rights': 3697, 'rambo': 3511, 'comparing': 913, 'frankenstein': 1822, 'disease': 1285, 'isolated': 2363, 'removed': 3624, 'championship': 745, 'simpson': 3987, 'savage': 3793, 'cube': 1076, 'feed': 1683, 'visible': 4753, 'rubber': 3747, 'scrooge': 3837, 'clumsy': 866, 'samurai': 3779, 'introduce': 2336, 'intrigue': 2333, 'clip': 851, 'tooth': 4524, 'attitudes': 347, 'legal': 2563, 'pulp': 3465, 'paulie': 3215, 'unpredictable': 4675, 'pursuit': 3476, 'rural': 3758, 'iraq': 2351, 'grasp': 1960, 'butler': 637, 'card': 681, 'prostitute': 3440, 'snl': 4044, 'miike': 2837, 'crocodile': 1065, 'macy': 2695, 'linda': 2609, 'eastwood': 1409, 'carradine': 695, 'gerard': 1895, 'species': 4098, 'voight': 4764, 'iran': 2350, 'steel': 4173, 'doubts': 1333, 'plight': 3308, 'swim': 4337, 'unseen': 4678, 'blob': 507, 'builds': 617, 'cried': 1054, 'stan': 4142, 'bride': 577, 'gundam': 1997, 'da': 1094, 'basketball': 409}\n"
     ]
    }
   ],
   "source": [
    "print(str(vocabulary))"
   ]
  },
  {
   "cell_type": "markdown",
   "metadata": {},
   "source": [
    "Once you have added the endpoint name to the Lambda function, click on **Save**. Your Lambda function is now up and running. Next we need to create a way for our web app to execute the Lambda function."
   ]
  },
  {
   "cell_type": "markdown",
   "metadata": {},
   "source": [
    "### Setting up API Gateway\n",
    "\n",
    "Now that our Lambda function is set up, it is time to create a new API using API Gateway that will trigger the Lambda function we have just created.\n",
    "\n",
    "Using AWS Console, navigate to **Amazon API Gateway** and then click on **Get started**.\n",
    "\n",
    "On the next page, make sure that **New API** is selected and give the new api a name, for example, `sentiment_analysis_web_app`. Then, click on **Create API**.\n",
    "\n",
    "Now we have created an API, however it doesn't currently do anything. What we want it to do is to trigger the Lambda function that we created earlier.\n",
    "\n",
    "Select the **Actions** dropdown menu and click **Create Method**. A new blank method will be created, select its dropdown menu and select **POST**, then click on the check mark beside it.\n",
    "\n",
    "For the integration point, make sure that **Lambda Function** is selected and click on the **Use Lambda Proxy integration**. This option makes sure that the data that is sent to the API is then sent directly to the Lambda function with no processing. It also means that the return value must be a proper response object as it will also not be processed by API Gateway.\n",
    "\n",
    "Type the name of the Lambda function you created earlier into the **Lambda Function** text entry box and then click on **Save**. Click on **OK** in the pop-up box that then appears, giving permission to API Gateway to invoke the Lambda function you created.\n",
    "\n",
    "The last step in creating the API Gateway is to select the **Actions** dropdown and click on **Deploy API**. You will need to create a new Deployment stage and name it anything you like, for example `prod`.\n",
    "\n",
    "You have now successfully set up a public API to access your SageMaker model. Make sure to copy or write down the URL provided to invoke your newly created public API as this will be needed in the next step. This URL can be found at the top of the page, highlighted in blue next to the text **Invoke URL**."
   ]
  },
  {
   "cell_type": "markdown",
   "metadata": {},
   "source": [
    "## Step 7: Deploying our web app\n",
    "\n",
    "Now that we have a publicly available API, we can start using it in a web app. For our purposes, we have provided a simple static html file which can make use of the public api you created earlier.\n",
    "\n",
    "In the `website` folder there should be a file called `index.html`. Download the file to your computer and open that file up in a text editor of your choice. There should be a line which contains **\\*\\*REPLACE WITH PUBLIC API URL\\*\\***. Replace this string with the url that you wrote down in the last step and then save the file.\n",
    "\n",
    "Now, if you open `index.html` on your local computer, your browser will behave as a local web server and you can use the provided site to interact with your SageMaker model.\n",
    "\n",
    "If you'd like to go further, you can host this html file anywhere you'd like, for example using github or hosting a static site on Amazon's S3. Once you have done this you can share the link with anyone you'd like and have them play with it too!\n",
    "\n",
    "> **Important Note** In order for the web app to communicate with the SageMaker endpoint, the endpoint has to actually be deployed and running. This means that you are paying for it. Make sure that the endpoint is running when you want to use the web app but that you shut it down when you don't need it, otherwise you will end up with a surprisingly large AWS bill."
   ]
  },
  {
   "cell_type": "markdown",
   "metadata": {},
   "source": [
    "### Delete the endpoint\n",
    "\n",
    "Remember to always shut down your endpoint if you are no longer using it. You are charged for the length of time that the endpoint is running so if you forget and leave it on you could end up with an unexpectedly large bill."
   ]
  },
  {
   "cell_type": "code",
   "execution_count": 50,
   "metadata": {},
   "outputs": [],
   "source": [
    "xgb_predictor.delete_endpoint()"
   ]
  },
  {
   "cell_type": "markdown",
   "metadata": {},
   "source": [
    "## Optional: Clean up\n",
    "\n",
    "The default notebook instance on SageMaker doesn't have a lot of excess disk space available. As you continue to complete and execute notebooks you will eventually fill up this disk space, leading to errors which can be difficult to diagnose. Once you are completely finished using a notebook it is a good idea to remove the files that you created along the way. Of course, you can do this from the terminal or from the notebook hub if you would like. The cell below contains some commands to clean up the created files from within the notebook."
   ]
  },
  {
   "cell_type": "code",
   "execution_count": 55,
   "metadata": {},
   "outputs": [],
   "source": [
    "vocabulary = response = test_bow = None"
   ]
  },
  {
   "cell_type": "code",
   "execution_count": 56,
   "metadata": {},
   "outputs": [
    {
     "ename": "OSError",
     "evalue": "[Errno 12] Cannot allocate memory",
     "output_type": "error",
     "traceback": [
      "\u001b[0;31m---------------------------------------------------------------------------\u001b[0m",
      "\u001b[0;31mOSError\u001b[0m                                   Traceback (most recent call last)",
      "\u001b[0;32m<ipython-input-56-2c87d8eefdf2>\u001b[0m in \u001b[0;36m<module>\u001b[0;34m()\u001b[0m\n\u001b[1;32m      1\u001b[0m \u001b[0;31m# First we will remove all of the files contained in the data_dir directory\u001b[0m\u001b[0;34m\u001b[0m\u001b[0;34m\u001b[0m\u001b[0m\n\u001b[0;32m----> 2\u001b[0;31m \u001b[0mget_ipython\u001b[0m\u001b[0;34m(\u001b[0m\u001b[0;34m)\u001b[0m\u001b[0;34m.\u001b[0m\u001b[0msystem\u001b[0m\u001b[0;34m(\u001b[0m\u001b[0;34m'rm $data_dir/*'\u001b[0m\u001b[0;34m)\u001b[0m\u001b[0;34m\u001b[0m\u001b[0m\n\u001b[0m\u001b[1;32m      3\u001b[0m \u001b[0;34m\u001b[0m\u001b[0m\n\u001b[1;32m      4\u001b[0m \u001b[0;31m# And then we delete the directory itself\u001b[0m\u001b[0;34m\u001b[0m\u001b[0;34m\u001b[0m\u001b[0m\n\u001b[1;32m      5\u001b[0m \u001b[0mget_ipython\u001b[0m\u001b[0;34m(\u001b[0m\u001b[0;34m)\u001b[0m\u001b[0;34m.\u001b[0m\u001b[0msystem\u001b[0m\u001b[0;34m(\u001b[0m\u001b[0;34m'rmdir $data_dir'\u001b[0m\u001b[0;34m)\u001b[0m\u001b[0;34m\u001b[0m\u001b[0m\n",
      "\u001b[0;32m~/anaconda3/envs/python3/lib/python3.6/site-packages/IPython/core/interactiveshell.py\u001b[0m in \u001b[0;36msystem_piped\u001b[0;34m(self, cmd)\u001b[0m\n\u001b[1;32m   2259\u001b[0m         \u001b[0;31m# a non-None value would trigger :func:`sys.displayhook` calls.\u001b[0m\u001b[0;34m\u001b[0m\u001b[0;34m\u001b[0m\u001b[0m\n\u001b[1;32m   2260\u001b[0m         \u001b[0;31m# Instead, we store the exit_code in user_ns.\u001b[0m\u001b[0;34m\u001b[0m\u001b[0;34m\u001b[0m\u001b[0m\n\u001b[0;32m-> 2261\u001b[0;31m         \u001b[0mself\u001b[0m\u001b[0;34m.\u001b[0m\u001b[0muser_ns\u001b[0m\u001b[0;34m[\u001b[0m\u001b[0;34m'_exit_code'\u001b[0m\u001b[0;34m]\u001b[0m \u001b[0;34m=\u001b[0m \u001b[0msystem\u001b[0m\u001b[0;34m(\u001b[0m\u001b[0mself\u001b[0m\u001b[0;34m.\u001b[0m\u001b[0mvar_expand\u001b[0m\u001b[0;34m(\u001b[0m\u001b[0mcmd\u001b[0m\u001b[0;34m,\u001b[0m \u001b[0mdepth\u001b[0m\u001b[0;34m=\u001b[0m\u001b[0;36m1\u001b[0m\u001b[0;34m)\u001b[0m\u001b[0;34m)\u001b[0m\u001b[0;34m\u001b[0m\u001b[0m\n\u001b[0m\u001b[1;32m   2262\u001b[0m \u001b[0;34m\u001b[0m\u001b[0m\n\u001b[1;32m   2263\u001b[0m     \u001b[0;32mdef\u001b[0m \u001b[0msystem_raw\u001b[0m\u001b[0;34m(\u001b[0m\u001b[0mself\u001b[0m\u001b[0;34m,\u001b[0m \u001b[0mcmd\u001b[0m\u001b[0;34m)\u001b[0m\u001b[0;34m:\u001b[0m\u001b[0;34m\u001b[0m\u001b[0m\n",
      "\u001b[0;32m~/anaconda3/envs/python3/lib/python3.6/site-packages/IPython/utils/_process_posix.py\u001b[0m in \u001b[0;36msystem\u001b[0;34m(self, cmd)\u001b[0m\n\u001b[1;32m    154\u001b[0m                 \u001b[0mchild\u001b[0m \u001b[0;34m=\u001b[0m \u001b[0mpexpect\u001b[0m\u001b[0;34m.\u001b[0m\u001b[0mspawnb\u001b[0m\u001b[0;34m(\u001b[0m\u001b[0mself\u001b[0m\u001b[0;34m.\u001b[0m\u001b[0msh\u001b[0m\u001b[0;34m,\u001b[0m \u001b[0margs\u001b[0m\u001b[0;34m=\u001b[0m\u001b[0;34m[\u001b[0m\u001b[0;34m'-c'\u001b[0m\u001b[0;34m,\u001b[0m \u001b[0mcmd\u001b[0m\u001b[0;34m]\u001b[0m\u001b[0;34m)\u001b[0m \u001b[0;31m# Pexpect-U\u001b[0m\u001b[0;34m\u001b[0m\u001b[0m\n\u001b[1;32m    155\u001b[0m             \u001b[0;32melse\u001b[0m\u001b[0;34m:\u001b[0m\u001b[0;34m\u001b[0m\u001b[0m\n\u001b[0;32m--> 156\u001b[0;31m                 \u001b[0mchild\u001b[0m \u001b[0;34m=\u001b[0m \u001b[0mpexpect\u001b[0m\u001b[0;34m.\u001b[0m\u001b[0mspawn\u001b[0m\u001b[0;34m(\u001b[0m\u001b[0mself\u001b[0m\u001b[0;34m.\u001b[0m\u001b[0msh\u001b[0m\u001b[0;34m,\u001b[0m \u001b[0margs\u001b[0m\u001b[0;34m=\u001b[0m\u001b[0;34m[\u001b[0m\u001b[0;34m'-c'\u001b[0m\u001b[0;34m,\u001b[0m \u001b[0mcmd\u001b[0m\u001b[0;34m]\u001b[0m\u001b[0;34m)\u001b[0m  \u001b[0;31m# Vanilla Pexpect\u001b[0m\u001b[0;34m\u001b[0m\u001b[0m\n\u001b[0m\u001b[1;32m    157\u001b[0m             \u001b[0mflush\u001b[0m \u001b[0;34m=\u001b[0m \u001b[0msys\u001b[0m\u001b[0;34m.\u001b[0m\u001b[0mstdout\u001b[0m\u001b[0;34m.\u001b[0m\u001b[0mflush\u001b[0m\u001b[0;34m\u001b[0m\u001b[0m\n\u001b[1;32m    158\u001b[0m             \u001b[0;32mwhile\u001b[0m \u001b[0;32mTrue\u001b[0m\u001b[0;34m:\u001b[0m\u001b[0;34m\u001b[0m\u001b[0m\n",
      "\u001b[0;32m~/anaconda3/envs/python3/lib/python3.6/site-packages/pexpect/pty_spawn.py\u001b[0m in \u001b[0;36m__init__\u001b[0;34m(self, command, args, timeout, maxread, searchwindowsize, logfile, cwd, env, ignore_sighup, echo, preexec_fn, encoding, codec_errors, dimensions, use_poll)\u001b[0m\n\u001b[1;32m    202\u001b[0m             \u001b[0mself\u001b[0m\u001b[0;34m.\u001b[0m\u001b[0mname\u001b[0m \u001b[0;34m=\u001b[0m \u001b[0;34m'<pexpect factory incomplete>'\u001b[0m\u001b[0;34m\u001b[0m\u001b[0m\n\u001b[1;32m    203\u001b[0m         \u001b[0;32melse\u001b[0m\u001b[0;34m:\u001b[0m\u001b[0;34m\u001b[0m\u001b[0m\n\u001b[0;32m--> 204\u001b[0;31m             \u001b[0mself\u001b[0m\u001b[0;34m.\u001b[0m\u001b[0m_spawn\u001b[0m\u001b[0;34m(\u001b[0m\u001b[0mcommand\u001b[0m\u001b[0;34m,\u001b[0m \u001b[0margs\u001b[0m\u001b[0;34m,\u001b[0m \u001b[0mpreexec_fn\u001b[0m\u001b[0;34m,\u001b[0m \u001b[0mdimensions\u001b[0m\u001b[0;34m)\u001b[0m\u001b[0;34m\u001b[0m\u001b[0m\n\u001b[0m\u001b[1;32m    205\u001b[0m         \u001b[0mself\u001b[0m\u001b[0;34m.\u001b[0m\u001b[0muse_poll\u001b[0m \u001b[0;34m=\u001b[0m \u001b[0muse_poll\u001b[0m\u001b[0;34m\u001b[0m\u001b[0m\n\u001b[1;32m    206\u001b[0m \u001b[0;34m\u001b[0m\u001b[0m\n",
      "\u001b[0;32m~/anaconda3/envs/python3/lib/python3.6/site-packages/pexpect/pty_spawn.py\u001b[0m in \u001b[0;36m_spawn\u001b[0;34m(self, command, args, preexec_fn, dimensions)\u001b[0m\n\u001b[1;32m    301\u001b[0m \u001b[0;34m\u001b[0m\u001b[0m\n\u001b[1;32m    302\u001b[0m         self.ptyproc = self._spawnpty(self.args, env=self.env,\n\u001b[0;32m--> 303\u001b[0;31m                                      cwd=self.cwd, **kwargs)\n\u001b[0m\u001b[1;32m    304\u001b[0m \u001b[0;34m\u001b[0m\u001b[0m\n\u001b[1;32m    305\u001b[0m         \u001b[0mself\u001b[0m\u001b[0;34m.\u001b[0m\u001b[0mpid\u001b[0m \u001b[0;34m=\u001b[0m \u001b[0mself\u001b[0m\u001b[0;34m.\u001b[0m\u001b[0mptyproc\u001b[0m\u001b[0;34m.\u001b[0m\u001b[0mpid\u001b[0m\u001b[0;34m\u001b[0m\u001b[0m\n",
      "\u001b[0;32m~/anaconda3/envs/python3/lib/python3.6/site-packages/pexpect/pty_spawn.py\u001b[0m in \u001b[0;36m_spawnpty\u001b[0;34m(self, args, **kwargs)\u001b[0m\n\u001b[1;32m    312\u001b[0m     \u001b[0;32mdef\u001b[0m \u001b[0m_spawnpty\u001b[0m\u001b[0;34m(\u001b[0m\u001b[0mself\u001b[0m\u001b[0;34m,\u001b[0m \u001b[0margs\u001b[0m\u001b[0;34m,\u001b[0m \u001b[0;34m**\u001b[0m\u001b[0mkwargs\u001b[0m\u001b[0;34m)\u001b[0m\u001b[0;34m:\u001b[0m\u001b[0;34m\u001b[0m\u001b[0m\n\u001b[1;32m    313\u001b[0m         \u001b[0;34m'''Spawn a pty and return an instance of PtyProcess.'''\u001b[0m\u001b[0;34m\u001b[0m\u001b[0m\n\u001b[0;32m--> 314\u001b[0;31m         \u001b[0;32mreturn\u001b[0m \u001b[0mptyprocess\u001b[0m\u001b[0;34m.\u001b[0m\u001b[0mPtyProcess\u001b[0m\u001b[0;34m.\u001b[0m\u001b[0mspawn\u001b[0m\u001b[0;34m(\u001b[0m\u001b[0margs\u001b[0m\u001b[0;34m,\u001b[0m \u001b[0;34m**\u001b[0m\u001b[0mkwargs\u001b[0m\u001b[0;34m)\u001b[0m\u001b[0;34m\u001b[0m\u001b[0m\n\u001b[0m\u001b[1;32m    315\u001b[0m \u001b[0;34m\u001b[0m\u001b[0m\n\u001b[1;32m    316\u001b[0m     \u001b[0;32mdef\u001b[0m \u001b[0mclose\u001b[0m\u001b[0;34m(\u001b[0m\u001b[0mself\u001b[0m\u001b[0;34m,\u001b[0m \u001b[0mforce\u001b[0m\u001b[0;34m=\u001b[0m\u001b[0;32mTrue\u001b[0m\u001b[0;34m)\u001b[0m\u001b[0;34m:\u001b[0m\u001b[0;34m\u001b[0m\u001b[0m\n",
      "\u001b[0;32m~/anaconda3/envs/python3/lib/python3.6/site-packages/ptyprocess/ptyprocess.py\u001b[0m in \u001b[0;36mspawn\u001b[0;34m(cls, argv, cwd, env, echo, preexec_fn, dimensions)\u001b[0m\n\u001b[1;32m    220\u001b[0m \u001b[0;34m\u001b[0m\u001b[0m\n\u001b[1;32m    221\u001b[0m         \u001b[0;32mif\u001b[0m \u001b[0muse_native_pty_fork\u001b[0m\u001b[0;34m:\u001b[0m\u001b[0;34m\u001b[0m\u001b[0m\n\u001b[0;32m--> 222\u001b[0;31m             \u001b[0mpid\u001b[0m\u001b[0;34m,\u001b[0m \u001b[0mfd\u001b[0m \u001b[0;34m=\u001b[0m \u001b[0mpty\u001b[0m\u001b[0;34m.\u001b[0m\u001b[0mfork\u001b[0m\u001b[0;34m(\u001b[0m\u001b[0;34m)\u001b[0m\u001b[0;34m\u001b[0m\u001b[0m\n\u001b[0m\u001b[1;32m    223\u001b[0m         \u001b[0;32melse\u001b[0m\u001b[0;34m:\u001b[0m\u001b[0;34m\u001b[0m\u001b[0m\n\u001b[1;32m    224\u001b[0m             \u001b[0;31m# Use internal fork_pty, for Solaris\u001b[0m\u001b[0;34m\u001b[0m\u001b[0;34m\u001b[0m\u001b[0m\n",
      "\u001b[0;32m~/anaconda3/envs/python3/lib/python3.6/pty.py\u001b[0m in \u001b[0;36mfork\u001b[0;34m()\u001b[0m\n\u001b[1;32m     95\u001b[0m \u001b[0;34m\u001b[0m\u001b[0m\n\u001b[1;32m     96\u001b[0m     \u001b[0mmaster_fd\u001b[0m\u001b[0;34m,\u001b[0m \u001b[0mslave_fd\u001b[0m \u001b[0;34m=\u001b[0m \u001b[0mopenpty\u001b[0m\u001b[0;34m(\u001b[0m\u001b[0;34m)\u001b[0m\u001b[0;34m\u001b[0m\u001b[0m\n\u001b[0;32m---> 97\u001b[0;31m     \u001b[0mpid\u001b[0m \u001b[0;34m=\u001b[0m \u001b[0mos\u001b[0m\u001b[0;34m.\u001b[0m\u001b[0mfork\u001b[0m\u001b[0;34m(\u001b[0m\u001b[0;34m)\u001b[0m\u001b[0;34m\u001b[0m\u001b[0m\n\u001b[0m\u001b[1;32m     98\u001b[0m     \u001b[0;32mif\u001b[0m \u001b[0mpid\u001b[0m \u001b[0;34m==\u001b[0m \u001b[0mCHILD\u001b[0m\u001b[0;34m:\u001b[0m\u001b[0;34m\u001b[0m\u001b[0m\n\u001b[1;32m     99\u001b[0m         \u001b[0;31m# Establish a new session.\u001b[0m\u001b[0;34m\u001b[0m\u001b[0;34m\u001b[0m\u001b[0m\n",
      "\u001b[0;31mOSError\u001b[0m: [Errno 12] Cannot allocate memory"
     ]
    }
   ],
   "source": [
    "# First we will remove all of the files contained in the data_dir directory\n",
    "!rm $data_dir/*\n",
    "\n",
    "# And then we delete the directory itself\n",
    "!rmdir $data_dir\n",
    "\n",
    "# Similarly we remove the files in the cache_dir directory and the directory itself\n",
    "!rm $cache_dir/*\n",
    "!rmdir $cache_dir"
   ]
  },
  {
   "cell_type": "code",
   "execution_count": null,
   "metadata": {},
   "outputs": [],
   "source": []
  }
 ],
 "metadata": {
  "kernelspec": {
   "display_name": "conda_python3",
   "language": "python",
   "name": "conda_python3"
  },
  "language_info": {
   "codemirror_mode": {
    "name": "ipython",
    "version": 3
   },
   "file_extension": ".py",
   "mimetype": "text/x-python",
   "name": "python",
   "nbconvert_exporter": "python",
   "pygments_lexer": "ipython3",
   "version": "3.6.5"
  }
 },
 "nbformat": 4,
 "nbformat_minor": 2
}
