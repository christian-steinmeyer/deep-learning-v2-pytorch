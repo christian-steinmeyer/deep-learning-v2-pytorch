{
 "cells": [
  {
   "cell_type": "markdown",
   "metadata": {},
   "source": [
    "# Sentiment Analysis\n",
    "\n",
    "## Using XGBoost in SageMaker\n",
    "\n",
    "_Deep Learning Nanodegree Program | Deployment_\n",
    "\n",
    "---\n",
    "\n",
    "As our first example of using Amazon's SageMaker service we will construct a random tree model to predict the sentiment of a movie review. You may have seen a version of this example in a pervious lesson although it would have been done using the sklearn package. Instead, we will be using the XGBoost package as it is provided to us by Amazon.\n",
    "\n",
    "## Instructions\n",
    "\n",
    "Some template code has already been provided for you, and you will need to implement additional functionality to successfully complete this notebook. You will not need to modify the included code beyond what is requested. Sections that begin with '**TODO**' in the header indicate that you need to complete or implement some portion within them. Instructions will be provided for each section and the specifics of the implementation are marked in the code block with a `# TODO: ...` comment. Please be sure to read the instructions carefully!\n",
    "\n",
    "In addition to implementing code, there may be questions for you to answer which relate to the task and your implementation. Each section where you will answer a question is preceded by a '**Question:**' header. Carefully read each question and provide your answer below the '**Answer:**' header by editing the Markdown cell.\n",
    "\n",
    "> **Note**: Code and Markdown cells can be executed using the **Shift+Enter** keyboard shortcut. In addition, a cell can be edited by typically clicking it (double-click for Markdown cells) or by pressing **Enter** while it is highlighted."
   ]
  },
  {
   "cell_type": "markdown",
   "metadata": {},
   "source": [
    "## Step 1: Downloading the data\n",
    "\n",
    "The dataset we are going to use is very popular among researchers in Natural Language Processing, usually referred to as the [IMDb dataset](http://ai.stanford.edu/~amaas/data/sentiment/). It consists of movie reviews from the website [imdb.com](http://www.imdb.com/), each labeled as either '**pos**itive', if the reviewer enjoyed the film, or '**neg**ative' otherwise.\n",
    "\n",
    "> Maas, Andrew L., et al. [Learning Word Vectors for Sentiment Analysis](http://ai.stanford.edu/~amaas/data/sentiment/). In _Proceedings of the 49th Annual Meeting of the Association for Computational Linguistics: Human Language Technologies_. Association for Computational Linguistics, 2011.\n",
    "\n",
    "We begin by using some Jupyter Notebook magic to download and extract the dataset."
   ]
  },
  {
   "cell_type": "code",
   "execution_count": 1,
   "metadata": {},
   "outputs": [
    {
     "name": "stdout",
     "output_type": "stream",
     "text": [
      "mkdir: cannot create directory ‘../data’: File exists\n",
      "--2020-06-11 12:40:21--  http://ai.stanford.edu/~amaas/data/sentiment/aclImdb_v1.tar.gz\n",
      "Resolving ai.stanford.edu (ai.stanford.edu)... 171.64.68.10\n",
      "Connecting to ai.stanford.edu (ai.stanford.edu)|171.64.68.10|:80... connected.\n",
      "HTTP request sent, awaiting response... 200 OK\n",
      "Length: 84125825 (80M) [application/x-gzip]\n",
      "Saving to: ‘../data/aclImdb_v1.tar.gz’\n",
      "\n",
      "../data/aclImdb_v1. 100%[===================>]  80.23M  9.03MB/s    in 14s     \n",
      "\n",
      "2020-06-11 12:40:36 (5.63 MB/s) - ‘../data/aclImdb_v1.tar.gz’ saved [84125825/84125825]\n",
      "\n"
     ]
    }
   ],
   "source": [
    "%mkdir ../data\n",
    "!wget -O ../data/aclImdb_v1.tar.gz http://ai.stanford.edu/~amaas/data/sentiment/aclImdb_v1.tar.gz\n",
    "!tar -zxf ../data/aclImdb_v1.tar.gz -C ../data"
   ]
  },
  {
   "cell_type": "markdown",
   "metadata": {},
   "source": [
    "## Step 2: Preparing the data\n",
    "\n",
    "The data we have downloaded is split into various files, each of which contains a single review. It will be much easier going forward if we combine these individual files into two large files, one for training and one for testing."
   ]
  },
  {
   "cell_type": "code",
   "execution_count": 2,
   "metadata": {},
   "outputs": [],
   "source": [
    "import os\n",
    "import glob\n",
    "\n",
    "def read_imdb_data(data_dir='../data/aclImdb'):\n",
    "    data = {}\n",
    "    labels = {}\n",
    "    \n",
    "    for data_type in ['train', 'test']:\n",
    "        data[data_type] = {}\n",
    "        labels[data_type] = {}\n",
    "        \n",
    "        for sentiment in ['pos', 'neg']:\n",
    "            data[data_type][sentiment] = []\n",
    "            labels[data_type][sentiment] = []\n",
    "            \n",
    "            path = os.path.join(data_dir, data_type, sentiment, '*.txt')\n",
    "            files = glob.glob(path)\n",
    "            \n",
    "            for f in files:\n",
    "                with open(f) as review:\n",
    "                    data[data_type][sentiment].append(review.read())\n",
    "                    # Here we represent a positive review by '1' and a negative review by '0'\n",
    "                    labels[data_type][sentiment].append(1 if sentiment == 'pos' else 0)\n",
    "                    \n",
    "            assert len(data[data_type][sentiment]) == len(labels[data_type][sentiment]), \\\n",
    "                    \"{}/{} data size does not match labels size\".format(data_type, sentiment)\n",
    "                \n",
    "    return data, labels"
   ]
  },
  {
   "cell_type": "code",
   "execution_count": 3,
   "metadata": {},
   "outputs": [
    {
     "name": "stdout",
     "output_type": "stream",
     "text": [
      "IMDB reviews: train = 12500 pos / 12500 neg, test = 12500 pos / 12500 neg\n"
     ]
    }
   ],
   "source": [
    "data, labels = read_imdb_data()\n",
    "print(\"IMDB reviews: train = {} pos / {} neg, test = {} pos / {} neg\".format(\n",
    "            len(data['train']['pos']), len(data['train']['neg']),\n",
    "            len(data['test']['pos']), len(data['test']['neg'])))"
   ]
  },
  {
   "cell_type": "code",
   "execution_count": 4,
   "metadata": {},
   "outputs": [],
   "source": [
    "from sklearn.utils import shuffle\n",
    "\n",
    "def prepare_imdb_data(data, labels):\n",
    "    \"\"\"Prepare training and test sets from IMDb movie reviews.\"\"\"\n",
    "    \n",
    "    #Combine positive and negative reviews and labels\n",
    "    data_train = data['train']['pos'] + data['train']['neg']\n",
    "    data_test = data['test']['pos'] + data['test']['neg']\n",
    "    labels_train = labels['train']['pos'] + labels['train']['neg']\n",
    "    labels_test = labels['test']['pos'] + labels['test']['neg']\n",
    "    \n",
    "    #Shuffle reviews and corresponding labels within training and test sets\n",
    "    data_train, labels_train = shuffle(data_train, labels_train)\n",
    "    data_test, labels_test = shuffle(data_test, labels_test)\n",
    "    \n",
    "    # Return a unified training data, test data, training labels, test labets\n",
    "    return data_train, data_test, labels_train, labels_test"
   ]
  },
  {
   "cell_type": "code",
   "execution_count": 5,
   "metadata": {},
   "outputs": [
    {
     "name": "stdout",
     "output_type": "stream",
     "text": [
      "IMDb reviews (combined): train = 25000, test = 25000\n"
     ]
    }
   ],
   "source": [
    "train_X, test_X, train_y, test_y = prepare_imdb_data(data, labels)\n",
    "print(\"IMDb reviews (combined): train = {}, test = {}\".format(len(train_X), len(test_X)))"
   ]
  },
  {
   "cell_type": "code",
   "execution_count": 6,
   "metadata": {},
   "outputs": [
    {
     "data": {
      "text/plain": [
       "\"There have been very few films I have not been able to sit through. I made it through Battle Field Earth no problem. But this, This is one of the single worst films EVER to be made. I understand Whoopi Goldberg tried to get of acting in it. I do not blame her. I would feel ashamed to have this on a resume. I belive it is a rare occasion when almost every gag in a film falls flat on it's face. Well it happens here. Not to mention the SFX, look for the dino with the control cables hanging out of it rear end!!!!!! Halfway through the film I was still looking for a plot. I never found one. Save yourself the trouble of renting this and save 90 minutes of your life.\""
      ]
     },
     "execution_count": 6,
     "metadata": {},
     "output_type": "execute_result"
    }
   ],
   "source": [
    "train_X[100]"
   ]
  },
  {
   "cell_type": "markdown",
   "metadata": {},
   "source": [
    "## Step 3: Processing the data\n",
    "\n",
    "Now that we have our training and testing datasets merged and ready to use, we need to start processing the raw data into something that will be useable by our machine learning algorithm. To begin with, we remove any html formatting that may appear in the reviews and perform some standard natural language processing in order to homogenize the data."
   ]
  },
  {
   "cell_type": "code",
   "execution_count": 7,
   "metadata": {},
   "outputs": [
    {
     "name": "stdout",
     "output_type": "stream",
     "text": [
      "[nltk_data] Downloading package stopwords to\n",
      "[nltk_data]     /home/ec2-user/nltk_data...\n",
      "[nltk_data]   Package stopwords is already up-to-date!\n"
     ]
    }
   ],
   "source": [
    "import nltk\n",
    "nltk.download(\"stopwords\")\n",
    "from nltk.corpus import stopwords\n",
    "from nltk.stem.porter import *\n",
    "stemmer = PorterStemmer()"
   ]
  },
  {
   "cell_type": "code",
   "execution_count": 8,
   "metadata": {},
   "outputs": [],
   "source": [
    "import re\n",
    "from bs4 import BeautifulSoup\n",
    "\n",
    "def review_to_words(review):\n",
    "    text = BeautifulSoup(review, \"html.parser\").get_text() # Remove HTML tags\n",
    "    text = re.sub(r\"[^a-zA-Z0-9]\", \" \", text.lower()) # Convert to lower case\n",
    "    words = text.split() # Split string into words\n",
    "    words = [w for w in words if w not in stopwords.words(\"english\")] # Remove stopwords\n",
    "    words = [PorterStemmer().stem(w) for w in words] # stem\n",
    "    \n",
    "    return words"
   ]
  },
  {
   "cell_type": "code",
   "execution_count": 9,
   "metadata": {},
   "outputs": [],
   "source": [
    "import pickle\n",
    "\n",
    "cache_dir = os.path.join(\"../cache\", \"sentiment_analysis\")  # where to store cache files\n",
    "os.makedirs(cache_dir, exist_ok=True)  # ensure cache directory exists\n",
    "\n",
    "def preprocess_data(data_train, data_test, labels_train, labels_test,\n",
    "                    cache_dir=cache_dir, cache_file=\"preprocessed_data.pkl\"):\n",
    "    \"\"\"Convert each review to words; read from cache if available.\"\"\"\n",
    "\n",
    "    # If cache_file is not None, try to read from it first\n",
    "    cache_data = None\n",
    "    if cache_file is not None:\n",
    "        try:\n",
    "            with open(os.path.join(cache_dir, cache_file), \"rb\") as f:\n",
    "                cache_data = pickle.load(f)\n",
    "            print(\"Read preprocessed data from cache file:\", cache_file)\n",
    "        except:\n",
    "            pass  # unable to read from cache, but that's okay\n",
    "    \n",
    "    # If cache is missing, then do the heavy lifting\n",
    "    if cache_data is None:\n",
    "        # Preprocess training and test data to obtain words for each review\n",
    "        #words_train = list(map(review_to_words, data_train))\n",
    "        #words_test = list(map(review_to_words, data_test))\n",
    "        words_train = [review_to_words(review) for review in data_train]\n",
    "        words_test = [review_to_words(review) for review in data_test]\n",
    "        \n",
    "        # Write to cache file for future runs\n",
    "        if cache_file is not None:\n",
    "            cache_data = dict(words_train=words_train, words_test=words_test,\n",
    "                              labels_train=labels_train, labels_test=labels_test)\n",
    "            with open(os.path.join(cache_dir, cache_file), \"wb\") as f:\n",
    "                pickle.dump(cache_data, f)\n",
    "            print(\"Wrote preprocessed data to cache file:\", cache_file)\n",
    "    else:\n",
    "        # Unpack data loaded from cache file\n",
    "        words_train, words_test, labels_train, labels_test = (cache_data['words_train'],\n",
    "                cache_data['words_test'], cache_data['labels_train'], cache_data['labels_test'])\n",
    "    \n",
    "    return words_train, words_test, labels_train, labels_test"
   ]
  },
  {
   "cell_type": "code",
   "execution_count": 10,
   "metadata": {},
   "outputs": [
    {
     "name": "stdout",
     "output_type": "stream",
     "text": [
      "Read preprocessed data from cache file: preprocessed_data.pkl\n"
     ]
    }
   ],
   "source": [
    "# Preprocess data\n",
    "train_X, test_X, train_y, test_y = preprocess_data(train_X, test_X, train_y, test_y)"
   ]
  },
  {
   "cell_type": "markdown",
   "metadata": {},
   "source": [
    "### Extract Bag-of-Words features\n",
    "\n",
    "For the model we will be implementing, rather than using the reviews directly, we are going to transform each review into a Bag-of-Words feature representation. Keep in mind that 'in the wild' we will only have access to the training set so our transformer can only use the training set to construct a representation."
   ]
  },
  {
   "cell_type": "code",
   "execution_count": 11,
   "metadata": {},
   "outputs": [],
   "source": [
    "import numpy as np\n",
    "from sklearn.feature_extraction.text import CountVectorizer\n",
    "from sklearn.externals import joblib\n",
    "# joblib is an enhanced version of pickle that is more efficient for storing NumPy arrays\n",
    "\n",
    "def extract_BoW_features(words_train, words_test, vocabulary_size=5000,\n",
    "                         cache_dir=cache_dir, cache_file=\"bow_features.pkl\"):\n",
    "    \"\"\"Extract Bag-of-Words for a given set of documents, already preprocessed into words.\"\"\"\n",
    "    \n",
    "    # If cache_file is not None, try to read from it first\n",
    "    cache_data = None\n",
    "    if cache_file is not None:\n",
    "        try:\n",
    "            with open(os.path.join(cache_dir, cache_file), \"rb\") as f:\n",
    "                cache_data = joblib.load(f)\n",
    "            print(\"Read features from cache file:\", cache_file)\n",
    "        except:\n",
    "            pass  # unable to read from cache, but that's okay\n",
    "    \n",
    "    # If cache is missing, then do the heavy lifting\n",
    "    if cache_data is None:\n",
    "        # Fit a vectorizer to training documents and use it to transform them\n",
    "        # NOTE: Training documents have already been preprocessed and tokenized into words;\n",
    "        #       pass in dummy functions to skip those steps, e.g. preprocessor=lambda x: x\n",
    "        vectorizer = CountVectorizer(max_features=vocabulary_size,\n",
    "                preprocessor=lambda x: x, tokenizer=lambda x: x)  # already preprocessed\n",
    "        features_train = vectorizer.fit_transform(words_train).toarray()\n",
    "\n",
    "        # Apply the same vectorizer to transform the test documents (ignore unknown words)\n",
    "        features_test = vectorizer.transform(words_test).toarray()\n",
    "        \n",
    "        # NOTE: Remember to convert the features using .toarray() for a compact representation\n",
    "        \n",
    "        # Write to cache file for future runs (store vocabulary as well)\n",
    "        if cache_file is not None:\n",
    "            vocabulary = vectorizer.vocabulary_\n",
    "            cache_data = dict(features_train=features_train, features_test=features_test,\n",
    "                             vocabulary=vocabulary)\n",
    "            with open(os.path.join(cache_dir, cache_file), \"wb\") as f:\n",
    "                joblib.dump(cache_data, f)\n",
    "            print(\"Wrote features to cache file:\", cache_file)\n",
    "    else:\n",
    "        # Unpack data loaded from cache file\n",
    "        features_train, features_test, vocabulary = (cache_data['features_train'],\n",
    "                cache_data['features_test'], cache_data['vocabulary'])\n",
    "    \n",
    "    # Return both the extracted features as well as the vocabulary\n",
    "    return features_train, features_test, vocabulary"
   ]
  },
  {
   "cell_type": "code",
   "execution_count": 12,
   "metadata": {},
   "outputs": [
    {
     "name": "stdout",
     "output_type": "stream",
     "text": [
      "Read features from cache file: bow_features.pkl\n"
     ]
    }
   ],
   "source": [
    "# Extract Bag of Words features for both training and test datasets\n",
    "train_X, test_X, vocabulary = extract_BoW_features(train_X, test_X)"
   ]
  },
  {
   "cell_type": "markdown",
   "metadata": {},
   "source": [
    "## Step 4: Classification using XGBoost\n",
    "\n",
    "Now that we have created the feature representation of our training (and testing) data, it is time to start setting up and using the XGBoost classifier provided by SageMaker.\n",
    "\n",
    "### (TODO) Writing the dataset\n",
    "\n",
    "The XGBoost classifier that we will be using requires the dataset to be written to a file and stored using Amazon S3. To do this, we will start by splitting the training dataset into two parts, the data we will train the model with and a validation set. Then, we will write those datasets to a file and upload the files to S3. In addition, we will write the test set input to a file and upload the file to S3. This is so that we can use SageMakers Batch Transform functionality to test our model once we've fit it."
   ]
  },
  {
   "cell_type": "code",
   "execution_count": 13,
   "metadata": {},
   "outputs": [],
   "source": [
    "import pandas as pd\n",
    "import sklearn\n",
    "\n",
    "# TODO: Split the train_X and train_y arrays into the DataFrames val_X, train_X and val_y, train_y. Make sure that\n",
    "#       val_X and val_y contain 10 000 entires while train_X and train_y contain the remaining 15 000 entries.\n",
    "\n",
    "train_X, train_y = pd.DataFrame(train_X), pd.DataFrame(train_y)\n",
    "\n",
    "train_X, val_X, train_y, val_y = sklearn.model_selection.train_test_split(train_X, train_y, test_size=0.4)\n",
    "\n",
    "assert len(val_X) == len(val_y) == 10000\n",
    "assert len(train_X) == len(train_y) == 15000"
   ]
  },
  {
   "cell_type": "markdown",
   "metadata": {},
   "source": [
    "The documentation for the XGBoost algorithm in SageMaker requires that the saved datasets should contain no headers or index and that for the training and validation data, the label should occur first for each sample.\n",
    "\n",
    "For more information about this and other algorithms, the SageMaker developer documentation can be found on __[Amazon's website.](https://docs.aws.amazon.com/sagemaker/latest/dg/)__"
   ]
  },
  {
   "cell_type": "code",
   "execution_count": 14,
   "metadata": {},
   "outputs": [],
   "source": [
    "# First we make sure that the local directory in which we'd like to store the training and validation csv files exists.\n",
    "data_dir = '../data/xgboost'\n",
    "if not os.path.exists(data_dir):\n",
    "    os.makedirs(data_dir)"
   ]
  },
  {
   "cell_type": "code",
   "execution_count": 15,
   "metadata": {},
   "outputs": [],
   "source": [
    "# First, save the test data to test.csv in the data_dir directory. Note that we do not save the associated ground truth\n",
    "# labels, instead we will use them later to compare with our model output.\n",
    "\n",
    "pd.DataFrame(test_X).to_csv(os.path.join(data_dir, 'test.csv'), header=False, index=False)\n",
    "\n",
    "# TODO: Save the training and validation data to train.csv and validation.csv in the data_dir directory.\n",
    "#       Make sure that the files you create are in the correct format.\n",
    "pd.concat([train_y, train_X], axis=1).to_csv(os.path.join(data_dir, 'train.csv'), header=False, index=False)\n",
    "pd.concat([val_y, val_X], axis=1).to_csv(os.path.join(data_dir, 'validation.csv'), header=False, index=False)"
   ]
  },
  {
   "cell_type": "code",
   "execution_count": 16,
   "metadata": {},
   "outputs": [],
   "source": [
    "# To save a bit of memory we can set text_X, train_X, val_X, train_y and val_y to None.\n",
    "\n",
    "test_X = train_X = val_X = train_y = val_y = None"
   ]
  },
  {
   "cell_type": "markdown",
   "metadata": {},
   "source": [
    "### (TODO) Uploading Training / Validation files to S3\n",
    "\n",
    "Amazon's S3 service allows us to store files that can be access by both the built-in training models such as the XGBoost model we will be using as well as custom models such as the one we will see a little later.\n",
    "\n",
    "For this, and most other tasks we will be doing using SageMaker, there are two methods we could use. The first is to use the low level functionality of SageMaker which requires knowing each of the objects involved in the SageMaker environment. The second is to use the high level functionality in which certain choices have been made on the user's behalf. The low level approach benefits from allowing the user a great deal of flexibility while the high level approach makes development much quicker. For our purposes we will opt to use the high level approach although using the low-level approach is certainly an option.\n",
    "\n",
    "Recall the method `upload_data()` which is a member of object representing our current SageMaker session. What this method does is upload the data to the default bucket (which is created if it does not exist) into the path described by the key_prefix variable. To see this for yourself, once you have uploaded the data files, go to the S3 console and look to see where the files have been uploaded.\n",
    "\n",
    "For additional resources, see the __[SageMaker API documentation](http://sagemaker.readthedocs.io/en/latest/)__ and in addition the __[SageMaker Developer Guide.](https://docs.aws.amazon.com/sagemaker/latest/dg/)__"
   ]
  },
  {
   "cell_type": "code",
   "execution_count": 17,
   "metadata": {},
   "outputs": [],
   "source": [
    "import sagemaker\n",
    "\n",
    "session = sagemaker.Session() # Store the current SageMaker session\n",
    "\n",
    "# S3 prefix (which folder will we use)\n",
    "prefix = 'sentiment-xgboost'\n",
    "\n",
    "# TODO: Upload the test.csv, train.csv and validation.csv files which are contained in data_dir to S3 using sess.upload_data().\n",
    "test_location = session.upload_data(os.path.join(data_dir, 'test.csv'), key_prefix=prefix)\n",
    "val_location = session.upload_data(os.path.join(data_dir, 'validation.csv'), key_prefix=prefix)\n",
    "train_location = session.upload_data(os.path.join(data_dir, 'train.csv'), key_prefix=prefix)"
   ]
  },
  {
   "cell_type": "markdown",
   "metadata": {},
   "source": [
    "### (TODO) Creating the XGBoost model\n",
    "\n",
    "Now that the data has been uploaded it is time to create the XGBoost model. To begin with, we need to do some setup. At this point it is worth discussing what a model is in SageMaker. It is easiest to think of a model of comprising three different objects in the SageMaker ecosystem, which interact with one another.\n",
    "\n",
    "- Model Artifacts\n",
    "- Training Code (Container)\n",
    "- Inference Code (Container)\n",
    "\n",
    "The Model Artifacts are what you might think of as the actual model itself. For example, if you were building a neural network, the model artifacts would be the weights of the various layers. In our case, for an XGBoost model, the artifacts are the actual trees that are created during training.\n",
    "\n",
    "The other two objects, the training code and the inference code are then used the manipulate the training artifacts. More precisely, the training code uses the training data that is provided and creates the model artifacts, while the inference code uses the model artifacts to make predictions on new data.\n",
    "\n",
    "The way that SageMaker runs the training and inference code is by making use of Docker containers. For now, think of a container as being a way of packaging code up so that dependencies aren't an issue."
   ]
  },
  {
   "cell_type": "code",
   "execution_count": 18,
   "metadata": {},
   "outputs": [],
   "source": [
    "from sagemaker import get_execution_role\n",
    "\n",
    "# Our current execution role is require when creating the model as the training\n",
    "# and inference code will need to access the model artifacts.\n",
    "role = get_execution_role()"
   ]
  },
  {
   "cell_type": "code",
   "execution_count": 19,
   "metadata": {},
   "outputs": [
    {
     "name": "stderr",
     "output_type": "stream",
     "text": [
      "WARNING:root:There is a more up to date SageMaker XGBoost image. To use the newer image, please set 'repo_version'='0.90-1'. For example:\n",
      "\tget_image_uri(region, 'xgboost', '0.90-1').\n"
     ]
    }
   ],
   "source": [
    "# We need to retrieve the location of the container which is provided by Amazon for using XGBoost.\n",
    "# As a matter of convenience, the training and inference code both use the same container.\n",
    "from sagemaker.amazon.amazon_estimator import get_image_uri\n",
    "\n",
    "container = get_image_uri(session.boto_region_name, 'xgboost')"
   ]
  },
  {
   "cell_type": "code",
   "execution_count": 20,
   "metadata": {},
   "outputs": [],
   "source": [
    "# TODO: Create a SageMaker estimator using the container location determined in the previous cell.\n",
    "#       It is recommended that you use a single training instance of type ml.m4.xlarge. It is also\n",
    "#       recommended that you use 's3://{}/{}/output'.format(session.default_bucket(), prefix) as the\n",
    "#       output path.\n",
    "\n",
    "xgb = sagemaker.estimator.Estimator(container, # The image name of the training container\n",
    "                                    role,      # The IAM role to use (our current role in this case)\n",
    "                                    train_instance_count=1, # The number of instances to use for training\n",
    "                                    train_instance_type='ml.m4.xlarge', # The type of instance to use for training\n",
    "                                    output_path='s3://{}/{}/output'.format(session.default_bucket(), prefix),\n",
    "                                                                        # Where to save the output (the model artifacts)\n",
    "                                    sagemaker_session=session) # The current SageMaker session\n",
    "\n",
    "\n",
    "# TODO: Set the XGBoost hyperparameters in the xgb object. Don't forget that in this case we have a binary\n",
    "#       label so we should be using the 'binary:logistic' objective.\n",
    "xgb.set_hyperparameters(max_depth=10,\n",
    "                        eta=0.2,\n",
    "                        gamma=4,\n",
    "                        min_child_weight=6,\n",
    "                        subsample=0.8,\n",
    "                        objective='binary:logistic',\n",
    "                        early_stopping_rounds=10,\n",
    "                        num_round=500)"
   ]
  },
  {
   "cell_type": "markdown",
   "metadata": {},
   "source": [
    "### Fit the XGBoost model\n",
    "\n",
    "Now that our model has been set up we simply need to attach the training and validation datasets and then ask SageMaker to set up the computation."
   ]
  },
  {
   "cell_type": "code",
   "execution_count": 21,
   "metadata": {},
   "outputs": [],
   "source": [
    "s3_input_train = sagemaker.s3_input(s3_data=train_location, content_type='csv')\n",
    "s3_input_validation = sagemaker.s3_input(s3_data=val_location, content_type='csv')"
   ]
  },
  {
   "cell_type": "code",
   "execution_count": 22,
   "metadata": {},
   "outputs": [
    {
     "name": "stdout",
     "output_type": "stream",
     "text": [
      "2020-06-11 12:46:18 Starting - Starting the training job...\n",
      "2020-06-11 12:46:20 Starting - Launching requested ML instances......\n",
      "2020-06-11 12:47:26 Starting - Preparing the instances for training......\n",
      "2020-06-11 12:48:19 Downloading - Downloading input data...\n",
      "2020-06-11 12:49:12 Training - Training image download completed. Training in progress.\u001b[34mArguments: train\u001b[0m\n",
      "\u001b[34m[2020-06-11:12:49:12:INFO] Running standalone xgboost training.\u001b[0m\n",
      "\u001b[34m[2020-06-11:12:49:12:INFO] File size need to be processed in the node: 238.47mb. Available memory size in the node: 8466.78mb\u001b[0m\n",
      "\u001b[34m[2020-06-11:12:49:12:INFO] Determined delimiter of CSV input is ','\u001b[0m\n",
      "\u001b[34m[12:49:12] S3DistributionType set as FullyReplicated\u001b[0m\n",
      "\u001b[34m[12:49:14] 15000x5000 matrix with 75000000 entries loaded from /opt/ml/input/data/train?format=csv&label_column=0&delimiter=,\u001b[0m\n",
      "\u001b[34m[2020-06-11:12:49:14:INFO] Determined delimiter of CSV input is ','\u001b[0m\n",
      "\u001b[34m[12:49:14] S3DistributionType set as FullyReplicated\u001b[0m\n",
      "\u001b[34m[12:49:15] 10000x5000 matrix with 50000000 entries loaded from /opt/ml/input/data/validation?format=csv&label_column=0&delimiter=,\u001b[0m\n",
      "\u001b[34m[12:49:20] src/tree/updater_prune.cc:74: tree pruning end, 1 roots, 120 extra nodes, 48 pruned nodes, max_depth=10\u001b[0m\n",
      "\u001b[34m[0]#011train-error:0.256933#011validation-error:0.2689\u001b[0m\n",
      "\u001b[34mMultiple eval metrics have been passed: 'validation-error' will be used for early stopping.\n",
      "\u001b[0m\n",
      "\u001b[34mWill train until validation-error hasn't improved in 10 rounds.\u001b[0m\n",
      "\u001b[34m[12:49:23] src/tree/updater_prune.cc:74: tree pruning end, 1 roots, 122 extra nodes, 64 pruned nodes, max_depth=10\u001b[0m\n",
      "\u001b[34m[1]#011train-error:0.242267#011validation-error:0.2553\u001b[0m\n",
      "\u001b[34m[12:49:26] src/tree/updater_prune.cc:74: tree pruning end, 1 roots, 122 extra nodes, 54 pruned nodes, max_depth=10\u001b[0m\n",
      "\u001b[34m[2]#011train-error:0.225267#011validation-error:0.2428\u001b[0m\n",
      "\u001b[34m[12:49:28] src/tree/updater_prune.cc:74: tree pruning end, 1 roots, 90 extra nodes, 66 pruned nodes, max_depth=10\u001b[0m\n",
      "\u001b[34m[3]#011train-error:0.223667#011validation-error:0.2394\u001b[0m\n",
      "\u001b[34m[12:49:31] src/tree/updater_prune.cc:74: tree pruning end, 1 roots, 84 extra nodes, 50 pruned nodes, max_depth=10\u001b[0m\n",
      "\u001b[34m[4]#011train-error:0.2174#011validation-error:0.2336\u001b[0m\n",
      "\u001b[34m[12:49:33] src/tree/updater_prune.cc:74: tree pruning end, 1 roots, 126 extra nodes, 52 pruned nodes, max_depth=10\u001b[0m\n",
      "\u001b[34m[5]#011train-error:0.211067#011validation-error:0.2292\u001b[0m\n",
      "\u001b[34m[12:49:36] src/tree/updater_prune.cc:74: tree pruning end, 1 roots, 96 extra nodes, 30 pruned nodes, max_depth=10\u001b[0m\n",
      "\u001b[34m[6]#011train-error:0.2038#011validation-error:0.2245\u001b[0m\n",
      "\u001b[34m[12:49:38] src/tree/updater_prune.cc:74: tree pruning end, 1 roots, 104 extra nodes, 44 pruned nodes, max_depth=10\u001b[0m\n",
      "\u001b[34m[7]#011train-error:0.197333#011validation-error:0.2207\u001b[0m\n",
      "\u001b[34m[12:49:41] src/tree/updater_prune.cc:74: tree pruning end, 1 roots, 60 extra nodes, 28 pruned nodes, max_depth=10\u001b[0m\n",
      "\u001b[34m[8]#011train-error:0.1914#011validation-error:0.2137\u001b[0m\n",
      "\u001b[34m[12:49:43] src/tree/updater_prune.cc:74: tree pruning end, 1 roots, 78 extra nodes, 34 pruned nodes, max_depth=10\u001b[0m\n",
      "\u001b[34m[9]#011train-error:0.1852#011validation-error:0.2121\u001b[0m\n",
      "\u001b[34m[12:49:46] src/tree/updater_prune.cc:74: tree pruning end, 1 roots, 84 extra nodes, 42 pruned nodes, max_depth=10\u001b[0m\n",
      "\u001b[34m[10]#011train-error:0.180933#011validation-error:0.2087\u001b[0m\n",
      "\u001b[34m[12:49:48] src/tree/updater_prune.cc:74: tree pruning end, 1 roots, 76 extra nodes, 54 pruned nodes, max_depth=10\u001b[0m\n",
      "\u001b[34m[11]#011train-error:0.176133#011validation-error:0.205\u001b[0m\n",
      "\u001b[34m[12:49:51] src/tree/updater_prune.cc:74: tree pruning end, 1 roots, 80 extra nodes, 26 pruned nodes, max_depth=10\u001b[0m\n",
      "\u001b[34m[12]#011train-error:0.169533#011validation-error:0.2005\u001b[0m\n",
      "\u001b[34m[12:49:53] src/tree/updater_prune.cc:74: tree pruning end, 1 roots, 76 extra nodes, 44 pruned nodes, max_depth=10\u001b[0m\n",
      "\u001b[34m[13]#011train-error:0.1656#011validation-error:0.1973\u001b[0m\n",
      "\u001b[34m[12:49:55] src/tree/updater_prune.cc:74: tree pruning end, 1 roots, 112 extra nodes, 54 pruned nodes, max_depth=10\u001b[0m\n",
      "\u001b[34m[14]#011train-error:0.159#011validation-error:0.1942\u001b[0m\n",
      "\u001b[34m[12:49:58] src/tree/updater_prune.cc:74: tree pruning end, 1 roots, 70 extra nodes, 48 pruned nodes, max_depth=10\u001b[0m\n",
      "\u001b[34m[15]#011train-error:0.156#011validation-error:0.1931\u001b[0m\n",
      "\u001b[34m[12:50:00] src/tree/updater_prune.cc:74: tree pruning end, 1 roots, 50 extra nodes, 44 pruned nodes, max_depth=10\u001b[0m\n",
      "\u001b[34m[16]#011train-error:0.153333#011validation-error:0.1897\u001b[0m\n",
      "\u001b[34m[12:50:03] src/tree/updater_prune.cc:74: tree pruning end, 1 roots, 44 extra nodes, 28 pruned nodes, max_depth=10\u001b[0m\n",
      "\u001b[34m[17]#011train-error:0.151267#011validation-error:0.1866\u001b[0m\n",
      "\u001b[34m[12:50:05] src/tree/updater_prune.cc:74: tree pruning end, 1 roots, 70 extra nodes, 52 pruned nodes, max_depth=10\u001b[0m\n",
      "\u001b[34m[18]#011train-error:0.147067#011validation-error:0.183\u001b[0m\n",
      "\u001b[34m[12:50:08] src/tree/updater_prune.cc:74: tree pruning end, 1 roots, 64 extra nodes, 36 pruned nodes, max_depth=10\u001b[0m\n",
      "\u001b[34m[19]#011train-error:0.1418#011validation-error:0.1822\u001b[0m\n",
      "\u001b[34m[12:50:10] src/tree/updater_prune.cc:74: tree pruning end, 1 roots, 74 extra nodes, 40 pruned nodes, max_depth=10\u001b[0m\n",
      "\u001b[34m[20]#011train-error:0.1406#011validation-error:0.1797\u001b[0m\n",
      "\u001b[34m[12:50:13] src/tree/updater_prune.cc:74: tree pruning end, 1 roots, 62 extra nodes, 52 pruned nodes, max_depth=10\u001b[0m\n",
      "\u001b[34m[21]#011train-error:0.138867#011validation-error:0.1794\u001b[0m\n",
      "\u001b[34m[12:50:15] src/tree/updater_prune.cc:74: tree pruning end, 1 roots, 72 extra nodes, 46 pruned nodes, max_depth=10\u001b[0m\n",
      "\u001b[34m[22]#011train-error:0.136133#011validation-error:0.179\u001b[0m\n",
      "\u001b[34m[12:50:18] src/tree/updater_prune.cc:74: tree pruning end, 1 roots, 34 extra nodes, 50 pruned nodes, max_depth=10\u001b[0m\n",
      "\u001b[34m[23]#011train-error:0.133667#011validation-error:0.1772\u001b[0m\n",
      "\u001b[34m[12:50:20] src/tree/updater_prune.cc:74: tree pruning end, 1 roots, 46 extra nodes, 50 pruned nodes, max_depth=10\u001b[0m\n",
      "\u001b[34m[24]#011train-error:0.132867#011validation-error:0.1738\u001b[0m\n",
      "\u001b[34m[12:50:23] src/tree/updater_prune.cc:74: tree pruning end, 1 roots, 36 extra nodes, 28 pruned nodes, max_depth=10\u001b[0m\n",
      "\u001b[34m[25]#011train-error:0.131333#011validation-error:0.1727\u001b[0m\n",
      "\u001b[34m[12:50:25] src/tree/updater_prune.cc:74: tree pruning end, 1 roots, 70 extra nodes, 46 pruned nodes, max_depth=10\u001b[0m\n",
      "\u001b[34m[26]#011train-error:0.129#011validation-error:0.1725\u001b[0m\n",
      "\u001b[34m[12:50:28] src/tree/updater_prune.cc:74: tree pruning end, 1 roots, 76 extra nodes, 42 pruned nodes, max_depth=10\u001b[0m\n",
      "\u001b[34m[27]#011train-error:0.125867#011validation-error:0.1713\u001b[0m\n",
      "\u001b[34m[12:50:30] src/tree/updater_prune.cc:74: tree pruning end, 1 roots, 42 extra nodes, 46 pruned nodes, max_depth=10\u001b[0m\n",
      "\u001b[34m[28]#011train-error:0.124467#011validation-error:0.1702\u001b[0m\n",
      "\u001b[34m[12:50:33] src/tree/updater_prune.cc:74: tree pruning end, 1 roots, 52 extra nodes, 50 pruned nodes, max_depth=10\u001b[0m\n",
      "\u001b[34m[29]#011train-error:0.123333#011validation-error:0.1699\u001b[0m\n",
      "\u001b[34m[12:50:35] src/tree/updater_prune.cc:74: tree pruning end, 1 roots, 52 extra nodes, 40 pruned nodes, max_depth=10\u001b[0m\n",
      "\u001b[34m[30]#011train-error:0.122867#011validation-error:0.1695\u001b[0m\n",
      "\u001b[34m[12:50:38] src/tree/updater_prune.cc:74: tree pruning end, 1 roots, 28 extra nodes, 36 pruned nodes, max_depth=10\u001b[0m\n",
      "\u001b[34m[31]#011train-error:0.121#011validation-error:0.1677\u001b[0m\n",
      "\u001b[34m[12:50:40] src/tree/updater_prune.cc:74: tree pruning end, 1 roots, 38 extra nodes, 34 pruned nodes, max_depth=10\u001b[0m\n",
      "\u001b[34m[32]#011train-error:0.119933#011validation-error:0.1668\u001b[0m\n",
      "\u001b[34m[12:50:43] src/tree/updater_prune.cc:74: tree pruning end, 1 roots, 50 extra nodes, 46 pruned nodes, max_depth=10\u001b[0m\n",
      "\u001b[34m[33]#011train-error:0.117933#011validation-error:0.166\u001b[0m\n",
      "\u001b[34m[12:50:45] src/tree/updater_prune.cc:74: tree pruning end, 1 roots, 56 extra nodes, 38 pruned nodes, max_depth=10\u001b[0m\n",
      "\u001b[34m[34]#011train-error:0.116133#011validation-error:0.1662\u001b[0m\n",
      "\u001b[34m[12:50:48] src/tree/updater_prune.cc:74: tree pruning end, 1 roots, 48 extra nodes, 30 pruned nodes, max_depth=10\u001b[0m\n",
      "\u001b[34m[35]#011train-error:0.115333#011validation-error:0.1656\u001b[0m\n",
      "\u001b[34m[12:50:50] src/tree/updater_prune.cc:74: tree pruning end, 1 roots, 40 extra nodes, 26 pruned nodes, max_depth=10\u001b[0m\n",
      "\u001b[34m[36]#011train-error:0.114067#011validation-error:0.1647\u001b[0m\n",
      "\u001b[34m[12:50:53] src/tree/updater_prune.cc:74: tree pruning end, 1 roots, 34 extra nodes, 28 pruned nodes, max_depth=10\u001b[0m\n",
      "\u001b[34m[37]#011train-error:0.1134#011validation-error:0.1638\u001b[0m\n",
      "\u001b[34m[12:50:55] src/tree/updater_prune.cc:74: tree pruning end, 1 roots, 42 extra nodes, 36 pruned nodes, max_depth=10\u001b[0m\n"
     ]
    },
    {
     "name": "stdout",
     "output_type": "stream",
     "text": [
      "\u001b[34m[38]#011train-error:0.112067#011validation-error:0.1624\u001b[0m\n",
      "\u001b[34m[12:50:58] src/tree/updater_prune.cc:74: tree pruning end, 1 roots, 20 extra nodes, 40 pruned nodes, max_depth=10\u001b[0m\n",
      "\u001b[34m[39]#011train-error:0.110133#011validation-error:0.1616\u001b[0m\n",
      "\u001b[34m[12:51:00] src/tree/updater_prune.cc:74: tree pruning end, 1 roots, 60 extra nodes, 40 pruned nodes, max_depth=10\u001b[0m\n",
      "\u001b[34m[40]#011train-error:0.109#011validation-error:0.1609\u001b[0m\n",
      "\u001b[34m[12:51:03] src/tree/updater_prune.cc:74: tree pruning end, 1 roots, 40 extra nodes, 28 pruned nodes, max_depth=10\u001b[0m\n",
      "\u001b[34m[41]#011train-error:0.1072#011validation-error:0.1612\u001b[0m\n",
      "\u001b[34m[12:51:05] src/tree/updater_prune.cc:74: tree pruning end, 1 roots, 52 extra nodes, 32 pruned nodes, max_depth=10\u001b[0m\n",
      "\u001b[34m[42]#011train-error:0.105867#011validation-error:0.161\u001b[0m\n",
      "\u001b[34m[12:51:08] src/tree/updater_prune.cc:74: tree pruning end, 1 roots, 34 extra nodes, 24 pruned nodes, max_depth=10\u001b[0m\n",
      "\u001b[34m[43]#011train-error:0.1054#011validation-error:0.1594\u001b[0m\n",
      "\u001b[34m[12:51:10] src/tree/updater_prune.cc:74: tree pruning end, 1 roots, 44 extra nodes, 44 pruned nodes, max_depth=10\u001b[0m\n",
      "\u001b[34m[44]#011train-error:0.1038#011validation-error:0.1584\u001b[0m\n",
      "\u001b[34m[12:51:13] src/tree/updater_prune.cc:74: tree pruning end, 1 roots, 32 extra nodes, 46 pruned nodes, max_depth=10\u001b[0m\n",
      "\u001b[34m[45]#011train-error:0.104067#011validation-error:0.1581\u001b[0m\n",
      "\u001b[34m[12:51:15] src/tree/updater_prune.cc:74: tree pruning end, 1 roots, 34 extra nodes, 6 pruned nodes, max_depth=10\u001b[0m\n",
      "\u001b[34m[46]#011train-error:0.102133#011validation-error:0.1568\u001b[0m\n",
      "\u001b[34m[12:51:18] src/tree/updater_prune.cc:74: tree pruning end, 1 roots, 46 extra nodes, 32 pruned nodes, max_depth=10\u001b[0m\n",
      "\u001b[34m[47]#011train-error:0.1012#011validation-error:0.1581\u001b[0m\n",
      "\u001b[34m[12:51:20] src/tree/updater_prune.cc:74: tree pruning end, 1 roots, 44 extra nodes, 36 pruned nodes, max_depth=10\u001b[0m\n",
      "\u001b[34m[48]#011train-error:0.099133#011validation-error:0.1575\u001b[0m\n",
      "\u001b[34m[12:51:23] src/tree/updater_prune.cc:74: tree pruning end, 1 roots, 30 extra nodes, 56 pruned nodes, max_depth=10\u001b[0m\n",
      "\u001b[34m[49]#011train-error:0.099067#011validation-error:0.1577\u001b[0m\n",
      "\u001b[34m[12:51:25] src/tree/updater_prune.cc:74: tree pruning end, 1 roots, 42 extra nodes, 32 pruned nodes, max_depth=10\u001b[0m\n",
      "\u001b[34m[50]#011train-error:0.0984#011validation-error:0.1572\u001b[0m\n",
      "\u001b[34m[12:51:28] src/tree/updater_prune.cc:74: tree pruning end, 1 roots, 22 extra nodes, 30 pruned nodes, max_depth=10\u001b[0m\n",
      "\u001b[34m[51]#011train-error:0.098#011validation-error:0.156\u001b[0m\n",
      "\u001b[34m[12:51:30] src/tree/updater_prune.cc:74: tree pruning end, 1 roots, 22 extra nodes, 22 pruned nodes, max_depth=10\u001b[0m\n",
      "\u001b[34m[52]#011train-error:0.0972#011validation-error:0.155\u001b[0m\n",
      "\u001b[34m[12:51:32] src/tree/updater_prune.cc:74: tree pruning end, 1 roots, 58 extra nodes, 46 pruned nodes, max_depth=10\u001b[0m\n",
      "\u001b[34m[53]#011train-error:0.096#011validation-error:0.1559\u001b[0m\n",
      "\u001b[34m[12:51:35] src/tree/updater_prune.cc:74: tree pruning end, 1 roots, 40 extra nodes, 56 pruned nodes, max_depth=10\u001b[0m\n",
      "\u001b[34m[54]#011train-error:0.0948#011validation-error:0.154\u001b[0m\n",
      "\u001b[34m[12:51:37] src/tree/updater_prune.cc:74: tree pruning end, 1 roots, 30 extra nodes, 34 pruned nodes, max_depth=10\u001b[0m\n",
      "\u001b[34m[55]#011train-error:0.093467#011validation-error:0.1533\u001b[0m\n",
      "\u001b[34m[12:51:40] src/tree/updater_prune.cc:74: tree pruning end, 1 roots, 28 extra nodes, 26 pruned nodes, max_depth=10\u001b[0m\n",
      "\u001b[34m[56]#011train-error:0.093#011validation-error:0.1531\u001b[0m\n",
      "\u001b[34m[12:51:42] src/tree/updater_prune.cc:74: tree pruning end, 1 roots, 48 extra nodes, 44 pruned nodes, max_depth=10\u001b[0m\n",
      "\u001b[34m[57]#011train-error:0.091933#011validation-error:0.1521\u001b[0m\n",
      "\u001b[34m[12:51:45] src/tree/updater_prune.cc:74: tree pruning end, 1 roots, 24 extra nodes, 20 pruned nodes, max_depth=10\u001b[0m\n",
      "\u001b[34m[58]#011train-error:0.091867#011validation-error:0.1531\u001b[0m\n",
      "\u001b[34m[12:51:47] src/tree/updater_prune.cc:74: tree pruning end, 1 roots, 28 extra nodes, 16 pruned nodes, max_depth=10\u001b[0m\n",
      "\u001b[34m[59]#011train-error:0.0908#011validation-error:0.1524\u001b[0m\n",
      "\u001b[34m[12:51:50] src/tree/updater_prune.cc:74: tree pruning end, 1 roots, 24 extra nodes, 22 pruned nodes, max_depth=10\u001b[0m\n",
      "\u001b[34m[60]#011train-error:0.0896#011validation-error:0.1527\u001b[0m\n",
      "\u001b[34m[12:51:52] src/tree/updater_prune.cc:74: tree pruning end, 1 roots, 46 extra nodes, 54 pruned nodes, max_depth=10\u001b[0m\n",
      "\u001b[34m[61]#011train-error:0.0872#011validation-error:0.1511\u001b[0m\n",
      "\u001b[34m[12:51:55] src/tree/updater_prune.cc:74: tree pruning end, 1 roots, 36 extra nodes, 44 pruned nodes, max_depth=10\u001b[0m\n",
      "\u001b[34m[62]#011train-error:0.0864#011validation-error:0.1503\u001b[0m\n",
      "\u001b[34m[12:51:57] src/tree/updater_prune.cc:74: tree pruning end, 1 roots, 36 extra nodes, 32 pruned nodes, max_depth=10\u001b[0m\n",
      "\u001b[34m[63]#011train-error:0.085733#011validation-error:0.1496\u001b[0m\n",
      "\u001b[34m[12:52:00] src/tree/updater_prune.cc:74: tree pruning end, 1 roots, 52 extra nodes, 48 pruned nodes, max_depth=10\u001b[0m\n",
      "\u001b[34m[64]#011train-error:0.0848#011validation-error:0.1477\u001b[0m\n",
      "\u001b[34m[12:52:02] src/tree/updater_prune.cc:74: tree pruning end, 1 roots, 34 extra nodes, 44 pruned nodes, max_depth=10\u001b[0m\n",
      "\u001b[34m[65]#011train-error:0.0848#011validation-error:0.1462\u001b[0m\n",
      "\u001b[34m[12:52:05] src/tree/updater_prune.cc:74: tree pruning end, 1 roots, 34 extra nodes, 36 pruned nodes, max_depth=10\u001b[0m\n",
      "\u001b[34m[66]#011train-error:0.084267#011validation-error:0.1472\u001b[0m\n",
      "\u001b[34m[12:52:07] src/tree/updater_prune.cc:74: tree pruning end, 1 roots, 34 extra nodes, 38 pruned nodes, max_depth=10\u001b[0m\n",
      "\u001b[34m[67]#011train-error:0.083133#011validation-error:0.1467\u001b[0m\n",
      "\u001b[34m[12:52:10] src/tree/updater_prune.cc:74: tree pruning end, 1 roots, 32 extra nodes, 36 pruned nodes, max_depth=10\u001b[0m\n",
      "\u001b[34m[68]#011train-error:0.082933#011validation-error:0.1471\u001b[0m\n",
      "\u001b[34m[12:52:12] src/tree/updater_prune.cc:74: tree pruning end, 1 roots, 40 extra nodes, 26 pruned nodes, max_depth=10\u001b[0m\n",
      "\u001b[34m[69]#011train-error:0.081267#011validation-error:0.1478\u001b[0m\n",
      "\u001b[34m[12:52:15] src/tree/updater_prune.cc:74: tree pruning end, 1 roots, 30 extra nodes, 34 pruned nodes, max_depth=10\u001b[0m\n",
      "\u001b[34m[70]#011train-error:0.0806#011validation-error:0.148\u001b[0m\n",
      "\u001b[34m[12:52:17] src/tree/updater_prune.cc:74: tree pruning end, 1 roots, 38 extra nodes, 28 pruned nodes, max_depth=10\u001b[0m\n",
      "\u001b[34m[71]#011train-error:0.080867#011validation-error:0.1476\u001b[0m\n",
      "\u001b[34m[12:52:20] src/tree/updater_prune.cc:74: tree pruning end, 1 roots, 36 extra nodes, 28 pruned nodes, max_depth=10\u001b[0m\n",
      "\u001b[34m[72]#011train-error:0.0798#011validation-error:0.1471\u001b[0m\n",
      "\u001b[34m[12:52:22] src/tree/updater_prune.cc:74: tree pruning end, 1 roots, 24 extra nodes, 22 pruned nodes, max_depth=10\u001b[0m\n",
      "\u001b[34m[73]#011train-error:0.078733#011validation-error:0.1464\u001b[0m\n",
      "\u001b[34m[12:52:25] src/tree/updater_prune.cc:74: tree pruning end, 1 roots, 24 extra nodes, 46 pruned nodes, max_depth=10\u001b[0m\n",
      "\u001b[34m[74]#011train-error:0.0786#011validation-error:0.146\u001b[0m\n",
      "\u001b[34m[12:52:27] src/tree/updater_prune.cc:74: tree pruning end, 1 roots, 24 extra nodes, 32 pruned nodes, max_depth=10\u001b[0m\n",
      "\u001b[34m[75]#011train-error:0.078333#011validation-error:0.1447\u001b[0m\n",
      "\u001b[34m[12:52:30] src/tree/updater_prune.cc:74: tree pruning end, 1 roots, 22 extra nodes, 14 pruned nodes, max_depth=10\u001b[0m\n",
      "\u001b[34m[76]#011train-error:0.078067#011validation-error:0.1448\u001b[0m\n",
      "\u001b[34m[12:52:32] src/tree/updater_prune.cc:74: tree pruning end, 1 roots, 30 extra nodes, 34 pruned nodes, max_depth=10\u001b[0m\n",
      "\u001b[34m[77]#011train-error:0.078#011validation-error:0.1451\u001b[0m\n",
      "\u001b[34m[12:52:35] src/tree/updater_prune.cc:74: tree pruning end, 1 roots, 32 extra nodes, 32 pruned nodes, max_depth=10\u001b[0m\n",
      "\u001b[34m[78]#011train-error:0.077467#011validation-error:0.1447\u001b[0m\n",
      "\u001b[34m[12:52:37] src/tree/updater_prune.cc:74: tree pruning end, 1 roots, 26 extra nodes, 18 pruned nodes, max_depth=10\u001b[0m\n",
      "\u001b[34m[79]#011train-error:0.0774#011validation-error:0.1449\u001b[0m\n",
      "\u001b[34m[12:52:40] src/tree/updater_prune.cc:74: tree pruning end, 1 roots, 32 extra nodes, 18 pruned nodes, max_depth=10\u001b[0m\n",
      "\u001b[34m[80]#011train-error:0.0768#011validation-error:0.1438\u001b[0m\n",
      "\u001b[34m[12:52:42] src/tree/updater_prune.cc:74: tree pruning end, 1 roots, 48 extra nodes, 52 pruned nodes, max_depth=10\u001b[0m\n",
      "\u001b[34m[81]#011train-error:0.076067#011validation-error:0.1443\u001b[0m\n",
      "\u001b[34m[12:52:45] src/tree/updater_prune.cc:74: tree pruning end, 1 roots, 24 extra nodes, 46 pruned nodes, max_depth=10\u001b[0m\n",
      "\u001b[34m[82]#011train-error:0.0756#011validation-error:0.144\u001b[0m\n",
      "\u001b[34m[12:52:47] src/tree/updater_prune.cc:74: tree pruning end, 1 roots, 44 extra nodes, 50 pruned nodes, max_depth=10\u001b[0m\n",
      "\u001b[34m[83]#011train-error:0.074667#011validation-error:0.1432\u001b[0m\n"
     ]
    },
    {
     "name": "stdout",
     "output_type": "stream",
     "text": [
      "\u001b[34m[12:52:50] src/tree/updater_prune.cc:74: tree pruning end, 1 roots, 20 extra nodes, 26 pruned nodes, max_depth=10\u001b[0m\n",
      "\u001b[34m[84]#011train-error:0.0748#011validation-error:0.1424\u001b[0m\n",
      "\u001b[34m[12:52:52] src/tree/updater_prune.cc:74: tree pruning end, 1 roots, 26 extra nodes, 24 pruned nodes, max_depth=10\u001b[0m\n",
      "\u001b[34m[85]#011train-error:0.074467#011validation-error:0.1427\u001b[0m\n",
      "\u001b[34m[12:52:55] src/tree/updater_prune.cc:74: tree pruning end, 1 roots, 34 extra nodes, 18 pruned nodes, max_depth=10\u001b[0m\n",
      "\u001b[34m[86]#011train-error:0.0744#011validation-error:0.1423\u001b[0m\n",
      "\u001b[34m[12:52:57] src/tree/updater_prune.cc:74: tree pruning end, 1 roots, 26 extra nodes, 48 pruned nodes, max_depth=10\u001b[0m\n",
      "\u001b[34m[87]#011train-error:0.074#011validation-error:0.1424\u001b[0m\n",
      "\u001b[34m[12:53:00] src/tree/updater_prune.cc:74: tree pruning end, 1 roots, 20 extra nodes, 8 pruned nodes, max_depth=10\u001b[0m\n",
      "\u001b[34m[88]#011train-error:0.073467#011validation-error:0.1422\u001b[0m\n",
      "\u001b[34m[12:53:02] src/tree/updater_prune.cc:74: tree pruning end, 1 roots, 22 extra nodes, 22 pruned nodes, max_depth=10\u001b[0m\n",
      "\u001b[34m[89]#011train-error:0.0736#011validation-error:0.1416\u001b[0m\n",
      "\u001b[34m[12:53:05] src/tree/updater_prune.cc:74: tree pruning end, 1 roots, 44 extra nodes, 62 pruned nodes, max_depth=10\u001b[0m\n",
      "\u001b[34m[90]#011train-error:0.072867#011validation-error:0.1428\u001b[0m\n",
      "\u001b[34m[12:53:07] src/tree/updater_prune.cc:74: tree pruning end, 1 roots, 22 extra nodes, 18 pruned nodes, max_depth=10\u001b[0m\n",
      "\u001b[34m[91]#011train-error:0.0732#011validation-error:0.1428\u001b[0m\n",
      "\u001b[34m[12:53:10] src/tree/updater_prune.cc:74: tree pruning end, 1 roots, 24 extra nodes, 18 pruned nodes, max_depth=10\u001b[0m\n",
      "\u001b[34m[92]#011train-error:0.072333#011validation-error:0.1421\u001b[0m\n",
      "\u001b[34m[12:53:12] src/tree/updater_prune.cc:74: tree pruning end, 1 roots, 38 extra nodes, 46 pruned nodes, max_depth=10\u001b[0m\n",
      "\u001b[34m[93]#011train-error:0.071867#011validation-error:0.1407\u001b[0m\n",
      "\u001b[34m[12:53:15] src/tree/updater_prune.cc:74: tree pruning end, 1 roots, 28 extra nodes, 20 pruned nodes, max_depth=10\u001b[0m\n",
      "\u001b[34m[94]#011train-error:0.0718#011validation-error:0.1405\u001b[0m\n",
      "\u001b[34m[12:53:17] src/tree/updater_prune.cc:74: tree pruning end, 1 roots, 26 extra nodes, 48 pruned nodes, max_depth=10\u001b[0m\n",
      "\u001b[34m[95]#011train-error:0.071933#011validation-error:0.1417\u001b[0m\n",
      "\u001b[34m[12:53:20] src/tree/updater_prune.cc:74: tree pruning end, 1 roots, 32 extra nodes, 42 pruned nodes, max_depth=10\u001b[0m\n",
      "\u001b[34m[96]#011train-error:0.0712#011validation-error:0.142\u001b[0m\n",
      "\u001b[34m[12:53:22] src/tree/updater_prune.cc:74: tree pruning end, 1 roots, 50 extra nodes, 52 pruned nodes, max_depth=10\u001b[0m\n",
      "\u001b[34m[97]#011train-error:0.070467#011validation-error:0.1393\u001b[0m\n",
      "\u001b[34m[12:53:25] src/tree/updater_prune.cc:74: tree pruning end, 1 roots, 28 extra nodes, 38 pruned nodes, max_depth=10\u001b[0m\n",
      "\u001b[34m[98]#011train-error:0.0698#011validation-error:0.1391\u001b[0m\n",
      "\u001b[34m[12:53:27] src/tree/updater_prune.cc:74: tree pruning end, 1 roots, 20 extra nodes, 26 pruned nodes, max_depth=10\u001b[0m\n",
      "\u001b[34m[99]#011train-error:0.069733#011validation-error:0.1388\u001b[0m\n",
      "\u001b[34m[12:53:29] src/tree/updater_prune.cc:74: tree pruning end, 1 roots, 30 extra nodes, 42 pruned nodes, max_depth=10\u001b[0m\n",
      "\u001b[34m[100]#011train-error:0.0686#011validation-error:0.1393\u001b[0m\n",
      "\u001b[34m[12:53:32] src/tree/updater_prune.cc:74: tree pruning end, 1 roots, 36 extra nodes, 58 pruned nodes, max_depth=10\u001b[0m\n",
      "\u001b[34m[101]#011train-error:0.068067#011validation-error:0.139\u001b[0m\n",
      "\u001b[34m[12:53:35] src/tree/updater_prune.cc:74: tree pruning end, 1 roots, 28 extra nodes, 42 pruned nodes, max_depth=10\u001b[0m\n",
      "\u001b[34m[102]#011train-error:0.067667#011validation-error:0.139\u001b[0m\n",
      "\u001b[34m[12:53:37] src/tree/updater_prune.cc:74: tree pruning end, 1 roots, 22 extra nodes, 30 pruned nodes, max_depth=10\u001b[0m\n",
      "\u001b[34m[103]#011train-error:0.067733#011validation-error:0.1385\u001b[0m\n",
      "\u001b[34m[12:53:39] src/tree/updater_prune.cc:74: tree pruning end, 1 roots, 22 extra nodes, 12 pruned nodes, max_depth=10\u001b[0m\n",
      "\u001b[34m[104]#011train-error:0.067667#011validation-error:0.1378\u001b[0m\n",
      "\u001b[34m[12:53:42] src/tree/updater_prune.cc:74: tree pruning end, 1 roots, 24 extra nodes, 40 pruned nodes, max_depth=10\u001b[0m\n",
      "\u001b[34m[105]#011train-error:0.067133#011validation-error:0.1375\u001b[0m\n",
      "\u001b[34m[12:53:44] src/tree/updater_prune.cc:74: tree pruning end, 1 roots, 24 extra nodes, 14 pruned nodes, max_depth=10\u001b[0m\n",
      "\u001b[34m[106]#011train-error:0.067333#011validation-error:0.1376\u001b[0m\n",
      "\u001b[34m[12:53:47] src/tree/updater_prune.cc:74: tree pruning end, 1 roots, 24 extra nodes, 24 pruned nodes, max_depth=10\u001b[0m\n",
      "\u001b[34m[107]#011train-error:0.0666#011validation-error:0.1375\u001b[0m\n",
      "\u001b[34m[12:53:49] src/tree/updater_prune.cc:74: tree pruning end, 1 roots, 20 extra nodes, 4 pruned nodes, max_depth=10\u001b[0m\n",
      "\u001b[34m[108]#011train-error:0.0668#011validation-error:0.1378\u001b[0m\n",
      "\u001b[34m[12:53:52] src/tree/updater_prune.cc:74: tree pruning end, 1 roots, 24 extra nodes, 34 pruned nodes, max_depth=10\u001b[0m\n",
      "\u001b[34m[109]#011train-error:0.0668#011validation-error:0.1382\u001b[0m\n",
      "\u001b[34m[12:53:54] src/tree/updater_prune.cc:74: tree pruning end, 1 roots, 20 extra nodes, 18 pruned nodes, max_depth=10\u001b[0m\n",
      "\u001b[34m[110]#011train-error:0.066533#011validation-error:0.1371\u001b[0m\n",
      "\u001b[34m[12:53:57] src/tree/updater_prune.cc:74: tree pruning end, 1 roots, 24 extra nodes, 36 pruned nodes, max_depth=10\u001b[0m\n",
      "\u001b[34m[111]#011train-error:0.0666#011validation-error:0.1376\u001b[0m\n",
      "\u001b[34m[12:53:59] src/tree/updater_prune.cc:74: tree pruning end, 1 roots, 30 extra nodes, 54 pruned nodes, max_depth=10\u001b[0m\n",
      "\u001b[34m[112]#011train-error:0.066067#011validation-error:0.1389\u001b[0m\n",
      "\u001b[34m[12:54:02] src/tree/updater_prune.cc:74: tree pruning end, 1 roots, 30 extra nodes, 34 pruned nodes, max_depth=10\u001b[0m\n",
      "\u001b[34m[113]#011train-error:0.065267#011validation-error:0.139\u001b[0m\n",
      "\u001b[34m[12:54:04] src/tree/updater_prune.cc:74: tree pruning end, 1 roots, 30 extra nodes, 46 pruned nodes, max_depth=10\u001b[0m\n",
      "\u001b[34m[114]#011train-error:0.065467#011validation-error:0.1388\u001b[0m\n",
      "\u001b[34m[12:54:07] src/tree/updater_prune.cc:74: tree pruning end, 1 roots, 20 extra nodes, 22 pruned nodes, max_depth=10\u001b[0m\n",
      "\u001b[34m[115]#011train-error:0.0652#011validation-error:0.1396\u001b[0m\n",
      "\u001b[34m[12:54:09] src/tree/updater_prune.cc:74: tree pruning end, 1 roots, 22 extra nodes, 18 pruned nodes, max_depth=10\u001b[0m\n",
      "\n",
      "2020-06-11 12:54:20 Uploading - Uploading generated training model\u001b[34m[116]#011train-error:0.064267#011validation-error:0.1394\u001b[0m\n",
      "\u001b[34m[12:54:12] src/tree/updater_prune.cc:74: tree pruning end, 1 roots, 36 extra nodes, 36 pruned nodes, max_depth=10\u001b[0m\n",
      "\u001b[34m[117]#011train-error:0.064733#011validation-error:0.1393\u001b[0m\n",
      "\u001b[34m[12:54:14] src/tree/updater_prune.cc:74: tree pruning end, 1 roots, 36 extra nodes, 30 pruned nodes, max_depth=10\u001b[0m\n",
      "\u001b[34m[118]#011train-error:0.064#011validation-error:0.139\u001b[0m\n",
      "\u001b[34m[12:54:17] src/tree/updater_prune.cc:74: tree pruning end, 1 roots, 20 extra nodes, 44 pruned nodes, max_depth=10\u001b[0m\n",
      "\u001b[34m[119]#011train-error:0.063667#011validation-error:0.1391\u001b[0m\n",
      "\u001b[34m[12:54:19] src/tree/updater_prune.cc:74: tree pruning end, 1 roots, 24 extra nodes, 42 pruned nodes, max_depth=10\u001b[0m\n",
      "\u001b[34m[120]#011train-error:0.063267#011validation-error:0.1385\u001b[0m\n",
      "\u001b[34mStopping. Best iteration:\u001b[0m\n",
      "\u001b[34m[110]#011train-error:0.066533#011validation-error:0.1371\n",
      "\u001b[0m\n",
      "\n",
      "2020-06-11 12:54:27 Completed - Training job completed\n",
      "Training seconds: 368\n",
      "Billable seconds: 368\n"
     ]
    }
   ],
   "source": [
    "xgb.fit({'train': s3_input_train, 'validation': s3_input_validation})"
   ]
  },
  {
   "cell_type": "markdown",
   "metadata": {},
   "source": [
    "### (TODO) Testing the model\n",
    "\n",
    "Now that we've fit our XGBoost model, it's time to see how well it performs. To do this we will use SageMakers Batch Transform functionality. Batch Transform is a convenient way to perform inference on a large dataset in a way that is not realtime. That is, we don't necessarily need to use our model's results immediately and instead we can peform inference on a large number of samples. An example of this in industry might be peforming an end of month report. This method of inference can also be useful to us as it means to can perform inference on our entire test set. \n",
    "\n",
    "To perform a Batch Transformation we need to first create a transformer objects from our trained estimator object."
   ]
  },
  {
   "cell_type": "code",
   "execution_count": 23,
   "metadata": {},
   "outputs": [],
   "source": [
    "# TODO: Create a transformer object from the trained model. Using an instance count of 1 and an instance type of ml.m4.xlarge\n",
    "#       should be more than enough.\n",
    "xgb_transformer = xgb.transformer(instance_count = 1, instance_type = 'ml.m4.xlarge')"
   ]
  },
  {
   "cell_type": "markdown",
   "metadata": {},
   "source": [
    "Next we actually perform the transform job. When doing so we need to make sure to specify the type of data we are sending so that it is serialized correctly in the background. In our case we are providing our model with csv data so we specify `text/csv`. Also, if the test data that we have provided is too large to process all at once then we need to specify how the data file should be split up. Since each line is a single entry in our data set we tell SageMaker that it can split the input on each line."
   ]
  },
  {
   "cell_type": "code",
   "execution_count": 24,
   "metadata": {},
   "outputs": [],
   "source": [
    "# TODO: Start the transform job. Make sure to specify the content type and the split type of the test data.\n",
    "xgb_transformer.transform(test_location, content_type='text/csv', split_type='Line')"
   ]
  },
  {
   "cell_type": "markdown",
   "metadata": {},
   "source": [
    "Currently the transform job is running but it is doing so in the background. Since we wish to wait until the transform job is done and we would like a bit of feedback we can run the `wait()` method."
   ]
  },
  {
   "cell_type": "code",
   "execution_count": 25,
   "metadata": {},
   "outputs": [
    {
     "name": "stdout",
     "output_type": "stream",
     "text": [
      ".....................\u001b[34mArguments: serve\u001b[0m\n",
      "\u001b[34m[2020-06-11 12:58:23 +0000] [1] [INFO] Starting gunicorn 19.7.1\u001b[0m\n",
      "\u001b[34m[2020-06-11 12:58:23 +0000] [1] [INFO] Listening at: http://0.0.0.0:8080 (1)\u001b[0m\n",
      "\u001b[34m[2020-06-11 12:58:23 +0000] [1] [INFO] Using worker: gevent\u001b[0m\n",
      "\u001b[34m[2020-06-11 12:58:23 +0000] [38] [INFO] Booting worker with pid: 38\u001b[0m\n",
      "\u001b[34m[2020-06-11 12:58:23 +0000] [39] [INFO] Booting worker with pid: 39\u001b[0m\n",
      "\u001b[34m[2020-06-11 12:58:23 +0000] [40] [INFO] Booting worker with pid: 40\u001b[0m\n",
      "\u001b[34m[2020-06-11 12:58:23 +0000] [41] [INFO] Booting worker with pid: 41\u001b[0m\n",
      "\u001b[34m[2020-06-11:12:58:23:INFO] Model loaded successfully for worker : 39\u001b[0m\n",
      "\u001b[34m[2020-06-11:12:58:23:INFO] Model loaded successfully for worker : 40\u001b[0m\n",
      "\u001b[34m[2020-06-11:12:58:23:INFO] Model loaded successfully for worker : 38\u001b[0m\n",
      "\u001b[34m[2020-06-11:12:58:23:INFO] Model loaded successfully for worker : 41\u001b[0m\n",
      "\u001b[34m[2020-06-11:12:58:58:INFO] Sniff delimiter as ','\u001b[0m\n",
      "\u001b[34m[2020-06-11:12:58:58:INFO] Determined delimiter of CSV input is ','\u001b[0m\n",
      "\u001b[34m[2020-06-11:12:58:58:INFO] Sniff delimiter as ','\u001b[0m\n",
      "\u001b[34m[2020-06-11:12:58:58:INFO] Determined delimiter of CSV input is ','\u001b[0m\n",
      "\u001b[35m[2020-06-11:12:58:58:INFO] Sniff delimiter as ','\u001b[0m\n",
      "\u001b[35m[2020-06-11:12:58:58:INFO] Determined delimiter of CSV input is ','\u001b[0m\n",
      "\u001b[35m[2020-06-11:12:58:58:INFO] Sniff delimiter as ','\u001b[0m\n",
      "\u001b[35m[2020-06-11:12:58:58:INFO] Determined delimiter of CSV input is ','\u001b[0m\n",
      "\u001b[32m2020-06-11T12:58:55.199:[sagemaker logs]: MaxConcurrentTransforms=4, MaxPayloadInMB=6, BatchStrategy=MULTI_RECORD\u001b[0m\n",
      "\u001b[34m[2020-06-11:12:58:58:INFO] Sniff delimiter as ','\u001b[0m\n",
      "\u001b[34m[2020-06-11:12:58:58:INFO] Determined delimiter of CSV input is ','\u001b[0m\n",
      "\u001b[34m[2020-06-11:12:58:58:INFO] Sniff delimiter as ','\u001b[0m\n",
      "\u001b[34m[2020-06-11:12:58:58:INFO] Determined delimiter of CSV input is ','\u001b[0m\n",
      "\u001b[35m[2020-06-11:12:58:58:INFO] Sniff delimiter as ','\u001b[0m\n",
      "\u001b[35m[2020-06-11:12:58:58:INFO] Determined delimiter of CSV input is ','\u001b[0m\n",
      "\u001b[35m[2020-06-11:12:58:58:INFO] Sniff delimiter as ','\u001b[0m\n",
      "\u001b[35m[2020-06-11:12:58:58:INFO] Determined delimiter of CSV input is ','\u001b[0m\n",
      "\u001b[34m[2020-06-11:12:59:00:INFO] Sniff delimiter as ','\u001b[0m\n",
      "\u001b[34m[2020-06-11:12:59:00:INFO] Determined delimiter of CSV input is ','\u001b[0m\n",
      "\u001b[34m[2020-06-11:12:59:00:INFO] Sniff delimiter as ','\u001b[0m\n",
      "\u001b[34m[2020-06-11:12:59:00:INFO] Determined delimiter of CSV input is ','\u001b[0m\n",
      "\u001b[34m[2020-06-11:12:59:00:INFO] Sniff delimiter as ','\u001b[0m\n",
      "\u001b[34m[2020-06-11:12:59:00:INFO] Determined delimiter of CSV input is ','\u001b[0m\n",
      "\u001b[35m[2020-06-11:12:59:00:INFO] Sniff delimiter as ','\u001b[0m\n",
      "\u001b[35m[2020-06-11:12:59:00:INFO] Determined delimiter of CSV input is ','\u001b[0m\n",
      "\u001b[35m[2020-06-11:12:59:00:INFO] Sniff delimiter as ','\u001b[0m\n",
      "\u001b[35m[2020-06-11:12:59:00:INFO] Determined delimiter of CSV input is ','\u001b[0m\n",
      "\u001b[35m[2020-06-11:12:59:00:INFO] Sniff delimiter as ','\u001b[0m\n",
      "\u001b[35m[2020-06-11:12:59:00:INFO] Determined delimiter of CSV input is ','\u001b[0m\n",
      "\u001b[34m[2020-06-11:12:59:01:INFO] Sniff delimiter as ','\u001b[0m\n",
      "\u001b[34m[2020-06-11:12:59:01:INFO] Determined delimiter of CSV input is ','\u001b[0m\n",
      "\u001b[35m[2020-06-11:12:59:01:INFO] Sniff delimiter as ','\u001b[0m\n",
      "\u001b[35m[2020-06-11:12:59:01:INFO] Determined delimiter of CSV input is ','\u001b[0m\n",
      "\u001b[34m[2020-06-11:12:59:03:INFO] Sniff delimiter as ','\u001b[0m\n",
      "\u001b[34m[2020-06-11:12:59:03:INFO] Determined delimiter of CSV input is ','\u001b[0m\n",
      "\u001b[35m[2020-06-11:12:59:03:INFO] Sniff delimiter as ','\u001b[0m\n",
      "\u001b[35m[2020-06-11:12:59:03:INFO] Determined delimiter of CSV input is ','\u001b[0m\n",
      "\u001b[34m[2020-06-11:12:59:03:INFO] Sniff delimiter as ','\u001b[0m\n",
      "\u001b[34m[2020-06-11:12:59:03:INFO] Determined delimiter of CSV input is ','\u001b[0m\n",
      "\u001b[34m[2020-06-11:12:59:03:INFO] Sniff delimiter as ','\u001b[0m\n",
      "\u001b[34m[2020-06-11:12:59:03:INFO] Determined delimiter of CSV input is ','\u001b[0m\n",
      "\u001b[35m[2020-06-11:12:59:03:INFO] Sniff delimiter as ','\u001b[0m\n",
      "\u001b[35m[2020-06-11:12:59:03:INFO] Determined delimiter of CSV input is ','\u001b[0m\n",
      "\u001b[35m[2020-06-11:12:59:03:INFO] Sniff delimiter as ','\u001b[0m\n",
      "\u001b[35m[2020-06-11:12:59:03:INFO] Determined delimiter of CSV input is ','\u001b[0m\n",
      "\u001b[34m[2020-06-11:12:59:05:INFO] Sniff delimiter as ','\u001b[0m\n",
      "\u001b[34m[2020-06-11:12:59:05:INFO] Determined delimiter of CSV input is ','\u001b[0m\n",
      "\u001b[34m[2020-06-11:12:59:05:INFO] Sniff delimiter as ','\u001b[0m\n",
      "\u001b[35m[2020-06-11:12:59:05:INFO] Sniff delimiter as ','\u001b[0m\n",
      "\u001b[35m[2020-06-11:12:59:05:INFO] Determined delimiter of CSV input is ','\u001b[0m\n",
      "\u001b[35m[2020-06-11:12:59:05:INFO] Sniff delimiter as ','\u001b[0m\n",
      "\u001b[34m[2020-06-11:12:59:05:INFO] Determined delimiter of CSV input is ','\u001b[0m\n",
      "\u001b[34m[2020-06-11:12:59:05:INFO] Sniff delimiter as ','\u001b[0m\n",
      "\u001b[34m[2020-06-11:12:59:05:INFO] Determined delimiter of CSV input is ','\u001b[0m\n",
      "\u001b[34m[2020-06-11:12:59:06:INFO] Sniff delimiter as ','\u001b[0m\n",
      "\u001b[34m[2020-06-11:12:59:06:INFO] Determined delimiter of CSV input is ','\u001b[0m\n",
      "\u001b[35m[2020-06-11:12:59:05:INFO] Determined delimiter of CSV input is ','\u001b[0m\n",
      "\u001b[35m[2020-06-11:12:59:05:INFO] Sniff delimiter as ','\u001b[0m\n",
      "\u001b[35m[2020-06-11:12:59:05:INFO] Determined delimiter of CSV input is ','\u001b[0m\n",
      "\u001b[35m[2020-06-11:12:59:06:INFO] Sniff delimiter as ','\u001b[0m\n",
      "\u001b[35m[2020-06-11:12:59:06:INFO] Determined delimiter of CSV input is ','\u001b[0m\n",
      "\u001b[34m[2020-06-11:12:59:07:INFO] Sniff delimiter as ','\u001b[0m\n",
      "\u001b[35m[2020-06-11:12:59:07:INFO] Sniff delimiter as ','\u001b[0m\n",
      "\u001b[34m[2020-06-11:12:59:07:INFO] Determined delimiter of CSV input is ','\u001b[0m\n",
      "\u001b[34m[2020-06-11:12:59:07:INFO] Sniff delimiter as ','\u001b[0m\n",
      "\u001b[34m[2020-06-11:12:59:07:INFO] Determined delimiter of CSV input is ','\u001b[0m\n",
      "\u001b[35m[2020-06-11:12:59:07:INFO] Determined delimiter of CSV input is ','\u001b[0m\n",
      "\u001b[35m[2020-06-11:12:59:07:INFO] Sniff delimiter as ','\u001b[0m\n",
      "\u001b[35m[2020-06-11:12:59:07:INFO] Determined delimiter of CSV input is ','\u001b[0m\n",
      "\u001b[34m[2020-06-11:12:59:08:INFO] Sniff delimiter as ','\u001b[0m\n",
      "\u001b[34m[2020-06-11:12:59:08:INFO] Determined delimiter of CSV input is ','\u001b[0m\n",
      "\u001b[34m[2020-06-11:12:59:08:INFO] Sniff delimiter as ','\u001b[0m\n",
      "\u001b[34m[2020-06-11:12:59:08:INFO] Determined delimiter of CSV input is ','\u001b[0m\n",
      "\u001b[35m[2020-06-11:12:59:08:INFO] Sniff delimiter as ','\u001b[0m\n",
      "\u001b[35m[2020-06-11:12:59:08:INFO] Determined delimiter of CSV input is ','\u001b[0m\n",
      "\u001b[35m[2020-06-11:12:59:08:INFO] Sniff delimiter as ','\u001b[0m\n",
      "\u001b[35m[2020-06-11:12:59:08:INFO] Determined delimiter of CSV input is ','\u001b[0m\n",
      "\u001b[34m[2020-06-11:12:59:10:INFO] Sniff delimiter as ','\u001b[0m\n",
      "\u001b[34m[2020-06-11:12:59:10:INFO] Determined delimiter of CSV input is ','\u001b[0m\n",
      "\u001b[34m[2020-06-11:12:59:10:INFO] Sniff delimiter as ','\u001b[0m\n",
      "\u001b[34m[2020-06-11:12:59:10:INFO] Determined delimiter of CSV input is ','\u001b[0m\n",
      "\u001b[34m[2020-06-11:12:59:10:INFO] Sniff delimiter as ','\u001b[0m\n",
      "\u001b[34m[2020-06-11:12:59:10:INFO] Determined delimiter of CSV input is ','\u001b[0m\n",
      "\u001b[34m[2020-06-11:12:59:11:INFO] Sniff delimiter as ','\u001b[0m\n",
      "\u001b[34m[2020-06-11:12:59:11:INFO] Determined delimiter of CSV input is ','\u001b[0m\n",
      "\u001b[35m[2020-06-11:12:59:10:INFO] Sniff delimiter as ','\u001b[0m\n",
      "\u001b[35m[2020-06-11:12:59:10:INFO] Determined delimiter of CSV input is ','\u001b[0m\n",
      "\u001b[35m[2020-06-11:12:59:10:INFO] Sniff delimiter as ','\u001b[0m\n",
      "\u001b[35m[2020-06-11:12:59:10:INFO] Determined delimiter of CSV input is ','\u001b[0m\n",
      "\u001b[35m[2020-06-11:12:59:10:INFO] Sniff delimiter as ','\u001b[0m\n",
      "\u001b[35m[2020-06-11:12:59:10:INFO] Determined delimiter of CSV input is ','\u001b[0m\n",
      "\u001b[35m[2020-06-11:12:59:11:INFO] Sniff delimiter as ','\u001b[0m\n",
      "\u001b[35m[2020-06-11:12:59:11:INFO] Determined delimiter of CSV input is ','\u001b[0m\n",
      "\u001b[34m[2020-06-11:12:59:15:INFO] Sniff delimiter as ','\u001b[0m\n",
      "\u001b[34m[2020-06-11:12:59:15:INFO] Determined delimiter of CSV input is ','\u001b[0m\n",
      "\u001b[34m[2020-06-11:12:59:15:INFO] Sniff delimiter as ','\u001b[0m\n",
      "\u001b[34m[2020-06-11:12:59:15:INFO] Determined delimiter of CSV input is ','\u001b[0m\n",
      "\u001b[34m[2020-06-11:12:59:15:INFO] Sniff delimiter as ','\u001b[0m\n",
      "\u001b[34m[2020-06-11:12:59:15:INFO] Determined delimiter of CSV input is ','\u001b[0m\n",
      "\u001b[34m[2020-06-11:12:59:15:INFO] Sniff delimiter as ','\u001b[0m\n",
      "\u001b[34m[2020-06-11:12:59:15:INFO] Determined delimiter of CSV input is ','\u001b[0m\n",
      "\u001b[35m[2020-06-11:12:59:15:INFO] Sniff delimiter as ','\u001b[0m\n",
      "\u001b[35m[2020-06-11:12:59:15:INFO] Determined delimiter of CSV input is ','\u001b[0m\n",
      "\u001b[35m[2020-06-11:12:59:15:INFO] Sniff delimiter as ','\u001b[0m\n",
      "\u001b[35m[2020-06-11:12:59:15:INFO] Determined delimiter of CSV input is ','\u001b[0m\n",
      "\u001b[35m[2020-06-11:12:59:15:INFO] Sniff delimiter as ','\u001b[0m\n",
      "\u001b[35m[2020-06-11:12:59:15:INFO] Determined delimiter of CSV input is ','\u001b[0m\n",
      "\u001b[35m[2020-06-11:12:59:15:INFO] Sniff delimiter as ','\u001b[0m\n",
      "\u001b[35m[2020-06-11:12:59:15:INFO] Determined delimiter of CSV input is ','\u001b[0m\n",
      "\u001b[34m[2020-06-11:12:59:17:INFO] Sniff delimiter as ','\u001b[0m\n",
      "\u001b[34m[2020-06-11:12:59:17:INFO] Determined delimiter of CSV input is ','\u001b[0m\n",
      "\u001b[34m[2020-06-11:12:59:17:INFO] Sniff delimiter as ','\u001b[0m\n",
      "\u001b[34m[2020-06-11:12:59:17:INFO] Determined delimiter of CSV input is ','\u001b[0m\n",
      "\u001b[34m[2020-06-11:12:59:17:INFO] Sniff delimiter as ','\u001b[0m\n",
      "\u001b[34m[2020-06-11:12:59:17:INFO] Determined delimiter of CSV input is ','\u001b[0m\n",
      "\u001b[35m[2020-06-11:12:59:17:INFO] Sniff delimiter as ','\u001b[0m\n",
      "\u001b[35m[2020-06-11:12:59:17:INFO] Determined delimiter of CSV input is ','\u001b[0m\n",
      "\u001b[35m[2020-06-11:12:59:17:INFO] Sniff delimiter as ','\u001b[0m\n",
      "\u001b[35m[2020-06-11:12:59:17:INFO] Determined delimiter of CSV input is ','\u001b[0m\n",
      "\u001b[35m[2020-06-11:12:59:17:INFO] Sniff delimiter as ','\u001b[0m\n",
      "\u001b[35m[2020-06-11:12:59:17:INFO] Determined delimiter of CSV input is ','\u001b[0m\n",
      "\u001b[34m[2020-06-11:12:59:18:INFO] Sniff delimiter as ','\u001b[0m\n",
      "\u001b[34m[2020-06-11:12:59:18:INFO] Determined delimiter of CSV input is ','\u001b[0m\n",
      "\u001b[35m[2020-06-11:12:59:18:INFO] Sniff delimiter as ','\u001b[0m\n",
      "\u001b[35m[2020-06-11:12:59:18:INFO] Determined delimiter of CSV input is ','\u001b[0m\n",
      "\u001b[34m[2020-06-11:12:59:20:INFO] Sniff delimiter as ','\u001b[0m\n",
      "\u001b[34m[2020-06-11:12:59:20:INFO] Determined delimiter of CSV input is ','\u001b[0m\n",
      "\u001b[35m[2020-06-11:12:59:20:INFO] Sniff delimiter as ','\u001b[0m\n",
      "\u001b[35m[2020-06-11:12:59:20:INFO] Determined delimiter of CSV input is ','\u001b[0m\n",
      "\u001b[34m[2020-06-11:12:59:20:INFO] Sniff delimiter as ','\u001b[0m\n",
      "\u001b[34m[2020-06-11:12:59:20:INFO] Determined delimiter of CSV input is ','\u001b[0m\n",
      "\u001b[34m[2020-06-11:12:59:20:INFO] Sniff delimiter as ','\u001b[0m\n",
      "\u001b[34m[2020-06-11:12:59:20:INFO] Determined delimiter of CSV input is ','\u001b[0m\n",
      "\u001b[34m[2020-06-11:12:59:20:INFO] Sniff delimiter as ','\u001b[0m\n",
      "\u001b[34m[2020-06-11:12:59:20:INFO] Determined delimiter of CSV input is ','\u001b[0m\n",
      "\u001b[35m[2020-06-11:12:59:20:INFO] Sniff delimiter as ','\u001b[0m\n",
      "\u001b[35m[2020-06-11:12:59:20:INFO] Determined delimiter of CSV input is ','\u001b[0m\n",
      "\u001b[35m[2020-06-11:12:59:20:INFO] Sniff delimiter as ','\u001b[0m\n",
      "\u001b[35m[2020-06-11:12:59:20:INFO] Determined delimiter of CSV input is ','\u001b[0m\n",
      "\u001b[35m[2020-06-11:12:59:20:INFO] Sniff delimiter as ','\u001b[0m\n",
      "\u001b[35m[2020-06-11:12:59:20:INFO] Determined delimiter of CSV input is ','\u001b[0m\n"
     ]
    },
    {
     "name": "stdout",
     "output_type": "stream",
     "text": [
      "\n"
     ]
    }
   ],
   "source": [
    "xgb_transformer.wait()"
   ]
  },
  {
   "cell_type": "markdown",
   "metadata": {},
   "source": [
    "Now the transform job has executed and the result, the estimated sentiment of each review, has been saved on S3. Since we would rather work on this file locally we can perform a bit of notebook magic to copy the file to the `data_dir`."
   ]
  },
  {
   "cell_type": "code",
   "execution_count": 26,
   "metadata": {},
   "outputs": [
    {
     "name": "stdout",
     "output_type": "stream",
     "text": [
      "Completed 256.0 KiB/370.7 KiB (3.8 MiB/s) with 1 file(s) remaining\r",
      "Completed 370.7 KiB/370.7 KiB (5.3 MiB/s) with 1 file(s) remaining\r",
      "download: s3://sagemaker-eu-central-1-922345290913/xgboost-2020-06-11-12-55-04-636/test.csv.out to ../data/xgboost/test.csv.out\r\n"
     ]
    }
   ],
   "source": [
    "!aws s3 cp --recursive $xgb_transformer.output_path $data_dir"
   ]
  },
  {
   "cell_type": "markdown",
   "metadata": {},
   "source": [
    "The last step is now to read in the output from our model, convert the output to something a little more usable, in this case we want the sentiment to be either `1` (positive) or `0` (negative), and then compare to the ground truth labels."
   ]
  },
  {
   "cell_type": "code",
   "execution_count": 27,
   "metadata": {},
   "outputs": [],
   "source": [
    "predictions = pd.read_csv(os.path.join(data_dir, 'test.csv.out'), header=None)\n",
    "predictions = [round(num) for num in predictions.squeeze().values]"
   ]
  },
  {
   "cell_type": "code",
   "execution_count": 28,
   "metadata": {},
   "outputs": [
    {
     "data": {
      "text/plain": [
       "0.86272"
      ]
     },
     "execution_count": 28,
     "metadata": {},
     "output_type": "execute_result"
    }
   ],
   "source": [
    "from sklearn.metrics import accuracy_score\n",
    "accuracy_score(test_y, predictions)"
   ]
  },
  {
   "cell_type": "markdown",
   "metadata": {},
   "source": [
    "## Optional: Clean up\n",
    "\n",
    "The default notebook instance on SageMaker doesn't have a lot of excess disk space available. As you continue to complete and execute notebooks you will eventually fill up this disk space, leading to errors which can be difficult to diagnose. Once you are completely finished using a notebook it is a good idea to remove the files that you created along the way. Of course, you can do this from the terminal or from the notebook hub if you would like. The cell below contains some commands to clean up the created files from within the notebook."
   ]
  },
  {
   "cell_type": "code",
   "execution_count": 29,
   "metadata": {},
   "outputs": [],
   "source": [
    "# First we will remove all of the files contained in the data_dir directory\n",
    "!rm $data_dir/*\n",
    "\n",
    "# And then we delete the directory itself\n",
    "!rmdir $data_dir\n",
    "\n",
    "# Similarly we will remove the files in the cache_dir directory and the directory itself\n",
    "!rm $cache_dir/*\n",
    "!rmdir $cache_dir"
   ]
  },
  {
   "cell_type": "code",
   "execution_count": null,
   "metadata": {},
   "outputs": [],
   "source": []
  }
 ],
 "metadata": {
  "kernelspec": {
   "display_name": "conda_python3",
   "language": "python",
   "name": "conda_python3"
  },
  "language_info": {
   "codemirror_mode": {
    "name": "ipython",
    "version": 3
   },
   "file_extension": ".py",
   "mimetype": "text/x-python",
   "name": "python",
   "nbconvert_exporter": "python",
   "pygments_lexer": "ipython3",
   "version": "3.6.5"
  }
 },
 "nbformat": 4,
 "nbformat_minor": 2
}
