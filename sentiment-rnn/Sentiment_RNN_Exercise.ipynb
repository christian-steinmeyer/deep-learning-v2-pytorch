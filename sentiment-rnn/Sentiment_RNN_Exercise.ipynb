{
 "cells": [
  {
   "cell_type": "markdown",
   "metadata": {},
   "source": [
    "# Sentiment Analysis with an RNN\n",
    "\n",
    "In this notebook, you'll implement a recurrent neural network that performs sentiment analysis. \n",
    ">Using an RNN rather than a strictly feedforward network is more accurate since we can include information about the *sequence* of words. \n",
    "\n",
    "Here we'll use a dataset of movie reviews, accompanied by sentiment labels: positive or negative.\n",
    "\n",
    "<img src=\"assets/reviews_ex.png\" width=40%>\n",
    "\n",
    "### Network Architecture\n",
    "\n",
    "The architecture for this network is shown below.\n",
    "\n",
    "<img src=\"assets/network_diagram.png\" width=40%>\n",
    "\n",
    ">**First, we'll pass in words to an embedding layer.** We need an embedding layer because we have tens of thousands of words, so we'll need a more efficient representation for our input data than one-hot encoded vectors. You should have seen this before from the Word2Vec lesson. You can actually train an embedding with the Skip-gram Word2Vec model and use those embeddings as input, here. However, it's good enough to just have an embedding layer and let the network learn a different embedding table on its own. *In this case, the embedding layer is for dimensionality reduction, rather than for learning semantic representations.*\n",
    "\n",
    ">**After input words are passed to an embedding layer, the new embeddings will be passed to LSTM cells.** The LSTM cells will add *recurrent* connections to the network and give us the ability to include information about the *sequence* of words in the movie review data. \n",
    "\n",
    ">**Finally, the LSTM outputs will go to a sigmoid output layer.** We're using a sigmoid function because positive and negative = 1 and 0, respectively, and a sigmoid will output predicted, sentiment values between 0-1. \n",
    "\n",
    "We don't care about the sigmoid outputs except for the **very last one**; we can ignore the rest. We'll calculate the loss by comparing the output at the last time step and the training label (pos or neg)."
   ]
  },
  {
   "cell_type": "markdown",
   "metadata": {},
   "source": [
    "---\n",
    "### Load in and visualize the data"
   ]
  },
  {
   "cell_type": "code",
   "execution_count": 1,
   "metadata": {},
   "outputs": [],
   "source": [
    "import numpy as np\n",
    "\n",
    "# read data from text files\n",
    "with open('data/reviews.txt', 'r') as f:\n",
    "    reviews = f.read()\n",
    "with open('data/labels.txt', 'r') as f:\n",
    "    labels = f.read()"
   ]
  },
  {
   "cell_type": "code",
   "execution_count": 2,
   "metadata": {
    "scrolled": true
   },
   "outputs": [
    {
     "name": "stdout",
     "output_type": "stream",
     "text": [
      "bromwell high is a cartoon comedy . it ran at the same time as some other programs about school life  such as  teachers  . my   years in the teaching profession lead me to believe that bromwell high  s satire is much closer to reality than is  teachers  . the scramble to survive financially  the insightful students who can see right through their pathetic teachers  pomp  the pettiness of the whole situation  all remind me of the schools i knew and their students . when i saw the episode in which a student repeatedly tried to burn down the school  i immediately recalled . . . . . . . . . at . . . . . . . . . . high . a classic line inspector i  m here to sack one of your teachers . student welcome to bromwell high . i expect that many adults of my age think that bromwell high is far fetched . what a pity that it isn  t   \n",
      "story of a man who has unnatural feelings for a pig . starts out with a opening scene that is a terrific example of absurd comedy . a formal orchestra audience is turned into an insane  violent mob by the crazy chantings of it  s singers . unfortunately it stays absurd the whole time with no general narrative eventually making it just too off putting . even those from the era should be turned off . the cryptic dialogue would make shakespeare seem easy to a third grader . on a technical level it  s better than you might think with some good cinematography by future great vilmos zsigmond . future stars sally kirkland and frederic forrest can be seen briefly .  \n",
      "homelessness  or houselessness as george carlin stated  has been an issue for years but never a plan to help those on the street that were once considered human who did everything from going to school  work  or vote for the matter . most people think of the homeless as just a lost cause while worrying about things such as racism  the war on iraq  pressuring kids to succeed  technology  the elections  inflation  or worrying if they  ll be next to end up on the streets .  br    br   but what if y\n",
      "\n",
      "positive\n",
      "negative\n",
      "po\n"
     ]
    }
   ],
   "source": [
    "print(reviews[:2000])\n",
    "print()\n",
    "print(labels[:20])"
   ]
  },
  {
   "cell_type": "markdown",
   "metadata": {},
   "source": [
    "## Data pre-processing\n",
    "\n",
    "The first step when building a neural network model is getting your data into the proper form to feed into the network. Since we're using embedding layers, we'll need to encode each word with an integer. We'll also want to clean it up a bit.\n",
    "\n",
    "You can see an example of the reviews data above. Here are the processing steps, we'll want to take:\n",
    ">* We'll want to get rid of periods and extraneous punctuation.\n",
    "* Also, you might notice that the reviews are delimited with newline characters `\\n`. To deal with those, I'm going to split the text into each review using `\\n` as the delimiter. \n",
    "* Then I can combined all the reviews back together into one big string.\n",
    "\n",
    "First, let's remove all punctuation. Then get all the text without the newlines and split it into individual words."
   ]
  },
  {
   "cell_type": "code",
   "execution_count": 3,
   "metadata": {},
   "outputs": [],
   "source": [
    "single_quote_contractions = { \n",
    "\"he ain't got\": \"he does not have\",\n",
    "\"she ain't got\": \"she does not have\",\n",
    "\"it ain't got\": \"it does not have\",\n",
    "\"ain't got\": \"do not have\",\n",
    "\"i ain't\": \"i am not\",\n",
    "\"she ain't\": \"she is not\",\n",
    "\"it ain't\": \"it is not\",\n",
    "\"ain't\": \"are not\",\n",
    "\"aren't\": \"are not\",\n",
    "\"can't\": \"cannot\",\n",
    "\"can't've\": \"cannot have\",\n",
    "\"'cause\": \"because\",\n",
    "\"could've\": \"could have\",\n",
    "\"couldn't\": \"could not\",\n",
    "\"couldn't've\": \"could not have\",\n",
    "\"didn't\": \"did not\",\n",
    "\"doesn't\": \"does not\",\n",
    "\"don't\": \"do not\",\n",
    "\"hadn't\": \"had not\",\n",
    "\"hadn't've\": \"had not have\",\n",
    "\"hasn't\": \"has not\",\n",
    "\"haven't\": \"have not\",\n",
    "\"he'd\": \"he had\", # kinda wrong\n",
    "\"he'd've\": \"he would have\",\n",
    "\"he'll\": \"he will\",\n",
    "\"he'll've\": \"he he will have\",\n",
    "\"he's got\": \"he has\",\n",
    "\"he's\": \"he is\",\n",
    "\"how'd\": \"how did\",\n",
    "\"how'd'y\": \"how do you\",\n",
    "\"how'll\": \"how will\",\n",
    "\"how's\": \"how is\", # kinda wrong\n",
    "\"i'd\": \"i had\", # kinda wrong\n",
    "\"i'd've\": \"i would have\",\n",
    "\"i'll\": \"i will\",\n",
    "\"i'll've\": \"i will have\",\n",
    "\"i'm\": \"i am\",\n",
    "\"i've\": \"i have\",\n",
    "\"isn't\": \"is not\",\n",
    "\"it'd\": \"it had\", # kinda wrong\n",
    "\"it'd've\": \"it would have\",\n",
    "\"it'll\": \"it will\",\n",
    "\"it'll've\": \"it will have\",\n",
    "\"it's got\": \"it has\",\n",
    "\"it's\": \"it is\", \n",
    "\"let's\": \"let us\",\n",
    "\"ma'am\": \"madam\",\n",
    "\"mayn't\": \"may not\",\n",
    "\"might've\": \"might have\",\n",
    "\"mightn't\": \"might not\",\n",
    "\"mightn't've\": \"might not have\",\n",
    "\"must've\": \"must have\",\n",
    "\"mustn't\": \"must not\",\n",
    "\"mustn't've\": \"must not have\",\n",
    "\"needn't\": \"need not\",\n",
    "\"needn't've\": \"need not have\",\n",
    "\"o'clock\": \"of the clock\",\n",
    "\"oughtn't\": \"ought not\",\n",
    "\"oughtn't've\": \"ought not have\",\n",
    "\"shan't\": \"shall not\",\n",
    "\"sha'n't\": \"shall not\",\n",
    "\"shan't've\": \"shall not have\",\n",
    "\"she'd\": \"she had\", # kinda wrong\n",
    "\"she'd've\": \"she would have\",\n",
    "\"she'll\": \"she will\",\n",
    "\"she'll've\": \"she will have\",\n",
    "\"she's got\": \"she has\",\n",
    "\"she's\": \"she is\",\n",
    "\"should've\": \"should have\",\n",
    "\"shouldn't\": \"should not\",\n",
    "\"shouldn't've\": \"should not have\",\n",
    "\"so've\": \"so have\",\n",
    "\"so's\": \"so is\",\n",
    "\"that'd\": \"that had\", # kinda wrong\n",
    "\"that'd've\": \"that would have\",\n",
    "\"that's got\": \"that has\",\n",
    "\"that's\": \"that is\",\n",
    "\"there'd\": \"there had\", # kinda wrong\n",
    "\"there'd've\": \"there would have\",\n",
    "\"there's got\": \"there has\",\n",
    "\"there's\": \"there is\",\n",
    "\"they'd\": \"they had\",  # kinda wrong\n",
    "\"they'd've\": \"they would have\",\n",
    "\"they'll\": \"they will\",\n",
    "\"they'll've\": \"they they will have\",\n",
    "\"they're\": \"they are\",\n",
    "\"they've\": \"they have\",\n",
    "\"to've\": \"to have\",\n",
    "\"wasn't\": \"was not\",\n",
    "\"we'd\": \"we had\",  # kinda wrong\n",
    "\"we'd've\": \"we would have\",\n",
    "\"we'll\": \"we will\",\n",
    "\"we'll've\": \"we will have\",\n",
    "\"we're\": \"we are\",\n",
    "\"we've\": \"we have\",\n",
    "\"weren't\": \"were not\",\n",
    "\"what'll\": \"what will\",\n",
    "\"what'll've\": \"what will have\",\n",
    "\"what're\": \"what are\",\n",
    "\"what's got\": \"what has\",\n",
    "\"what's\": \"what is\",\n",
    "\"what've\": \"what have\",\n",
    "\"when's got\": \"when has\",\n",
    "\"when's\": \"when is\",\n",
    "\"when've\": \"when have\",\n",
    "\"where'd\": \"where did\",\n",
    "\"where's got\": \"where has\",\n",
    "\"where's\": \"where is\",\n",
    "\"where've\": \"where have\",\n",
    "\"who'll\": \"who will\",\n",
    "\"who'll've\": \"who will have\",\n",
    "\"who's got\": \"who has\",\n",
    "\"who's\": \"who is\",\n",
    "\"who've\": \"who have\",\n",
    "\"why's got\": \"why has\",\n",
    "\"why's\": \"why is\",\n",
    "\"why've\": \"why have\",\n",
    "\"will've\": \"will have\",\n",
    "\"won't\": \"will not\",\n",
    "\"won't've\": \"will not have\",\n",
    "\"would've\": \"would have\",\n",
    "\"wouldn't\": \"would not\",\n",
    "\"wouldn't've\": \"would not have\",\n",
    "\"y'all\": \"you all\",\n",
    "\"y'all'd\": \"you all would\",\n",
    "\"y'all'd've\": \"you all would have\",\n",
    "\"y'all're\": \"you all are\",\n",
    "\"y'all've\": \"you all have\",\n",
    "\"you'd\": \"you had\",  # kinda wrong\n",
    "\"you'd've\": \"you would have\",\n",
    "\"you'll\": \"you will\",\n",
    "\"you'll've\": \"you will have\",\n",
    "\"you're\": \"you are\",\n",
    "\"you've\": \"you have\"\n",
    "}\n",
    "\n",
    "space_contractions = {contraction.replace(\"'\", \" \"): expanded for contraction, expanded in single_quote_contractions.items()}\n",
    "contractions = {**single_quote_contractions, **space_contractions}"
   ]
  },
  {
   "cell_type": "code",
   "execution_count": 26,
   "metadata": {},
   "outputs": [],
   "source": [
    "from string import punctuation\n",
    "import re\n",
    "\n",
    "def preprocess(sometext):\n",
    "    sometext = sometext.lower() # lowercase, standardize\n",
    "    sometext = sometext.replace(' br ','')\n",
    "    for contraction, replacement in single_quote_contractions.items():\n",
    "        sometext = sometext.replace(contraction, replacement)\n",
    "\n",
    "    sometext = ''.join([c for c in sometext if c not in punctuation or c == '\\n'])\n",
    "    sometext = re.sub(r' +', ' ', sometext)\n",
    "\n",
    "    for contraction, replacement in space_contractions.items():\n",
    "        sometext = sometext.replace(contraction, replacement)\n",
    "    return sometext\n",
    "\n",
    "# get rid of punctuation\n",
    "reviews = preprocess(reviews)"
   ]
  },
  {
   "cell_type": "code",
   "execution_count": 5,
   "metadata": {},
   "outputs": [],
   "source": [
    "# split by new lines and spaces\n",
    "reviews_split = reviews.split('\\n')\n",
    "reviews = ' '.join(reviews_split)\n",
    "\n",
    "# create a list of words\n",
    "words = reviews.split()"
   ]
  },
  {
   "cell_type": "markdown",
   "metadata": {},
   "source": [
    "### Encoding the words\n",
    "\n",
    "The embedding lookup requires that we pass in integers to our network. The easiest way to do this is to create dictionaries that map the words in the vocabulary to integers. Then we can convert each of our reviews into integers so they can be passed into the network.\n",
    "\n",
    "> **Exercise:** Now you're going to encode the words with integers. Build a dictionary that maps words to integers. Later we're going to pad our input vectors with zeros, so make sure the integers **start at 1, not 0**.\n",
    "> Also, convert the reviews to integers and store the reviews in a new list called `reviews_ints`. "
   ]
  },
  {
   "cell_type": "code",
   "execution_count": 6,
   "metadata": {},
   "outputs": [
    {
     "name": "stdout",
     "output_type": "stream",
     "text": [
      "['the', 'and', 'a', 'of', 'is', 'to', 'it', 'in', 'i', 'this']\n",
      "[1, 2, 3, 4, 5, 6, 7, 8, 9, 10]\n"
     ]
    }
   ],
   "source": [
    "# feel free to use this import \n",
    "from collections import Counter\n",
    "\n",
    "## Build a dictionary that maps words to integers\n",
    "word_counts = Counter(words)\n",
    "vocab = [word for (word,count) in word_counts.most_common(n=len(words))]\n",
    "int_to_vocab = {index + 1:vocab[index] for index in range(len(vocab))}\n",
    "vocab_to_int = {word:index for index, word in int_to_vocab.items()}\n",
    "\n",
    "def tokenize(review):\n",
    "    return [vocab_to_int[word] for word in review.split()]\n",
    "\n",
    "## use the dict to tokenize each review in reviews_split\n",
    "## store the tokenized reviews in reviews_ints\n",
    "reviews_ints = [tokenize(review) for review in reviews_split]\n",
    "\n",
    "print([int_to_vocab[key] for key in int_to_vocab.keys()][:10])\n",
    "print([vocab_to_int[key] for key in vocab_to_int.keys()][:10])"
   ]
  },
  {
   "cell_type": "markdown",
   "metadata": {},
   "source": [
    "**Test your code**\n",
    "\n",
    "As a text that you've implemented the dictionary correctly, print out the number of unique words in your vocabulary and the contents of the first, tokenized review."
   ]
  },
  {
   "cell_type": "code",
   "execution_count": 7,
   "metadata": {},
   "outputs": [
    {
     "name": "stdout",
     "output_type": "stream",
     "text": [
      "Unique words:  80054\n",
      "\n",
      "Tokenized review: \n",
      " [[21865, 291, 5, 3, 1033, 201, 7, 2136, 30, 1, 174, 57, 14, 48, 79, 5887, 42, 403, 108, 136, 14, 5277, 59, 149, 8, 1, 5037, 5945, 461, 69, 6, 251, 11, 21865, 291, 24, 2175, 5, 73, 2408, 6, 602, 72, 5, 5277, 1, 49416, 6, 2037, 10401, 1, 5888, 1791, 34, 71, 62, 198, 138, 63, 1173, 5277, 20629, 1, 39531, 4, 1, 212, 1174, 29, 3035, 69, 4, 1, 19518, 9, 662, 2, 63, 1791, 50, 9, 217, 1, 362, 8, 60, 3, 1514, 3751, 767, 6, 3495, 184, 1, 3116, 9, 1188, 13987, 30, 291, 3, 330, 323, 2914, 9, 98, 124, 6, 9004, 28, 4, 126, 5277, 1514, 2338, 6, 21865, 291, 9, 510, 11, 106, 1433, 4, 59, 524, 99, 11, 21865, 291, 5, 218, 4164, 46, 3, 2214, 11, 7, 5, 12], [111, 4, 3, 123, 34, 43, 7627, 1375, 15, 3, 4207, 698, 44, 16, 3, 605, 155, 11, 5, 3, 1260, 445, 4, 1711, 201, 3, 10889, 7514, 283, 5, 649, 81, 33, 2112, 1068, 2997, 32, 1, 875, 49417, 4, 7, 5, 5607, 449, 7, 6390, 1711, 1, 212, 57, 16, 56, 779, 1280, 824, 219, 7, 41, 94, 121, 1451, 58, 142, 35, 1, 940, 167, 27, 649, 121, 1, 13988, 574, 53, 92, 1880, 314, 732, 6, 3, 804, 10642, 21, 3, 1720, 619, 7, 5, 125, 72, 20, 234, 99, 16, 48, 47, 604, 32, 663, 83, 30163, 30164, 663, 436, 3476, 11731, 2, 16959, 8116, 71, 27, 107, 3340]]\n"
     ]
    }
   ],
   "source": [
    "# stats about vocabulary\n",
    "print('Unique words: ', len((vocab_to_int)))  # should ~ 74000+\n",
    "print()\n",
    "\n",
    "# print tokens in first review\n",
    "print('Tokenized review: \\n', reviews_ints[:2])"
   ]
  },
  {
   "cell_type": "markdown",
   "metadata": {},
   "source": [
    "### Encoding the labels\n",
    "\n",
    "Our labels are \"positive\" or \"negative\". To use these labels in our network, we need to convert them to 0 and 1.\n",
    "\n",
    "> **Exercise:** Convert labels from `positive` and `negative` to 1 and 0, respectively, and place those in a new list, `encoded_labels`."
   ]
  },
  {
   "cell_type": "code",
   "execution_count": 8,
   "metadata": {},
   "outputs": [],
   "source": [
    "# 1=positive, 0=negative label conversion\n",
    "label_to_int = {'positive':1, 'negative': 0}\n",
    "encoded_labels = [label_to_int[label] for label in labels.split('\\n') if not label == '']"
   ]
  },
  {
   "cell_type": "markdown",
   "metadata": {},
   "source": [
    "### Removing Outliers\n",
    "\n",
    "As an additional pre-processing step, we want to make sure that our reviews are in good shape for standard processing. That is, our network will expect a standard input text size, and so, we'll want to shape our reviews into a specific length. We'll approach this task in two main steps:\n",
    "\n",
    "1. Getting rid of extremely long or short reviews; the outliers\n",
    "2. Padding/truncating the remaining data so that we have reviews of the same length.\n",
    "\n",
    "<img src=\"assets/outliers_padding_ex.png\" width=40%>\n",
    "\n",
    "Before we pad our review text, we should check for reviews of extremely short or long lengths; outliers that may mess with our training."
   ]
  },
  {
   "cell_type": "code",
   "execution_count": 9,
   "metadata": {},
   "outputs": [
    {
     "name": "stdout",
     "output_type": "stream",
     "text": [
      "Zero-length reviews: 1\n",
      "Maximum review length: 2492\n"
     ]
    }
   ],
   "source": [
    "# outlier review stats\n",
    "review_lens = Counter([len(x) for x in reviews_ints])\n",
    "print(\"Zero-length reviews: {}\".format(review_lens[0]))\n",
    "print(\"Maximum review length: {}\".format(max(review_lens)))"
   ]
  },
  {
   "cell_type": "markdown",
   "metadata": {},
   "source": [
    "Okay, a couple issues here. We seem to have one review with zero length. And, the maximum review length is way too many steps for our RNN. We'll have to remove any super short reviews and truncate super long reviews. This removes outliers and should allow our model to train more efficiently.\n",
    "\n",
    "> **Exercise:** First, remove *any* reviews with zero length from the `reviews_ints` list and their corresponding label in `encoded_labels`."
   ]
  },
  {
   "cell_type": "code",
   "execution_count": 10,
   "metadata": {},
   "outputs": [
    {
     "name": "stdout",
     "output_type": "stream",
     "text": [
      "Number of reviews before removing outliers:  25001\n",
      "Number of reviews after removing outliers:  25000\n"
     ]
    }
   ],
   "source": [
    "print('Number of reviews before removing outliers: ', len(reviews_ints))\n",
    "\n",
    "## remove any reviews/labels with zero length from the reviews_ints list.\n",
    "non_zero_indices = [index for index, review in enumerate(reviews_ints) if len(review) > 0]\n",
    "    \n",
    "reviews_ints = [reviews_ints[index] for index in non_zero_indices]\n",
    "encoded_labels = [encoded_labels[index] for index in non_zero_indices]\n",
    "\n",
    "print('Number of reviews after removing outliers: ', len(reviews_ints))"
   ]
  },
  {
   "cell_type": "markdown",
   "metadata": {},
   "source": [
    "---\n",
    "## Padding sequences\n",
    "\n",
    "To deal with both short and very long reviews, we'll pad or truncate all our reviews to a specific length. For reviews shorter than some `seq_length`, we'll pad with 0s. For reviews longer than `seq_length`, we can truncate them to the first `seq_length` words. A good `seq_length`, in this case, is 200.\n",
    "\n",
    "> **Exercise:** Define a function that returns an array `features` that contains the padded data, of a standard size, that we'll pass to the network. \n",
    "* The data should come from `review_ints`, since we want to feed integers to the network. \n",
    "* Each row should be `seq_length` elements long. \n",
    "* For reviews shorter than `seq_length` words, **left pad** with 0s. That is, if the review is `['best', 'movie', 'ever']`, `[117, 18, 128]` as integers, the row will look like `[0, 0, 0, ..., 0, 117, 18, 128]`. \n",
    "* For reviews longer than `seq_length`, use only the first `seq_length` words as the feature vector.\n",
    "\n",
    "As a small example, if the `seq_length=10` and an input review is: \n",
    "```\n",
    "[117, 18, 128]\n",
    "```\n",
    "The resultant, padded sequence should be: \n",
    "\n",
    "```\n",
    "[0, 0, 0, 0, 0, 0, 0, 117, 18, 128]\n",
    "```\n",
    "\n",
    "**Your final `features` array should be a 2D array, with as many rows as there are reviews, and as many columns as the specified `seq_length`.**\n",
    "\n",
    "This isn't trivial and there are a bunch of ways to do this. But, if you're going to be building your own deep learning networks, you're going to have to get used to preparing your data."
   ]
  },
  {
   "cell_type": "code",
   "execution_count": 11,
   "metadata": {},
   "outputs": [],
   "source": [
    "def pad_features(reviews_ints, seq_length):\n",
    "    ''' Return features of review_ints, where each review is padded with 0's \n",
    "        or truncated to the input seq_length.\n",
    "    '''\n",
    "    ## implement function\n",
    "    all_zero_sequence = np.zeros(seq_length, dtype='int')\n",
    "    features = []\n",
    "    \n",
    "    for review in reviews_ints:\n",
    "        length = len(review)\n",
    "        if length >= seq_length:\n",
    "            features.append(review[:seq_length])\n",
    "        else:\n",
    "            feature = all_zero_sequence.copy()\n",
    "            feature[-length:] = review\n",
    "            features.append(feature)\n",
    "    \n",
    "    return np.array(features)"
   ]
  },
  {
   "cell_type": "code",
   "execution_count": 12,
   "metadata": {},
   "outputs": [
    {
     "name": "stdout",
     "output_type": "stream",
     "text": [
      "[[  656    64     5     3  1107   492    11     5   165     6    27 14814]\n",
      " [  229     4  1098  5227   919     6  4647  5708   449     1   402     2]\n",
      " [ 1473   470    88   548  1475  9571   204     5     3    19     6  5892]\n",
      " [13614    14     1  8961   216    64 15657     8     1    17   477  5676]\n",
      " [   38    13  1042     9    13   553   113   222   311     2   113   836]\n",
      " [  226    16   176  1267   494     2     3   110    11    13    12    38]\n",
      " [    7     6   207    44    21   383     3   237   197    15    59  1560]\n",
      " [ 1961     7     2     1  1859   698     3  3222  3148    15    10   216]\n",
      " [ 1278  1397     9    67   360    10    17    15     3  1839  2362  2608]\n",
      " [    7    81     3   673 10920    38   134    59 14946   427     4  3642]\n",
      " [   20    23    12   107     1 16015   845   325     1   257    21    60]\n",
      " [80020     6   444   561   301 22898    69     9   390   220    15   158]\n",
      " [    6    27   478     6    62  1611   100   207     6   108    37 20142]\n",
      " [   98   626    42    18    66    12   133     9   140    12  3055    20]\n",
      " [20625    67   686     1   100     6   108     9    51   517   360     7]\n",
      " [    3  1858  1234   284     4  3451   655  3577    30     1   351  2369]\n",
      " [   41   187     6  4332   152     8    18    12   187     6 13621   184]\n",
      " [   31   334     6 14563   201    35     3  4031     2  5967   401   765]\n",
      " [ 1873     9   144   818     6    62     7    21     1   185   364   192]\n",
      " [ 3656   144   589    10    28    21     3  2592     4    28     6   716]\n",
      " [    7     5   238     6    62  3651  1389   112     8    10    17    64]\n",
      " [  128    12  2268    28    84     7    89    69   444    29     1    57]\n",
      " [ 3479  5235   315     7  2309    49  1057    72     7     5   161   326]\n",
      " [  101     8    95    17     3    40   495     9  2603   827   266    64]\n",
      " [   36    39     9   249   400    39    50   223 13669    44    39  4380]\n",
      " [  851   118    59  6105   769     7     5     1   116    17     9    23]\n",
      " [   83   273   275    31   167   261    49     4    26    97    21   230]\n",
      " [ 2118   376    14    31    22    12  1877    11  2132  6967  2196   721]\n",
      " [ 1152     3   880     9   119    12  2992   859     3   257   124  1702]\n",
      " [18610     3   942    70    30   211    68    23 34318 10262   156 12762]\n",
      " [    8     1   127     7     5    42  2229  4229   191  1657 80037   360]\n",
      " [   19    18     3   669   425    28    30     1   174    57   245     7]\n",
      " [   17    43     3   620   263     2   602 27664   397   814   108  5504]\n",
      " [   56    28   311   105   428    28     4     1   465   682     1   379]\n",
      " [    2    90   161    75     6   342     7     9    53   441   360     7]\n",
      " [    1   172   331  2158    11    31    53    58  1087   394    10    17]\n",
      " [ 1023     4     1   206   182  3025    15     1   404     3    35    69]\n",
      " [ 4561     2     1  7029  1202  1642   824  3312    30    28    24  5099]\n",
      " [   20    54    75     1   462    14    70  1135    15  3701  2819   435]\n",
      " [   12     1   492   368  3640    24  4132     1   174    28    34   242]\n",
      " [    5     3    52   706     2    52   732     6   102    19    52  1135]\n",
      " [ 9341  1063    42    31  1092   179    16  8097  1164    93   184     2]\n",
      " [ 6582   108    11    13    28     4   450   361    11    65  1640   861]\n",
      " [  102     3   521   479    42  1612 16322    36  2718     4     1  7161]\n",
      " [   14  5715  6803  5715     5     3   665 33400    11     5     3   169]\n",
      " [    9  1055   931    11     1  8360    30     1  1361    13    12    37]\n",
      " [   48 80052  2014  2623    18    80   884   194  9337  3709    14    70]\n",
      " [   13   145    48  1518    55   322   351     4     3  7783  1126   352]\n",
      " [    2     1   408    53    12    67    27  2391    95    79    91    35]\n",
      " [  126    57    40   264    66    12   418   126    57    10     5  1301]]\n"
     ]
    }
   ],
   "source": [
    "# Test your implementation!\n",
    "\n",
    "seq_length = 200\n",
    "\n",
    "features = pad_features(reviews_ints, seq_length=seq_length)\n",
    "\n",
    "## test statements - do not change - ##\n",
    "assert len(features)==len(reviews_ints), \"Your features should have as many rows as reviews.\"\n",
    "assert len(features[0])==seq_length, \"Each feature row should contain seq_length values.\"\n",
    "\n",
    "# print first 10 values of the first 30 batches \n",
    "print(features[-50:,-12:])"
   ]
  },
  {
   "cell_type": "markdown",
   "metadata": {},
   "source": [
    "## Training, Validation, Test\n",
    "\n",
    "With our data in nice shape, we'll split it into training, validation, and test sets.\n",
    "\n",
    "> **Exercise:** Create the training, validation, and test sets. \n",
    "* You'll need to create sets for the features and the labels, `train_x` and `train_y`, for example. \n",
    "* Define a split fraction, `split_frac` as the fraction of data to **keep** in the training set. Usually this is set to 0.8 or 0.9. \n",
    "* Whatever data is left will be split in half to create the validation and *testing* data."
   ]
  },
  {
   "cell_type": "code",
   "execution_count": 13,
   "metadata": {},
   "outputs": [
    {
     "name": "stdout",
     "output_type": "stream",
     "text": [
      "Train set: \t\t (20000, 200)\n",
      "Validation set: \t (2500, 200)\n",
      "Test set: \t\t (2500, 200)\n"
     ]
    }
   ],
   "source": [
    "import math\n",
    "split_frac = 0.8\n",
    "\n",
    "## split data into training, validation, and test data (features and labels, x and y)\n",
    "n_features = len(features)\n",
    "shuffled_indices = np.random.permutation(range(n_features))\n",
    "\n",
    "train_validation_split = math.floor(n_features * split_frac)\n",
    "train_indices = shuffled_indices[:train_validation_split]\n",
    "\n",
    "validation_test_split = train_validation_split + math.floor(n_features * (1 - split_frac) * 0.5) + 1\n",
    "validation_indices = shuffled_indices[train_validation_split:validation_test_split]\n",
    "\n",
    "test_indices = shuffled_indices[validation_test_split:]\n",
    "\n",
    "train_x = np.array([features[index] for index in train_indices])\n",
    "train_y = np.array([encoded_labels[index] for index in train_indices])\n",
    "\n",
    "validation_x = np.array([features[index] for index in validation_indices])\n",
    "validation_y = np.array([encoded_labels[index] for index in validation_indices])\n",
    "\n",
    "test_x = np.array([features[index] for index in test_indices])\n",
    "test_y = np.array([encoded_labels[index] for index in test_indices])\n",
    "\n",
    "## print out the shapes of your resultant feature data\n",
    "print(f'Train set: \\t\\t {train_x.shape}')\n",
    "print(f'Validation set: \\t {validation_x.shape}')\n",
    "print(f'Test set: \\t\\t {test_x.shape}')"
   ]
  },
  {
   "cell_type": "markdown",
   "metadata": {},
   "source": [
    "**Check your work**\n",
    "\n",
    "With train, validation, and test fractions equal to 0.8, 0.1, 0.1, respectively, the final, feature data shapes should look like:\n",
    "```\n",
    "                    Feature Shapes:\n",
    "Train set: \t\t (20000, 200) \n",
    "Validation set: \t(2500, 200) \n",
    "Test set: \t\t  (2500, 200)\n",
    "```"
   ]
  },
  {
   "cell_type": "markdown",
   "metadata": {},
   "source": [
    "---\n",
    "## DataLoaders and Batching\n",
    "\n",
    "After creating training, test, and validation data, we can create DataLoaders for this data by following two steps:\n",
    "1. Create a known format for accessing our data, using [TensorDataset](https://pytorch.org/docs/stable/data.html#) which takes in an input set of data and a target set of data with the same first dimension, and creates a dataset.\n",
    "2. Create DataLoaders and batch our training, validation, and test Tensor datasets.\n",
    "\n",
    "```\n",
    "train_data = TensorDataset(torch.from_numpy(train_x), torch.from_numpy(train_y))\n",
    "train_loader = DataLoader(train_data, batch_size=batch_size)\n",
    "```\n",
    "\n",
    "This is an alternative to creating a generator function for batching our data into full batches."
   ]
  },
  {
   "cell_type": "code",
   "execution_count": 14,
   "metadata": {},
   "outputs": [],
   "source": [
    "import torch\n",
    "from torch.utils.data import TensorDataset, DataLoader\n",
    "\n",
    "# create Tensor datasets\n",
    "train_data = TensorDataset(torch.from_numpy(train_x), torch.from_numpy(train_y))\n",
    "valid_data = TensorDataset(torch.from_numpy(validation_x), torch.from_numpy(validation_y))\n",
    "test_data = TensorDataset(torch.from_numpy(test_x), torch.from_numpy(test_y))\n",
    "\n",
    "# dataloaders\n",
    "batch_size = 25\n",
    "\n",
    "# make sure to SHUFFLE your data\n",
    "train_loader = DataLoader(train_data, shuffle=True, batch_size=batch_size)\n",
    "valid_loader = DataLoader(valid_data, shuffle=True, batch_size=batch_size)\n",
    "test_loader = DataLoader(test_data, shuffle=True, batch_size=batch_size)"
   ]
  },
  {
   "cell_type": "code",
   "execution_count": 15,
   "metadata": {},
   "outputs": [
    {
     "name": "stdout",
     "output_type": "stream",
     "text": [
      "Sample input size:  torch.Size([25, 200])\n",
      "Sample input: \n",
      " tensor([[     0,      0,      0,  ...,     36,     11,      8],\n",
      "        [     7,      5,     52,  ...,  19867,   6452,   3407],\n",
      "        [     0,      0,      0,  ...,    446,    215,  13862],\n",
      "        ...,\n",
      "        [     0,      0,      0,  ...,     94,    186,     58],\n",
      "        [     0,      0,      0,  ...,      3,    163,     62],\n",
      "        [  5954,      3,   9368,  ...,     10,    154,     18]])\n",
      "\n",
      "Sample label size:  torch.Size([25])\n",
      "Sample label: \n",
      " tensor([ 1,  1,  0,  0,  1,  0,  0,  1,  0,  1,  0,  1,  1,  0,\n",
      "         0,  0,  1,  0,  1,  1,  1,  1,  1,  1,  1])\n"
     ]
    }
   ],
   "source": [
    "# obtain one batch of training data\n",
    "dataiter = iter(train_loader)\n",
    "sample_x, sample_y = dataiter.next()\n",
    "\n",
    "print('Sample input size: ', sample_x.size()) # batch_size, seq_length\n",
    "print('Sample input: \\n', sample_x)\n",
    "print()\n",
    "print('Sample label size: ', sample_y.size()) # batch_size\n",
    "print('Sample label: \\n', sample_y)"
   ]
  },
  {
   "cell_type": "markdown",
   "metadata": {},
   "source": [
    "---\n",
    "# Sentiment Network with PyTorch\n",
    "\n",
    "Below is where you'll define the network.\n",
    "\n",
    "<img src=\"assets/network_diagram.png\" width=40%>\n",
    "\n",
    "The layers are as follows:\n",
    "1. An [embedding layer](https://pytorch.org/docs/stable/nn.html#embedding) that converts our word tokens (integers) into embeddings of a specific size.\n",
    "2. An [LSTM layer](https://pytorch.org/docs/stable/nn.html#lstm) defined by a hidden_state size and number of layers\n",
    "3. A fully-connected output layer that maps the LSTM layer outputs to a desired output_size\n",
    "4. A sigmoid activation layer which turns all outputs into a value 0-1; return **only the last sigmoid output** as the output of this network.\n",
    "\n",
    "### The Embedding Layer\n",
    "\n",
    "We need to add an [embedding layer](https://pytorch.org/docs/stable/nn.html#embedding) because there are 74000+ words in our vocabulary. It is massively inefficient to one-hot encode that many classes. So, instead of one-hot encoding, we can have an embedding layer and use that layer as a lookup table. You could train an embedding layer using Word2Vec, then load it here. But, it's fine to just make a new layer, using it for only dimensionality reduction, and let the network learn the weights.\n",
    "\n",
    "\n",
    "### The LSTM Layer(s)\n",
    "\n",
    "We'll create an [LSTM](https://pytorch.org/docs/stable/nn.html#lstm) to use in our recurrent network, which takes in an input_size, a hidden_dim, a number of layers, a dropout probability (for dropout between multiple layers), and a batch_first parameter.\n",
    "\n",
    "Most of the time, you're network will have better performance with more layers; between 2-3. Adding more layers allows the network to learn really complex relationships. \n",
    "\n",
    "> **Exercise:** Complete the `__init__`, `forward`, and `init_hidden` functions for the SentimentRNN model class.\n",
    "\n",
    "Note: `init_hidden` should initialize the hidden and cell state of an lstm layer to all zeros, and move those state to GPU, if available."
   ]
  },
  {
   "cell_type": "code",
   "execution_count": 16,
   "metadata": {},
   "outputs": [
    {
     "name": "stdout",
     "output_type": "stream",
     "text": [
      "Training on GPU.\n"
     ]
    }
   ],
   "source": [
    "# First checking if GPU is available\n",
    "train_on_gpu=torch.cuda.is_available()\n",
    "\n",
    "if(train_on_gpu):\n",
    "    print('Training on GPU.')\n",
    "else:\n",
    "    print('No GPU available, training on CPU.')"
   ]
  },
  {
   "cell_type": "code",
   "execution_count": 17,
   "metadata": {},
   "outputs": [],
   "source": [
    "import torch.nn as nn\n",
    "\n",
    "class SentimentRNN(nn.Module):\n",
    "    \"\"\"\n",
    "    The RNN model that will be used to perform Sentiment analysis.\n",
    "    \"\"\"\n",
    "\n",
    "    def __init__(self, vocab_size, output_size, embedding_dim, hidden_dim, n_layers, drop_prob=0.5):\n",
    "        \"\"\"\n",
    "        Initialize the model by setting up the layers.\n",
    "        \"\"\"\n",
    "        super(SentimentRNN, self).__init__()\n",
    "\n",
    "        self.output_size = output_size\n",
    "        self.n_layers = n_layers\n",
    "        self.hidden_dim = hidden_dim\n",
    "        \n",
    "        # define all layers\n",
    "        self.embed = nn.Embedding(vocab_size, embedding_dim)\n",
    "        self.lstm = nn.LSTM(embedding_dim, hidden_dim, num_layers=n_layers, dropout=drop_prob, batch_first=True)\n",
    "        self.fc = nn.Linear(hidden_dim, output_size)\n",
    "        self.sigmoid = nn.Sigmoid()\n",
    "        \n",
    "\n",
    "    def forward(self, x, hidden):\n",
    "        \"\"\"\n",
    "        Perform a forward pass of our model on some input and hidden state.\n",
    "        \"\"\"\n",
    "        \n",
    "        batch_size = x.size(0)\n",
    "            \n",
    "        x = self.embed(x)\n",
    "        x, hidden = self.lstm(x, hidden)\n",
    "        x = x.contiguous().view(-1, self.hidden_dim)\n",
    "\n",
    "        x = self.fc(x)\n",
    "        sig_out = self.sigmoid(x)\n",
    "        \n",
    "        sig_out = sig_out.view(batch_size, -1)\n",
    "        sig_out = sig_out[:, -1]\n",
    "        \n",
    "        # return last sigmoid output and hidden state\n",
    "        return sig_out, hidden\n",
    "    \n",
    "    \n",
    "    def init_hidden(self, batch_size):\n",
    "        ''' Initializes hidden state '''\n",
    "        # Create two new tensors with sizes n_layers x batch_size x hidden_dim,\n",
    "        # initialized to zero, for hidden state and cell state of LSTM\n",
    "        weight = next(self.parameters()).data\n",
    "        \n",
    "        if (train_on_gpu):\n",
    "            hidden = (weight.new(self.n_layers, batch_size, self.hidden_dim).zero_().cuda(),\n",
    "                  weight.new(self.n_layers, batch_size, self.hidden_dim).zero_().cuda())\n",
    "        else:\n",
    "            hidden = (weight.new(self.n_layers, batch_size, self.hidden_dim).zero_(),\n",
    "                      weight.new(self.n_layers, batch_size, self.hidden_dim).zero_())\n",
    "        \n",
    "        return hidden\n",
    "        "
   ]
  },
  {
   "cell_type": "markdown",
   "metadata": {},
   "source": [
    "## Instantiate the network\n",
    "\n",
    "Here, we'll instantiate the network. First up, defining the hyperparameters.\n",
    "\n",
    "* `vocab_size`: Size of our vocabulary or the range of values for our input, word tokens.\n",
    "* `output_size`: Size of our desired output; the number of class scores we want to output (pos/neg).\n",
    "* `embedding_dim`: Number of columns in the embedding lookup table; size of our embeddings.\n",
    "* `hidden_dim`: Number of units in the hidden layers of our LSTM cells. Usually larger is better performance wise. Common values are 128, 256, 512, etc.\n",
    "* `n_layers`: Number of LSTM layers in the network. Typically between 1-3\n",
    "\n",
    "> **Exercise:** Define the model  hyperparameters.\n"
   ]
  },
  {
   "cell_type": "code",
   "execution_count": 18,
   "metadata": {},
   "outputs": [
    {
     "name": "stdout",
     "output_type": "stream",
     "text": [
      "SentimentRNN(\n",
      "  (embed): Embedding(80055, 200)\n",
      "  (lstm): LSTM(200, 256, num_layers=2, batch_first=True, dropout=0.5)\n",
      "  (fc): Linear(in_features=256, out_features=1, bias=True)\n",
      "  (sigmoid): Sigmoid()\n",
      ")\n"
     ]
    }
   ],
   "source": [
    "# Instantiate the model w/ hyperparams\n",
    "vocab_size = len(vocab) + 1\n",
    "output_size = 1\n",
    "embedding_dim = 200\n",
    "hidden_dim = 256\n",
    "n_layers = 2\n",
    "\n",
    "net = SentimentRNN(vocab_size, output_size, embedding_dim, hidden_dim, n_layers)\n",
    "\n",
    "print(net)"
   ]
  },
  {
   "cell_type": "markdown",
   "metadata": {},
   "source": [
    "---\n",
    "## Training\n",
    "\n",
    "Below is the typical training code. If you want to do this yourself, feel free to delete all this code and implement it yourself. You can also add code to save a model by name.\n",
    "\n",
    ">We'll also be using a new kind of cross entropy loss, which is designed to work with a single Sigmoid output. [BCELoss](https://pytorch.org/docs/stable/nn.html#bceloss), or **Binary Cross Entropy Loss**, applies cross entropy loss to a single value between 0 and 1.\n",
    "\n",
    "We also have some data and training hyparameters:\n",
    "\n",
    "* `lr`: Learning rate for our optimizer.\n",
    "* `epochs`: Number of times to iterate through the training dataset.\n",
    "* `clip`: The maximum gradient value to clip at (to prevent exploding gradients)."
   ]
  },
  {
   "cell_type": "code",
   "execution_count": 19,
   "metadata": {},
   "outputs": [],
   "source": [
    "# loss and optimization functions\n",
    "lr=0.001\n",
    "\n",
    "criterion = nn.BCELoss()\n",
    "optimizer = torch.optim.Adam(net.parameters(), lr=lr)\n"
   ]
  },
  {
   "cell_type": "code",
   "execution_count": 20,
   "metadata": {
    "scrolled": true
   },
   "outputs": [
    {
     "name": "stdout",
     "output_type": "stream",
     "text": [
      "Epoch: 1/4... Step: 100... Loss: 0.636947... Val Loss: 0.677768\n",
      "Epoch: 1/4... Step: 200... Loss: 0.706266... Val Loss: 0.664541\n",
      "Epoch: 1/4... Step: 300... Loss: 0.814421... Val Loss: 0.832974\n",
      "Epoch: 1/4... Step: 400... Loss: 0.690579... Val Loss: 0.767746\n",
      "Epoch: 1/4... Step: 500... Loss: 0.630785... Val Loss: 0.793348\n",
      "Epoch: 1/4... Step: 600... Loss: 0.652771... Val Loss: 0.667695\n",
      "Epoch: 1/4... Step: 700... Loss: 0.547784... Val Loss: 0.606117\n",
      "Epoch: 1/4... Step: 800... Loss: 0.546831... Val Loss: 0.577732\n",
      "Epoch: 2/4... Step: 900... Loss: 0.433835... Val Loss: 0.568638\n",
      "Epoch: 2/4... Step: 1000... Loss: 0.500424... Val Loss: 0.530898\n",
      "Epoch: 2/4... Step: 1100... Loss: 0.418165... Val Loss: 0.524988\n",
      "Epoch: 2/4... Step: 1200... Loss: 0.323654... Val Loss: 0.474581\n",
      "Epoch: 2/4... Step: 1300... Loss: 0.434524... Val Loss: 0.495485\n",
      "Epoch: 2/4... Step: 1400... Loss: 0.575772... Val Loss: 0.450351\n",
      "Epoch: 2/4... Step: 1500... Loss: 0.378593... Val Loss: 0.447837\n",
      "Epoch: 2/4... Step: 1600... Loss: 0.178929... Val Loss: 0.417275\n",
      "Epoch: 3/4... Step: 1700... Loss: 0.129423... Val Loss: 0.416975\n",
      "Epoch: 3/4... Step: 1800... Loss: 0.557558... Val Loss: 0.413105\n",
      "Epoch: 3/4... Step: 1900... Loss: 0.254514... Val Loss: 0.410137\n",
      "Epoch: 3/4... Step: 2000... Loss: 0.067442... Val Loss: 0.415276\n",
      "Epoch: 3/4... Step: 2100... Loss: 0.344826... Val Loss: 0.397323\n",
      "Epoch: 3/4... Step: 2200... Loss: 0.231398... Val Loss: 0.405095\n",
      "Epoch: 3/4... Step: 2300... Loss: 0.276553... Val Loss: 0.410047\n",
      "Epoch: 3/4... Step: 2400... Loss: 0.154867... Val Loss: 0.371803\n",
      "Epoch: 4/4... Step: 2500... Loss: 0.508270... Val Loss: 0.389265\n",
      "Epoch: 4/4... Step: 2600... Loss: 0.092991... Val Loss: 0.406890\n",
      "Epoch: 4/4... Step: 2700... Loss: 0.222265... Val Loss: 0.415698\n",
      "Epoch: 4/4... Step: 2800... Loss: 0.263846... Val Loss: 0.404991\n",
      "Epoch: 4/4... Step: 2900... Loss: 0.108772... Val Loss: 0.402094\n",
      "Epoch: 4/4... Step: 3000... Loss: 0.265004... Val Loss: 0.425835\n",
      "Epoch: 4/4... Step: 3100... Loss: 0.210738... Val Loss: 0.393223\n",
      "Epoch: 4/4... Step: 3200... Loss: 0.192848... Val Loss: 0.382543\n"
     ]
    }
   ],
   "source": [
    "# training params\n",
    "\n",
    "epochs = 4 # 3-4 is approx where I noticed the validation loss stop decreasing\n",
    "\n",
    "counter = 0\n",
    "print_every = 100\n",
    "clip=5 # gradient clipping\n",
    "\n",
    "# move model to GPU, if available\n",
    "if(train_on_gpu):\n",
    "    net.cuda()\n",
    "\n",
    "net.train()\n",
    "# train for some number of epochs\n",
    "for e in range(epochs):\n",
    "    # initialize hidden state\n",
    "    h = net.init_hidden(batch_size)\n",
    "\n",
    "    # batch loop\n",
    "    for inputs, labels in train_loader:\n",
    "        counter += 1\n",
    "\n",
    "        if(train_on_gpu):\n",
    "            inputs, labels = inputs.cuda(), labels.cuda()\n",
    "\n",
    "        # Creating new variables for the hidden state, otherwise\n",
    "        # we'd backprop through the entire training history\n",
    "        h = tuple([each.data for each in h])\n",
    "\n",
    "        # zero accumulated gradients\n",
    "        net.zero_grad()\n",
    "\n",
    "        # get the output from the model\n",
    "        output, h = net(inputs, h)\n",
    "\n",
    "        # calculate the loss and perform backprop\n",
    "        loss = criterion(output.squeeze(), labels.float())\n",
    "        loss.backward()\n",
    "        # `clip_grad_norm` helps prevent the exploding gradient problem in RNNs / LSTMs.\n",
    "        nn.utils.clip_grad_norm_(net.parameters(), clip)\n",
    "        optimizer.step()\n",
    "\n",
    "        # loss stats\n",
    "        if counter % print_every == 0:\n",
    "            # Get validation loss\n",
    "            val_h = net.init_hidden(batch_size)\n",
    "            val_losses = []\n",
    "            net.eval()\n",
    "            for inputs, labels in valid_loader:\n",
    "\n",
    "                # Creating new variables for the hidden state, otherwise\n",
    "                # we'd backprop through the entire training history\n",
    "                val_h = tuple([each.data for each in val_h])\n",
    "\n",
    "                if(train_on_gpu):\n",
    "                    inputs, labels = inputs.cuda(), labels.cuda()\n",
    "\n",
    "                output, val_h = net(inputs, val_h)\n",
    "                val_loss = criterion(output.squeeze(), labels.float())\n",
    "\n",
    "                val_losses.append(val_loss.item())\n",
    "\n",
    "            net.train()\n",
    "            print(\"Epoch: {}/{}...\".format(e+1, epochs),\n",
    "                  \"Step: {}...\".format(counter),\n",
    "                  \"Loss: {:.6f}...\".format(loss.item()),\n",
    "                  \"Val Loss: {:.6f}\".format(np.mean(val_losses)))"
   ]
  },
  {
   "cell_type": "markdown",
   "metadata": {},
   "source": [
    "---\n",
    "## Testing\n",
    "\n",
    "There are a few ways to test your network.\n",
    "\n",
    "* **Test data performance:** First, we'll see how our trained model performs on all of our defined test_data, above. We'll calculate the average loss and accuracy over the test data.\n",
    "\n",
    "* **Inference on user-generated data:** Second, we'll see if we can input just one example review at a time (without a label), and see what the trained model predicts. Looking at new, user input data like this, and predicting an output label, is called **inference**."
   ]
  },
  {
   "cell_type": "code",
   "execution_count": 21,
   "metadata": {},
   "outputs": [
    {
     "name": "stdout",
     "output_type": "stream",
     "text": [
      "Test loss: 0.374\n",
      "Test accuracy: 0.836\n"
     ]
    }
   ],
   "source": [
    "# Get test data loss and accuracy\n",
    "\n",
    "test_losses = [] # track loss\n",
    "num_correct = 0\n",
    "\n",
    "# init hidden state\n",
    "h = net.init_hidden(batch_size)\n",
    "\n",
    "net.eval()\n",
    "# iterate over test data\n",
    "for inputs, labels in test_loader:\n",
    "\n",
    "    # Creating new variables for the hidden state, otherwise\n",
    "    # we'd backprop through the entire training history\n",
    "    h = tuple([each.data for each in h])\n",
    "\n",
    "    if(train_on_gpu):\n",
    "        inputs, labels = inputs.cuda(), labels.cuda()\n",
    "    \n",
    "    # get predicted outputs\n",
    "    output, h = net(inputs, h)\n",
    "    \n",
    "    # calculate loss\n",
    "    test_loss = criterion(output.squeeze(), labels.float())\n",
    "    test_losses.append(test_loss.item())\n",
    "    \n",
    "    # convert output probabilities to predicted class (0 or 1)\n",
    "    pred = torch.round(output.squeeze())  # rounds to the nearest integer\n",
    "    \n",
    "    # compare predictions to true label\n",
    "    correct_tensor = pred.eq(labels.float().view_as(pred))\n",
    "    correct = np.squeeze(correct_tensor.numpy()) if not train_on_gpu else np.squeeze(correct_tensor.cpu().numpy())\n",
    "    num_correct += np.sum(correct)\n",
    "\n",
    "\n",
    "# -- stats! -- ##\n",
    "# avg test loss\n",
    "print(\"Test loss: {:.3f}\".format(np.mean(test_losses)))\n",
    "\n",
    "# accuracy over all test data\n",
    "test_acc = num_correct/len(test_loader.dataset)\n",
    "print(\"Test accuracy: {:.3f}\".format(test_acc))"
   ]
  },
  {
   "cell_type": "markdown",
   "metadata": {},
   "source": [
    "### Inference on a test review\n",
    "\n",
    "You can change this test_review to any text that you want. Read it and think: is it pos or neg? Then see if your model predicts correctly!\n",
    "    \n",
    "> **Exercise:** Write a `predict` function that takes in a trained net, a plain text_review, and a sequence length, and prints out a custom statement for a positive or negative review!\n",
    "* You can use any functions that you've already defined or define any helper functions you want to complete `predict`, but it should just take in a trained net, a text review, and a sequence length.\n"
   ]
  },
  {
   "cell_type": "code",
   "execution_count": 72,
   "metadata": {},
   "outputs": [],
   "source": [
    "# negative test review\n",
    "test_reviews = [\n",
    "    'The worst movie I have seen; acting was terrible and I want my money back. This movie had bad acting and the dialogue was slow.',\n",
    "    'The best movie I have seen; acting was magnificent and I would pay twice the money. This movie had great acting and the dialogue was genius.',\n",
    "    'The most average movie I have seen; acting was neither good nor bad and I do not regret seeing it. This movie hat interesting dialogue, but lacked creativity.',\n",
    "    'Wow. Just wow!',\n",
    "    'Simply brilliant!',\n",
    "    'I am not going to lie: this movie was pretty dope.',\n",
    "    'I am utterly confused. This was one of the weirdest movies I have ever seen. Not that it was not good, but just so strange. Would see it again.'\n",
    "]\n"
   ]
  },
  {
   "cell_type": "code",
   "execution_count": 69,
   "metadata": {},
   "outputs": [],
   "source": [
    "def predict(net, test_review, sequence_length=200):\n",
    "    ''' Prints out whether a give review is predicted to be \n",
    "        positive or negative in sentiment, using a trained model.\n",
    "        \n",
    "        params:\n",
    "        net - A trained net \n",
    "        test_review - a review made of normal text and punctuation\n",
    "        sequence_length - the padded length of a review\n",
    "        '''\n",
    "    net.eval()\n",
    "    x = preprocess(test_review)\n",
    "    x = tokenize(x)\n",
    "    x = pad_features([x], seq_length=sequence_length)\n",
    "    x = torch.from_numpy(x)\n",
    "    if(train_on_gpu):\n",
    "        x = x.cuda()\n",
    "        \n",
    "    h = net.init_hidden(1)\n",
    "    \n",
    "    prediction, _ = net(x, h)\n",
    "    prediction = prediction.item()\n",
    "    confidence = np.abs(0.5 - prediction) * 200\n",
    "    sentiment = 'positive' if np.round(prediction) == 1 else 'negative'\n",
    "    print(f'I am {confidence:.1f}% confident that this is a {sentiment} review:\\n\\t\"{test_review}\"')\n",
    "    return prediction"
   ]
  },
  {
   "cell_type": "code",
   "execution_count": 73,
   "metadata": {},
   "outputs": [
    {
     "name": "stdout",
     "output_type": "stream",
     "text": [
      "I am 97.7% confident that this is a negative review:\n",
      "\t\"The worst movie I have seen; acting was terrible and I want my money back. This movie had bad acting and the dialogue was slow.\"\n",
      "I am 74.3% confident that this is a positive review:\n",
      "\t\"The best movie I have seen; acting was magnificent and I would pay twice the money. This movie had great acting and the dialogue was genius.\"\n",
      "I am 84.0% confident that this is a negative review:\n",
      "\t\"The most average movie I have seen; acting was neither good nor bad and I do not regret seeing it. This movie hat interesting dialogue, but lacked creativity.\"\n",
      "I am 76.5% confident that this is a negative review:\n",
      "\t\"Wow. Just wow!\"\n",
      "I am 42.3% confident that this is a positive review:\n",
      "\t\"Simply brilliant!\"\n",
      "I am 86.3% confident that this is a negative review:\n",
      "\t\"I am not going to lie: this movie was pretty dope.\"\n",
      "I am 95.9% confident that this is a negative review:\n",
      "\t\"I am utterly confused. This was one of the weirdest movies I have ever seen. Not that it was not good, but just so strange. Would see it again.\"\n"
     ]
    }
   ],
   "source": [
    "# call function\n",
    "# try negative and positive reviews!\n",
    "for review in test_reviews:\n",
    "    predict(net, review, seq_length)"
   ]
  },
  {
   "cell_type": "markdown",
   "metadata": {},
   "source": [
    "### Try out test_reviews of your own!\n",
    "\n",
    "Now that you have a trained model and a predict function, you can pass in _any_ kind of text and this model will predict whether the text has a positive or negative sentiment. Push this model to its limits and try to find what words it associates with positive or negative.\n",
    "\n",
    "Later, you'll learn how to deploy a model like this to a production environment so that it can respond to any kind of user data put into a web app!"
   ]
  },
  {
   "cell_type": "code",
   "execution_count": null,
   "metadata": {},
   "outputs": [],
   "source": []
  }
 ],
 "metadata": {
  "kernelspec": {
   "display_name": "Python 3",
   "language": "python",
   "name": "python3"
  },
  "language_info": {
   "codemirror_mode": {
    "name": "ipython",
    "version": 3
   },
   "file_extension": ".py",
   "mimetype": "text/x-python",
   "name": "python",
   "nbconvert_exporter": "python",
   "pygments_lexer": "ipython3",
   "version": "3.6.3"
  }
 },
 "nbformat": 4,
 "nbformat_minor": 2
}
